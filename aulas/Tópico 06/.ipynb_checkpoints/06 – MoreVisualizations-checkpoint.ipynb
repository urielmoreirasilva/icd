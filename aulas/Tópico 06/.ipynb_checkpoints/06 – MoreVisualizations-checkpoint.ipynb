{
 "cells": [
  {
   "cell_type": "markdown",
   "metadata": {},
   "source": [
    "---\n",
    "layout: page\n",
    "title: Um pouco Mais de Visualização de Dados\n",
    "nav_order: 8\n",
    "---\n",
    "[<img src=\"https://raw.githubusercontent.com/flaviovdf/fcd/master/assets/colab_favicon_small.png\" style=\"float: right;\">](https://colab.research.google.com/github/flaviovdf/fcd/blob/master/_lessons/08-MaisViz.ipynb)\n",
    "\n",
    "# Tópico 8 – Um pouco Mais de Visualização de Dados 📈\n",
    "{: .no_toc .mb-2 }\n",
    "\n",
    "Aprender um pouco sobre transformação de dados e alguns exemplos a mais.\n",
    "{: .fs-6 .fw-300 }\n",
    "\n",
    "{: .no_toc .text-delta }\n",
    "Resultados Esperados\n",
    "\n",
    "1. Aprender como transformar dados\n",
    "1. Aprender qual a melhor forma de ter dados sobre postos\n",
    "\n",
    "{: .no_toc .text-delta }\n",
    "Material Adaptado do [DSC10 (UCSD)](https://dsc10.com/)"
   ]
  },
  {
   "cell_type": "code",
   "execution_count": 1,
   "metadata": {
    "slideshow": {
     "slide_type": "skip"
    }
   },
   "outputs": [],
   "source": [
    "import numpy as np\n",
    "import babypandas as bpd\n",
    "import matplotlib.pyplot as plt\n",
    "plt.style.use('ggplot')"
   ]
  },
  {
   "cell_type": "markdown",
   "metadata": {
    "slideshow": {
     "slide_type": "slide"
    }
   },
   "source": [
    "### Agenda\n",
    "\n",
    "- Distribuições.\n",
    "- Histogramas de densidade.\n",
    "- Parcelas sobrepostas."
   ]
  },
  {
   "cell_type": "markdown",
   "metadata": {
    "slideshow": {
     "slide_type": "slide"
    }
   },
   "source": [
    "### Revisão: tipos de visualizações\n",
    "\n",
    "O tipo de visualização que criamos depende dos tipos de variáveis ​​que estamos visualizando.\n",
    "\n",
    "- **Gráfico de dispersão**: numérico versus numérico.\n",
    "- Exemplo: peso x altura.\n",
    "- **Gráfico de linhas**: numérico sequencial (tempo) vs.\n",
    "- Exemplo: altura vs. tempo.\n",
    "- **Gráfico de barras**: categórico vs. numérico.\n",
    "- Exemplo: alturas de diferentes membros da família.\n",
    "- **Histograma**: distribuição numérica.\n",
    "\n",
    "**Observação:** Podemos trocar as palavras \"plot\", \"chart\" e \"graph\"; todos eles significam a mesma coisa."
   ]
  },
  {
   "cell_type": "markdown",
   "metadata": {
    "slideshow": {
     "slide_type": "slide"
    }
   },
   "source": [
    "### Algumas visualizações ruins\n",
    "\n",
    "![](images/bananas.png)"
   ]
  },
  {
   "cell_type": "markdown",
   "metadata": {
    "slideshow": {
     "slide_type": "slide"
    }
   },
   "source": [
    "![](images/average_height.png)"
   ]
  },
  {
   "cell_type": "markdown",
   "metadata": {
    "slideshow": {
     "slide_type": "slide"
    }
   },
   "source": [
    "![](images/weather.png)"
   ]
  },
  {
   "cell_type": "markdown",
   "metadata": {
    "slideshow": {
     "slide_type": "slide"
    }
   },
   "source": [
    "## Distribuições"
   ]
  },
  {
   "cell_type": "markdown",
   "metadata": {
    "slideshow": {
     "slide_type": "slide"
    }
   },
   "source": [
    "### Qual é a distribuição de uma variável?\n",
    "\n",
    "- A distribuição de uma variável consiste em todos os valores da variável que ocorrem nos dados, juntamente com suas frequências.\n",
    "- As distribuições ajudam você a entender:\n",
    "    - Com que frequência uma variável assume um determinado valor?_\n",
    "- Ambas as variáveis ​​categóricas e numéricas têm distribuições."
   ]
  },
  {
   "cell_type": "markdown",
   "metadata": {
    "slideshow": {
     "slide_type": "slide"
    }
   },
   "source": [
    "### Variáveis ​​categóricas\n",
    "\n",
    "A distribuição de uma variável categórica pode ser exibida como uma tabela ou gráfico de barras, entre outras formas! Por exemplo, vejamos qual o tipo de ensino médio dos alunos de FCD."
   ]
  },
  {
   "cell_type": "code",
   "execution_count": 2,
   "metadata": {
    "slideshow": {
     "slide_type": "-"
    }
   },
   "outputs": [
    {
     "data": {
      "text/html": [
       "<div>\n",
       "<style scoped>\n",
       "    .dataframe tbody tr th:only-of-type {\n",
       "        vertical-align: middle;\n",
       "    }\n",
       "\n",
       "    .dataframe tbody tr th {\n",
       "        vertical-align: top;\n",
       "    }\n",
       "\n",
       "    .dataframe thead th {\n",
       "        text-align: right;\n",
       "    }\n",
       "</style>\n",
       "<table border=\"1\" class=\"dataframe\">\n",
       "  <thead>\n",
       "    <tr style=\"text-align: right;\">\n",
       "      <th></th>\n",
       "      <th>TipoEscola</th>\n",
       "      <th>NumDiscentes</th>\n",
       "    </tr>\n",
       "  </thead>\n",
       "  <tbody>\n",
       "    <tr>\n",
       "      <th>0</th>\n",
       "      <td>Privado</td>\n",
       "      <td>15</td>\n",
       "    </tr>\n",
       "    <tr>\n",
       "      <th>1</th>\n",
       "      <td>Público (Estadual)</td>\n",
       "      <td>8</td>\n",
       "    </tr>\n",
       "    <tr>\n",
       "      <th>2</th>\n",
       "      <td>Público (Municipal)</td>\n",
       "      <td>3</td>\n",
       "    </tr>\n",
       "    <tr>\n",
       "      <th>3</th>\n",
       "      <td>Público (Federal)</td>\n",
       "      <td>7</td>\n",
       "    </tr>\n",
       "  </tbody>\n",
       "</table>\n",
       "</div>"
      ],
      "text/plain": [
       "            TipoEscola  NumDiscentes\n",
       "0              Privado            15\n",
       "1   Público (Estadual)             8\n",
       "2  Público (Municipal)             3\n",
       "3    Público (Federal)             7"
      ]
     },
     "execution_count": 2,
     "metadata": {},
     "output_type": "execute_result"
    }
   ],
   "source": [
    "tipo_medio = bpd.DataFrame().assign(\n",
    "    TipoEscola=['Privado', 'Público (Estadual)', 'Público (Municipal)', 'Público (Federal)'], \n",
    "    NumDiscentes=[15, 8, 3, 7]\n",
    ")\n",
    "tipo_medio"
   ]
  },
  {
   "cell_type": "code",
   "execution_count": 3,
   "metadata": {
    "scrolled": true
   },
   "outputs": [
    {
     "data": {
      "image/png": "[encoded data removed]",
      "text/plain": [
       "<Figure size 640x480 with 1 Axes>"
      ]
     },
     "metadata": {},
     "output_type": "display_data"
    }
   ],
   "source": [
    "tipo_medio.plot(kind='barh', x='TipoEscola', y='NumDiscentes');"
   ]
  },
  {
   "cell_type": "code",
   "execution_count": 4,
   "metadata": {
    "scrolled": true
   },
   "outputs": [
    {
     "data": {
      "image/png": "[encoded data removed]",
      "text/plain": [
       "<Figure size 640x480 with 1 Axes>"
      ]
     },
     "metadata": {},
     "output_type": "display_data"
    }
   ],
   "source": [
    "tipo_medio.plot(kind='bar', x='TipoEscola', y='NumDiscentes');"
   ]
  },
  {
   "cell_type": "markdown",
   "metadata": {
    "slideshow": {
     "slide_type": "slide"
    }
   },
   "source": [
    "### Variáveis ​​numéricas\n",
    "\n",
    "A distribuição de uma variável numérica nem sempre pode ser representada com precisão por um gráfico de barras. Por exemplo, vejamos o número de streams de cada uma das 200 músicas mais populares no Spotify nos EUA. 🎵"
   ]
  },
  {
   "cell_type": "code",
   "execution_count": 5,
   "metadata": {
    "scrolled": true
   },
   "outputs": [
    {
     "data": {
      "text/html": [
       "<div>\n",
       "<style scoped>\n",
       "    .dataframe tbody tr th:only-of-type {\n",
       "        vertical-align: middle;\n",
       "    }\n",
       "\n",
       "    .dataframe tbody tr th {\n",
       "        vertical-align: top;\n",
       "    }\n",
       "\n",
       "    .dataframe thead th {\n",
       "        text-align: right;\n",
       "    }\n",
       "</style>\n",
       "<table border=\"1\" class=\"dataframe\">\n",
       "  <thead>\n",
       "    <tr style=\"text-align: right;\">\n",
       "      <th></th>\n",
       "      <th>track_name</th>\n",
       "      <th>artist_names</th>\n",
       "      <th>streams</th>\n",
       "      <th>million_streams</th>\n",
       "    </tr>\n",
       "    <tr>\n",
       "      <th>rank</th>\n",
       "      <th></th>\n",
       "      <th></th>\n",
       "      <th></th>\n",
       "      <th></th>\n",
       "    </tr>\n",
       "  </thead>\n",
       "  <tbody>\n",
       "    <tr>\n",
       "      <th>1</th>\n",
       "      <td>Flowers</td>\n",
       "      <td>Miley Cyrus</td>\n",
       "      <td>3356361</td>\n",
       "      <td>3.36</td>\n",
       "    </tr>\n",
       "    <tr>\n",
       "      <th>2</th>\n",
       "      <td>Kill Bill</td>\n",
       "      <td>SZA</td>\n",
       "      <td>2479445</td>\n",
       "      <td>2.48</td>\n",
       "    </tr>\n",
       "    <tr>\n",
       "      <th>3</th>\n",
       "      <td>Creepin' (with The Weeknd &amp; 21 Savage)</td>\n",
       "      <td>Metro Boomin, The Weeknd, 21 Savage</td>\n",
       "      <td>1337320</td>\n",
       "      <td>1.34</td>\n",
       "    </tr>\n",
       "    <tr>\n",
       "      <th>4</th>\n",
       "      <td>Superhero (Heroes &amp; Villains) [with Future &amp; C...</td>\n",
       "      <td>Metro Boomin, Future, Chris Brown</td>\n",
       "      <td>1235285</td>\n",
       "      <td>1.24</td>\n",
       "    </tr>\n",
       "    <tr>\n",
       "      <th>5</th>\n",
       "      <td>Rich Flex</td>\n",
       "      <td>Drake, 21 Savage</td>\n",
       "      <td>1109704</td>\n",
       "      <td>1.11</td>\n",
       "    </tr>\n",
       "    <tr>\n",
       "      <th>...</th>\n",
       "      <td>...</td>\n",
       "      <td>...</td>\n",
       "      <td>...</td>\n",
       "      <td>...</td>\n",
       "    </tr>\n",
       "    <tr>\n",
       "      <th>196</th>\n",
       "      <td>Burn, Burn, Burn</td>\n",
       "      <td>Zach Bryan</td>\n",
       "      <td>267772</td>\n",
       "      <td>0.27</td>\n",
       "    </tr>\n",
       "    <tr>\n",
       "      <th>197</th>\n",
       "      <td>LET GO</td>\n",
       "      <td>Central Cee</td>\n",
       "      <td>267401</td>\n",
       "      <td>0.27</td>\n",
       "    </tr>\n",
       "    <tr>\n",
       "      <th>198</th>\n",
       "      <td>Major Distribution</td>\n",
       "      <td>Drake, 21 Savage</td>\n",
       "      <td>266986</td>\n",
       "      <td>0.27</td>\n",
       "    </tr>\n",
       "    <tr>\n",
       "      <th>199</th>\n",
       "      <td>Sun to Me</td>\n",
       "      <td>Zach Bryan</td>\n",
       "      <td>266968</td>\n",
       "      <td>0.27</td>\n",
       "    </tr>\n",
       "    <tr>\n",
       "      <th>200</th>\n",
       "      <td>The Real Slim Shady</td>\n",
       "      <td>Eminem</td>\n",
       "      <td>266698</td>\n",
       "      <td>0.27</td>\n",
       "    </tr>\n",
       "  </tbody>\n",
       "</table>\n",
       "<p>200 rows × 4 columns</p>\n",
       "</div>"
      ],
      "text/plain": [
       "                                             track_name  \\\n",
       "rank                                                      \n",
       "1                                               Flowers   \n",
       "2                                             Kill Bill   \n",
       "3                Creepin' (with The Weeknd & 21 Savage)   \n",
       "4     Superhero (Heroes & Villains) [with Future & C...   \n",
       "5                                             Rich Flex   \n",
       "...                                                 ...   \n",
       "196                                    Burn, Burn, Burn   \n",
       "197                                              LET GO   \n",
       "198                                  Major Distribution   \n",
       "199                                           Sun to Me   \n",
       "200                                 The Real Slim Shady   \n",
       "\n",
       "                             artist_names  streams  million_streams  \n",
       "rank                                                                 \n",
       "1                             Miley Cyrus  3356361             3.36  \n",
       "2                                     SZA  2479445             2.48  \n",
       "3     Metro Boomin, The Weeknd, 21 Savage  1337320             1.34  \n",
       "4       Metro Boomin, Future, Chris Brown  1235285             1.24  \n",
       "5                        Drake, 21 Savage  1109704             1.11  \n",
       "...                                   ...      ...              ...  \n",
       "196                            Zach Bryan   267772             0.27  \n",
       "197                           Central Cee   267401             0.27  \n",
       "198                      Drake, 21 Savage   266986             0.27  \n",
       "199                            Zach Bryan   266968             0.27  \n",
       "200                                Eminem   266698             0.27  \n",
       "\n",
       "[200 rows x 4 columns]"
      ]
     },
     "execution_count": 5,
     "metadata": {},
     "output_type": "execute_result"
    }
   ],
   "source": [
    "charts = bpd.read_csv('data/regional-us-daily-2023-01-21.csv')\n",
    "charts = (charts.set_index('rank')\n",
    "          .assign(million_streams = np.round(charts.get('streams')/1000000, 2))\n",
    "          .get(['track_name', 'artist_names', 'streams', 'million_streams'])\n",
    "         )\n",
    "charts"
   ]
  },
  {
   "cell_type": "markdown",
   "metadata": {
    "slideshow": {
     "slide_type": "fragment"
    }
   },
   "source": [
    "Para ver a distribuição do número de streams, precisamos agrupar pela coluna `'million_streams'`."
   ]
  },
  {
   "cell_type": "code",
   "execution_count": 6,
   "metadata": {},
   "outputs": [
    {
     "data": {
      "text/html": [
       "<div>\n",
       "<style scoped>\n",
       "    .dataframe tbody tr th:only-of-type {\n",
       "        vertical-align: middle;\n",
       "    }\n",
       "\n",
       "    .dataframe tbody tr th {\n",
       "        vertical-align: top;\n",
       "    }\n",
       "\n",
       "    .dataframe thead th {\n",
       "        text-align: right;\n",
       "    }\n",
       "</style>\n",
       "<table border=\"1\" class=\"dataframe\">\n",
       "  <thead>\n",
       "    <tr style=\"text-align: right;\">\n",
       "      <th></th>\n",
       "      <th>Count</th>\n",
       "    </tr>\n",
       "    <tr>\n",
       "      <th>million_streams</th>\n",
       "      <th></th>\n",
       "    </tr>\n",
       "  </thead>\n",
       "  <tbody>\n",
       "    <tr>\n",
       "      <th>0.27</th>\n",
       "      <td>17</td>\n",
       "    </tr>\n",
       "    <tr>\n",
       "      <th>0.28</th>\n",
       "      <td>20</td>\n",
       "    </tr>\n",
       "    <tr>\n",
       "      <th>0.29</th>\n",
       "      <td>19</td>\n",
       "    </tr>\n",
       "    <tr>\n",
       "      <th>0.30</th>\n",
       "      <td>8</td>\n",
       "    </tr>\n",
       "    <tr>\n",
       "      <th>0.31</th>\n",
       "      <td>14</td>\n",
       "    </tr>\n",
       "    <tr>\n",
       "      <th>...</th>\n",
       "      <td>...</td>\n",
       "    </tr>\n",
       "    <tr>\n",
       "      <th>1.11</th>\n",
       "      <td>1</td>\n",
       "    </tr>\n",
       "    <tr>\n",
       "      <th>1.24</th>\n",
       "      <td>1</td>\n",
       "    </tr>\n",
       "    <tr>\n",
       "      <th>1.34</th>\n",
       "      <td>1</td>\n",
       "    </tr>\n",
       "    <tr>\n",
       "      <th>2.48</th>\n",
       "      <td>1</td>\n",
       "    </tr>\n",
       "    <tr>\n",
       "      <th>3.36</th>\n",
       "      <td>1</td>\n",
       "    </tr>\n",
       "  </tbody>\n",
       "</table>\n",
       "<p>51 rows × 1 columns</p>\n",
       "</div>"
      ],
      "text/plain": [
       "                 Count\n",
       "million_streams       \n",
       "0.27                17\n",
       "0.28                20\n",
       "0.29                19\n",
       "0.30                 8\n",
       "0.31                14\n",
       "...                ...\n",
       "1.11                 1\n",
       "1.24                 1\n",
       "1.34                 1\n",
       "2.48                 1\n",
       "3.36                 1\n",
       "\n",
       "[51 rows x 1 columns]"
      ]
     },
     "execution_count": 6,
     "metadata": {},
     "output_type": "execute_result"
    }
   ],
   "source": [
    "stream_counts = charts.groupby('million_streams').count()\n",
    "stream_counts = stream_counts.assign(Count=stream_counts.get('track_name')).drop(columns=['track_name', 'artist_names', 'streams'])\n",
    "stream_counts"
   ]
  },
  {
   "cell_type": "code",
   "execution_count": 7,
   "metadata": {
    "slideshow": {
     "slide_type": "slide"
    }
   },
   "outputs": [
    {
     "data": {
      "image/png": "[encoded data removed]",
      "text/plain": [
       "<Figure size 1500x500 with 1 Axes>"
      ]
     },
     "metadata": {},
     "output_type": "display_data"
    }
   ],
   "source": [
    "stream_counts.plot(kind='bar', y='Count', figsize=(15,5));"
   ]
  },
  {
   "cell_type": "markdown",
   "metadata": {
    "slideshow": {
     "slide_type": "fragment"
    }
   },
   "source": [
    "- Isso obscurece o fato de que as duas músicas principais são atípicas, com **muito mais streams** do que as outras músicas.\n",
    "\n",
    "- O eixo horizontal deve ser numérico (como uma reta numérica), não categórico. Deve haver mais espaço entre certas barras do que outras."
   ]
  },
  {
   "cell_type": "markdown",
   "metadata": {
    "slideshow": {
     "slide_type": "slide"
    }
   },
   "source": [
    "## Histogramas"
   ]
  },
  {
   "cell_type": "markdown",
   "metadata": {
    "slideshow": {
     "slide_type": "slide"
    }
   },
   "source": [
    "### Histogramas mostram a distribuição de variáveis ​​numéricas *sem normalizar*\n",
    "\n",
    "Em vez de um gráfico de barras, visualizaremos a distribuição de uma variável numérica com um **histograma**. Vamos ver como é um histograma de densidade para `'million_streams'`. O que você percebe nessa visualização?"
   ]
  },
  {
   "cell_type": "code",
   "execution_count": 8,
   "metadata": {},
   "outputs": [
    {
     "data": {
      "image/png": "[encoded data removed]",
      "text/plain": [
       "<Figure size 640x480 with 1 Axes>"
      ]
     },
     "metadata": {},
     "output_type": "display_data"
    }
   ],
   "source": [
    "# Ignore the code for right now.\n",
    "charts.plot(\n",
    "    kind='hist',\n",
    "    y='million_streams',\n",
    "    bins=np.arange(0, 4, 0.5),\n",
    "    ec='w'  # borda branca\n",
    ");"
   ]
  },
  {
   "cell_type": "markdown",
   "metadata": {
    "slideshow": {
     "slide_type": "slide"
    }
   },
   "source": [
    "### Primeira ideia chave por trás dos histogramas: binning 🗑️\n",
    "\n",
    "- Binning é o ato de contar o número de valores numéricos que se enquadram nos intervalos definidos por dois pontos finais. Esses intervalos são chamados de “caixas”.\n",
    "- Um valor cai em uma caixa se for **maior ou igual ao ponto final esquerdo** e **menor que o ponto final direito**.\n",
    "- [a, b): a está incluído, b não.\n",
    "- A largura de uma caixa é sua extremidade direita menos sua extremidade esquerda.\n"
   ]
  },
  {
   "cell_type": "code",
   "execution_count": 9,
   "metadata": {
    "scrolled": true,
    "slideshow": {
     "slide_type": "-"
    }
   },
   "outputs": [
    {
     "data": {
      "text/html": [
       "\n",
       "        <iframe\n",
       "            width=\"900\"\n",
       "            height=\"307\"\n",
       "            src=\"https://docs.google.com/presentation/d/e/2PACX-1vTnRGwEnKP2V-Z82DlxW1b1nMb2F0zWyrXIzFSpQx_8Wd3MFaf56y2_u3JrLwZ5SjWmfapL5BJLfsDG/embed?start=false&loop=false&delayms=60000\"\n",
       "            frameborder=\"0\"\n",
       "            allowfullscreen\n",
       "            \n",
       "        ></iframe>\n",
       "        "
      ],
      "text/plain": [
       "<IPython.lib.display.IFrame at 0x1fe8fc86350>"
      ]
     },
     "metadata": {},
     "output_type": "display_data"
    }
   ],
   "source": [
    "from IPython.display import display, IFrame\n",
    "\n",
    "def binning_animation():\n",
    "    src=\"https://docs.google.com/presentation/d/e/2PACX-1vTnRGwEnKP2V-Z82DlxW1b1nMb2F0zWyrXIzFSpQx_8Wd3MFaf56y2_u3JrLwZ5SjWmfapL5BJLfsDG/embed?start=false&loop=false&delayms=60000\"\n",
    "    width=900\n",
    "    height=307\n",
    "    display(IFrame(src, width, height))\n",
    "binning_animation()"
   ]
  },
  {
   "cell_type": "markdown",
   "metadata": {
    "slideshow": {
     "slide_type": "slide"
    }
   },
   "source": [
    "### Personalizando as caixas\n",
    "\n",
    "- Por padrão, o Python agrupará seus dados em 10 compartimentos de tamanhos iguais.\n",
    "- Você pode especificar outro número de compartimentos de tamanhos iguais definindo o argumento opcional `bins` igual a algum outro valor inteiro.\n",
    "- Você também pode especificar o início e os pontos finais do compartimento personalizado definindo `bins` iguais a uma sequência de pontos finais do compartimento.\n",
    "- Pode ser um array `list` ou `numpy`."
   ]
  },
  {
   "cell_type": "code",
   "execution_count": 10,
   "metadata": {},
   "outputs": [
    {
     "data": {
      "image/png": "[encoded data removed]",
      "text/plain": [
       "<Figure size 640x480 with 1 Axes>"
      ]
     },
     "metadata": {},
     "output_type": "display_data"
    }
   ],
   "source": [
    "charts.plot(\n",
    "    kind='hist',\n",
    "    y='million_streams',\n",
    "    bins=20,\n",
    "    ec='w'\n",
    ");"
   ]
  },
  {
   "cell_type": "code",
   "execution_count": 11,
   "metadata": {},
   "outputs": [
    {
     "data": {
      "image/png": "[encoded data removed]",
      "text/plain": [
       "<Figure size 640x480 with 1 Axes>"
      ]
     },
     "metadata": {},
     "output_type": "display_data"
    }
   ],
   "source": [
    "charts.plot(\n",
    "    kind='hist', y='million_streams', density=True,\n",
    "    bins=[0, 1, 2, 3, 4, 5],\n",
    "    ec='w'\n",
    ");"
   ]
  },
  {
   "cell_type": "markdown",
   "metadata": {
    "slideshow": {
     "slide_type": "fragment"
    }
   },
   "source": [
    "Nos dois histogramas acima, o que é diferente e o que é igual?"
   ]
  },
  {
   "cell_type": "markdown",
   "metadata": {
    "slideshow": {
     "slide_type": "slide"
    }
   },
   "source": [
    "### Observações\n",
    "- A forma geral de todos os dois histogramas é a mesma, independentemente dos compartimentos. Esta forma é chamada de *inclinada à direita*.\n",
    "- Mais compartimentos fornecem uma imagem mais precisa e granular da distribuição da variável `'million_streams'`.\n",
    "- Os valores do eixo $y$ parecem mudar muito quando mudamos os compartimentos. Agarre-se a esse pensamento; veremos o porquê em breve."
   ]
  },
  {
   "cell_type": "markdown",
   "metadata": {},
   "source": [
    "### Histogramas de densidade mostram a distribuição de variáveis ​​numéricas\n",
    "\n",
    "Podemos também criar histogramas *normalizados* ou histogramas de densidade."
   ]
  },
  {
   "cell_type": "markdown",
   "metadata": {
    "slideshow": {
     "slide_type": "slide"
    }
   },
   "source": [
    "### Ideia chave por trás dos histogramas de densidade: a área total é 1\n",
    "\n",
    "- Em um histograma de densidade, o eixo $y$ pode ser difícil de interpretar, mas foi projetado para dar ao histograma uma propriedade muito boa: $$\\textbf{As barras de um histograma de densidade }$$\n",
    "$$\\textbf{têm uma área total combinada de 1.}$$\n",
    "- Isso significa que a área de uma barra é igual à proporção de todos os pontos de dados que caem nessa caixa.\n",
    "- Proporções e percentagens representam a mesma coisa.\n",
    "- Uma proporção é um decimal entre 0 e 1, uma porcentagem está entre 0\\% e 100\\%.\n",
    "- A proporção 0,34 significa 34\\%.\n"
   ]
  },
  {
   "cell_type": "markdown",
   "metadata": {
    "slideshow": {
     "slide_type": "slide"
    }
   },
   "source": [
    "### Cálculo de exemplo"
   ]
  },
  {
   "cell_type": "code",
   "execution_count": 12,
   "metadata": {},
   "outputs": [
    {
     "data": {
      "image/png": "[encoded data removed]",
      "text/plain": [
       "<Figure size 640x480 with 1 Axes>"
      ]
     },
     "metadata": {},
     "output_type": "display_data"
    }
   ],
   "source": [
    "charts.plot(\n",
    "    kind='hist',\n",
    "    y='million_streams',\n",
    "    density=True,\n",
    "    bins=[0, 0.5, 1, 1.5, 2.5, 4],\n",
    "    ec='w'\n",
    ");"
   ]
  },
  {
   "cell_type": "markdown",
   "metadata": {
    "slideshow": {
     "slide_type": "-"
    }
   },
   "source": [
    "Com base neste histograma, que proporção das 200 músicas mais populares teve menos de meio milhão de streams?"
   ]
  },
  {
   "cell_type": "markdown",
   "metadata": {
    "slideshow": {
     "slide_type": "slide"
    }
   },
   "source": [
    "### Exemplo de cálculo\n",
    "\n",
    "- A altura da barra [0, 0.5) parece ser apenas 1,6.\n",
    "- A largura da caixa é 0,5 - 0 = 0,5.\n",
    "\n",
    "- Portanto, usando a fórmula da área de um retângulo,\n",
    "\n",
    "$$\\begin{align}\\text{Area} &= \\text{Altura} \\times \\text{Largura} \\\\ &= 1,6 \\times 0,5 \\\\ e= 0,8\n",
    "\\end{align}$$\n",
    "\n",
    "- Como as áreas representam proporções, isso significa que a proporção das 200 músicas mais populares com menos de 0,5 milhão de streams foi de aproximadamente 0,8 (ou 80\\%)."
   ]
  },
  {
   "cell_type": "markdown",
   "metadata": {
    "slideshow": {
     "slide_type": "slide"
    }
   },
   "source": [
    "### Verifique a matemática"
   ]
  },
  {
   "cell_type": "code",
   "execution_count": 13,
   "metadata": {
    "slideshow": {
     "slide_type": "-"
    }
   },
   "outputs": [
    {
     "data": {
      "text/plain": [
       "159"
      ]
     },
     "execution_count": 13,
     "metadata": {},
     "output_type": "execute_result"
    }
   ],
   "source": [
    "first_bin = charts[charts.get('million_streams') < 0.5].shape[0]\n",
    "first_bin"
   ]
  },
  {
   "cell_type": "code",
   "execution_count": 14,
   "metadata": {},
   "outputs": [
    {
     "data": {
      "text/plain": [
       "0.795"
      ]
     },
     "execution_count": 14,
     "metadata": {},
     "output_type": "execute_result"
    }
   ],
   "source": [
    "first_bin/200"
   ]
  },
  {
   "cell_type": "markdown",
   "metadata": {
    "slideshow": {
     "slide_type": "fragment"
    }
   },
   "source": [
    "Isso corresponde ao resultado que obtivemos. (Não exatamente, já que fizemos uma estimativa para a altura.)"
   ]
  },
  {
   "cell_type": "markdown",
   "metadata": {
    "slideshow": {
     "slide_type": "slide"
    }
   },
   "source": [
    "### Como calcular alturas em um histograma de densidade\n",
    "\n",
    "Como a barra de um histograma é um retângulo, sua área é dada por\n",
    "\n",
    "$$\\text{Área} = \\text{Altura} \\times \\text{Largura}$$\n",
    "\n",
    "Que significa\n",
    "\n",
    "$$\\text{Altura} = \\frac{\\text{Área}}{\\text{Largura}} = \\frac{\\text{Proporção (ou Porcentagem)}}{\\text{Largura}}$$"
   ]
  },
  {
   "cell_type": "markdown",
   "metadata": {
    "slideshow": {
     "slide_type": "fragment"
    }
   },
   "source": [
    "Isso implica que as unidades de altura são \"proporção por (unidade $x$-eixo)\". O eixo $y$ representa uma espécie de *densidade*, e é por isso que o chamamos de histograma de densidade.\n",
    "\n"
   ]
  },
  {
   "cell_type": "code",
   "execution_count": 15,
   "metadata": {
    "slideshow": {
     "slide_type": "fragment"
    }
   },
   "outputs": [
    {
     "data": {
      "text/plain": [
       "Text(0, 0.5, 'Densidade')"
      ]
     },
     "execution_count": 15,
     "metadata": {},
     "output_type": "execute_result"
    },
    {
     "data": {
      "image/png": "[encoded data removed]",
      "text/plain": [
       "<Figure size 640x480 with 1 Axes>"
      ]
     },
     "metadata": {},
     "output_type": "display_data"
    }
   ],
   "source": [
    "charts.plot(kind='hist', y='million_streams', density=True,\n",
    "            bins=[0, 0.5, 1, 1.5, 2.5, 4],\n",
    "            ec='w');\n",
    "plt.ylabel('Densidade')"
   ]
  },
  {
   "cell_type": "markdown",
   "metadata": {},
   "source": [
    "As unidades do eixo $y$ aqui são \"proporção por milhão de fluxos\", já que o eixo $x$ representa milhões de fluxos.\n",
    "- Infelizmente, as unidades do eixo $y$ no histograma sempre são exibidas como \"Frequência\". **Isto está errado!**\n",
    "- Podemos corrigir com `plt.ylabel(...)`"
   ]
  },
  {
   "cell_type": "markdown",
   "metadata": {
    "slideshow": {
     "slide_type": "slide"
    }
   },
   "source": [
    "### Verificação de conceito ✅\n",
    "\n",
    "Suponha que criamos um histograma de densidade dos tamanhos dos sapatos das pessoas. 👟 Abaixo estão as caixas que escolhemos junto com suas alturas.\n",
    "\n",
    "| Caixa | Altura da barra |\n",
    "| --- | --- |\n",
    "| [3, 7) | 0,05 |\n",
    "| [7, 10) | 0,1 |\n",
    "| [10, 12) | 0,15 |\n",
    "| [12, 16] | $X$ |\n",
    "\n",
    "\n",
    "Qual deve ser o valor de $X$ para que este seja um histograma válido?\n",
    "\n",
    "A. 0,02\n",
    "B. 0,05\n",
    "C. 0,2\n",
    "D. 0,5\n",
    "E. 0.7             \n"
   ]
  },
  {
   "cell_type": "markdown",
   "metadata": {
    "slideshow": {
     "slide_type": "slide"
    }
   },
   "source": [
    "### Gráficos de barras vs. histogramas\n",
    "\n",
    "Gráfico de barras | Histograma\n",
    "---|---\n",
    "Mostra a distribuição de uma variável categórica | Mostra a distribuição de uma variável numérica\n",
    "1 eixo categórico, 1 eixo numérico | 2 eixos numéricos\n",
    "As barras têm larguras e espaçamentos arbitrários, mas iguais | O eixo horizontal é numérico e está em escala\n",
    "Os comprimentos das barras são proporcionais à quantidade numérica de interesse | A altura mede a densidade; as áreas são proporcionais à proporção (porcentagem) de indivíduos"
   ]
  },
  {
   "cell_type": "markdown",
   "metadata": {
    "slideshow": {
     "slide_type": "slide"
    }
   },
   "source": [
    "### 🌟 Importante 🌟\n",
    "\n",
    "Nesta aula, **\"histograma\" sempre significará um \"histograma de densidade\".** Usaremos **apenas** histogramas de densidade."
   ]
  },
  {
   "cell_type": "markdown",
   "metadata": {
    "slideshow": {
     "slide_type": "fragment"
    }
   },
   "source": [
    "*Nota:* É possível criar o que é chamado de *histograma de frequência* onde o eixo $y$ simplesmente representa uma contagem do número de valores em cada compartimento. Embora sejam mais fáceis de interpretar, os histogramas de frequência não têm a importante propriedade de que a área total é 1, portanto não podem ser conectados à probabilidade da mesma forma que os histogramas de densidade. Isso os torna muito menos úteis para cientistas de dados."
   ]
  },
  {
   "cell_type": "markdown",
   "metadata": {
    "slideshow": {
     "slide_type": "slide"
    }
   },
   "source": [
    "## Gráficos sobrepostos"
   ]
  },
  {
   "cell_type": "markdown",
   "metadata": {
    "slideshow": {
     "slide_type": "slide"
    }
   },
   "source": [
    "### Novo conjunto de dados: populações de San Diego e San Jose ao longo do tempo\n",
    "\n",
    "Os dados para ambas as cidades vêm de [macrotrends.net](https://www.macrotrends.net/cities/23129/san-diego/population)."
   ]
  },
  {
   "cell_type": "code",
   "execution_count": 16,
   "metadata": {},
   "outputs": [
    {
     "data": {
      "text/html": [
       "<div>\n",
       "<style scoped>\n",
       "    .dataframe tbody tr th:only-of-type {\n",
       "        vertical-align: middle;\n",
       "    }\n",
       "\n",
       "    .dataframe tbody tr th {\n",
       "        vertical-align: top;\n",
       "    }\n",
       "\n",
       "    .dataframe thead th {\n",
       "        text-align: right;\n",
       "    }\n",
       "</style>\n",
       "<table border=\"1\" class=\"dataframe\">\n",
       "  <thead>\n",
       "    <tr style=\"text-align: right;\">\n",
       "      <th></th>\n",
       "      <th>Pop SD</th>\n",
       "      <th>Growth SD</th>\n",
       "      <th>Pop SJ</th>\n",
       "      <th>Growth SJ</th>\n",
       "    </tr>\n",
       "    <tr>\n",
       "      <th>date</th>\n",
       "      <th></th>\n",
       "      <th></th>\n",
       "      <th></th>\n",
       "      <th></th>\n",
       "    </tr>\n",
       "  </thead>\n",
       "  <tbody>\n",
       "    <tr>\n",
       "      <th>1970</th>\n",
       "      <td>1209000</td>\n",
       "      <td>3.69</td>\n",
       "      <td>1009000</td>\n",
       "      <td>4.34</td>\n",
       "    </tr>\n",
       "    <tr>\n",
       "      <th>1971</th>\n",
       "      <td>1252000</td>\n",
       "      <td>3.56</td>\n",
       "      <td>1027000</td>\n",
       "      <td>1.78</td>\n",
       "    </tr>\n",
       "    <tr>\n",
       "      <th>1972</th>\n",
       "      <td>1297000</td>\n",
       "      <td>3.59</td>\n",
       "      <td>1046000</td>\n",
       "      <td>1.85</td>\n",
       "    </tr>\n",
       "    <tr>\n",
       "      <th>1973</th>\n",
       "      <td>1344000</td>\n",
       "      <td>3.62</td>\n",
       "      <td>1064000</td>\n",
       "      <td>1.72</td>\n",
       "    </tr>\n",
       "    <tr>\n",
       "      <th>1974</th>\n",
       "      <td>1392000</td>\n",
       "      <td>3.57</td>\n",
       "      <td>1084000</td>\n",
       "      <td>1.88</td>\n",
       "    </tr>\n",
       "    <tr>\n",
       "      <th>...</th>\n",
       "      <td>...</td>\n",
       "      <td>...</td>\n",
       "      <td>...</td>\n",
       "      <td>...</td>\n",
       "    </tr>\n",
       "    <tr>\n",
       "      <th>2019</th>\n",
       "      <td>3231000</td>\n",
       "      <td>0.59</td>\n",
       "      <td>1783000</td>\n",
       "      <td>0.39</td>\n",
       "    </tr>\n",
       "    <tr>\n",
       "      <th>2020</th>\n",
       "      <td>3251000</td>\n",
       "      <td>0.62</td>\n",
       "      <td>1791000</td>\n",
       "      <td>0.45</td>\n",
       "    </tr>\n",
       "    <tr>\n",
       "      <th>2021</th>\n",
       "      <td>3272000</td>\n",
       "      <td>0.65</td>\n",
       "      <td>1799000</td>\n",
       "      <td>0.45</td>\n",
       "    </tr>\n",
       "    <tr>\n",
       "      <th>2022</th>\n",
       "      <td>3295000</td>\n",
       "      <td>0.70</td>\n",
       "      <td>1809000</td>\n",
       "      <td>0.56</td>\n",
       "    </tr>\n",
       "    <tr>\n",
       "      <th>2023</th>\n",
       "      <td>3319000</td>\n",
       "      <td>0.73</td>\n",
       "      <td>1821000</td>\n",
       "      <td>0.66</td>\n",
       "    </tr>\n",
       "  </tbody>\n",
       "</table>\n",
       "<p>54 rows × 4 columns</p>\n",
       "</div>"
      ],
      "text/plain": [
       "       Pop SD  Growth SD   Pop SJ  Growth SJ\n",
       "date                                        \n",
       "1970  1209000       3.69  1009000       4.34\n",
       "1971  1252000       3.56  1027000       1.78\n",
       "1972  1297000       3.59  1046000       1.85\n",
       "1973  1344000       3.62  1064000       1.72\n",
       "1974  1392000       3.57  1084000       1.88\n",
       "...       ...        ...      ...        ...\n",
       "2019  3231000       0.59  1783000       0.39\n",
       "2020  3251000       0.62  1791000       0.45\n",
       "2021  3272000       0.65  1799000       0.45\n",
       "2022  3295000       0.70  1809000       0.56\n",
       "2023  3319000       0.73  1821000       0.66\n",
       "\n",
       "[54 rows x 4 columns]"
      ]
     },
     "execution_count": 16,
     "metadata": {},
     "output_type": "execute_result"
    }
   ],
   "source": [
    "population = bpd.read_csv('data/sd-sj-2022.csv').set_index('date')\n",
    "population"
   ]
  },
  {
   "cell_type": "markdown",
   "metadata": {
    "slideshow": {
     "slide_type": "slide"
    }
   },
   "source": [
    "### Lembre-se: gráficos de linha"
   ]
  },
  {
   "cell_type": "code",
   "execution_count": 17,
   "metadata": {
    "scrolled": true
   },
   "outputs": [
    {
     "data": {
      "image/png": "[encoded data removed]",
      "text/plain": [
       "<Figure size 640x480 with 1 Axes>"
      ]
     },
     "metadata": {},
     "output_type": "display_data"
    }
   ],
   "source": [
    "population.plot(kind='line', y='Growth SD', \n",
    "                title='San Diego population growth rate', legend=False);"
   ]
  },
  {
   "cell_type": "code",
   "execution_count": 18,
   "metadata": {},
   "outputs": [
    {
     "data": {
      "image/png": "[encoded data removed]",
      "text/plain": [
       "<Figure size 640x480 with 1 Axes>"
      ]
     },
     "metadata": {},
     "output_type": "display_data"
    }
   ],
   "source": [
    "population.plot(kind='line', y='Growth SJ', \n",
    "                title='San Jose population growth rate', legend=False);"
   ]
  },
  {
   "cell_type": "markdown",
   "metadata": {
    "slideshow": {
     "slide_type": "fragment"
    }
   },
   "source": [
    "Observe os argumentos opcionais `title` e `legend`. Alguns outros argumentos opcionais úteis são `figsize`, `xlabel` e `ylabel`. Existem [many optional arguments](https://pandas.pydata.org/docs/reference/api/pandas.DataFrame.plot.html)."
   ]
  },
  {
   "cell_type": "markdown",
   "metadata": {
    "slideshow": {
     "slide_type": "slide"
    }
   },
   "source": [
    "### Gráficos sobrepostos\n",
    "\n",
    "Se `y=column_name` for omitido, **todas** colunas serão plotadas!"
   ]
  },
  {
   "cell_type": "code",
   "execution_count": 19,
   "metadata": {},
   "outputs": [
    {
     "data": {
      "image/png": "[encoded data removed]",
      "text/plain": [
       "<Figure size 640x480 with 1 Axes>"
      ]
     },
     "metadata": {},
     "output_type": "display_data"
    }
   ],
   "source": [
    "population.plot(kind='line');"
   ]
  },
  {
   "cell_type": "markdown",
   "metadata": {
    "slideshow": {
     "slide_type": "fragment"
    }
   },
   "source": [
    "Por que existem apenas três linhas mostradas, mas quatro na legenda? 🤔"
   ]
  },
  {
   "cell_type": "markdown",
   "metadata": {
    "slideshow": {
     "slide_type": "slide"
    }
   },
   "source": [
    "### Selecionando várias colunas de uma vez\n",
    "- Para selecionar várias colunas, use `.get([column_1, ..., column_k])`.\n",
    "- Passar uma `lista` de rótulos de colunas para `.get` retorna um DataFrame.\n",
    "- `.get([column_name])` retornará um DataFrame com apenas uma coluna!"
   ]
  },
  {
   "cell_type": "code",
   "execution_count": 20,
   "metadata": {},
   "outputs": [
    {
     "data": {
      "text/html": [
       "<div>\n",
       "<style scoped>\n",
       "    .dataframe tbody tr th:only-of-type {\n",
       "        vertical-align: middle;\n",
       "    }\n",
       "\n",
       "    .dataframe tbody tr th {\n",
       "        vertical-align: top;\n",
       "    }\n",
       "\n",
       "    .dataframe thead th {\n",
       "        text-align: right;\n",
       "    }\n",
       "</style>\n",
       "<table border=\"1\" class=\"dataframe\">\n",
       "  <thead>\n",
       "    <tr style=\"text-align: right;\">\n",
       "      <th></th>\n",
       "      <th>Growth SD</th>\n",
       "      <th>Growth SJ</th>\n",
       "    </tr>\n",
       "    <tr>\n",
       "      <th>date</th>\n",
       "      <th></th>\n",
       "      <th></th>\n",
       "    </tr>\n",
       "  </thead>\n",
       "  <tbody>\n",
       "    <tr>\n",
       "      <th>1970</th>\n",
       "      <td>3.69</td>\n",
       "      <td>4.34</td>\n",
       "    </tr>\n",
       "    <tr>\n",
       "      <th>1971</th>\n",
       "      <td>3.56</td>\n",
       "      <td>1.78</td>\n",
       "    </tr>\n",
       "    <tr>\n",
       "      <th>1972</th>\n",
       "      <td>3.59</td>\n",
       "      <td>1.85</td>\n",
       "    </tr>\n",
       "    <tr>\n",
       "      <th>1973</th>\n",
       "      <td>3.62</td>\n",
       "      <td>1.72</td>\n",
       "    </tr>\n",
       "    <tr>\n",
       "      <th>1974</th>\n",
       "      <td>3.57</td>\n",
       "      <td>1.88</td>\n",
       "    </tr>\n",
       "    <tr>\n",
       "      <th>...</th>\n",
       "      <td>...</td>\n",
       "      <td>...</td>\n",
       "    </tr>\n",
       "    <tr>\n",
       "      <th>2019</th>\n",
       "      <td>0.59</td>\n",
       "      <td>0.39</td>\n",
       "    </tr>\n",
       "    <tr>\n",
       "      <th>2020</th>\n",
       "      <td>0.62</td>\n",
       "      <td>0.45</td>\n",
       "    </tr>\n",
       "    <tr>\n",
       "      <th>2021</th>\n",
       "      <td>0.65</td>\n",
       "      <td>0.45</td>\n",
       "    </tr>\n",
       "    <tr>\n",
       "      <th>2022</th>\n",
       "      <td>0.70</td>\n",
       "      <td>0.56</td>\n",
       "    </tr>\n",
       "    <tr>\n",
       "      <th>2023</th>\n",
       "      <td>0.73</td>\n",
       "      <td>0.66</td>\n",
       "    </tr>\n",
       "  </tbody>\n",
       "</table>\n",
       "<p>54 rows × 2 columns</p>\n",
       "</div>"
      ],
      "text/plain": [
       "      Growth SD  Growth SJ\n",
       "date                      \n",
       "1970       3.69       4.34\n",
       "1971       3.56       1.78\n",
       "1972       3.59       1.85\n",
       "1973       3.62       1.72\n",
       "1974       3.57       1.88\n",
       "...         ...        ...\n",
       "2019       0.59       0.39\n",
       "2020       0.62       0.45\n",
       "2021       0.65       0.45\n",
       "2022       0.70       0.56\n",
       "2023       0.73       0.66\n",
       "\n",
       "[54 rows x 2 columns]"
      ]
     },
     "execution_count": 20,
     "metadata": {},
     "output_type": "execute_result"
    }
   ],
   "source": [
    "growths = population.get(['Growth SD', 'Growth SJ'])\n",
    "growths"
   ]
  },
  {
   "cell_type": "code",
   "execution_count": 21,
   "metadata": {},
   "outputs": [
    {
     "data": {
      "image/png": "[encoded data removed]",
      "text/plain": [
       "<Figure size 640x480 with 1 Axes>"
      ]
     },
     "metadata": {},
     "output_type": "display_data"
    }
   ],
   "source": [
    "growths.plot(kind='line');"
   ]
  },
  {
   "cell_type": "markdown",
   "metadata": {
    "slideshow": {
     "slide_type": "slide"
    }
   },
   "source": [
    "### Para traçar vários gráficos de uma vez:\n",
    "* `.get` apenas as colunas que contêm informações relevantes para o seu gráfico.\n",
    "* Equivalentemente, `.drop` todas as colunas estranhas.\n",
    "* Especifique a coluna para o eixo $x$ (se não for o índice) em `.plot(x=column_name)`.\n",
    "* Omita o argumento `y`. Então **todas** as outras colunas serão plotadas em um eixo $y$ compartilhado.\n",
    "\n",
    "A mesma coisa funciona para `'barh'`, `'bar'` e `'hist'`, mas não para `'scatter'`."
   ]
  },
  {
   "cell_type": "markdown",
   "metadata": {
    "slideshow": {
     "slide_type": "slide"
    }
   },
   "source": [
    "### Novo conjunto de dados: alturas das crianças e de seus pais 👪 📏\n",
    "\n",
    "- Os dados abaixo foram coletados no final de 1800 por [Francis Galton](https://en.wikipedia.org/wiki/Francis_Galton).\n",
    "- Ele era eugenista e defensor do racismo científico, por isso coletou esses dados.\n",
    "- Hoje entendemos que a eugenia é imoral e que não há evidências científicas ou qualquer outra justificativa para o racismo.\n",
    "- Revisitaremos esse conjunto de dados posteriormente no curso.\n",
    "- Por enquanto, precisaremos apenas das colunas `'mother'` e `'childHeight'`."
   ]
  },
  {
   "cell_type": "code",
   "execution_count": 22,
   "metadata": {
    "slideshow": {
     "slide_type": "-"
    }
   },
   "outputs": [
    {
     "data": {
      "text/html": [
       "<div>\n",
       "<style scoped>\n",
       "    .dataframe tbody tr th:only-of-type {\n",
       "        vertical-align: middle;\n",
       "    }\n",
       "\n",
       "    .dataframe tbody tr th {\n",
       "        vertical-align: top;\n",
       "    }\n",
       "\n",
       "    .dataframe thead th {\n",
       "        text-align: right;\n",
       "    }\n",
       "</style>\n",
       "<table border=\"1\" class=\"dataframe\">\n",
       "  <thead>\n",
       "    <tr style=\"text-align: right;\">\n",
       "      <th></th>\n",
       "      <th>mother</th>\n",
       "      <th>childHeight</th>\n",
       "    </tr>\n",
       "  </thead>\n",
       "  <tbody>\n",
       "    <tr>\n",
       "      <th>0</th>\n",
       "      <td>67.0</td>\n",
       "      <td>73.2</td>\n",
       "    </tr>\n",
       "    <tr>\n",
       "      <th>1</th>\n",
       "      <td>67.0</td>\n",
       "      <td>69.2</td>\n",
       "    </tr>\n",
       "    <tr>\n",
       "      <th>2</th>\n",
       "      <td>67.0</td>\n",
       "      <td>69.0</td>\n",
       "    </tr>\n",
       "    <tr>\n",
       "      <th>3</th>\n",
       "      <td>67.0</td>\n",
       "      <td>69.0</td>\n",
       "    </tr>\n",
       "    <tr>\n",
       "      <th>4</th>\n",
       "      <td>66.5</td>\n",
       "      <td>73.5</td>\n",
       "    </tr>\n",
       "    <tr>\n",
       "      <th>...</th>\n",
       "      <td>...</td>\n",
       "      <td>...</td>\n",
       "    </tr>\n",
       "    <tr>\n",
       "      <th>929</th>\n",
       "      <td>66.0</td>\n",
       "      <td>64.0</td>\n",
       "    </tr>\n",
       "    <tr>\n",
       "      <th>930</th>\n",
       "      <td>66.0</td>\n",
       "      <td>62.0</td>\n",
       "    </tr>\n",
       "    <tr>\n",
       "      <th>931</th>\n",
       "      <td>66.0</td>\n",
       "      <td>61.0</td>\n",
       "    </tr>\n",
       "    <tr>\n",
       "      <th>932</th>\n",
       "      <td>63.0</td>\n",
       "      <td>66.5</td>\n",
       "    </tr>\n",
       "    <tr>\n",
       "      <th>933</th>\n",
       "      <td>63.0</td>\n",
       "      <td>57.0</td>\n",
       "    </tr>\n",
       "  </tbody>\n",
       "</table>\n",
       "<p>934 rows × 2 columns</p>\n",
       "</div>"
      ],
      "text/plain": [
       "     mother  childHeight\n",
       "0      67.0         73.2\n",
       "1      67.0         69.2\n",
       "2      67.0         69.0\n",
       "3      67.0         69.0\n",
       "4      66.5         73.5\n",
       "..      ...          ...\n",
       "929    66.0         64.0\n",
       "930    66.0         62.0\n",
       "931    66.0         61.0\n",
       "932    63.0         66.5\n",
       "933    63.0         57.0\n",
       "\n",
       "[934 rows x 2 columns]"
      ]
     },
     "execution_count": 22,
     "metadata": {},
     "output_type": "execute_result"
    }
   ],
   "source": [
    "mother_child = bpd.read_csv('data/galton.csv').get(['mother', 'childHeight'])\n",
    "mother_child"
   ]
  },
  {
   "cell_type": "markdown",
   "metadata": {
    "slideshow": {
     "slide_type": "slide"
    }
   },
   "source": [
    "### Plotando histogramas sobrepostos\n",
    "\n",
    "`alpha` controla o quão transparentes as barras são (`alpha=1` é opaco, `alpha=0` é transparente)."
   ]
  },
  {
   "cell_type": "code",
   "execution_count": 23,
   "metadata": {
    "scrolled": true
   },
   "outputs": [
    {
     "data": {
      "image/png": "[encoded data removed]",
      "text/plain": [
       "<Figure size 640x480 with 1 Axes>"
      ]
     },
     "metadata": {},
     "output_type": "display_data"
    }
   ],
   "source": [
    "height_bins = np.arange(55, 80, 2.5)\n",
    "mother_child.plot(kind='hist', density=True, ec='w',\n",
    "                  alpha=0.65, bins=height_bins);"
   ]
  },
  {
   "cell_type": "markdown",
   "metadata": {
    "slideshow": {
     "slide_type": "fragment"
    }
   },
   "source": [
    "Por que as crianças parecem muito mais altas que as mães?"
   ]
  },
  {
   "cell_type": "markdown",
   "metadata": {
    "slideshow": {
     "slide_type": "slide"
    }
   },
   "source": [
    "### Prática Extra\n",
    "\n",
    "Tente responder a estas perguntas com base no histograma sobreposto.\n",
    "\n",
    "1. Qual proporção de crianças tinha entre 70 e 75 polegadas de altura?\n",
    "\n",
    "2. Qual proporção de mães tinha entre 60 e 63 polegadas de altura?"
   ]
  },
  {
   "cell_type": "markdown",
   "metadata": {
    "slideshow": {
     "slide_type": "slide"
    }
   },
   "source": [
    "<h3>Respostas</h3>\n",
    "<details>\n",
    "<summary>Clique aqui para mostrar.</summary>\n",
    "\n",
    "<b>Pergunta 1</b>\n",
    "\n",
    "A altura da barra $[70, 72.5)$ é em torno de $0,08$, o que significa que $0,08 \\cdot 2,5 = 0,2$ de crianças tinham altura nesse intervalo. A altura da barra $[70, 72.5)$ é em torno de $0,02$, o que significa $0,02 \\cdot 2,5 = 0,05$ de crianças tinham altura nesse intervalo. Assim, a proporção geral de crianças que tinham entre $70$ e $75$ polegadas de altura era de cerca de $0,20 + 0,05 = 0,25$, ou $25\\%$.\n",
    "\n",
    "Para verificar nossa resposta, podemos executar\n",
    "\n",
    "<code>heights[(heights.get('childHeight') >= 70) & (heights.get('childHeight') < 75)].shape[0] / heights.shape[0]</code>\n",
    "\n",
    "<b>Pergunta 2</b>\n",
    "\n",
    "Não podemos dizer. Poderíamos tentar dividir na proporção de mães em $[60, 62.5)$ e $[60, 62.5)$, mas não sabemos o último. Na ausência de qualquer informação adicional, não podemos inferir sobre a distribuição de valores dentro de um compartimento. Por exemplo, pode ser que todos no intervalo $[60, 62.5)$ realmente caiam no intervalo $[60, 62.5)$ - ou pode ser que ninguém caia!\n",
    "\n",
    "</details>"
   ]
  },
  {
   "cell_type": "markdown",
   "metadata": {
    "slideshow": {
     "slide_type": "slide"
    }
   },
   "source": [
    "## Resumo, da próxima vez"
   ]
  },
  {
   "cell_type": "markdown",
   "metadata": {
    "slideshow": {
     "slide_type": "slide"
    }
   },
   "source": [
    "### Resumo\n",
    "\n",
    "- Histogramas (não gráficos de barras!) são usados ​​para exibir a distribuição de uma variável numérica.\n",
    "- Sempre usaremos histogramas de densidade.\n",
    "- Em histogramas de densidade, a área de uma barra representa a proporção (porcentagem) de valores dentro de seu compartimento.\n",
    "- A área total de todas as barras é 1 (100%).\n",
    "- Podemos sobrepor vários gráficos de linhas, gráficos de barras e histogramas uns sobre os outros para observar vários relacionamentos ou distribuições."
   ]
  },
  {
   "cell_type": "markdown",
   "metadata": {
    "slideshow": {
     "slide_type": "slide"
    }
   },
   "source": [
    "### Próxima vez\n",
    "\n",
    "- Escrevendo nossas próprias funções.\n",
    "- Aplicar funções aos dados num DataFrame."
   ]
  }
 ],
 "metadata": {
  "kernelspec": {
   "display_name": "Python 3 (ipykernel)",
   "language": "python",
   "name": "python3"
  },
  "language_info": {
   "codemirror_mode": {
    "name": "ipython",
    "version": 3
   },
   "file_extension": ".py",
   "mimetype": "text/x-python",
   "name": "python",
   "nbconvert_exporter": "python",
   "pygments_lexer": "ipython3",
   "version": "3.11.7"
  },
  "livereveal": {
   "scroll": true,
   "transition": "none"
  },
  "rise": {
   "enable_chalkboard": true
  }
 },
 "nbformat": 4,
 "nbformat_minor": 4
}
