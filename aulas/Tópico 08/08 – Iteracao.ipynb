{
 "cells": [
  {
   "cell_type": "markdown",
   "metadata": {},
   "source": [
    "# Tópico 8 – Iteração [<img src=\"images/colag_logo.svg\" style=\"float: right; vertical-align: middle; width: 42px; height: 42px;\">](https://colab.research.google.com/github/urielmoreirasilva/urielmoreirasilva.github.io/blob/main/aulas/T%C3%B3pico%2008/08%20%E2%80%93%20Iteracao.ipynb) [<img src=\"images/github_logo.svg\" style=\"float: right; margin-right: 12px; vertical-align: middle; width: 36px; height: 36px;\">](https://github.com/urielmoreirasilva/urielmoreirasilva.github.io/blob/main/aulas/T%C3%B3pico%2008/08%20%E2%80%93%20Iteracao.ipynb)\n",
    "\n",
    "Vamos aprender sobre os _laços_ (_loops_) em Python e um pouco sobre como gerar dados.\n",
    "\n",
    "### Resultados Esperados\n",
    "1. Entender como funcionam _loops_ do tipo `for`.\n",
    "1. Aprender um pouco sobre a geração de números aleatórios via `np.random`.\n",
    "\n",
    "### Referências\n",
    "- [CIT, Capítulo 9](https://inferentialthinking.com/)\n",
    "\n",
    "Material adaptado do [DSC10 (UCSD)](https://dsc10.com/) por [Flavio Figueiredo (DCC-UFMG)](https://flaviovdf.io/fcd/) e [Uriel Silva (DEST-UFMG)](https://urielmoreirasilva.github.io)"
   ]
  },
  {
   "cell_type": "code",
   "execution_count": 1,
   "metadata": {
    "slideshow": {
     "slide_type": "skip"
    }
   },
   "outputs": [],
   "source": [
    "# Importando BabyPandas e Numpy\n",
    "import babypandas as bpd\n",
    "import numpy as np"
   ]
  },
  {
   "cell_type": "markdown",
   "metadata": {
    "slideshow": {
     "slide_type": "slide"
    }
   },
   "source": [
    "## Booleanos"
   ]
  },
  {
   "cell_type": "markdown",
   "metadata": {
    "slideshow": {
     "slide_type": "slide"
    }
   },
   "source": [
    "### Recapitulação: Variáveis Booleanas\n",
    "\n",
    "- Quando comparamos dois valores, o resultado é sempre `True` ou `False`.\n",
    "- Observe que essas palavras não estão entre aspas!\n",
    "- `bool` é um tipo de dado em Python, assim como `int`, `float` e `str`.\n",
    "- O nome `bool` é um diminutivo de \"boolean\" (ou \"variável booleana\"), em homenagem a George Boole, um dos primeiros matemáticos e lógicos."
   ]
  },
  {
   "cell_type": "markdown",
   "metadata": {},
   "source": [
    "- Existem apenas dois valores booleanos possíveis: `True` ou `False`.\n",
    "- Esses valores possuem analogia direta com vários estados da natureza:\n",
    "    - Sim ou não;\n",
    "    - Ligado ou desligado;\n",
    "    - 1 ou 0."
   ]
  },
  {
   "cell_type": "markdown",
   "metadata": {},
   "source": [
    "- Existem vários tipos de _operadores de comparação_, e todos eles têm como resultado variáveis booleanas: \n",
    "\n",
    "|símbolo|significado|\n",
    "|--------|--------|\n",
    "|`==` |igual a |\n",
    "|`!=` |diferente de |\n",
    "|`<`|menos que|\n",
    "|`<=`|menor ou igual a|\n",
    "|`>`|maior que|\n",
    "|`>=`|maior ou igual a|\n"
   ]
  },
  {
   "cell_type": "code",
   "execution_count": 2,
   "metadata": {},
   "outputs": [],
   "source": [
    "# Lembre que \"=\" é um operador de atribuição, não de comparação!\n",
    "capstone = 'finished'\n",
    "units = 123"
   ]
  },
  {
   "cell_type": "code",
   "execution_count": 3,
   "metadata": {},
   "outputs": [
    {
     "data": {
      "text/plain": [
       "True"
      ]
     },
     "execution_count": 3,
     "metadata": {},
     "output_type": "execute_result"
    }
   ],
   "source": [
    "capstone == 'finished'"
   ]
  },
  {
   "cell_type": "code",
   "execution_count": 4,
   "metadata": {},
   "outputs": [
    {
     "data": {
      "text/plain": [
       "False"
      ]
     },
     "execution_count": 4,
     "metadata": {},
     "output_type": "execute_result"
    }
   ],
   "source": [
    "units >= 180"
   ]
  },
  {
   "cell_type": "code",
   "execution_count": 5,
   "metadata": {},
   "outputs": [
    {
     "data": {
      "text/plain": [
       "bool"
      ]
     },
     "execution_count": 5,
     "metadata": {},
     "output_type": "execute_result"
    }
   ],
   "source": [
    "type(units >= 180)"
   ]
  },
  {
   "cell_type": "markdown",
   "metadata": {
    "slideshow": {
     "slide_type": "slide"
    }
   },
   "source": [
    "### Operadores booleanos\n",
    "\n",
    "Existem três operadores que nos permitem realizar aritmética com booleanos: `not`, `and` e `or`."
   ]
  },
  {
   "cell_type": "markdown",
   "metadata": {
    "slideshow": {
     "slide_type": "fragment"
    }
   },
   "source": [
    "#### Operador `not`\n",
    "\n",
    "O operador `not` faz com que `True` $\\longrightarrow$ `False`."
   ]
  },
  {
   "cell_type": "code",
   "execution_count": 6,
   "metadata": {},
   "outputs": [
    {
     "data": {
      "text/plain": [
       "'finished'"
      ]
     },
     "execution_count": 6,
     "metadata": {},
     "output_type": "execute_result"
    }
   ],
   "source": [
    "capstone"
   ]
  },
  {
   "cell_type": "code",
   "execution_count": 7,
   "metadata": {},
   "outputs": [
    {
     "data": {
      "text/plain": [
       "True"
      ]
     },
     "execution_count": 7,
     "metadata": {},
     "output_type": "execute_result"
    }
   ],
   "source": [
    "capstone == 'finished'"
   ]
  },
  {
   "cell_type": "code",
   "execution_count": 8,
   "metadata": {},
   "outputs": [
    {
     "data": {
      "text/plain": [
       "False"
      ]
     },
     "execution_count": 8,
     "metadata": {},
     "output_type": "execute_result"
    }
   ],
   "source": [
    "not capstone == 'finished'"
   ]
  },
  {
   "cell_type": "markdown",
   "metadata": {
    "slideshow": {
     "slide_type": "slide"
    }
   },
   "source": [
    "#### Operador `and`\n",
    "\n",
    "O operador `and` opera entre dois `bool`s. É `True` se **ambos** forem `True`, e `False` se **ambos** forem `False`."
   ]
  },
  {
   "cell_type": "code",
   "execution_count": 9,
   "metadata": {},
   "outputs": [
    {
     "data": {
      "text/plain": [
       "'finished'"
      ]
     },
     "execution_count": 9,
     "metadata": {},
     "output_type": "execute_result"
    }
   ],
   "source": [
    "capstone"
   ]
  },
  {
   "cell_type": "code",
   "execution_count": 10,
   "metadata": {},
   "outputs": [
    {
     "data": {
      "text/plain": [
       "123"
      ]
     },
     "execution_count": 10,
     "metadata": {},
     "output_type": "execute_result"
    }
   ],
   "source": [
    "units"
   ]
  },
  {
   "cell_type": "code",
   "execution_count": 11,
   "metadata": {},
   "outputs": [
    {
     "data": {
      "text/plain": [
       "False"
      ]
     },
     "execution_count": 11,
     "metadata": {},
     "output_type": "execute_result"
    }
   ],
   "source": [
    "capstone == 'finished' and units >= 180"
   ]
  },
  {
   "cell_type": "code",
   "execution_count": 12,
   "metadata": {},
   "outputs": [
    {
     "data": {
      "text/plain": [
       "True"
      ]
     },
     "execution_count": 12,
     "metadata": {},
     "output_type": "execute_result"
    }
   ],
   "source": [
    "capstone == 'finished' and units >= 120"
   ]
  },
  {
   "cell_type": "markdown",
   "metadata": {
    "slideshow": {
     "slide_type": "slide"
    }
   },
   "source": [
    "#### Operador `or`\n",
    "\n",
    "O operador `or` opera entre dois `bool`s. É `True` se **pelo menos um** dos `bools` for `True`, e `False` apenas **ambos** se forem `False`."
   ]
  },
  {
   "cell_type": "code",
   "execution_count": 13,
   "metadata": {},
   "outputs": [
    {
     "data": {
      "text/plain": [
       "'finished'"
      ]
     },
     "execution_count": 13,
     "metadata": {},
     "output_type": "execute_result"
    }
   ],
   "source": [
    "capstone"
   ]
  },
  {
   "cell_type": "code",
   "execution_count": 14,
   "metadata": {},
   "outputs": [
    {
     "data": {
      "text/plain": [
       "123"
      ]
     },
     "execution_count": 14,
     "metadata": {},
     "output_type": "execute_result"
    }
   ],
   "source": [
    "units"
   ]
  },
  {
   "cell_type": "code",
   "execution_count": 15,
   "metadata": {},
   "outputs": [
    {
     "data": {
      "text/plain": [
       "True"
      ]
     },
     "execution_count": 15,
     "metadata": {},
     "output_type": "execute_result"
    }
   ],
   "source": [
    "capstone == 'finished' or units >= 180"
   ]
  },
  {
   "cell_type": "code",
   "execution_count": 16,
   "metadata": {},
   "outputs": [
    {
     "data": {
      "text/plain": [
       "True"
      ]
     },
     "execution_count": 16,
     "metadata": {},
     "output_type": "execute_result"
    }
   ],
   "source": [
    "# Ambos são `True`!\n",
    "capstone == 'finished' or units >= 0"
   ]
  },
  {
   "cell_type": "code",
   "execution_count": 17,
   "metadata": {},
   "outputs": [
    {
     "data": {
      "text/plain": [
       "False"
      ]
     },
     "execution_count": 17,
     "metadata": {},
     "output_type": "execute_result"
    }
   ],
   "source": [
    "# Ambos são `False`!\n",
    "capstone == 'not started' or units >= 180"
   ]
  },
  {
   "cell_type": "markdown",
   "metadata": {
    "slideshow": {
     "slide_type": "slide"
    }
   },
   "source": [
    "### Ordem das operações para operadores booleanos\n",
    "\n",
    "- O padrão do Python é que a ordem das operações com boolenas seja: `not`, `and` e `or`.\n",
    "- Você pode consultar a _precedência_ de todos os operadores em Python [aqui](https://www.programiz.com/python-programming/precedence-associativity).\n",
    "\n",
    "Como comentamos anteriormente, é sempre uma boa prática utilizar parênteses `( )` para tornar a sintaxe mais clara."
   ]
  },
  {
   "cell_type": "code",
   "execution_count": 18,
   "metadata": {},
   "outputs": [
    {
     "data": {
      "text/plain": [
       "'finished'"
      ]
     },
     "execution_count": 18,
     "metadata": {},
     "output_type": "execute_result"
    }
   ],
   "source": [
    "capstone"
   ]
  },
  {
   "cell_type": "code",
   "execution_count": 19,
   "metadata": {},
   "outputs": [
    {
     "data": {
      "text/plain": [
       "123"
      ]
     },
     "execution_count": 19,
     "metadata": {},
     "output_type": "execute_result"
    }
   ],
   "source": [
    "units"
   ]
  },
  {
   "cell_type": "code",
   "execution_count": 20,
   "metadata": {},
   "outputs": [
    {
     "data": {
      "text/plain": [
       "True"
      ]
     },
     "execution_count": 20,
     "metadata": {},
     "output_type": "execute_result"
    }
   ],
   "source": [
    "capstone == 'finished' or (capstone == 'in progress' and units >= 180)"
   ]
  },
  {
   "cell_type": "code",
   "execution_count": 21,
   "metadata": {},
   "outputs": [
    {
     "data": {
      "text/plain": [
       "False"
      ]
     },
     "execution_count": 21,
     "metadata": {},
     "output_type": "execute_result"
    }
   ],
   "source": [
    "# Note a diferença do resultado acima!\n",
    "(capstone == 'finished' or capstone == 'in progress') and units >= 180"
   ]
  },
  {
   "cell_type": "code",
   "execution_count": 22,
   "metadata": {},
   "outputs": [
    {
     "data": {
      "text/plain": [
       "True"
      ]
     },
     "execution_count": 22,
     "metadata": {},
     "output_type": "execute_result"
    }
   ],
   "source": [
    "# Sem os parênteses, o operador `and` tem precedência sobre `or`\n",
    "capstone == 'finished' or capstone == 'in progress' and units >= 180"
   ]
  },
  {
   "cell_type": "markdown",
   "metadata": {
    "slideshow": {
     "slide_type": "slide"
    }
   },
   "source": [
    "### Operações com Booleanos podem ser complicadas!\n",
    "\n",
    "- Tecnicamente, os operadores booleanos são operadores da _Teoria de Conjuntos_.\n",
    "- Apesar de aparentemente elementares, operações sobre conjuntos podem se tornar complexas muito rapidamente: por exemplo, `not (a and b)` é **diferente** de `not a and not b`!\n",
    "- Para mais detalhes, veja mais sobre as [Leis de De Morgan](https://blog.penjee.com/what-is-demorgans-law-in-programming-answered-with-pics/)."
   ]
  },
  {
   "cell_type": "code",
   "execution_count": 23,
   "metadata": {},
   "outputs": [
    {
     "data": {
      "text/plain": [
       "'finished'"
      ]
     },
     "execution_count": 23,
     "metadata": {},
     "output_type": "execute_result"
    }
   ],
   "source": [
    "capstone"
   ]
  },
  {
   "cell_type": "code",
   "execution_count": 24,
   "metadata": {},
   "outputs": [
    {
     "data": {
      "text/plain": [
       "123"
      ]
     },
     "execution_count": 24,
     "metadata": {},
     "output_type": "execute_result"
    }
   ],
   "source": [
    "units"
   ]
  },
  {
   "cell_type": "code",
   "execution_count": 25,
   "metadata": {},
   "outputs": [
    {
     "data": {
      "text/plain": [
       "True"
      ]
     },
     "execution_count": 25,
     "metadata": {},
     "output_type": "execute_result"
    }
   ],
   "source": [
    "not (capstone == 'finished' and units >= 180)"
   ]
  },
  {
   "cell_type": "code",
   "execution_count": 26,
   "metadata": {},
   "outputs": [
    {
     "data": {
      "text/plain": [
       "False"
      ]
     },
     "execution_count": 26,
     "metadata": {},
     "output_type": "execute_result"
    }
   ],
   "source": [
    "(not capstone == 'finished') and (not units >= 180)"
   ]
  },
  {
   "cell_type": "markdown",
   "metadata": {
    "slideshow": {
     "slide_type": "slide"
    }
   },
   "source": [
    "### Nota: `&` e `|` vs. `and` e `or`"
   ]
  },
  {
   "cell_type": "markdown",
   "metadata": {
    "slideshow": {
     "slide_type": "fragment"
    }
   },
   "source": [
    "- Nesse curso, utilizamos os operadores `&` e `|` entre duas `Series`.\n",
    "- A aritmética desses operadores será então feita elemento-a-elemento, isto é, separadamente para cada linha da `Series`.\n",
    "\n",
    "A utilização desses operadores é especialmente relevante ao realizarmos consultas em um `DataFrame`, como por exemplo `df[(df.get('capstone') == 'concluído') & (df.get('units') >= 180)]`."
   ]
  },
  {
   "cell_type": "markdown",
   "metadata": {
    "slideshow": {
     "slide_type": "fragment"
    }
   },
   "source": [
    "- Em geral, os operadores `and` e `or` operam entre dois booleanos **individuais**.\n",
    "\n",
    "Uma instância desse uso no exemplo acima é avaliar `capstone == 'finished' and units >= 180`."
   ]
  },
  {
   "cell_type": "markdown",
   "metadata": {
    "slideshow": {
     "slide_type": "slide"
    }
   },
   "source": [
    "### Exercício ✅\n",
    "\n",
    "Suponha que tenhamos `a = True` e `b = True`. Qual é o valor da expressão a seguir?\n",
    "\n",
    "```py\n",
    "not (((not a) and b) or ((not b) or a))\n",
    "```\n",
    "\n",
    "A. `True`\n",
    "\n",
    "B. `False`\n",
    "\n",
    "C. Nenhuma das anteriores.\n",
    "\n",
    "D. Ambas A. e B. estão corretas."
   ]
  },
  {
   "cell_type": "markdown",
   "metadata": {
    "slideshow": {
     "slide_type": "slide"
    }
   },
   "source": [
    "### O operador `in`\n",
    "\n",
    "Além das comparações detalhadas acima, frequentemente estamos interessados em verificar se um elemento específico está em uma `List`/`array` ou se uma **substring** específica pertence à uma string maior. \n",
    "\n",
    "Nesses casos, podemos utilizar o operador `in`:"
   ]
  },
  {
   "cell_type": "code",
   "execution_count": 27,
   "metadata": {},
   "outputs": [
    {
     "data": {
      "text/plain": [
       "True"
      ]
     },
     "execution_count": 27,
     "metadata": {},
     "output_type": "execute_result"
    }
   ],
   "source": [
    "3 in [1, 2, 3]"
   ]
  },
  {
   "cell_type": "code",
   "execution_count": 28,
   "metadata": {},
   "outputs": [
    {
     "data": {
      "text/plain": [
       "True"
      ]
     },
     "execution_count": 28,
     "metadata": {},
     "output_type": "execute_result"
    }
   ],
   "source": [
    "'hey' in 'hey my name is'"
   ]
  },
  {
   "cell_type": "code",
   "execution_count": 29,
   "metadata": {},
   "outputs": [
    {
     "data": {
      "text/plain": [
       "False"
      ]
     },
     "execution_count": 29,
     "metadata": {},
     "output_type": "execute_result"
    }
   ],
   "source": [
    "'dog' in 'hey my name is'"
   ]
  },
  {
   "cell_type": "markdown",
   "metadata": {
    "slideshow": {
     "slide_type": "slide"
    }
   },
   "source": [
    "## Estruturas condicionais"
   ]
  },
  {
   "cell_type": "markdown",
   "metadata": {
    "slideshow": {
     "slide_type": "slide"
    }
   },
   "source": [
    "### instruções `if`\n",
    "\n",
    "- Frequentemente, desejamos executar um bloco de código apenas se uma expressão condicional específica for igual `True`.\n",
    "- A sintaxe para isso é a seguinte (_não se esqueça dos dois pontos!_):\n",
    "\n",
    "\n",
    "```py\n",
    "if <condition>:\n",
    "    <body>\n",
    "```\n",
    "\n",
    "Nota: o espaçamento no Python é muito importante, então o **recuo extra** no código acima deve ser sempre respeitado!"
   ]
  },
  {
   "cell_type": "code",
   "execution_count": 30,
   "metadata": {},
   "outputs": [
    {
     "data": {
      "text/plain": [
       "'finished'"
      ]
     },
     "execution_count": 30,
     "metadata": {},
     "output_type": "execute_result"
    }
   ],
   "source": [
    "capstone = 'finished'\n",
    "capstone"
   ]
  },
  {
   "cell_type": "code",
   "execution_count": 31,
   "metadata": {},
   "outputs": [
    {
     "name": "stdout",
     "output_type": "stream",
     "text": [
      "Looks like you are ready to graduate!\n"
     ]
    }
   ],
   "source": [
    "if capstone == 'finished':\n",
    "    print('Looks like you are ready to graduate!')"
   ]
  },
  {
   "cell_type": "markdown",
   "metadata": {
    "slideshow": {
     "slide_type": "slide"
    }
   },
   "source": [
    "### instruções `else`\n",
    "\n",
    "- Instruções do tipo `else` acompanham instruções do tipo `if`.\n",
    "- O `else` especifica o que fazer caso a condição especificada no `if` for igual a `False`."
   ]
  },
  {
   "cell_type": "code",
   "execution_count": 32,
   "metadata": {},
   "outputs": [
    {
     "data": {
      "text/plain": [
       "'finished'"
      ]
     },
     "execution_count": 32,
     "metadata": {},
     "output_type": "execute_result"
    }
   ],
   "source": [
    "capstone = 'finished'\n",
    "capstone"
   ]
  },
  {
   "cell_type": "code",
   "execution_count": 33,
   "metadata": {},
   "outputs": [
    {
     "name": "stdout",
     "output_type": "stream",
     "text": [
      "Looks like you are ready to graduate!\n"
     ]
    }
   ],
   "source": [
    "if capstone == 'finished':\n",
    "    print('Looks like you are ready to graduate!')\n",
    "else:\n",
    "    print('Before you graduate, you need to finish your capstone project.')"
   ]
  },
  {
   "cell_type": "code",
   "execution_count": 34,
   "metadata": {},
   "outputs": [
    {
     "data": {
      "text/plain": [
       "'unfinished'"
      ]
     },
     "execution_count": 34,
     "metadata": {},
     "output_type": "execute_result"
    }
   ],
   "source": [
    "capstone_2 = 'unfinished'\n",
    "capstone_2"
   ]
  },
  {
   "cell_type": "code",
   "execution_count": 35,
   "metadata": {},
   "outputs": [
    {
     "name": "stdout",
     "output_type": "stream",
     "text": [
      "Before you graduate, you need to finish your capstone project.\n"
     ]
    }
   ],
   "source": [
    "if capstone_2 == 'finished':\n",
    "    print('Looks like you are ready to graduate!')\n",
    "else:\n",
    "    print('Before you graduate, you need to finish your capstone project.')"
   ]
  },
  {
   "cell_type": "markdown",
   "metadata": {
    "slideshow": {
     "slide_type": "slide"
    }
   },
   "source": [
    "### instruções `elif`\n",
    "\n",
    "- Quando quisermos verificar mais de uma condição alternativa (isto é, mais de uma condição quando `if` == `False`), utilizamos instruções do tipo `elif`..\n",
    "- Em essência, `elif` verifica a próxima condição se a condição especificada for `False`.\n",
    "- A vantagem de utilizarmos o `elif` é que podemos assim avaliar várias condições em sequência, até uma delas resultar em `True`. \n",
    "- Ao final do `elif`, se nenhuma das condições for `True`, o `else` é executado (assumindo que o mesmo exista)."
   ]
  },
  {
   "cell_type": "code",
   "execution_count": 36,
   "metadata": {},
   "outputs": [],
   "source": [
    "capstone = 'in progress'\n",
    "units = 123"
   ]
  },
  {
   "cell_type": "code",
   "execution_count": 37,
   "metadata": {},
   "outputs": [
    {
     "name": "stdout",
     "output_type": "stream",
     "text": [
      "Before you graduate, you need to finish your capstone project and take 57 more units.\n"
     ]
    }
   ],
   "source": [
    "if capstone == 'finished' and units >= 180:\n",
    "    print('Looks like you are ready to graduate!')\n",
    "elif capstone != 'finished' and units < 180:\n",
    "    print('Before you graduate, you need to finish your capstone project and take', 180 - units, 'more units.')\n",
    "elif units >= 180:\n",
    "    print('Before you graduate, you need to finish your capstone project.')\n",
    "else:\n",
    "    print('Before you graduate, you need to take', 180 - units, 'more units.')"
   ]
  },
  {
   "cell_type": "markdown",
   "metadata": {
    "slideshow": {
     "slide_type": "slide"
    }
   },
   "source": [
    "### Exercício ✅\n",
    "\n",
    "Utilizando as estruturas condicionais, complete a definição da função `grade_converter` abaixo, que recebe uma nota em 100 (`grade`) e retorna o conceito correspondente (de `A` a `B`), conforme a seguinte tabela:\n",
    "\n",
    "| Carta | Alcance |\n",
    "| --- | --- |\n",
    "| Um | [90, 100] |\n",
    "| B | [80, 90) |\n",
    "| C | [70, 80) |\n",
    "| D | [60, 70) |\n",
    "| F | [0, 60)"
   ]
  },
  {
   "cell_type": "code",
   "execution_count": 38,
   "metadata": {},
   "outputs": [],
   "source": [
    "def grade_converter(grade):\n",
    "    ..."
   ]
  },
  {
   "cell_type": "code",
   "execution_count": 39,
   "metadata": {},
   "outputs": [],
   "source": [
    "# O resultado dessa chamada deve ser igual a 'B'\n",
    "grade_converter(84)"
   ]
  },
  {
   "cell_type": "code",
   "execution_count": 40,
   "metadata": {},
   "outputs": [],
   "source": [
    "# O resultado dessa chamada deve ser igual a 'D'\n",
    "grade_converter(60)"
   ]
  },
  {
   "cell_type": "markdown",
   "metadata": {
    "slideshow": {
     "slide_type": "slide"
    }
   },
   "source": [
    "### Exercício ✅\n",
    "\n",
    "Suponha que tenhamos definido uma função `mystery` através das seguintes estruturas condicionais:\n",
    "\n",
    "```py\n",
    "\n",
    "def mystery(a, b):\n",
    "    if (a + b > 4) and (b > 0):\n",
    "        return 'bear'\n",
    "    elif (a * b >= 4) or (b < 0):\n",
    "        return 'triton'\n",
    "    else:\n",
    "        return 'bruin'\n",
    "```\n",
    "\n",
    "Sem executar nenhum código, responda:\n",
    "1. O que `mystery(2, 2)` retorna?\n",
    "1. Encontre entradas `a` e `b` tais que uma `mystery(a, b)` retorne `'bruin'`."
   ]
  },
  {
   "cell_type": "markdown",
   "metadata": {
    "slideshow": {
     "slide_type": "slide"
    }
   },
   "source": [
    "## Iteração"
   ]
  },
  {
   "cell_type": "markdown",
   "metadata": {
    "slideshow": {
     "slide_type": "slide"
    }
   },
   "source": [
    "![](images/iteration.png)"
   ]
  },
  {
   "cell_type": "markdown",
   "metadata": {
    "slideshow": {
     "slide_type": "slide"
    }
   },
   "source": [
    "### loops `for`"
   ]
  },
  {
   "cell_type": "code",
   "execution_count": 41,
   "metadata": {},
   "outputs": [
    {
     "name": "stdout",
     "output_type": "stream",
     "text": [
      "Launching in...\n",
      "t-minus 10\n",
      "t-minus 9\n",
      "t-minus 8\n",
      "t-minus 7\n",
      "t-minus 6\n",
      "t-minus 5\n",
      "t-minus 4\n",
      "t-minus 3\n",
      "t-minus 2\n",
      "t-minus 1\n",
      "Blast off! 🚀\n"
     ]
    }
   ],
   "source": [
    "import time\n",
    "\n",
    "print('Launching in...')\n",
    "\n",
    "for x in [10, 9, 8, 7, 6, 5, 4, 3, 2, 1]:\n",
    "    print('t-minus', x)\n",
    "    time.sleep(0.5) # Pauses for half a second\n",
    "    \n",
    "print('Blast off! 🚀')"
   ]
  },
  {
   "cell_type": "markdown",
   "metadata": {
    "slideshow": {
     "slide_type": "slide"
    }
   },
   "source": [
    "### `for`\n",
    "\n",
    "- Os _loops_ nos permitem repetir a execução de alguma parte do nosso código.\n",
    "- Existem dois tipos de loops em Python; o loop `for` é um deles."
   ]
  },
  {
   "cell_type": "markdown",
   "metadata": {},
   "source": [
    "- A sintaxe de um loop `for` é a seguinte:\n",
    "```py\n",
    "for <element> in <sequence>:\n",
    "    <for body>\n",
    "```\n",
    "\n",
    "Podemos ler os comandos acima informalmente como: \"para cada \\<elemento> da <sequência>, execute esse <código>\"."
   ]
  },
  {
   "cell_type": "markdown",
   "metadata": {},
   "source": [
    "- Nota: listas, arrays e strings são exemplos importantes de sequências!\n",
    "- Observe que, assim como nas instruções `if`, o recuo aqui é importante!"
   ]
  },
  {
   "cell_type": "markdown",
   "metadata": {
    "slideshow": {
     "slide_type": "slide"
    }
   },
   "source": [
    "### Exemplo: Quadrados de números inteiros"
   ]
  },
  {
   "cell_type": "code",
   "execution_count": 42,
   "metadata": {},
   "outputs": [
    {
     "name": "stdout",
     "output_type": "stream",
     "text": [
      "4 squared is 16\n",
      "2 squared is 4\n",
      "1 squared is 1\n",
      "3 squared is 9\n"
     ]
    }
   ],
   "source": [
    "num = 4\n",
    "print(num, 'squared is', num ** 2)\n",
    "\n",
    "num = 2\n",
    "print(num, 'squared is', num ** 2)\n",
    "\n",
    "num = 1\n",
    "print(num, 'squared is', num ** 2)\n",
    "\n",
    "num = 3\n",
    "print(num, 'squared is', num ** 2)"
   ]
  },
  {
   "cell_type": "code",
   "execution_count": 43,
   "metadata": {
    "slideshow": {
     "slide_type": "fragment"
    }
   },
   "outputs": [
    {
     "name": "stdout",
     "output_type": "stream",
     "text": [
      "4 squared is 16\n",
      "2 squared is 4\n",
      "1 squared is 1\n",
      "3 squared is 9\n"
     ]
    }
   ],
   "source": [
    "# A sequência utilizada para o loop não precisa necessariamente ser ordenada!\n",
    "list_of_numbers = [4, 2, 1, 3]\n",
    "\n",
    "for num in list_of_numbers:\n",
    "    print(num, 'squared is', num ** 2)"
   ]
  },
  {
   "cell_type": "markdown",
   "metadata": {
    "slideshow": {
     "slide_type": "fragment"
    }
   },
   "source": [
    "No código acima, a linha `print(num, 'squared is', num ** 2)` é executada quatro vezes:\n",
    "- Na primeira iteração, `num` = 4.\n",
    "- Na segunda iteração, `num` = 2.\n",
    "- Na terceira iteração, `num` = 1.\n",
    "- Na quarta iteração, `num` = 3.\n",
    "\n",
    "Note que em lugar algum declaramos atribuímos `num` a nenhum desses elementos com `num =`!"
   ]
  },
  {
   "cell_type": "markdown",
   "metadata": {
    "slideshow": {
     "slide_type": "slide"
    }
   },
   "source": [
    "### Exercício ✅\n",
    "\n",
    "Usando o array `colleges` definido abaixo, escreva um loop `for` que imprima:\n",
    "\n",
    "```\n",
    "Revelle College\n",
    "John Muir College\n",
    "Thurgood Marshall College\n",
    "Earl Warren College\n",
    "Eleanor Roosevelt College\n",
    "Sixth College\n",
    "Seventh College\n",
    "```"
   ]
  },
  {
   "cell_type": "code",
   "execution_count": 44,
   "metadata": {},
   "outputs": [],
   "source": [
    "colleges = np.array(['Revelle', 'John Muir', 'Thurgood Marshall', \n",
    "            'Earl Warren', 'Eleanor Roosevelt', 'Sixth', 'Seventh'])"
   ]
  },
  {
   "cell_type": "code",
   "execution_count": 45,
   "metadata": {},
   "outputs": [
    {
     "data": {
      "text/plain": [
       "Ellipsis"
      ]
     },
     "execution_count": 45,
     "metadata": {},
     "output_type": "execute_result"
    }
   ],
   "source": [
    "..."
   ]
  },
  {
   "cell_type": "markdown",
   "metadata": {
    "slideshow": {
     "slide_type": "slide"
    }
   },
   "source": [
    "### Ranges\n",
    "\n",
    "- Recordemos aqui que cada elemento de uma lista/array possui uma posição numérica.\n",
    "    - A posição do primeiro elemento é 0, a posição do segundo elemento é 1, etc.\n",
    "- Dessa forma, podemos escrever um loop `for` que acessa cada elemento em um array, de acordo com sua posição.\n",
    "- Nesses casos, o método `np.arange` costuma ser bem útil!"
   ]
  },
  {
   "cell_type": "markdown",
   "metadata": {},
   "source": [
    "#### Exemplo: atividades e sentimentos"
   ]
  },
  {
   "cell_type": "code",
   "execution_count": 46,
   "metadata": {},
   "outputs": [],
   "source": [
    "actions = np.array(['ate', 'slept', 'exercised'])\n",
    "feelings = np.array(['content 🙂', 'energized 😃', 'exhausted 😩'])"
   ]
  },
  {
   "cell_type": "code",
   "execution_count": 47,
   "metadata": {},
   "outputs": [
    {
     "data": {
      "text/plain": [
       "3"
      ]
     },
     "execution_count": 47,
     "metadata": {},
     "output_type": "execute_result"
    }
   ],
   "source": [
    "len(actions)"
   ]
  },
  {
   "cell_type": "code",
   "execution_count": 48,
   "metadata": {},
   "outputs": [
    {
     "name": "stdout",
     "output_type": "stream",
     "text": [
      "0\n",
      "1\n",
      "2\n"
     ]
    }
   ],
   "source": [
    "for i in np.arange(len(actions)):\n",
    "    print(i)"
   ]
  },
  {
   "cell_type": "code",
   "execution_count": 49,
   "metadata": {},
   "outputs": [
    {
     "name": "stdout",
     "output_type": "stream",
     "text": [
      "I ate and I felt content 🙂\n",
      "I slept and I felt energized 😃\n",
      "I exercised and I felt exhausted 😩\n"
     ]
    }
   ],
   "source": [
    "for i in np.arange(len(actions)):\n",
    "    print('I', actions[i], 'and I felt', feelings[i])"
   ]
  },
  {
   "cell_type": "markdown",
   "metadata": {
    "slideshow": {
     "slide_type": "slide"
    }
   },
   "source": [
    "#### Exemplo: Cachinhos Dourados e os Três Ursos"
   ]
  },
  {
   "cell_type": "code",
   "execution_count": 50,
   "metadata": {},
   "outputs": [
    {
     "name": "stdout",
     "output_type": "stream",
     "text": [
      "🐻\n",
      "🐻\n",
      "🐻\n",
      "👧🏼\n"
     ]
    }
   ],
   "source": [
    "# Em alguns casos, nem precisamos usar a variável do loop!    \n",
    "for i in np.arange(3):\n",
    "    print('🐻')\n",
    "print('👧🏼')"
   ]
  },
  {
   "cell_type": "markdown",
   "metadata": {
    "slideshow": {
     "slide_type": "slide"
    }
   },
   "source": [
    "### Randomização e iteração\n",
    "\n",
    "- Nos próximos tópicos, aprenderemos a **simular** eventos aleatórios, como por exemplo jogar uma moeda."
   ]
  },
  {
   "cell_type": "markdown",
   "metadata": {
    "slideshow": {
     "slide_type": "fragment"
    }
   },
   "source": [
    "- Para simular um ou mais eventos, frequentemente iremos: \n",
    "    1. Executar um experimento, como por exemplo \"jogue 10 moedas\";\n",
    "    1. Anotar algum resultado associado ao experimento, como por exemplo \"número de caras\":\n",
    "    1. Repetir as etapas 1 e 2 muitas e muitas vezes utilizando um loop `for`."
   ]
  },
  {
   "cell_type": "markdown",
   "metadata": {
    "slideshow": {
     "slide_type": "slide"
    }
   },
   "source": [
    "### Armazenando os resultados de um loop\n",
    "\n",
    "- Para armazenar nossos resultados, normalmente utilizaremos uma variável numérica, ou um array.\n",
    "    - Quando o resultado for uma variável numérica, definimos uma variável (geralmente um `int = 0`) antes do loop, e então utilizamos o operador `+` para somá-la recursivamente dentro do loop.\n",
    "    - Quando o resultado for um array, criamos um array (geralmente vazio) antes do loop, e então então utilizamos `np.append` para acrescentar elementos à esse array dentro do loop.\n"
   ]
  },
  {
   "cell_type": "markdown",
   "metadata": {
    "slideshow": {
     "slide_type": "slide"
    }
   },
   "source": [
    "\n",
    "![](https://raw.githubusercontent.com/flaviovdf/fcd/master/assets/10-Iteracao/images/append.jpg)\n"
   ]
  },
  {
   "cell_type": "markdown",
   "metadata": {
    "slideshow": {
     "slide_type": "slide"
    }
   },
   "source": [
    "### `np.append`\n",
    "\n",
    "- Esta função recebe duas entradas:\n",
    "    - um array;\n",
    "    - um elemento para adicionar ao final desse array."
   ]
  },
  {
   "cell_type": "markdown",
   "metadata": {},
   "source": [
    "- Seguindo o padrão usual, `np.append` retorna um novo array, e não modifica o array existente (a menos que uma nova atribuição for feita).\n",
    "- Normalmente utilizamos o `np.append` dentro de um loop `for` da seguinte forma: a cada iteração, invocamos `nome_do_array = np.append(nome_do_array, element_to_add)`, e o array cresce em uma linha.\n",
    "\n",
    "⚠️ Nota: lembre-se sempre de **realizar corretamente a atribuição e armazenar o resultado!**"
   ]
  },
  {
   "cell_type": "code",
   "execution_count": 51,
   "metadata": {},
   "outputs": [],
   "source": [
    "some_array = np.array([])"
   ]
  },
  {
   "cell_type": "code",
   "execution_count": 52,
   "metadata": {},
   "outputs": [
    {
     "data": {
      "text/plain": [
       "array(['hello'], dtype='<U32')"
      ]
     },
     "execution_count": 52,
     "metadata": {},
     "output_type": "execute_result"
    }
   ],
   "source": [
    "np.append(some_array, 'hello')"
   ]
  },
  {
   "cell_type": "code",
   "execution_count": 53,
   "metadata": {},
   "outputs": [
    {
     "data": {
      "text/plain": [
       "array([], dtype=float64)"
      ]
     },
     "execution_count": 53,
     "metadata": {},
     "output_type": "execute_result"
    }
   ],
   "source": [
    "some_array"
   ]
  },
  {
   "cell_type": "code",
   "execution_count": 54,
   "metadata": {},
   "outputs": [
    {
     "data": {
      "text/plain": [
       "array(['hello'], dtype='<U32')"
      ]
     },
     "execution_count": 54,
     "metadata": {},
     "output_type": "execute_result"
    }
   ],
   "source": [
    "# É necessário re-atribuir ou \"salvar\" o new array!\n",
    "some_array = np.append(some_array, 'hello')\n",
    "some_array"
   ]
  },
  {
   "cell_type": "code",
   "execution_count": 55,
   "metadata": {},
   "outputs": [
    {
     "data": {
      "text/plain": [
       "array(['hello', 'there'], dtype='<U32')"
      ]
     },
     "execution_count": 55,
     "metadata": {},
     "output_type": "execute_result"
    }
   ],
   "source": [
    "some_array = np.append(some_array, 'there')\n",
    "some_array"
   ]
  },
  {
   "cell_type": "markdown",
   "metadata": {
    "slideshow": {
     "slide_type": "slide"
    }
   },
   "source": [
    "#### Exemplo: lançamento de uma moeda\n",
    "\n",
    "- Definimos abaixo uma função `flip(n)`, que simula o lançamento de `n` moedas justas (isto é, com probabilidade de caras e coroas igual a 50%) e retorna o número de caras observadas.\n",
    "\n",
    "(Explicaremos os detalhes técnicos dessa construção mais adiante)."
   ]
  },
  {
   "cell_type": "code",
   "execution_count": 56,
   "metadata": {},
   "outputs": [],
   "source": [
    "def flip(n):\n",
    "    '''Returns the number of heads in n simulated coin flips, using randomness.'''\n",
    "    return np.random.multinomial(n, [0.5, 0.5])[0]"
   ]
  },
  {
   "cell_type": "code",
   "execution_count": 57,
   "metadata": {},
   "outputs": [
    {
     "data": {
      "text/plain": [
       "6"
      ]
     },
     "execution_count": 57,
     "metadata": {},
     "output_type": "execute_result"
    }
   ],
   "source": [
    "# Execute essa célula mais de uma vez: você vai ver resultados diferentes à cada execução!\n",
    "# (esse comportamento é intencional)\n",
    "flip(10)"
   ]
  },
  {
   "cell_type": "markdown",
   "metadata": {
    "slideshow": {
     "slide_type": "fragment"
    }
   },
   "source": [
    "Vamos agora repetir o ato de lançar _10 moedas_, _10.000 vezes_.\n",
    "\n",
    "Faremos isso da seguinte maneira:\n",
    "1. Para cada uma das 10.000 vezes, utilizamos a função `flip` para lançar `n = 10` moedas e calcular o número de caras observadas.\n",
    "1. Armazenamos o resultado correspondente em um array, `heads_array`, e repetimos o processo."
   ]
  },
  {
   "cell_type": "code",
   "execution_count": 58,
   "metadata": {},
   "outputs": [],
   "source": [
    "# Note que o array `heads_array` inicia esse processo vazio: antes de iniciar a simulação, ainda não lançamos nenhuma moeda!\n",
    "heads_array = np.array([])\n",
    "\n",
    "# loop principal\n",
    "N = 10000\n",
    "for i in np.arange(N):\n",
    "    \n",
    "    # Lançando 10 moedas e retornando o número de caras\n",
    "    num_heads = flip(10)\n",
    "    \n",
    "    # Agregando os resultados no array\n",
    "    heads_array = np.append(heads_array, num_heads)"
   ]
  },
  {
   "cell_type": "markdown",
   "metadata": {},
   "source": [
    "Após a execução do loop, `heads_array` contém 10.000 elementos, cada um correspondendo ao número de caras em 10 lançamentos de moeda simulados."
   ]
  },
  {
   "cell_type": "code",
   "execution_count": 59,
   "metadata": {},
   "outputs": [
    {
     "data": {
      "text/plain": [
       "array([3., 4., 6., ..., 3., 5., 7.])"
      ]
     },
     "execution_count": 59,
     "metadata": {},
     "output_type": "execute_result"
    }
   ],
   "source": [
    "# Tente executar a célula acima e verifique se esse array se modifica!\n",
    "heads_array"
   ]
  },
  {
   "cell_type": "code",
   "execution_count": 60,
   "metadata": {},
   "outputs": [
    {
     "data": {
      "text/plain": [
       "10000"
      ]
     },
     "execution_count": 60,
     "metadata": {},
     "output_type": "execute_result"
    }
   ],
   "source": [
    "# Embora os arrays não sejam idênticos à cada execução, o tamanho deles é sempre o mesmo\n",
    "len(heads_array)"
   ]
  },
  {
   "cell_type": "code",
   "execution_count": 61,
   "metadata": {},
   "outputs": [
    {
     "data": {
      "image/png": "[encoded data removed]",
      "text/plain": [
       "<Figure size 640x480 with 1 Axes>"
      ]
     },
     "metadata": {},
     "output_type": "display_data"
    }
   ],
   "source": [
    "# Elaborando um histograma com os resultados obtidos\n",
    "(bpd.DataFrame().assign(num_heads = heads_array)\n",
    " .plot(kind = 'hist', density = True, bins = np.arange(0, 12), ec = 'w', legend = False,\n",
    "       title = 'Distribuição do número de caras em 10 lançamentos de uma moeda justa')\n",
    ").set_ylabel('Frequência');"
   ]
  },
  {
   "cell_type": "markdown",
   "metadata": {
    "slideshow": {
     "slide_type": "slide"
    }
   },
   "source": [
    "### Acumuladores"
   ]
  },
  {
   "cell_type": "markdown",
   "metadata": {},
   "source": [
    "![](https://raw.githubusercontent.com/flaviovdf/fcd/master/assets/10-Iteracao/images/accumulate.jpg)"
   ]
  },
  {
   "cell_type": "markdown",
   "metadata": {
    "slideshow": {
     "slide_type": "slide"
    }
   },
   "source": [
    "### loops `for` e acumuladores\n",
    "\n",
    "- Na maior parte dos casos, quase todos os loops `for` utilizarão o **acumulador padrão**.\n",
    "- Isso significa que inicializamos uma variável (por exemplo um `int` `i`) e a adicionamos repetidamente dentro de um loop (em geral de `1` em `1` unidades)."
   ]
  },
  {
   "cell_type": "code",
   "execution_count": 62,
   "metadata": {},
   "outputs": [
    {
     "name": "stdout",
     "output_type": "stream",
     "text": [
      "0\n",
      "1\n",
      "2\n",
      "3\n",
      "4\n"
     ]
    }
   ],
   "source": [
    "# Exemplo de acumulador padrão\n",
    "for i in np.arange(5):\n",
    "    print(i)"
   ]
  },
  {
   "cell_type": "markdown",
   "metadata": {},
   "source": [
    "- Agora, como as linhas de um `array`, `DataFrame` ou `Series` são naturalmente números inteiros ordenados, é tentador utilizarmos loops `for` para iterar sobre esses elementos."
   ]
  },
  {
   "cell_type": "code",
   "execution_count": 63,
   "metadata": {},
   "outputs": [
    {
     "data": {
      "text/plain": [
       "15"
      ]
     },
     "execution_count": 63,
     "metadata": {},
     "output_type": "execute_result"
    }
   ],
   "source": [
    "# Somando sobre todas as linhas de um array\n",
    "sum_array = np.array([1, 2, 3, 4, 5])\n",
    "\n",
    "s = 0\n",
    "for i in np.arange(5):\n",
    "    s = s + sum_array[i]\n",
    "\n",
    "s"
   ]
  },
  {
   "cell_type": "markdown",
   "metadata": {},
   "source": [
    "Isso, porém, é uma **má ideia**!"
   ]
  },
  {
   "cell_type": "markdown",
   "metadata": {},
   "source": [
    "- Não entraremos em detalhes técnicos aqui, mas a utilização de loops `for` para realizar operações matemáticas em DataFrames/arrays/séries é muito ineficiente do ponto de vista computacional\n",
    "    - Isso tem a ver com o fato do Python ser uma linguagem _interpretada_.\n",
    "    - O pessoal do DSC10 preparou um [breve vídeo](https://www.youtube.com/watch?v=BlczSBT80fU) sobre o assunto 🎥.\n",
    "\n",
    "- O ideal é sempre manipularmos esses objetos utilizando os métodos e funções especificamente desenvolvidos para tal: consultas, GroupBy, indexação, transmissão/vetorização, etc."
   ]
  },
  {
   "cell_type": "markdown",
   "metadata": {
    "slideshow": {
     "slide_type": "slide"
    }
   },
   "source": [
    "### Iterando sobre strings\n",
    "\n",
    "- Como strings são sequências de caracteres, naturalmente podemos iterar sobre elas!"
   ]
  },
  {
   "cell_type": "code",
   "execution_count": 64,
   "metadata": {},
   "outputs": [
    {
     "name": "stdout",
     "output_type": "stream",
     "text": [
      "U\n",
      "F\n",
      "M\n",
      "G\n"
     ]
    }
   ],
   "source": [
    "for letter in 'UFMG':\n",
    "    print(letter.upper())"
   ]
  },
  {
   "cell_type": "code",
   "execution_count": 65,
   "metadata": {},
   "outputs": [
    {
     "data": {
      "text/plain": [
       "2"
      ]
     },
     "execution_count": 65,
     "metadata": {},
     "output_type": "execute_result"
    }
   ],
   "source": [
    "'Minas Gerais'.count('a')"
   ]
  },
  {
   "cell_type": "markdown",
   "metadata": {
    "slideshow": {
     "slide_type": "slide"
    }
   },
   "source": [
    "### Exercício ✅\n",
    "\n",
    "Complete na célula abaixo a implementação da função `vowel_count`, que retorna o número de vogais na string de entrada `s` (incluindo repetições)."
   ]
  },
  {
   "cell_type": "code",
   "execution_count": 66,
   "metadata": {},
   "outputs": [],
   "source": [
    "def vowel_count(s):\n",
    "    \n",
    "    # Uma boa ideia é começar com um contador para as vogais, começando em 0.\n",
    "    number = 0\n",
    "    \n",
    "    # Para cada uma das 5 vogais:\n",
    "       \n",
    "        # Conte o número de ocorrências dessa vogal em `s` (dica: utilize alguma estrutura condicional adequada).\n",
    "\n",
    "        # Adicione o número acima à `number`.\n",
    "    \n",
    "    # Após passarmos por todas as 5 vogais, retorne a resposta.\n"
   ]
  },
  {
   "cell_type": "code",
   "execution_count": 67,
   "metadata": {},
   "outputs": [],
   "source": [
    "# O resultado dessa chamada deve ser igual a '3.\n",
    "vowel_count('king triton')"
   ]
  },
  {
   "cell_type": "code",
   "execution_count": 68,
   "metadata": {},
   "outputs": [],
   "source": [
    "# O resultado dessa chamada deve ser igual a '8'.\n",
    "vowel_count('i go to uc san diego')"
   ]
  },
  {
   "cell_type": "markdown",
   "metadata": {
    "slideshow": {
     "slide_type": "slide"
    }
   },
   "source": [
    "## Resumo\n",
    "\n",
    "- Os operadores Booleanos `and`, `or` e `not` são ferramentas úteis para especificar condições das mais diversas no Python.\n",
    "- As estruturas condicionais `if`, `else` e `elif` nos permitem executar partes do nosso código dependendo de certas condições serem `True` ou `False`.\n",
    "- Os loops do tipo `for` são utilizados ​​para repetir a execução do código para cada elemento de uma sequência.\n",
    "    - Listas, arrays e strings são exemplos de sequências."
   ]
  }
 ],
 "metadata": {
  "kernelspec": {
   "display_name": "Python 3 (ipykernel)",
   "language": "python",
   "name": "python3"
  },
  "language_info": {
   "codemirror_mode": {
    "name": "ipython",
    "version": 3
   },
   "file_extension": ".py",
   "mimetype": "text/x-python",
   "name": "python",
   "nbconvert_exporter": "python",
   "pygments_lexer": "ipython3",
   "version": "3.11.7"
  },
  "livereveal": {
   "scroll": true,
   "transition": "none"
  },
  "rise": {
   "enable_chalkboard": true
  }
 },
 "nbformat": 4,
 "nbformat_minor": 4
}
