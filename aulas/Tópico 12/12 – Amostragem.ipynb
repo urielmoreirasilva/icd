{
 "cells": [
  {
   "cell_type": "markdown",
   "metadata": {},
   "source": [
    "# Tópico 12 – Distribuições e Amostragem [<img src=\"images/colag_logo.svg\" style=\"float: right; vertical-align: middle; width: 42px; height: 42px;\">](https://colab.research.google.com/github/urielmoreirasilva/urielmoreirasilva.github.io/blob/main/aulas/T%C3%B3pico%2012/12%20%E2%80%93%20Amostragem.ipynb) [<img src=\"images/github_logo.svg\" style=\"float: right; margin-right: 12px; vertical-align: middle; width: 36px; height: 36px;\">](https://github.com/urielmoreirasilva/urielmoreirasilva.github.io/blob/main/aulas/T%C3%B3pico%2012/12%20%E2%80%93%20Amostragem.ipynb)\n",
    "\n",
    "Os conceitos de \"distribuição\" e \"amostragem\" são essenciais na quantificação e no entendimento da aleatoriedade dos dados. Nessa aula, vamos aprender a  como incluir a incerteza do processo de amostragem nos nossos resultados.\n",
    "\n",
    "### Resultados Esperados\n",
    "\n",
    "1. Entender o que são distribuições de probabilidade e distribuições empíricas.\n",
    "1. Aprender sobre a diferença entre populações e amostras.\n",
    "1. Caracterizar a aleatoriedade em um conjunto de dados como fruto do processo de amostragem.\n",
    "\n",
    "### Referências\n",
    "- [CIT, Capítulo 10](https://inferentialthinking.com/)\n",
    "\n",
    "Material adaptado do [DSC10 (UCSD)](https://dsc10.com/) por [Flavio Figueiredo (DCC-UFMG)](https://flaviovdf.io/fcd/) e [Uriel Silva (DEST-UFMG)](https://urielmoreirasilva.github.io)"
   ]
  },
  {
   "cell_type": "code",
   "execution_count": 1,
   "metadata": {
    "slideshow": {
     "slide_type": "skip"
    }
   },
   "outputs": [],
   "source": [
    "# Imports para esse tópico.\n",
    "import numpy as np\n",
    "import babypandas as bpd\n",
    "import pandas as pd\n",
    "import matplotlib.pyplot as plt\n",
    "plt.style.use('ggplot')\n",
    "\n",
    "# Opções de como printar objetos do Numpy e do Pandas.\n",
    "np.set_printoptions(threshold = 20, precision = 2, suppress = True)\n",
    "pd.set_option(\"display.max_rows\", 7)\n",
    "pd.set_option(\"display.max_columns\", 8)\n",
    "pd.set_option(\"display.precision\", 2)"
   ]
  },
  {
   "cell_type": "markdown",
   "metadata": {
    "slideshow": {
     "slide_type": "slide"
    }
   },
   "source": [
    "## Distribuições de probabilidade e distribuições empíricas"
   ]
  },
  {
   "cell_type": "markdown",
   "metadata": {
    "slideshow": {
     "slide_type": "slide"
    }
   },
   "source": [
    "### Distribuições de probabilidade"
   ]
  },
  {
   "cell_type": "markdown",
   "metadata": {
    "slideshow": {
     "slide_type": "fragment"
    }
   },
   "source": [
    "- Seja $X$ uma **variável aleatória** tomando diferentes valores, cada um com uma probabilidade diferente.\n",
    "- Uma **distribuição de probabilidade** descreve:\n",
    "    - Todos os _possíveis valores_ da variável aleatória $X$;\n",
    "    - A probabilidade **teórica** de cada um desses valores."
   ]
  },
  {
   "cell_type": "markdown",
   "metadata": {},
   "source": [
    "- Uma variável aleatória (v.a.) é um _característico numérico de um experimento aleatório_, i.e. que associa valores _numéricos_ a diferentes elementos do _espaço amostral_.\n",
    "    - Por exemplo, no lançamento de uma moeda, o espaço amostral é $\\{H, T\\}$. Podemos definir então uma v.a. $X \\in \\{0, 1\\}$, onde $X = 0$ se a moeda for cara ($H$) e $X = 1$ se a moeda for coroa. Como $P(H) = P(T) = 1/2$, temos também $P(X = 0) = P(X = 1) = 1/2$."
   ]
  },
  {
   "cell_type": "markdown",
   "metadata": {
    "slideshow": {
     "slide_type": "slide"
    }
   },
   "source": [
    "### Exemplo: Distribuição de probabilidade do lançamento de um dado 🎲\n",
    "\n",
    "A distribuição nesse caso é denominada **uniforme**, pois cada face do dado têm a mesma probabilidade de ocorrência."
   ]
  },
  {
   "cell_type": "code",
   "execution_count": 2,
   "metadata": {},
   "outputs": [
    {
     "data": {
      "text/html": [
       "<div>\n",
       "<style scoped>\n",
       "    .dataframe tbody tr th:only-of-type {\n",
       "        vertical-align: middle;\n",
       "    }\n",
       "\n",
       "    .dataframe tbody tr th {\n",
       "        vertical-align: top;\n",
       "    }\n",
       "\n",
       "    .dataframe thead th {\n",
       "        text-align: right;\n",
       "    }\n",
       "</style>\n",
       "<table border=\"1\" class=\"dataframe\">\n",
       "  <thead>\n",
       "    <tr style=\"text-align: right;\">\n",
       "      <th></th>\n",
       "      <th>face</th>\n",
       "    </tr>\n",
       "  </thead>\n",
       "  <tbody>\n",
       "    <tr>\n",
       "      <th>0</th>\n",
       "      <td>1</td>\n",
       "    </tr>\n",
       "    <tr>\n",
       "      <th>1</th>\n",
       "      <td>2</td>\n",
       "    </tr>\n",
       "    <tr>\n",
       "      <th>2</th>\n",
       "      <td>3</td>\n",
       "    </tr>\n",
       "    <tr>\n",
       "      <th>3</th>\n",
       "      <td>4</td>\n",
       "    </tr>\n",
       "    <tr>\n",
       "      <th>4</th>\n",
       "      <td>5</td>\n",
       "    </tr>\n",
       "    <tr>\n",
       "      <th>5</th>\n",
       "      <td>6</td>\n",
       "    </tr>\n",
       "  </tbody>\n",
       "</table>\n",
       "</div>"
      ],
      "text/plain": [
       "   face\n",
       "0     1\n",
       "1     2\n",
       "2     3\n",
       "3     4\n",
       "4     5\n",
       "5     6"
      ]
     },
     "execution_count": 2,
     "metadata": {},
     "output_type": "execute_result"
    }
   ],
   "source": [
    "die_faces = np.arange(1, 7, 1)\n",
    "die = bpd.DataFrame().assign(face = die_faces)\n",
    "die"
   ]
  },
  {
   "cell_type": "code",
   "execution_count": 3,
   "metadata": {},
   "outputs": [
    {
     "data": {
      "image/png": "[encoded data removed]",
      "text/plain": [
       "<Figure size 500x300 with 1 Axes>"
      ]
     },
     "metadata": {},
     "output_type": "display_data"
    }
   ],
   "source": [
    "bins = np.arange(0.5, 6.6, 1)\n",
    "\n",
    "die.plot(kind = 'hist', y = 'face', bins = bins, density = True, ec = 'w', \n",
    "         title='Distribuição de probabilidade do lançamento de um dado',\n",
    "         figsize = (5, 3))\n",
    "\n",
    "plt.ylabel('Probabilidade');"
   ]
  },
  {
   "cell_type": "markdown",
   "metadata": {
    "slideshow": {
     "slide_type": "slide"
    }
   },
   "source": [
    "### Distribuições empíricas"
   ]
  },
  {
   "cell_type": "markdown",
   "metadata": {
    "slideshow": {
     "slide_type": "fragment"
    }
   },
   "source": [
    "- Ao contrário das distribuições de probabilidade, que por definição são _teóricas_, **as distribuições empíricas são baseadas em observações dos dados**.\n",
    "- Uma **distribuição empírica** descreve:\n",
    "    - Todos os valores _observados_ de uma variável aleatória $X$.\n",
    "    - A proporção (ou a **frequência**) dos experimentos com que cada valor ocorreu."
   ]
  },
  {
   "cell_type": "markdown",
   "metadata": {
    "slideshow": {
     "slide_type": "fragment"
    }
   },
   "source": [
    "- Usualmente, construímos distribuições empíricas a partir de sucessivas repetições de um experimento.\n",
    "- Diferentemente das distribuições de probabilidade, as distribuições empíricas representam o que _realmente ocorreu_ na prática. "
   ]
  },
  {
   "cell_type": "markdown",
   "metadata": {
    "slideshow": {
     "slide_type": "slide"
    }
   },
   "source": [
    "### Exemplo: Distribuição empírica do lançamento de um dado 🎲\n",
    "- Vamos simular o lançamento de um dado 25 vezes utilizando a função `np.random.choice`.\n",
    "- Para simular o lançamento de um dado, precisamos amostrar **com reposição**.\n",
    "    - Definiremos \"reposição\" mais adiante, mas aqui isso significa que se o resultado do lançamento de um dado for igual a \"4\", esse valor pode ocorrer mais de uma vez."
   ]
  },
  {
   "cell_type": "code",
   "execution_count": 11,
   "metadata": {},
   "outputs": [
    {
     "data": {
      "text/plain": [
       "array([4, 4, 5, ..., 4, 4, 1])"
      ]
     },
     "execution_count": 11,
     "metadata": {},
     "output_type": "execute_result"
    }
   ],
   "source": [
    "num_rolls = 25\n",
    "many_rolls = np.random.choice(die_faces, num_rolls)\n",
    "many_rolls"
   ]
  },
  {
   "cell_type": "code",
   "execution_count": 12,
   "metadata": {},
   "outputs": [
    {
     "data": {
      "image/png": "[encoded data removed]",
      "text/plain": [
       "<Figure size 500x300 with 1 Axes>"
      ]
     },
     "metadata": {},
     "output_type": "display_data"
    }
   ],
   "source": [
    "# Nota: o 'f' precede o título do histograma aqui para exibir o valor da variável `num_rolls`, ao invés de uma string \"{num_rolls}\".  \n",
    "(bpd.DataFrame()\n",
    " .assign(face = many_rolls) \n",
    " .plot(kind = 'hist', y = 'face', bins = bins, density = True, ec = 'w',\n",
    "       title = f'Distribuição empírica de {num_rolls} lançamentos de um dado',\n",
    "       figsize=(5, 3))\n",
    ")\n",
    "plt.ylabel('Frequência');"
   ]
  },
  {
   "cell_type": "markdown",
   "metadata": {
    "slideshow": {
     "slide_type": "slide"
    }
   },
   "source": [
    "#### \"Muitos\" lançamentos de um dado 🎲\n",
    "\n",
    "Agora, o que acontece quando aumentamos o número de lançamentos?"
   ]
  },
  {
   "cell_type": "code",
   "execution_count": 14,
   "metadata": {},
   "outputs": [
    {
     "data": {
      "image/png": "[encoded data removed]",
      "text/plain": [
       "<Figure size 800x300 with 1 Axes>"
      ]
     },
     "metadata": {},
     "output_type": "display_data"
    },
    {
     "data": {
      "image/png": "[encoded data removed]",
      "text/plain": [
       "<Figure size 800x300 with 1 Axes>"
      ]
     },
     "metadata": {},
     "output_type": "display_data"
    },
    {
     "data": {
      "image/png": "[encoded data removed]",
      "text/plain": [
       "<Figure size 800x300 with 1 Axes>"
      ]
     },
     "metadata": {},
     "output_type": "display_data"
    },
    {
     "data": {
      "image/png": "[encoded data removed]",
      "text/plain": [
       "<Figure size 800x300 with 1 Axes>"
      ]
     },
     "metadata": {},
     "output_type": "display_data"
    },
    {
     "data": {
      "image/png": "[encoded data removed]",
      "text/plain": [
       "<Figure size 800x300 with 1 Axes>"
      ]
     },
     "metadata": {},
     "output_type": "display_data"
    },
    {
     "data": {
      "image/png": "[encoded data removed]",
      "text/plain": [
       "<Figure size 800x300 with 1 Axes>"
      ]
     },
     "metadata": {},
     "output_type": "display_data"
    },
    {
     "data": {
      "image/png": "[encoded data removed]",
      "text/plain": [
       "<Figure size 800x300 with 1 Axes>"
      ]
     },
     "metadata": {},
     "output_type": "display_data"
    }
   ],
   "source": [
    "for num_rolls in [10, 50, 100, 500, 1000, 5000, 10000]:\n",
    "    # Simulando os `num_rolls` lançamentos de um dado.\n",
    "    many_rolls = np.random.choice(die_faces, num_rolls)\n",
    "    # Elaborando o histograma correspondente.\n",
    "    (bpd.DataFrame()\n",
    "     .assign(face = many_rolls)\n",
    "     .plot(kind = 'hist', y = 'face', bins = bins, density = True, ec = 'w', \n",
    "           title = f'Distribuição de {num_rolls} lançamentos de um dado',\n",
    "           figsize=(8, 3))\n",
    "    )\n",
    "    plt.ylabel('Frequência')"
   ]
  },
  {
   "cell_type": "markdown",
   "metadata": {
    "slideshow": {
     "slide_type": "slide"
    }
   },
   "source": [
    "#### ... e porque isso acontece? ⚖️\n",
    "\n",
    "A **Lei dos Grandes Números** diz que se um experimento aleatório for repetido \n",
    "1. um _grande número_ de vezes,\n",
    "1. _independentemente_,\n",
    "1. e _sobre as mesmas condições_,\n",
    "\n",
    "que então a **proporção** do número de vezes que um evento ocorre se aproxima cada vez mais da **probabilidade teórica** desse evento."
   ]
  },
  {
   "cell_type": "markdown",
   "metadata": {
    "slideshow": {
     "slide_type": "fragment"
    }
   },
   "source": [
    "- Por exemplo, à medida que lançamos um dado repetidas vezes, a proporção de vezes que obtemos um \"5\" chega cada vez mais perto de $\\frac{1}{6}$."
   ]
  },
  {
   "cell_type": "markdown",
   "metadata": {
    "slideshow": {
     "slide_type": "fragment"
    }
   },
   "source": [
    "- A Lei dos Grandes Números essencialmente **garante que o uso de simulações para aproximar distribuições de probabilidade esteja correto**!"
   ]
  },
  {
   "cell_type": "markdown",
   "metadata": {
    "slideshow": {
     "slide_type": "slide"
    }
   },
   "source": [
    "## Amostragem [*]"
   ]
  },
  {
   "cell_type": "markdown",
   "metadata": {
    "slideshow": {
     "slide_type": "slide"
    }
   },
   "source": [
    "### Populações e amostras"
   ]
  },
  {
   "cell_type": "markdown",
   "metadata": {
    "slideshow": {
     "slide_type": "fragment"
    }
   },
   "source": [
    "- Uma **população** é um grupo _completo_ de pessoas, objetos, eventos, etc. sobre o qual queremos aprender algo."
   ]
  },
  {
   "cell_type": "markdown",
   "metadata": {
    "slideshow": {
     "slide_type": "fragment"
    }
   },
   "source": [
    "- Na prática, frequentemente não é possível obter informações sobre _todos_ os membros de uma população."
   ]
  },
  {
   "cell_type": "markdown",
   "metadata": {
    "slideshow": {
     "slide_type": "fragment"
    }
   },
   "source": [
    "- Nessas situações, tipicamente coletamos uma **amostra**, isto é, um subconjunto da população."
   ]
  },
  {
   "cell_type": "markdown",
   "metadata": {
    "slideshow": {
     "slide_type": "fragment"
    }
   },
   "source": [
    "- Com base na amostra coletada, podemos **estimar** alguma quantidade de interesse da população."
   ]
  },
  {
   "cell_type": "markdown",
   "metadata": {
    "slideshow": {
     "slide_type": "slide"
    }
   },
   "source": [
    "### Estratégias de amostragem"
   ]
  },
  {
   "cell_type": "markdown",
   "metadata": {
    "slideshow": {
     "slide_type": "fragment"
    }
   },
   "source": [
    "- **Problema principal**: Como coletar uma \"boa amostra\", isto é tal que a **distribuição amostral** seja mais parecida possível com a distribuição populacional?"
   ]
  },
  {
   "cell_type": "markdown",
   "metadata": {
    "slideshow": {
     "slide_type": "fragment"
    }
   },
   "source": [
    "- **Má ideia ❌**: Amostrar os indivíduos mais \"próximos\"/\"fáceis\"\n",
    "   - Por exemplo, seus colegas de classe, as pessoas em uma fila de supermercado, etc.\n",
    "   - Esse tipo de amostra é conhecido como _amostra de conveniência_.\n",
    "   - Amostras de conveniência usualmente contém fontes ocultas de **viés**."
   ]
  },
  {
   "cell_type": "markdown",
   "metadata": {
    "slideshow": {
     "slide_type": "fragment"
    }
   },
   "source": [
    "- **Boa ideia ✔️**: Selecionar indivíduos da população de maneira _aleatória_. "
   ]
  },
  {
   "cell_type": "markdown",
   "metadata": {
    "slideshow": {
     "slide_type": "slide"
    }
   },
   "source": [
    "### Amostragem aleatória simples\n",
    "\n",
    "Uma **amostra aleatória simples** é uma amostra coletada de maneira **uniforme**, **aleatória** e **sem reposição**.\n",
    "   - \"Uniforme\" significa que cada indivíduo têm a mesma probabilidade de ser selecionado.\n",
    "   - \"Sem reposição\" significa que o mesmo indivíduo não pode ser selecionado mais de uma vez."
   ]
  },
  {
   "cell_type": "markdown",
   "metadata": {
    "slideshow": {
     "slide_type": "slide"
    }
   },
   "source": [
    "### Amostragem de uma lista ou array"
   ]
  },
  {
   "cell_type": "markdown",
   "metadata": {
    "slideshow": {
     "slide_type": "-"
    }
   },
   "source": [
    "Para gerar uma amostra aleatória simples de uma lista ou array `options`, utilizamos a função `np.random.choice(options, n, replace=False)`."
   ]
  },
  {
   "cell_type": "code",
   "execution_count": null,
   "metadata": {},
   "outputs": [],
   "source": [
    "colleges = np.array(['UFMG', 'USP', 'UEMG', \n",
    "                     'UNICAMP', 'UFRJ', 'UFPB', \n",
    "                     'UFSCar', 'UFSC', 'UFRGS'])\n",
    "\n",
    "# Simple random sample of 3 colleges.\n",
    "np.random.choice(colleges, 3, replace=False)"
   ]
  },
  {
   "cell_type": "markdown",
   "metadata": {
    "slideshow": {
     "slide_type": "fragment"
    }
   },
   "source": [
    "Se declararmos `replace=True`, então estamos amostrando uniformemente com reposição."
   ]
  },
  {
   "cell_type": "markdown",
   "metadata": {
    "slideshow": {
     "slide_type": "slide"
    }
   },
   "source": [
    "### Exemplo: Distribuição dos atrasos de vôos ✈️\n",
    "\n",
    "Para esse exemplo, o DataFrame `united_full` contém informação sobre todos os vôos da United Airlines saindo de SFO entre 6/1/15 and 8/31/15.\n",
    "\n",
    "No contexto dessa aula, assuma que essa base de dados seja nossa _população_."
   ]
  },
  {
   "cell_type": "code",
   "execution_count": null,
   "metadata": {},
   "outputs": [],
   "source": [
    "united_full = bpd.read_csv('data/united_summer2015.csv')\n",
    "united_full"
   ]
  },
  {
   "cell_type": "markdown",
   "metadata": {
    "slideshow": {
     "slide_type": "slide"
    }
   },
   "source": [
    "### Amostralindo linhas de um DataFrame\n",
    "\n",
    "Se quisermos amostrar linhas de um DataFrame, podemos usar o método `.sample`. Isto é,\n",
    "\n",
    "```py\n",
    "df.sample(n)\n",
    "```\n",
    "\n",
    "retorna um subconjunto aleatório  de `n` linhas de `df`, amostradas **sem reposição** (i.e. o default dessa função é `replace=False`, diferente de `np.random.choice`)."
   ]
  },
  {
   "cell_type": "code",
   "execution_count": null,
   "metadata": {},
   "outputs": [],
   "source": [
    "# 5 flights, chosen randomly without replacement.\n",
    "united_full.sample(5)"
   ]
  },
  {
   "cell_type": "code",
   "execution_count": null,
   "metadata": {
    "scrolled": true
   },
   "outputs": [],
   "source": [
    "# 5 flights, chosen randomly with replacement.\n",
    "united_full.sample(5, replace=True)"
   ]
  },
  {
   "cell_type": "markdown",
   "metadata": {
    "slideshow": {
     "slide_type": "fragment"
    }
   },
   "source": [
    "**Nota**: A probabilidade de observarmos a mesma linha mais de uma vez ao reamostrarmos com reposição nesse caso é baixa, uma vez que aqui o tamanho amostral (5) é pequeno relativo ao tamanho da população (13825)."
   ]
  },
  {
   "cell_type": "markdown",
   "metadata": {
    "slideshow": {
     "slide_type": "slide"
    }
   },
   "source": [
    "### O efeito do tamanho amostral"
   ]
  },
  {
   "cell_type": "markdown",
   "metadata": {
    "slideshow": {
     "slide_type": "fragment"
    }
   },
   "source": [
    "- A Lei dos Grandes Números diz que, à medida que aumentamos o número de repetições de um experimento aleatório, a distribuição empírica se aproxima cada vez mais da distribuição de probabilidade verdadeira (populacional)."
   ]
  },
  {
   "cell_type": "markdown",
   "metadata": {
    "slideshow": {
     "slide_type": "fragment"
    }
   },
   "source": [
    "- **Como consequência, em um processo de amostragem aleatória simples, quanto maior o nosso tamanho amostral, melhor será nossa aproximação da distribuição de probabilidade populacional.**\n",
    "    - Tecnicalidades à parte, uma maneira intuitiva de entender esse ponto é enxergar que, como as amostras aleatórias simples são independentes e vêm da mesma população, uma amostra grande pode ser sempre decomposta em várias amostras pequenas."
   ]
  },
  {
   "cell_type": "markdown",
   "metadata": {
    "slideshow": {
     "slide_type": "slide"
    }
   },
   "source": [
    "### Distribuição populacional dos atrasos de vôos ✈️"
   ]
  },
  {
   "cell_type": "markdown",
   "metadata": {
    "slideshow": {
     "slide_type": "-"
    }
   },
   "source": [
    "Aqui estamos interessados apenas nos `'Delay'`s, então selecionaremos apenas essa coluna."
   ]
  },
  {
   "cell_type": "code",
   "execution_count": null,
   "metadata": {},
   "outputs": [],
   "source": [
    "united = united_full.get(['Delay'])\n",
    "united"
   ]
  },
  {
   "cell_type": "code",
   "execution_count": null,
   "metadata": {},
   "outputs": [],
   "source": [
    "bins = np.arange(-20, 300, 10)\n",
    "united.plot(kind='hist', y='Delay', bins=bins, density=True, ec='w', \n",
    "            title='Distribuição Populacional dos Atrasos de Vôos', figsize=(8, 3))\n",
    "plt.ylabel('Proporção por minuto');"
   ]
  },
  {
   "cell_type": "markdown",
   "metadata": {
    "slideshow": {
     "slide_type": "fragment"
    }
   },
   "source": [
    "Note que a distribuição populacional é \"determinística\" (ou \"fixa\"), isto é, supondo que o universo de todos os possíveis valores que estamos interessados seja conhecido, não existe aleatoriedade como em um processo de amostragem."
   ]
  },
  {
   "cell_type": "markdown",
   "metadata": {
    "slideshow": {
     "slide_type": "slide"
    }
   },
   "source": [
    "### Distribuição amostral dos atrasos de vôos ✈️\n",
    "\n",
    "- Aqui, nossa população é composta dos 13825 atrasos de vôos no DataFrame `united`.\n",
    "- Em geral, porém, raramente temos acesso à população inteira.\n",
    "- Para replicar uma situação prática real, vamos reamostrar de `united` **sem reposição**."
   ]
  },
  {
   "cell_type": "code",
   "execution_count": null,
   "metadata": {},
   "outputs": [],
   "source": [
    "sample_size = 100 # Change this and see what happens!\n",
    "(united\n",
    " .sample(sample_size)\n",
    " .plot(kind='hist', y='Delay', bins=bins, density=True, ec='w',\n",
    "       title=f'Distribuição dos Atrasos de Vôos em uma Amostra de Tamanho $n = {sample_size}$',\n",
    "       figsize=(8, 3))\n",
    ")\n",
    "plt.ylabel('Frequência');"
   ]
  },
  {
   "cell_type": "markdown",
   "metadata": {},
   "source": [
    "Note que, intuitivamente, à medida que aumentos o tamanho amostral $n$ (`sample_size`), a distribuição amostral dos atrasos fica cada vez mais parecida com a distribuição populacional."
   ]
  },
  {
   "cell_type": "markdown",
   "metadata": {
    "slideshow": {
     "slide_type": "slide"
    }
   },
   "source": [
    "## Parâmetros e estatísticas"
   ]
  },
  {
   "cell_type": "markdown",
   "metadata": {
    "slideshow": {
     "slide_type": "slide"
    }
   },
   "source": [
    "### Definições"
   ]
  },
  {
   "cell_type": "markdown",
   "metadata": {
    "slideshow": {
     "slide_type": "fragment"
    }
   },
   "source": [
    "- **Inferência estatística** é o ato de se tirar conclusões sobre uma população com base nas informações de uma amostra aleatória."
   ]
  },
  {
   "cell_type": "markdown",
   "metadata": {
    "slideshow": {
     "slide_type": "fragment"
    }
   },
   "source": [
    "- **Parâmetro**: Uma quantidade de interesse da população.\n",
    "    - Exemplo 1: A média populacional.\n",
    "    - Exemplo 2: A proporção populacional."
   ]
  },
  {
   "cell_type": "markdown",
   "metadata": {
    "slideshow": {
     "slide_type": "fragment"
    }
   },
   "source": [
    "- **Estatística**: Uma quantidade _calculada_ com base na amostra.\n",
    "    - Exemplo 1: A média amostral.\n",
    "    - Exemplo 2: A proporção amostral."
   ]
  },
  {
   "cell_type": "markdown",
   "metadata": {
    "slideshow": {
     "slide_type": "fragment"
    }
   },
   "source": [
    "- Uma estatística pode ser utilizada para **estimar** um parâmetro.\n",
    "  - Como uma função matemática teórica, diz-se que uma estatística nesse caso é um **estimador** para esse parâmetro.\n",
    "  - Após coletarmos uma amostra, o _valor_ correspondete que a estatística/estimador toma é então uma **estimativa** para o parâmetro."
   ]
  },
  {
   "cell_type": "markdown",
   "metadata": {
    "slideshow": {
     "slide_type": "slide"
    }
   },
   "source": [
    "### Média de atrasos dos vôos ✈️"
   ]
  },
  {
   "cell_type": "markdown",
   "metadata": {
    "slideshow": {
     "slide_type": "fragment"
    }
   },
   "source": [
    "**Pergunta**: Qual foi a média de atraso entre _todos_ os vôos da United saindo de SFO no verão de 2015? 🤔"
   ]
  },
  {
   "cell_type": "markdown",
   "metadata": {
    "slideshow": {
     "slide_type": "fragment"
    }
   },
   "source": [
    "- Em geral, gostaríamos de saber a média dos atrasos de vôos na **população** (nosso _parâmetro_), mas na prática teremos disponível apenas uma **amostra**."
   ]
  },
  {
   "cell_type": "markdown",
   "metadata": {
    "slideshow": {
     "slide_type": "fragment"
    }
   },
   "source": [
    "- É natural então perguntarmos: como a média dos atrasos dos vôos na **amostra** (isto é, a _estatística_) se compara à média dos atrasos dos vôos na  **população** (nosso _parâmetro_)?"
   ]
  },
  {
   "cell_type": "markdown",
   "metadata": {
    "slideshow": {
     "slide_type": "slide"
    }
   },
   "source": [
    "### Média populacional\n",
    "\n",
    "A **média populacional** é um **parâmetro**."
   ]
  },
  {
   "cell_type": "code",
   "execution_count": null,
   "metadata": {},
   "outputs": [],
   "source": [
    "# Calculate the mean of the population.\n",
    "united_mean = united.get('Delay').mean()\n",
    "united_mean"
   ]
  },
  {
   "cell_type": "markdown",
   "metadata": {
    "slideshow": {
     "slide_type": "fragment"
    }
   },
   "source": [
    "A média populacional (assim como a distribuição populacional) também é determinística, ou fixa (i.e. não aleatória), assim como qualquer outro parâmetro. Como quase nunca temos acesso à população completa, em geral não podemos saber com exatidão os valores dos parâmetros sobre os quais estamos interessados."
   ]
  },
  {
   "cell_type": "markdown",
   "metadata": {},
   "source": [
    "Em outras palavras, embora os parâmetros sejam _fixos_, em geral eles também são _desconhecidos_."
   ]
  },
  {
   "cell_type": "markdown",
   "metadata": {
    "slideshow": {
     "slide_type": "slide"
    }
   },
   "source": [
    "### Média amostral\n",
    "\n",
    "A **média amostral** é uma **estatística**. Como estatísticas são funções da amostra (e que por definição é aleatória), a média amostral _também é aleatória_."
   ]
  },
  {
   "cell_type": "code",
   "execution_count": null,
   "metadata": {},
   "outputs": [],
   "source": [
    "# Sample size = 100.\n",
    "sample_size = 100\n",
    "united.sample(sample_size).get('Delay').mean()"
   ]
  },
  {
   "cell_type": "markdown",
   "metadata": {
    "slideshow": {
     "slide_type": "fragment"
    }
   },
   "source": [
    "- Cada vez que executamos a célula acima, nós estamos:\n",
    "    - Coletando uma nova amostra aleatória de tamanho $n$ = `sample_size`.\n",
    "    - Calculando a média amostral correspondente."
   ]
  },
  {
   "cell_type": "markdown",
   "metadata": {},
   "source": [
    "- Note que, a cada execução, a média amostral é ligeiramente diferente.\n",
    "    - Algumas vezes, a média amostral é próxima da média populacional.\n",
    "    - Algumas vezes, a média amostral é distante da média populacional."
   ]
  },
  {
   "cell_type": "markdown",
   "metadata": {
    "slideshow": {
     "slide_type": "slide"
    }
   },
   "source": [
    "### O efeito do tamanho amostral\n",
    "\n",
    "E se coletarmos um tamanho de amostra maior?"
   ]
  },
  {
   "cell_type": "code",
   "execution_count": null,
   "metadata": {},
   "outputs": [],
   "source": [
    "# Sample size = 1000\n",
    "sample_size = 1000\n",
    "united.sample(sample_size).get('Delay').mean()"
   ]
  },
  {
   "cell_type": "markdown",
   "metadata": {
    "slideshow": {
     "slide_type": "fragment"
    }
   },
   "source": [
    "- Cada vez que executamos a célula acima, os resultados ainda são ligeiramente diferentes.\n",
    "- Entretanto, se compararmos à situação anterior em que $n = 100$, as médias amostrais agora são muito mais próximas entre si – e também mais próximas à média populacional.\n",
    "- **Em geral**, estatísticas calculadas com base em amostras **maiores** são estimadores **melhores** dos parâmetros da população do que quando calculadas em amostras menores."
   ]
  },
  {
   "cell_type": "markdown",
   "metadata": {
    "slideshow": {
     "slide_type": "slide"
    }
   },
   "source": [
    "**Tamanhos de amostra menores**:<center><img src='data/bullseye-high.png' width=300></center>"
   ]
  },
  {
   "cell_type": "markdown",
   "metadata": {
    "slideshow": {
     "slide_type": "fragment"
    }
   },
   "source": [
    "**Tamanhos de amostra maiores**:<center><img src='data/bullseye-low.png' width=300></center>"
   ]
  },
  {
   "cell_type": "markdown",
   "metadata": {
    "slideshow": {
     "slide_type": "slide"
    }
   },
   "source": [
    "### Distribuição de probabilidade de uma estatística"
   ]
  },
  {
   "cell_type": "markdown",
   "metadata": {
    "slideshow": {
     "slide_type": "fragment"
    }
   },
   "source": [
    "- O valor numérico de uma estatística, (por exemplo a média amostral) é _aleatório_, porque é calculado com base em uma amostra (que é aleatório).\n",
    "    - Mais formalmente, estatísticas _também são variáveis aleatórias_."
   ]
  },
  {
   "cell_type": "markdown",
   "metadata": {
    "slideshow": {
     "slide_type": "fragment"
    }
   },
   "source": [
    "- Assim como fazemos para variáveis aletaórias em geral, podemos analisar a distribuição de probabilidade _da estatística_ na qual estamos interessados.\n",
    "    - Essa distribuição é conhecida como **distribuição amostral**."
   ]
  },
  {
   "cell_type": "markdown",
   "metadata": {},
   "source": [
    "- A distribuição amostral descreve a probabilidade de todos os possíveis valores de uma estatística.\n",
    "    - **A distribuição amostral é útil para caracterizar o quão provável é o valor da estatística em uma amostra particular**.\n",
    "    - De maneira análoga, a distribuição empírica nos permite dizer o quanto o valor da nossa estatística _poderia ter sido_ caso tívessemos coletado uma amostra diferente."
   ]
  },
  {
   "cell_type": "markdown",
   "metadata": {
    "slideshow": {
     "slide_type": "fragment"
    }
   },
   "source": [
    "- Infelizmente, porém, a distribuição empírica pode ser difícil de se caracterizar de maneira exata/analítica.\n",
    "- Temos então basicamente 2 maneiras de encontramos essa distribuição:\n",
    "    - Opção 1: Desenvolver uma expressão geral matematicamente (nos casos em que isso é possível).\n",
    "    - Opção 2: Gerar **todas** as possíveis amostras e calcular o valor da estatística para cada amostra."
   ]
  },
  {
   "cell_type": "markdown",
   "metadata": {
    "slideshow": {
     "slide_type": "fragment"
    }
   },
   "source": [
    "- Nesse curso, focaremos na Opção 2, isto é, utilizaremos simulação para aproximar a distribuição amostral das estatísticas nas quais estamos interessados.\n",
    "    - A Opção 1 será o assunto de vários dos cursos de Estatística mais adiante!"
   ]
  },
  {
   "cell_type": "markdown",
   "metadata": {
    "slideshow": {
     "slide_type": "slide"
    }
   },
   "source": [
    "### Distribuição empírica de uma estatística"
   ]
  },
  {
   "cell_type": "markdown",
   "metadata": {
    "slideshow": {
     "slide_type": "fragment"
    }
   },
   "source": [
    "- A distribuição empírica de uma estatística é obtida com base nos valores simulados de uma estatística. Essa distribuição descreve:    \n",
    "    - Todos os valores _observados_ da estatística.\n",
    "    - A frequência/proporção de amostras em que cada valor foi observado."
   ]
  },
  {
   "cell_type": "markdown",
   "metadata": {
    "slideshow": {
     "slide_type": "fragment"
    }
   },
   "source": [
    "- Em geral, a distribuição empírica de uma estatística se torna uma aproximação cada vez melhor para a distribuição amostral daquela estatística (i.e. a verdadeira distribuição de probabilidades da estatística) **à medida que o número de repetições da simulação é cada vez maior**."
   ]
  },
  {
   "cell_type": "markdown",
   "metadata": {
    "slideshow": {
     "slide_type": "slide"
    }
   },
   "source": [
    "### Distribuição das médias amostrais"
   ]
  },
  {
   "cell_type": "markdown",
   "metadata": {
    "slideshow": {
     "slide_type": "fragment"
    }
   },
   "source": [
    "- Para entendermos o quão diferente o valor da média amostral pode ser em diferentes amostras, nós faremos o seguinte:\n",
    "    - Geramos muitas amostras aleatoriamente;\n",
    "    - Calculamos a média amostral em cada uma das amostras;\n",
    "    - Fazemos um histograma com os valores obtidos."
   ]
  },
  {
   "cell_type": "markdown",
   "metadata": {
    "slideshow": {
     "slide_type": "fragment"
    }
   },
   "source": [
    "- A animação abaixo contém uma visualização do seguinte processo, repetido várias vezes:\n",
    "    - 1.) gerar $n = 1000$ atrasos de vôos de `united';\n",
    "    - 2.) calcular a média amostral correspondente;\n",
    "    - 3.) agregar o valor à um histograma."
   ]
  },
  {
   "cell_type": "code",
   "execution_count": null,
   "metadata": {},
   "outputs": [],
   "source": [
    "%%capture\n",
    "anim, anim_means = sampling_animation(united, 1000);"
   ]
  },
  {
   "cell_type": "code",
   "execution_count": null,
   "metadata": {
    "scrolled": true
   },
   "outputs": [],
   "source": [
    "HTML(anim.to_jshtml())"
   ]
  },
  {
   "cell_type": "markdown",
   "metadata": {
    "slideshow": {
     "slide_type": "slide"
    }
   },
   "source": [
    "### Mas afinal, para que serve a distribuição empírica de uma estatística?"
   ]
  },
  {
   "cell_type": "markdown",
   "metadata": {
    "slideshow": {
     "slide_type": "fragment"
    }
   },
   "source": [
    "- Na prática, coletamos apenas _uma_ amostra, da qual calculamos apenas _um_ valor da estatística.\n",
    "    - Em certos casos, a amostra pode ser suficientemente representativa da população, e o valor da estatística será próximo ao parâmetro que estamos tentando estimar.\n",
    "    - Quando isso não acontece, porém, i.e. quando a amostra não é tão representativa da população, o valor da estatística pode ser bem diferente do parâmetro de interesse."
   ]
  },
  {
   "cell_type": "markdown",
   "metadata": {
    "slideshow": {
     "slide_type": "fragment"
    }
   },
   "source": [
    "- Dessa forma, a distribuição empírica de uma estatística nos ajuda a responder à seguinte pergunta: **qual seria o valor da estatística caso tívessemos coletado uma amostra diferente?**"
   ]
  },
  {
   "cell_type": "markdown",
   "metadata": {
    "slideshow": {
     "slide_type": "slide"
    }
   },
   "source": [
    "### E qual o papel do tamanho amostral nesse processo?"
   ]
  },
  {
   "cell_type": "code",
   "execution_count": null,
   "metadata": {},
   "outputs": [],
   "source": [
    "# Sample one thousand flights, two thousand times.\n",
    "sample_size = 1000\n",
    "repetitions = 2000\n",
    "sample_means = np.array([])\n",
    "\n",
    "for n in np.arange(repetitions):\n",
    "    m = united.sample(sample_size).get('Delay').mean()\n",
    "    sample_means = np.append(sample_means, m)\n",
    "\n",
    "bpd.DataFrame().assign(sample_means=sample_means) \\\n",
    "               .plot(kind='hist', bins=np.arange(10, 25, 0.5), density=True, ec='w',\n",
    "                     title=f'Distribuição da Média Amostral com $n = {sample_size}$',\n",
    "                     figsize=(10, 5));\n",
    "    \n",
    "plt.axvline(x=united_mean, c='black', linewidth=4, label='média populacional')\n",
    "plt.legend()\n",
    "plt.ylabel('Frequência');"
   ]
  },
  {
   "cell_type": "markdown",
   "metadata": {
    "slideshow": {
     "slide_type": "slide"
    }
   },
   "source": [
    "### Exercício ✅\n",
    "\n",
    "No exemplo acima, amostramos amostras de vôos de tamanho $n = 1000$ um número $B = 2000$ de vezes. Se ao invés disso continuarmos amostrando $B = 2000$ vezes, mas agora tomando amostras de tamanho $n = 100$, qual você acha que será o efeito sobre a distribuição empírica da média amostral? \n",
    "\n",
    "A.  A distribuição empírica ficará mais estreita.\n",
    "\n",
    "B.  A distribuição empírica ficará mais larga.\n",
    "\n",
    "C.  A distribuição empírica será deslocada para a esquerda.\n",
    "\n",
    "D.  A distribuição empírica será deslocada para a direita.\n",
    "\n",
    "E.  Nenhum efeito."
   ]
  },
  {
   "cell_type": "markdown",
   "metadata": {
    "slideshow": {
     "slide_type": "slide"
    }
   },
   "source": [
    "### A maneira como amostramos importa!"
   ]
  },
  {
   "cell_type": "markdown",
   "metadata": {
    "slideshow": {
     "slide_type": "fragment"
    }
   },
   "source": [
    "* Até agora, assumimos que estamos coletando apenas **amostras aleatórias simples** da população de interesse.\n",
    "    * Recorde que amostras aleatórias simples são tomadas sem reposição.\n",
    "    * Entretanto, se a população for grande o suficiente (possivelmente infinita...), amostragens sem e com reposição serão equivalentes."
   ]
  },
  {
   "cell_type": "markdown",
   "metadata": {
    "slideshow": {
     "slide_type": "fragment"
    }
   },
   "source": [
    "* A média amostral, sob amostragem aleatória simples, é uma boa aproximação para a média populacional."
   ]
  },
  {
   "cell_type": "markdown",
   "metadata": {
    "slideshow": {
     "slide_type": "fragment"
    }
   },
   "source": [
    "* Mas isso nem sempre é verdade se amostrarmos de maneira diferente!\n",
    "    * Voltaremos à esse ponto depois, mas uma situação importante onde isso pode acontecer é quando o processo de amostragem é **enviesado** (você consegue pensar em um exemplo simples disso?).  "
   ]
  },
  {
   "cell_type": "markdown",
   "metadata": {
    "slideshow": {
     "slide_type": "slide"
    }
   },
   "source": [
    "## Resumo [*]\n",
    "\n",
    "- A **distribuição de probabilidade** de uma _variável aleatória_ descreve a probabilidade de cada possível valor dessa variável.\n",
    "- Uma **distribuição empírica** descreve a frequência/proporção com a qual cada valor de um experimento aleatório ocorre.\n",
    "    - Quanto mais repetimos o experimento aleatório, mais a distribuição empírica se aproxima da distribuição de probabilidade.\n",
    "- A **distribuição populacional** descreve as probabilidades associadas aos valores de uma certa característica de interesse de uma população.\n",
    "- Uma **distribuição amostral** descreve as probabilidades associadas aos valores de uma certa característica da **amostra**, que é um _subconjunto_ da população.\n",
    "    - Quando coletamos uma amostra aleatória simples da população, à medida que o tamanho amostral $n$ aumenta, mais a distribuição amostral se aproxima da distribuição populacional.\n",
    "- Um **parâmetro** é uma quantidade de interesse da **população**, enquanto uma **estatística** é uma quantidade de interesse da **amostra**.\n",
    "- Em geral, podemos utilizar estatísticas para **estimar** parâmetros da população.\n",
    "    - Por exemplo, para estimar a média populacional, podemos utilizar a média amostral.\n",
    "    - Usualmente, amostras de tamanhos maiores levam à estimativas mais precisas."
   ]
  }
 ],
 "metadata": {
  "kernelspec": {
   "display_name": "Python 3 (ipykernel)",
   "language": "python",
   "name": "python3"
  },
  "language_info": {
   "codemirror_mode": {
    "name": "ipython",
    "version": 3
   },
   "file_extension": ".py",
   "mimetype": "text/x-python",
   "name": "python",
   "nbconvert_exporter": "python",
   "pygments_lexer": "ipython3",
   "version": "3.11.7"
  },
  "livereveal": {
   "scroll": true,
   "transition": "none"
  },
  "rise": {
   "enable_chalkboard": true
  }
 },
 "nbformat": 4,
 "nbformat_minor": 4
}
