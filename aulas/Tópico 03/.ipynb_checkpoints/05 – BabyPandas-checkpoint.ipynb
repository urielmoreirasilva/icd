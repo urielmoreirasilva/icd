{
 "cells": [
  {
   "cell_type": "markdown",
   "metadata": {
    "slideshow": {
     "slide_type": "slide"
    }
   },
   "source": [
    "---\n",
    "layout: page\n",
    "title: BabyPandas\n",
    "nav_order: 5\n",
    "---\n",
    "[<img src=\"https://raw.githubusercontent.com/flaviovdf/fcd/master/assets/colab_favicon_small.png\" style=\"float: right;\">](https://colab.research.google.com/github/flaviovdf/fcd/blob/master/_lessons/05-BabyPandas.ipynb)\n",
    "\n",
    "# Tópico 5 – DataFrames: Acessando DataFrames e Séries\n",
    "{: .no_toc .mb-2 }\n",
    "\n",
    "DataFrames representam tabelas. Vamos finalmente explorar alguns dados!\n",
    "{: .fs-6 .fw-300 }\n",
    "\n",
    "{: .no_toc .text-delta }\n",
    "Resultados Esperados\n",
    "\n",
    "1. Entender o `DataFrame` de pandas/babypandas\n",
    "1. Saber acessar linhas e colunas\n",
    "1. Entender consultas básicas\n",
    "\n",
    "{: .no_toc .text-delta }\n",
    "Material Adaptado do [DSC10 (UCSD)](https://dsc10.com/)\n",
    "\n",
    "Os dados de hoje estão [aqui](https://raw.githubusercontent.com/flaviovdf/fcd/main/assets/06-GroupBy/data/afonso_pena.csv)"
   ]
  },
  {
   "cell_type": "markdown",
   "metadata": {
    "slideshow": {
     "slide_type": "slide"
    }
   },
   "source": [
    "### Agenda\n",
    "\n",
    "Hoje, usaremos um conjunto de dados real e muitas perguntas motivadoras para ilustrar as principais técnicas de manipulação de DataFrame.\n",
    "\n",
    "#### Observação:\n",
    "\n",
    "Alguns links importantes daqui para frente:\n",
    "\n",
    "-[Comandos e Conceitos Úteis](https://flaviovdf.io/fcd/guiarapido/).\n",
    "\n",
    "-[`babypandas` notes](https://notes.dsc10.com).\n",
    "\n",
    "-[`babypandas` documentation](https://babypandas.readthedocs.io/en/latest/index.html)."
   ]
  },
  {
   "cell_type": "markdown",
   "metadata": {
    "slideshow": {
     "slide_type": "slide"
    }
   },
   "source": [
    "## Tabelas de Dados"
   ]
  },
  {
   "cell_type": "markdown",
   "metadata": {
    "slideshow": {
     "slide_type": "slide"
    }
   },
   "source": [
    "### `pandas`\n",
    "\n",
    "- DataFrames (tabelas) são fornecidos por um pacote chamado `pandas`.\n",
    "- `pandas` é **a** ferramenta para fazer ciência de dados em Python.\n",
    "\n",
    "![](https://raw.githubusercontent.com/flaviovdf/fcd/master/assets/05-BabyPandas/images/pandas.png)"
   ]
  },
  {
   "cell_type": "markdown",
   "metadata": {
    "slideshow": {
     "slide_type": "slide"
    }
   },
   "source": [
    "### Mas a biblioteca `pandas` padrão não é tão fofa...\n",
    "\n",
    "![](https://raw.githubusercontent.com/flaviovdf/fcd/master/assets/05-BabyPandas/images/angrypanda.jpg)"
   ]
  },
  {
   "cell_type": "markdown",
   "metadata": {
    "slideshow": {
     "slide_type": "slide"
    }
   },
   "source": [
    "### Digite `babypandas`!\n",
    "\n",
    "- Criada pela Universidade de California San Diego (UCSD) criamos uma versão menor e mais agradável de `pandas` chamada `babypandas`.\n",
    "- Mantém as coisas importantes e tem mensagens de erro muito melhores.\n",
    "- É mais fácil de aprender, mas ainda é um código `pandas` válido.\n",
    "\n",
    "![](https://raw.githubusercontent.com/flaviovdf/fcd/master/assets/05-BabyPandas/images/babypanda.jpg)"
   ]
  },
  {
   "cell_type": "markdown",
   "metadata": {
    "slideshow": {
     "slide_type": "slide"
    }
   },
   "source": [
    "### DataFrames em `babypandas` 🐼\n",
    "\n",
    "- As tabelas em `babypandas` (e `pandas`) são chamadas de \"DataFrames\".\n",
    "- Para usar DataFrames, precisaremos importar `babypandas`. (Precisaremos de `numpy` também.)"
   ]
  },
  {
   "cell_type": "code",
   "execution_count": 1,
   "metadata": {
    "execution": {
     "iopub.execute_input": "2024-04-02T17:44:03.904687Z",
     "iopub.status.busy": "2024-04-02T17:44:03.903919Z",
     "iopub.status.idle": "2024-04-02T17:44:04.232672Z",
     "shell.execute_reply": "2024-04-02T17:44:04.231991Z"
    },
    "slideshow": {
     "slide_type": "-"
    }
   },
   "outputs": [],
   "source": [
    "import babypandas as bpd\n",
    "import numpy as np"
   ]
  },
  {
   "cell_type": "markdown",
   "metadata": {
    "slideshow": {
     "slide_type": "slide"
    }
   },
   "source": [
    "### Sobre os dados: Feira da Afonso Pena 👷\n",
    "\n",
    "- Normalmente trabalharemos com dados armazenados no formato CSV. CSV significa “valores separados por vírgula”.\n",
    "- O arquivo [afonso_pena.csv](https://raw.githubusercontent.com/flaviovdf/fcd/master/assets/05-BabyPandas/images/) contém informações sobre as barracas da feira. Tais dados foram coletados da Prefeitura de Belo Horizonte [Dados Abertos PBH](https://dados.pbh.gov.br/dataset/dicionario-de-dados-feira-afonso-pena-barraca).\n",
    "\n",
    "![](https://raw.githubusercontent.com/flaviovdf/fcd/master/assets/05-BabyPandas/images/afonsopena.webp)"
   ]
  },
  {
   "cell_type": "markdown",
   "metadata": {
    "slideshow": {
     "slide_type": "slide"
    }
   },
   "source": [
    "### Lendo dados de um arquivo 📖\n",
    "\n",
    "Podemos ler em um CSV usando `bpd.read_csv(...)`. Forneça o caminho para um arquivo relativo ao seu notebook (se o arquivo estiver na mesma pasta do seu notebook, esse é apenas o nome do arquivo)."
   ]
  },
  {
   "cell_type": "code",
   "execution_count": 2,
   "metadata": {
    "execution": {
     "iopub.execute_input": "2024-04-02T17:44:04.235458Z",
     "iopub.status.busy": "2024-04-02T17:44:04.235148Z",
     "iopub.status.idle": "2024-04-02T17:44:04.251191Z",
     "shell.execute_reply": "2024-04-02T17:44:04.250566Z"
    }
   },
   "outputs": [],
   "source": [
    "# para rodar no colab use 'https://raw.githubusercontent.com/flaviovdf/fcd/main/assets/06-GroupBy/data/afonso_pena.csv'\n",
    "# i.e., afonso_pena = bpd.read_csv('https://raw.githubusercontent.com/flaviovdf/fcd/main/assets/06-GroupBy/data/afonso_pena.csv')\n",
    "afonso_pena = bpd.read_csv('afonso_pena.csv')"
   ]
  },
  {
   "cell_type": "markdown",
   "metadata": {
    "slideshow": {
     "slide_type": "slide"
    }
   },
   "source": [
    "### Estrutura de um DataFrame\n",
    "\n",
    "- DataFrames possuem *colunas* e *linhas*.\n",
    "- Pense em cada coluna como um array. As colunas contêm dados do mesmo `tipo`.\n",
    "- Cada coluna possui um rótulo, por ex. `'NOME_SETOR'` e `'NOME_FEIRANTE'`.\n",
    "- O rótulo de uma coluna é o seu nome.\n",
    "- Os rótulos das colunas são armazenados como strings.\n",
    "- Cada linha também possui um rótulo.\n",
    "- Juntos, os rótulos das linhas são chamados de _índice_. O índice **não** é uma coluna!\n"
   ]
  },
  {
   "cell_type": "code",
   "execution_count": 3,
   "metadata": {
    "execution": {
     "iopub.execute_input": "2024-04-02T17:44:04.254257Z",
     "iopub.status.busy": "2024-04-02T17:44:04.254020Z",
     "iopub.status.idle": "2024-04-02T17:44:04.271284Z",
     "shell.execute_reply": "2024-04-02T17:44:04.270587Z"
    },
    "scrolled": true,
    "slideshow": {
     "slide_type": "-"
    }
   },
   "outputs": [
    {
     "data": {
      "text/html": [
       "<div>\n",
       "<style scoped>\n",
       "    .dataframe tbody tr th:only-of-type {\n",
       "        vertical-align: middle;\n",
       "    }\n",
       "\n",
       "    .dataframe tbody tr th {\n",
       "        vertical-align: top;\n",
       "    }\n",
       "\n",
       "    .dataframe thead th {\n",
       "        text-align: right;\n",
       "    }\n",
       "</style>\n",
       "<table border=\"1\" class=\"dataframe\">\n",
       "  <thead>\n",
       "    <tr style=\"text-align: right;\">\n",
       "      <th></th>\n",
       "      <th>ID_FEIRA_AFONSO_PENA_BARRACA</th>\n",
       "      <th>CODIGO_VAGA</th>\n",
       "      <th>NOME_FANTASIA</th>\n",
       "      <th>NOME_FEIRANTE</th>\n",
       "      <th>NOME_PREPOSTO</th>\n",
       "      <th>NOME_SETOR</th>\n",
       "      <th>PRODUTOS</th>\n",
       "      <th>NUMERO_PRODUTOS_CADASTRADOS</th>\n",
       "      <th>AREA</th>\n",
       "    </tr>\n",
       "  </thead>\n",
       "  <tbody>\n",
       "    <tr>\n",
       "      <th>0</th>\n",
       "      <td>83</td>\n",
       "      <td>F.F2.V016</td>\n",
       "      <td>BARRACA CARMEN EMMANUEL DOS SANTOS SILVA</td>\n",
       "      <td>CARMEN EMMANUEL DOS SANTOS SILVA</td>\n",
       "      <td>JANA FONSECA VIEIRA</td>\n",
       "      <td>Criança</td>\n",
       "      <td>BOLSA DE BEBÊ, MALA DE MATERNIDADE, NECESSÁIRE...</td>\n",
       "      <td>5.0</td>\n",
       "      <td>11.838911</td>\n",
       "    </tr>\n",
       "    <tr>\n",
       "      <th>1</th>\n",
       "      <td>84</td>\n",
       "      <td>G.F3.V052</td>\n",
       "      <td>BARRACA CARMEN FERNANDA ROCHA DE ALCANTARA</td>\n",
       "      <td>CARMEN FERNANDA ROCHA DE ALCANTARA</td>\n",
       "      <td>KARINA RODRIGUES BRANDORFI</td>\n",
       "      <td>Bijouterias</td>\n",
       "      <td>BRINCO, ANEL, PULSEIRA, COLAR, ARCO</td>\n",
       "      <td>5.0</td>\n",
       "      <td>11.838911</td>\n",
       "    </tr>\n",
       "    <tr>\n",
       "      <th>2</th>\n",
       "      <td>85</td>\n",
       "      <td>E.F4.V003</td>\n",
       "      <td>BARRACA CARMEN LÚCIA CARVALHO DE ALMEIDA</td>\n",
       "      <td>CARMEN LÚCIA CARVALHO DE ALMEIDA</td>\n",
       "      <td>BARBARA ISABELLE CARVALHO DE PAULA</td>\n",
       "      <td>Vestuário Infantil</td>\n",
       "      <td>VESTIDO, CONJUNTO, MACACÃO</td>\n",
       "      <td>3.0</td>\n",
       "      <td>11.838911</td>\n",
       "    </tr>\n",
       "    <tr>\n",
       "      <th>3</th>\n",
       "      <td>86</td>\n",
       "      <td>E.F2.V004</td>\n",
       "      <td>BARRACA CECÍLIA PAGANO NEVES SALAZAR</td>\n",
       "      <td>CECÍLIA PAGANO NEVES SALAZAR</td>\n",
       "      <td>GISELE PAGANO NEVES SALAZAR</td>\n",
       "      <td>Vestuário Infantil</td>\n",
       "      <td>MACACÃO, BLUSA, SAPATINHO</td>\n",
       "      <td>3.0</td>\n",
       "      <td>11.827592</td>\n",
       "    </tr>\n",
       "    <tr>\n",
       "      <th>4</th>\n",
       "      <td>87</td>\n",
       "      <td>D.F2.V016</td>\n",
       "      <td>BARRACA CÉLIA APARECIDA DE SOUZA</td>\n",
       "      <td>CÉLIA APARECIDA DE SOUZA</td>\n",
       "      <td>EDSON PIRES DE SOUZA</td>\n",
       "      <td>Vestuário</td>\n",
       "      <td>BLUSA, BERMUDA, ROUPA DE GINÁSTICA, SAIA, VEST...</td>\n",
       "      <td>7.0</td>\n",
       "      <td>11.827592</td>\n",
       "    </tr>\n",
       "    <tr>\n",
       "      <th>...</th>\n",
       "      <td>...</td>\n",
       "      <td>...</td>\n",
       "      <td>...</td>\n",
       "      <td>...</td>\n",
       "      <td>...</td>\n",
       "      <td>...</td>\n",
       "      <td>...</td>\n",
       "      <td>...</td>\n",
       "      <td>...</td>\n",
       "    </tr>\n",
       "    <tr>\n",
       "      <th>1245</th>\n",
       "      <td>1350</td>\n",
       "      <td>G.F4.V014</td>\n",
       "      <td>BARRACA HELCIO LICIO SILVA</td>\n",
       "      <td>HELCIO LICIO SILVA</td>\n",
       "      <td>GRAZIELA CRISTINA RAMALHO SILVA</td>\n",
       "      <td>Bijouterias</td>\n",
       "      <td>ANEL, COLAR, BROCHE, BRINCO, PULSEIRA, ALIANÇA...</td>\n",
       "      <td>7.0</td>\n",
       "      <td>11.838911</td>\n",
       "    </tr>\n",
       "    <tr>\n",
       "      <th>1246</th>\n",
       "      <td>1351</td>\n",
       "      <td>J.F1.V004</td>\n",
       "      <td>BARRACA DIEGO DOS SANTOS DIAS</td>\n",
       "      <td>DIEGO DOS SANTOS DIAS</td>\n",
       "      <td>CELSO DE SOUZA LINHARES</td>\n",
       "      <td>Calçados</td>\n",
       "      <td>RASTEIRINHA, SAPATO, SANDÁLIA</td>\n",
       "      <td>3.0</td>\n",
       "      <td>11.827592</td>\n",
       "    </tr>\n",
       "    <tr>\n",
       "      <th>1247</th>\n",
       "      <td>1352</td>\n",
       "      <td>D.F4.V050</td>\n",
       "      <td>BARRACA JAIR CORREA</td>\n",
       "      <td>JAIR CORREA</td>\n",
       "      <td>Keli Aparecida Batista Correa</td>\n",
       "      <td>Vestuário</td>\n",
       "      <td>VESTIDO DE MALHA, BATA DE TECIDO, CONJUNTO, SA...</td>\n",
       "      <td>5.0</td>\n",
       "      <td>11.827592</td>\n",
       "    </tr>\n",
       "    <tr>\n",
       "      <th>1248</th>\n",
       "      <td>1353</td>\n",
       "      <td>G.F2.V010</td>\n",
       "      <td>BARRACA SIDNEY FERNANDO KNEIPP SOARES</td>\n",
       "      <td>SIDNEY FERNANDO KNEIPP SOARES</td>\n",
       "      <td>ANA PAULA FAUSTINA DE SOUZA</td>\n",
       "      <td>Bijouterias</td>\n",
       "      <td>COLAR, GARGANTILHA, ARCO, ANEL, PASSADOR DE CA...</td>\n",
       "      <td>7.0</td>\n",
       "      <td>11.838911</td>\n",
       "    </tr>\n",
       "    <tr>\n",
       "      <th>1249</th>\n",
       "      <td>1354</td>\n",
       "      <td>G.F1.V061</td>\n",
       "      <td>BARRACA REGINA GARCIA FERREIRA</td>\n",
       "      <td>REGINA GARCIA FERREIRA</td>\n",
       "      <td>Rejane Garcia Ferreira Clemente</td>\n",
       "      <td>Bijouterias</td>\n",
       "      <td>COLAR DE METAL, PRESILHA, PASSADOR DE CABELO, ...</td>\n",
       "      <td>4.0</td>\n",
       "      <td>11.827592</td>\n",
       "    </tr>\n",
       "  </tbody>\n",
       "</table>\n",
       "<p>1250 rows × 9 columns</p>\n",
       "</div>"
      ],
      "text/plain": [
       "      ID_FEIRA_AFONSO_PENA_BARRACA CODIGO_VAGA  \\\n",
       "0                               83   F.F2.V016   \n",
       "1                               84   G.F3.V052   \n",
       "2                               85   E.F4.V003   \n",
       "3                               86   E.F2.V004   \n",
       "4                               87   D.F2.V016   \n",
       "...                            ...         ...   \n",
       "1245                          1350   G.F4.V014   \n",
       "1246                          1351   J.F1.V004   \n",
       "1247                          1352   D.F4.V050   \n",
       "1248                          1353   G.F2.V010   \n",
       "1249                          1354   G.F1.V061   \n",
       "\n",
       "                                   NOME_FANTASIA  \\\n",
       "0       BARRACA CARMEN EMMANUEL DOS SANTOS SILVA   \n",
       "1     BARRACA CARMEN FERNANDA ROCHA DE ALCANTARA   \n",
       "2       BARRACA CARMEN LÚCIA CARVALHO DE ALMEIDA   \n",
       "3           BARRACA CECÍLIA PAGANO NEVES SALAZAR   \n",
       "4               BARRACA CÉLIA APARECIDA DE SOUZA   \n",
       "...                                          ...   \n",
       "1245                  BARRACA HELCIO LICIO SILVA   \n",
       "1246               BARRACA DIEGO DOS SANTOS DIAS   \n",
       "1247                         BARRACA JAIR CORREA   \n",
       "1248       BARRACA SIDNEY FERNANDO KNEIPP SOARES   \n",
       "1249              BARRACA REGINA GARCIA FERREIRA   \n",
       "\n",
       "                           NOME_FEIRANTE                       NOME_PREPOSTO  \\\n",
       "0       CARMEN EMMANUEL DOS SANTOS SILVA                 JANA FONSECA VIEIRA   \n",
       "1     CARMEN FERNANDA ROCHA DE ALCANTARA          KARINA RODRIGUES BRANDORFI   \n",
       "2       CARMEN LÚCIA CARVALHO DE ALMEIDA  BARBARA ISABELLE CARVALHO DE PAULA   \n",
       "3           CECÍLIA PAGANO NEVES SALAZAR         GISELE PAGANO NEVES SALAZAR   \n",
       "4               CÉLIA APARECIDA DE SOUZA                EDSON PIRES DE SOUZA   \n",
       "...                                  ...                                 ...   \n",
       "1245                  HELCIO LICIO SILVA     GRAZIELA CRISTINA RAMALHO SILVA   \n",
       "1246               DIEGO DOS SANTOS DIAS             CELSO DE SOUZA LINHARES   \n",
       "1247                         JAIR CORREA       Keli Aparecida Batista Correa   \n",
       "1248       SIDNEY FERNANDO KNEIPP SOARES         ANA PAULA FAUSTINA DE SOUZA   \n",
       "1249              REGINA GARCIA FERREIRA     Rejane Garcia Ferreira Clemente   \n",
       "\n",
       "              NOME_SETOR                                           PRODUTOS  \\\n",
       "0                Criança  BOLSA DE BEBÊ, MALA DE MATERNIDADE, NECESSÁIRE...   \n",
       "1            Bijouterias                BRINCO, ANEL, PULSEIRA, COLAR, ARCO   \n",
       "2     Vestuário Infantil                         VESTIDO, CONJUNTO, MACACÃO   \n",
       "3     Vestuário Infantil                          MACACÃO, BLUSA, SAPATINHO   \n",
       "4              Vestuário  BLUSA, BERMUDA, ROUPA DE GINÁSTICA, SAIA, VEST...   \n",
       "...                  ...                                                ...   \n",
       "1245         Bijouterias  ANEL, COLAR, BROCHE, BRINCO, PULSEIRA, ALIANÇA...   \n",
       "1246            Calçados                      RASTEIRINHA, SAPATO, SANDÁLIA   \n",
       "1247           Vestuário  VESTIDO DE MALHA, BATA DE TECIDO, CONJUNTO, SA...   \n",
       "1248         Bijouterias  COLAR, GARGANTILHA, ARCO, ANEL, PASSADOR DE CA...   \n",
       "1249         Bijouterias  COLAR DE METAL, PRESILHA, PASSADOR DE CABELO, ...   \n",
       "\n",
       "      NUMERO_PRODUTOS_CADASTRADOS       AREA  \n",
       "0                             5.0  11.838911  \n",
       "1                             5.0  11.838911  \n",
       "2                             3.0  11.838911  \n",
       "3                             3.0  11.827592  \n",
       "4                             7.0  11.827592  \n",
       "...                           ...        ...  \n",
       "1245                          7.0  11.838911  \n",
       "1246                          3.0  11.827592  \n",
       "1247                          5.0  11.827592  \n",
       "1248                          7.0  11.838911  \n",
       "1249                          4.0  11.827592  \n",
       "\n",
       "[1250 rows x 9 columns]"
      ]
     },
     "execution_count": 3,
     "metadata": {},
     "output_type": "execute_result"
    }
   ],
   "source": [
    "afonso_pena"
   ]
  },
  {
   "cell_type": "markdown",
   "metadata": {
    "slideshow": {
     "slide_type": "slide"
    }
   },
   "source": [
    "### Configurando um novo índice\n",
    "\n",
    "- Podemos definir um índice melhor usando `.set_index(column_name)`.\n",
    "- Os rótulos das linhas devem ser identificadores exclusivos.\n",
    "- Os rótulos das linhas são nomes de linhas; idealmente, cada linha tem um nome descritivo diferente.\n",
    "- ⚠️ Como a maioria dos métodos DataFrame, `.set_index` retorna um novo DataFrame; não modifica o DataFrame original."
   ]
  },
  {
   "cell_type": "code",
   "execution_count": 4,
   "metadata": {
    "execution": {
     "iopub.execute_input": "2024-04-02T17:44:04.309935Z",
     "iopub.status.busy": "2024-04-02T17:44:04.309503Z",
     "iopub.status.idle": "2024-04-02T17:44:04.321890Z",
     "shell.execute_reply": "2024-04-02T17:44:04.321183Z"
    }
   },
   "outputs": [
    {
     "data": {
      "text/html": [
       "<div>\n",
       "<style scoped>\n",
       "    .dataframe tbody tr th:only-of-type {\n",
       "        vertical-align: middle;\n",
       "    }\n",
       "\n",
       "    .dataframe tbody tr th {\n",
       "        vertical-align: top;\n",
       "    }\n",
       "\n",
       "    .dataframe thead th {\n",
       "        text-align: right;\n",
       "    }\n",
       "</style>\n",
       "<table border=\"1\" class=\"dataframe\">\n",
       "  <thead>\n",
       "    <tr style=\"text-align: right;\">\n",
       "      <th></th>\n",
       "      <th>CODIGO_VAGA</th>\n",
       "      <th>NOME_FANTASIA</th>\n",
       "      <th>NOME_FEIRANTE</th>\n",
       "      <th>NOME_PREPOSTO</th>\n",
       "      <th>NOME_SETOR</th>\n",
       "      <th>PRODUTOS</th>\n",
       "      <th>NUMERO_PRODUTOS_CADASTRADOS</th>\n",
       "      <th>AREA</th>\n",
       "    </tr>\n",
       "    <tr>\n",
       "      <th>ID_FEIRA_AFONSO_PENA_BARRACA</th>\n",
       "      <th></th>\n",
       "      <th></th>\n",
       "      <th></th>\n",
       "      <th></th>\n",
       "      <th></th>\n",
       "      <th></th>\n",
       "      <th></th>\n",
       "      <th></th>\n",
       "    </tr>\n",
       "  </thead>\n",
       "  <tbody>\n",
       "    <tr>\n",
       "      <th>83</th>\n",
       "      <td>F.F2.V016</td>\n",
       "      <td>BARRACA CARMEN EMMANUEL DOS SANTOS SILVA</td>\n",
       "      <td>CARMEN EMMANUEL DOS SANTOS SILVA</td>\n",
       "      <td>JANA FONSECA VIEIRA</td>\n",
       "      <td>Criança</td>\n",
       "      <td>BOLSA DE BEBÊ, MALA DE MATERNIDADE, NECESSÁIRE...</td>\n",
       "      <td>5.0</td>\n",
       "      <td>11.838911</td>\n",
       "    </tr>\n",
       "    <tr>\n",
       "      <th>84</th>\n",
       "      <td>G.F3.V052</td>\n",
       "      <td>BARRACA CARMEN FERNANDA ROCHA DE ALCANTARA</td>\n",
       "      <td>CARMEN FERNANDA ROCHA DE ALCANTARA</td>\n",
       "      <td>KARINA RODRIGUES BRANDORFI</td>\n",
       "      <td>Bijouterias</td>\n",
       "      <td>BRINCO, ANEL, PULSEIRA, COLAR, ARCO</td>\n",
       "      <td>5.0</td>\n",
       "      <td>11.838911</td>\n",
       "    </tr>\n",
       "    <tr>\n",
       "      <th>85</th>\n",
       "      <td>E.F4.V003</td>\n",
       "      <td>BARRACA CARMEN LÚCIA CARVALHO DE ALMEIDA</td>\n",
       "      <td>CARMEN LÚCIA CARVALHO DE ALMEIDA</td>\n",
       "      <td>BARBARA ISABELLE CARVALHO DE PAULA</td>\n",
       "      <td>Vestuário Infantil</td>\n",
       "      <td>VESTIDO, CONJUNTO, MACACÃO</td>\n",
       "      <td>3.0</td>\n",
       "      <td>11.838911</td>\n",
       "    </tr>\n",
       "    <tr>\n",
       "      <th>86</th>\n",
       "      <td>E.F2.V004</td>\n",
       "      <td>BARRACA CECÍLIA PAGANO NEVES SALAZAR</td>\n",
       "      <td>CECÍLIA PAGANO NEVES SALAZAR</td>\n",
       "      <td>GISELE PAGANO NEVES SALAZAR</td>\n",
       "      <td>Vestuário Infantil</td>\n",
       "      <td>MACACÃO, BLUSA, SAPATINHO</td>\n",
       "      <td>3.0</td>\n",
       "      <td>11.827592</td>\n",
       "    </tr>\n",
       "    <tr>\n",
       "      <th>87</th>\n",
       "      <td>D.F2.V016</td>\n",
       "      <td>BARRACA CÉLIA APARECIDA DE SOUZA</td>\n",
       "      <td>CÉLIA APARECIDA DE SOUZA</td>\n",
       "      <td>EDSON PIRES DE SOUZA</td>\n",
       "      <td>Vestuário</td>\n",
       "      <td>BLUSA, BERMUDA, ROUPA DE GINÁSTICA, SAIA, VEST...</td>\n",
       "      <td>7.0</td>\n",
       "      <td>11.827592</td>\n",
       "    </tr>\n",
       "    <tr>\n",
       "      <th>...</th>\n",
       "      <td>...</td>\n",
       "      <td>...</td>\n",
       "      <td>...</td>\n",
       "      <td>...</td>\n",
       "      <td>...</td>\n",
       "      <td>...</td>\n",
       "      <td>...</td>\n",
       "      <td>...</td>\n",
       "    </tr>\n",
       "    <tr>\n",
       "      <th>1350</th>\n",
       "      <td>G.F4.V014</td>\n",
       "      <td>BARRACA HELCIO LICIO SILVA</td>\n",
       "      <td>HELCIO LICIO SILVA</td>\n",
       "      <td>GRAZIELA CRISTINA RAMALHO SILVA</td>\n",
       "      <td>Bijouterias</td>\n",
       "      <td>ANEL, COLAR, BROCHE, BRINCO, PULSEIRA, ALIANÇA...</td>\n",
       "      <td>7.0</td>\n",
       "      <td>11.838911</td>\n",
       "    </tr>\n",
       "    <tr>\n",
       "      <th>1351</th>\n",
       "      <td>J.F1.V004</td>\n",
       "      <td>BARRACA DIEGO DOS SANTOS DIAS</td>\n",
       "      <td>DIEGO DOS SANTOS DIAS</td>\n",
       "      <td>CELSO DE SOUZA LINHARES</td>\n",
       "      <td>Calçados</td>\n",
       "      <td>RASTEIRINHA, SAPATO, SANDÁLIA</td>\n",
       "      <td>3.0</td>\n",
       "      <td>11.827592</td>\n",
       "    </tr>\n",
       "    <tr>\n",
       "      <th>1352</th>\n",
       "      <td>D.F4.V050</td>\n",
       "      <td>BARRACA JAIR CORREA</td>\n",
       "      <td>JAIR CORREA</td>\n",
       "      <td>Keli Aparecida Batista Correa</td>\n",
       "      <td>Vestuário</td>\n",
       "      <td>VESTIDO DE MALHA, BATA DE TECIDO, CONJUNTO, SA...</td>\n",
       "      <td>5.0</td>\n",
       "      <td>11.827592</td>\n",
       "    </tr>\n",
       "    <tr>\n",
       "      <th>1353</th>\n",
       "      <td>G.F2.V010</td>\n",
       "      <td>BARRACA SIDNEY FERNANDO KNEIPP SOARES</td>\n",
       "      <td>SIDNEY FERNANDO KNEIPP SOARES</td>\n",
       "      <td>ANA PAULA FAUSTINA DE SOUZA</td>\n",
       "      <td>Bijouterias</td>\n",
       "      <td>COLAR, GARGANTILHA, ARCO, ANEL, PASSADOR DE CA...</td>\n",
       "      <td>7.0</td>\n",
       "      <td>11.838911</td>\n",
       "    </tr>\n",
       "    <tr>\n",
       "      <th>1354</th>\n",
       "      <td>G.F1.V061</td>\n",
       "      <td>BARRACA REGINA GARCIA FERREIRA</td>\n",
       "      <td>REGINA GARCIA FERREIRA</td>\n",
       "      <td>Rejane Garcia Ferreira Clemente</td>\n",
       "      <td>Bijouterias</td>\n",
       "      <td>COLAR DE METAL, PRESILHA, PASSADOR DE CABELO, ...</td>\n",
       "      <td>4.0</td>\n",
       "      <td>11.827592</td>\n",
       "    </tr>\n",
       "  </tbody>\n",
       "</table>\n",
       "<p>1250 rows × 8 columns</p>\n",
       "</div>"
      ],
      "text/plain": [
       "                             CODIGO_VAGA  \\\n",
       "ID_FEIRA_AFONSO_PENA_BARRACA               \n",
       "83                             F.F2.V016   \n",
       "84                             G.F3.V052   \n",
       "85                             E.F4.V003   \n",
       "86                             E.F2.V004   \n",
       "87                             D.F2.V016   \n",
       "...                                  ...   \n",
       "1350                           G.F4.V014   \n",
       "1351                           J.F1.V004   \n",
       "1352                           D.F4.V050   \n",
       "1353                           G.F2.V010   \n",
       "1354                           G.F1.V061   \n",
       "\n",
       "                                                           NOME_FANTASIA  \\\n",
       "ID_FEIRA_AFONSO_PENA_BARRACA                                               \n",
       "83                              BARRACA CARMEN EMMANUEL DOS SANTOS SILVA   \n",
       "84                            BARRACA CARMEN FERNANDA ROCHA DE ALCANTARA   \n",
       "85                              BARRACA CARMEN LÚCIA CARVALHO DE ALMEIDA   \n",
       "86                                  BARRACA CECÍLIA PAGANO NEVES SALAZAR   \n",
       "87                                      BARRACA CÉLIA APARECIDA DE SOUZA   \n",
       "...                                                                  ...   \n",
       "1350                                          BARRACA HELCIO LICIO SILVA   \n",
       "1351                                       BARRACA DIEGO DOS SANTOS DIAS   \n",
       "1352                                                 BARRACA JAIR CORREA   \n",
       "1353                               BARRACA SIDNEY FERNANDO KNEIPP SOARES   \n",
       "1354                                      BARRACA REGINA GARCIA FERREIRA   \n",
       "\n",
       "                                                   NOME_FEIRANTE  \\\n",
       "ID_FEIRA_AFONSO_PENA_BARRACA                                       \n",
       "83                              CARMEN EMMANUEL DOS SANTOS SILVA   \n",
       "84                            CARMEN FERNANDA ROCHA DE ALCANTARA   \n",
       "85                              CARMEN LÚCIA CARVALHO DE ALMEIDA   \n",
       "86                                  CECÍLIA PAGANO NEVES SALAZAR   \n",
       "87                                      CÉLIA APARECIDA DE SOUZA   \n",
       "...                                                          ...   \n",
       "1350                                          HELCIO LICIO SILVA   \n",
       "1351                                       DIEGO DOS SANTOS DIAS   \n",
       "1352                                                 JAIR CORREA   \n",
       "1353                               SIDNEY FERNANDO KNEIPP SOARES   \n",
       "1354                                      REGINA GARCIA FERREIRA   \n",
       "\n",
       "                                                   NOME_PREPOSTO  \\\n",
       "ID_FEIRA_AFONSO_PENA_BARRACA                                       \n",
       "83                                           JANA FONSECA VIEIRA   \n",
       "84                                    KARINA RODRIGUES BRANDORFI   \n",
       "85                            BARBARA ISABELLE CARVALHO DE PAULA   \n",
       "86                                   GISELE PAGANO NEVES SALAZAR   \n",
       "87                                          EDSON PIRES DE SOUZA   \n",
       "...                                                          ...   \n",
       "1350                             GRAZIELA CRISTINA RAMALHO SILVA   \n",
       "1351                                     CELSO DE SOUZA LINHARES   \n",
       "1352                               Keli Aparecida Batista Correa   \n",
       "1353                                 ANA PAULA FAUSTINA DE SOUZA   \n",
       "1354                             Rejane Garcia Ferreira Clemente   \n",
       "\n",
       "                                      NOME_SETOR  \\\n",
       "ID_FEIRA_AFONSO_PENA_BARRACA                       \n",
       "83                                       Criança   \n",
       "84                                   Bijouterias   \n",
       "85                            Vestuário Infantil   \n",
       "86                            Vestuário Infantil   \n",
       "87                                     Vestuário   \n",
       "...                                          ...   \n",
       "1350                                 Bijouterias   \n",
       "1351                                    Calçados   \n",
       "1352                                   Vestuário   \n",
       "1353                                 Bijouterias   \n",
       "1354                                 Bijouterias   \n",
       "\n",
       "                                                                       PRODUTOS  \\\n",
       "ID_FEIRA_AFONSO_PENA_BARRACA                                                      \n",
       "83                            BOLSA DE BEBÊ, MALA DE MATERNIDADE, NECESSÁIRE...   \n",
       "84                                          BRINCO, ANEL, PULSEIRA, COLAR, ARCO   \n",
       "85                                                   VESTIDO, CONJUNTO, MACACÃO   \n",
       "86                                                    MACACÃO, BLUSA, SAPATINHO   \n",
       "87                            BLUSA, BERMUDA, ROUPA DE GINÁSTICA, SAIA, VEST...   \n",
       "...                                                                         ...   \n",
       "1350                          ANEL, COLAR, BROCHE, BRINCO, PULSEIRA, ALIANÇA...   \n",
       "1351                                              RASTEIRINHA, SAPATO, SANDÁLIA   \n",
       "1352                          VESTIDO DE MALHA, BATA DE TECIDO, CONJUNTO, SA...   \n",
       "1353                          COLAR, GARGANTILHA, ARCO, ANEL, PASSADOR DE CA...   \n",
       "1354                          COLAR DE METAL, PRESILHA, PASSADOR DE CABELO, ...   \n",
       "\n",
       "                              NUMERO_PRODUTOS_CADASTRADOS       AREA  \n",
       "ID_FEIRA_AFONSO_PENA_BARRACA                                          \n",
       "83                                                    5.0  11.838911  \n",
       "84                                                    5.0  11.838911  \n",
       "85                                                    3.0  11.838911  \n",
       "86                                                    3.0  11.827592  \n",
       "87                                                    7.0  11.827592  \n",
       "...                                                   ...        ...  \n",
       "1350                                                  7.0  11.838911  \n",
       "1351                                                  3.0  11.827592  \n",
       "1352                                                  5.0  11.827592  \n",
       "1353                                                  7.0  11.838911  \n",
       "1354                                                  4.0  11.827592  \n",
       "\n",
       "[1250 rows x 8 columns]"
      ]
     },
     "execution_count": 4,
     "metadata": {},
     "output_type": "execute_result"
    }
   ],
   "source": [
    "afonso_pena.set_index('ID_FEIRA_AFONSO_PENA_BARRACA')"
   ]
  },
  {
   "cell_type": "code",
   "execution_count": 5,
   "metadata": {
    "execution": {
     "iopub.execute_input": "2024-04-02T17:44:04.324976Z",
     "iopub.status.busy": "2024-04-02T17:44:04.324713Z",
     "iopub.status.idle": "2024-04-02T17:44:04.339144Z",
     "shell.execute_reply": "2024-04-02T17:44:04.338435Z"
    }
   },
   "outputs": [
    {
     "data": {
      "text/html": [
       "<div>\n",
       "<style scoped>\n",
       "    .dataframe tbody tr th:only-of-type {\n",
       "        vertical-align: middle;\n",
       "    }\n",
       "\n",
       "    .dataframe tbody tr th {\n",
       "        vertical-align: top;\n",
       "    }\n",
       "\n",
       "    .dataframe thead th {\n",
       "        text-align: right;\n",
       "    }\n",
       "</style>\n",
       "<table border=\"1\" class=\"dataframe\">\n",
       "  <thead>\n",
       "    <tr style=\"text-align: right;\">\n",
       "      <th></th>\n",
       "      <th>ID_FEIRA_AFONSO_PENA_BARRACA</th>\n",
       "      <th>CODIGO_VAGA</th>\n",
       "      <th>NOME_FANTASIA</th>\n",
       "      <th>NOME_FEIRANTE</th>\n",
       "      <th>NOME_PREPOSTO</th>\n",
       "      <th>NOME_SETOR</th>\n",
       "      <th>PRODUTOS</th>\n",
       "      <th>NUMERO_PRODUTOS_CADASTRADOS</th>\n",
       "      <th>AREA</th>\n",
       "    </tr>\n",
       "  </thead>\n",
       "  <tbody>\n",
       "    <tr>\n",
       "      <th>0</th>\n",
       "      <td>83</td>\n",
       "      <td>F.F2.V016</td>\n",
       "      <td>BARRACA CARMEN EMMANUEL DOS SANTOS SILVA</td>\n",
       "      <td>CARMEN EMMANUEL DOS SANTOS SILVA</td>\n",
       "      <td>JANA FONSECA VIEIRA</td>\n",
       "      <td>Criança</td>\n",
       "      <td>BOLSA DE BEBÊ, MALA DE MATERNIDADE, NECESSÁIRE...</td>\n",
       "      <td>5.0</td>\n",
       "      <td>11.838911</td>\n",
       "    </tr>\n",
       "    <tr>\n",
       "      <th>1</th>\n",
       "      <td>84</td>\n",
       "      <td>G.F3.V052</td>\n",
       "      <td>BARRACA CARMEN FERNANDA ROCHA DE ALCANTARA</td>\n",
       "      <td>CARMEN FERNANDA ROCHA DE ALCANTARA</td>\n",
       "      <td>KARINA RODRIGUES BRANDORFI</td>\n",
       "      <td>Bijouterias</td>\n",
       "      <td>BRINCO, ANEL, PULSEIRA, COLAR, ARCO</td>\n",
       "      <td>5.0</td>\n",
       "      <td>11.838911</td>\n",
       "    </tr>\n",
       "    <tr>\n",
       "      <th>2</th>\n",
       "      <td>85</td>\n",
       "      <td>E.F4.V003</td>\n",
       "      <td>BARRACA CARMEN LÚCIA CARVALHO DE ALMEIDA</td>\n",
       "      <td>CARMEN LÚCIA CARVALHO DE ALMEIDA</td>\n",
       "      <td>BARBARA ISABELLE CARVALHO DE PAULA</td>\n",
       "      <td>Vestuário Infantil</td>\n",
       "      <td>VESTIDO, CONJUNTO, MACACÃO</td>\n",
       "      <td>3.0</td>\n",
       "      <td>11.838911</td>\n",
       "    </tr>\n",
       "    <tr>\n",
       "      <th>3</th>\n",
       "      <td>86</td>\n",
       "      <td>E.F2.V004</td>\n",
       "      <td>BARRACA CECÍLIA PAGANO NEVES SALAZAR</td>\n",
       "      <td>CECÍLIA PAGANO NEVES SALAZAR</td>\n",
       "      <td>GISELE PAGANO NEVES SALAZAR</td>\n",
       "      <td>Vestuário Infantil</td>\n",
       "      <td>MACACÃO, BLUSA, SAPATINHO</td>\n",
       "      <td>3.0</td>\n",
       "      <td>11.827592</td>\n",
       "    </tr>\n",
       "    <tr>\n",
       "      <th>4</th>\n",
       "      <td>87</td>\n",
       "      <td>D.F2.V016</td>\n",
       "      <td>BARRACA CÉLIA APARECIDA DE SOUZA</td>\n",
       "      <td>CÉLIA APARECIDA DE SOUZA</td>\n",
       "      <td>EDSON PIRES DE SOUZA</td>\n",
       "      <td>Vestuário</td>\n",
       "      <td>BLUSA, BERMUDA, ROUPA DE GINÁSTICA, SAIA, VEST...</td>\n",
       "      <td>7.0</td>\n",
       "      <td>11.827592</td>\n",
       "    </tr>\n",
       "    <tr>\n",
       "      <th>...</th>\n",
       "      <td>...</td>\n",
       "      <td>...</td>\n",
       "      <td>...</td>\n",
       "      <td>...</td>\n",
       "      <td>...</td>\n",
       "      <td>...</td>\n",
       "      <td>...</td>\n",
       "      <td>...</td>\n",
       "      <td>...</td>\n",
       "    </tr>\n",
       "    <tr>\n",
       "      <th>1245</th>\n",
       "      <td>1350</td>\n",
       "      <td>G.F4.V014</td>\n",
       "      <td>BARRACA HELCIO LICIO SILVA</td>\n",
       "      <td>HELCIO LICIO SILVA</td>\n",
       "      <td>GRAZIELA CRISTINA RAMALHO SILVA</td>\n",
       "      <td>Bijouterias</td>\n",
       "      <td>ANEL, COLAR, BROCHE, BRINCO, PULSEIRA, ALIANÇA...</td>\n",
       "      <td>7.0</td>\n",
       "      <td>11.838911</td>\n",
       "    </tr>\n",
       "    <tr>\n",
       "      <th>1246</th>\n",
       "      <td>1351</td>\n",
       "      <td>J.F1.V004</td>\n",
       "      <td>BARRACA DIEGO DOS SANTOS DIAS</td>\n",
       "      <td>DIEGO DOS SANTOS DIAS</td>\n",
       "      <td>CELSO DE SOUZA LINHARES</td>\n",
       "      <td>Calçados</td>\n",
       "      <td>RASTEIRINHA, SAPATO, SANDÁLIA</td>\n",
       "      <td>3.0</td>\n",
       "      <td>11.827592</td>\n",
       "    </tr>\n",
       "    <tr>\n",
       "      <th>1247</th>\n",
       "      <td>1352</td>\n",
       "      <td>D.F4.V050</td>\n",
       "      <td>BARRACA JAIR CORREA</td>\n",
       "      <td>JAIR CORREA</td>\n",
       "      <td>Keli Aparecida Batista Correa</td>\n",
       "      <td>Vestuário</td>\n",
       "      <td>VESTIDO DE MALHA, BATA DE TECIDO, CONJUNTO, SA...</td>\n",
       "      <td>5.0</td>\n",
       "      <td>11.827592</td>\n",
       "    </tr>\n",
       "    <tr>\n",
       "      <th>1248</th>\n",
       "      <td>1353</td>\n",
       "      <td>G.F2.V010</td>\n",
       "      <td>BARRACA SIDNEY FERNANDO KNEIPP SOARES</td>\n",
       "      <td>SIDNEY FERNANDO KNEIPP SOARES</td>\n",
       "      <td>ANA PAULA FAUSTINA DE SOUZA</td>\n",
       "      <td>Bijouterias</td>\n",
       "      <td>COLAR, GARGANTILHA, ARCO, ANEL, PASSADOR DE CA...</td>\n",
       "      <td>7.0</td>\n",
       "      <td>11.838911</td>\n",
       "    </tr>\n",
       "    <tr>\n",
       "      <th>1249</th>\n",
       "      <td>1354</td>\n",
       "      <td>G.F1.V061</td>\n",
       "      <td>BARRACA REGINA GARCIA FERREIRA</td>\n",
       "      <td>REGINA GARCIA FERREIRA</td>\n",
       "      <td>Rejane Garcia Ferreira Clemente</td>\n",
       "      <td>Bijouterias</td>\n",
       "      <td>COLAR DE METAL, PRESILHA, PASSADOR DE CABELO, ...</td>\n",
       "      <td>4.0</td>\n",
       "      <td>11.827592</td>\n",
       "    </tr>\n",
       "  </tbody>\n",
       "</table>\n",
       "<p>1250 rows × 9 columns</p>\n",
       "</div>"
      ],
      "text/plain": [
       "      ID_FEIRA_AFONSO_PENA_BARRACA CODIGO_VAGA  \\\n",
       "0                               83   F.F2.V016   \n",
       "1                               84   G.F3.V052   \n",
       "2                               85   E.F4.V003   \n",
       "3                               86   E.F2.V004   \n",
       "4                               87   D.F2.V016   \n",
       "...                            ...         ...   \n",
       "1245                          1350   G.F4.V014   \n",
       "1246                          1351   J.F1.V004   \n",
       "1247                          1352   D.F4.V050   \n",
       "1248                          1353   G.F2.V010   \n",
       "1249                          1354   G.F1.V061   \n",
       "\n",
       "                                   NOME_FANTASIA  \\\n",
       "0       BARRACA CARMEN EMMANUEL DOS SANTOS SILVA   \n",
       "1     BARRACA CARMEN FERNANDA ROCHA DE ALCANTARA   \n",
       "2       BARRACA CARMEN LÚCIA CARVALHO DE ALMEIDA   \n",
       "3           BARRACA CECÍLIA PAGANO NEVES SALAZAR   \n",
       "4               BARRACA CÉLIA APARECIDA DE SOUZA   \n",
       "...                                          ...   \n",
       "1245                  BARRACA HELCIO LICIO SILVA   \n",
       "1246               BARRACA DIEGO DOS SANTOS DIAS   \n",
       "1247                         BARRACA JAIR CORREA   \n",
       "1248       BARRACA SIDNEY FERNANDO KNEIPP SOARES   \n",
       "1249              BARRACA REGINA GARCIA FERREIRA   \n",
       "\n",
       "                           NOME_FEIRANTE                       NOME_PREPOSTO  \\\n",
       "0       CARMEN EMMANUEL DOS SANTOS SILVA                 JANA FONSECA VIEIRA   \n",
       "1     CARMEN FERNANDA ROCHA DE ALCANTARA          KARINA RODRIGUES BRANDORFI   \n",
       "2       CARMEN LÚCIA CARVALHO DE ALMEIDA  BARBARA ISABELLE CARVALHO DE PAULA   \n",
       "3           CECÍLIA PAGANO NEVES SALAZAR         GISELE PAGANO NEVES SALAZAR   \n",
       "4               CÉLIA APARECIDA DE SOUZA                EDSON PIRES DE SOUZA   \n",
       "...                                  ...                                 ...   \n",
       "1245                  HELCIO LICIO SILVA     GRAZIELA CRISTINA RAMALHO SILVA   \n",
       "1246               DIEGO DOS SANTOS DIAS             CELSO DE SOUZA LINHARES   \n",
       "1247                         JAIR CORREA       Keli Aparecida Batista Correa   \n",
       "1248       SIDNEY FERNANDO KNEIPP SOARES         ANA PAULA FAUSTINA DE SOUZA   \n",
       "1249              REGINA GARCIA FERREIRA     Rejane Garcia Ferreira Clemente   \n",
       "\n",
       "              NOME_SETOR                                           PRODUTOS  \\\n",
       "0                Criança  BOLSA DE BEBÊ, MALA DE MATERNIDADE, NECESSÁIRE...   \n",
       "1            Bijouterias                BRINCO, ANEL, PULSEIRA, COLAR, ARCO   \n",
       "2     Vestuário Infantil                         VESTIDO, CONJUNTO, MACACÃO   \n",
       "3     Vestuário Infantil                          MACACÃO, BLUSA, SAPATINHO   \n",
       "4              Vestuário  BLUSA, BERMUDA, ROUPA DE GINÁSTICA, SAIA, VEST...   \n",
       "...                  ...                                                ...   \n",
       "1245         Bijouterias  ANEL, COLAR, BROCHE, BRINCO, PULSEIRA, ALIANÇA...   \n",
       "1246            Calçados                      RASTEIRINHA, SAPATO, SANDÁLIA   \n",
       "1247           Vestuário  VESTIDO DE MALHA, BATA DE TECIDO, CONJUNTO, SA...   \n",
       "1248         Bijouterias  COLAR, GARGANTILHA, ARCO, ANEL, PASSADOR DE CA...   \n",
       "1249         Bijouterias  COLAR DE METAL, PRESILHA, PASSADOR DE CABELO, ...   \n",
       "\n",
       "      NUMERO_PRODUTOS_CADASTRADOS       AREA  \n",
       "0                             5.0  11.838911  \n",
       "1                             5.0  11.838911  \n",
       "2                             3.0  11.838911  \n",
       "3                             3.0  11.827592  \n",
       "4                             7.0  11.827592  \n",
       "...                           ...        ...  \n",
       "1245                          7.0  11.838911  \n",
       "1246                          3.0  11.827592  \n",
       "1247                          5.0  11.827592  \n",
       "1248                          7.0  11.838911  \n",
       "1249                          4.0  11.827592  \n",
       "\n",
       "[1250 rows x 9 columns]"
      ]
     },
     "execution_count": 5,
     "metadata": {},
     "output_type": "execute_result"
    }
   ],
   "source": [
    "afonso_pena"
   ]
  },
  {
   "cell_type": "code",
   "execution_count": 6,
   "metadata": {
    "execution": {
     "iopub.execute_input": "2024-04-02T17:44:04.342187Z",
     "iopub.status.busy": "2024-04-02T17:44:04.341884Z",
     "iopub.status.idle": "2024-04-02T17:44:04.354000Z",
     "shell.execute_reply": "2024-04-02T17:44:04.353306Z"
    }
   },
   "outputs": [
    {
     "data": {
      "text/html": [
       "<div>\n",
       "<style scoped>\n",
       "    .dataframe tbody tr th:only-of-type {\n",
       "        vertical-align: middle;\n",
       "    }\n",
       "\n",
       "    .dataframe tbody tr th {\n",
       "        vertical-align: top;\n",
       "    }\n",
       "\n",
       "    .dataframe thead th {\n",
       "        text-align: right;\n",
       "    }\n",
       "</style>\n",
       "<table border=\"1\" class=\"dataframe\">\n",
       "  <thead>\n",
       "    <tr style=\"text-align: right;\">\n",
       "      <th></th>\n",
       "      <th>CODIGO_VAGA</th>\n",
       "      <th>NOME_FANTASIA</th>\n",
       "      <th>NOME_FEIRANTE</th>\n",
       "      <th>NOME_PREPOSTO</th>\n",
       "      <th>NOME_SETOR</th>\n",
       "      <th>PRODUTOS</th>\n",
       "      <th>NUMERO_PRODUTOS_CADASTRADOS</th>\n",
       "      <th>AREA</th>\n",
       "    </tr>\n",
       "    <tr>\n",
       "      <th>ID_FEIRA_AFONSO_PENA_BARRACA</th>\n",
       "      <th></th>\n",
       "      <th></th>\n",
       "      <th></th>\n",
       "      <th></th>\n",
       "      <th></th>\n",
       "      <th></th>\n",
       "      <th></th>\n",
       "      <th></th>\n",
       "    </tr>\n",
       "  </thead>\n",
       "  <tbody>\n",
       "    <tr>\n",
       "      <th>83</th>\n",
       "      <td>F.F2.V016</td>\n",
       "      <td>BARRACA CARMEN EMMANUEL DOS SANTOS SILVA</td>\n",
       "      <td>CARMEN EMMANUEL DOS SANTOS SILVA</td>\n",
       "      <td>JANA FONSECA VIEIRA</td>\n",
       "      <td>Criança</td>\n",
       "      <td>BOLSA DE BEBÊ, MALA DE MATERNIDADE, NECESSÁIRE...</td>\n",
       "      <td>5.0</td>\n",
       "      <td>11.838911</td>\n",
       "    </tr>\n",
       "    <tr>\n",
       "      <th>84</th>\n",
       "      <td>G.F3.V052</td>\n",
       "      <td>BARRACA CARMEN FERNANDA ROCHA DE ALCANTARA</td>\n",
       "      <td>CARMEN FERNANDA ROCHA DE ALCANTARA</td>\n",
       "      <td>KARINA RODRIGUES BRANDORFI</td>\n",
       "      <td>Bijouterias</td>\n",
       "      <td>BRINCO, ANEL, PULSEIRA, COLAR, ARCO</td>\n",
       "      <td>5.0</td>\n",
       "      <td>11.838911</td>\n",
       "    </tr>\n",
       "    <tr>\n",
       "      <th>85</th>\n",
       "      <td>E.F4.V003</td>\n",
       "      <td>BARRACA CARMEN LÚCIA CARVALHO DE ALMEIDA</td>\n",
       "      <td>CARMEN LÚCIA CARVALHO DE ALMEIDA</td>\n",
       "      <td>BARBARA ISABELLE CARVALHO DE PAULA</td>\n",
       "      <td>Vestuário Infantil</td>\n",
       "      <td>VESTIDO, CONJUNTO, MACACÃO</td>\n",
       "      <td>3.0</td>\n",
       "      <td>11.838911</td>\n",
       "    </tr>\n",
       "    <tr>\n",
       "      <th>86</th>\n",
       "      <td>E.F2.V004</td>\n",
       "      <td>BARRACA CECÍLIA PAGANO NEVES SALAZAR</td>\n",
       "      <td>CECÍLIA PAGANO NEVES SALAZAR</td>\n",
       "      <td>GISELE PAGANO NEVES SALAZAR</td>\n",
       "      <td>Vestuário Infantil</td>\n",
       "      <td>MACACÃO, BLUSA, SAPATINHO</td>\n",
       "      <td>3.0</td>\n",
       "      <td>11.827592</td>\n",
       "    </tr>\n",
       "    <tr>\n",
       "      <th>87</th>\n",
       "      <td>D.F2.V016</td>\n",
       "      <td>BARRACA CÉLIA APARECIDA DE SOUZA</td>\n",
       "      <td>CÉLIA APARECIDA DE SOUZA</td>\n",
       "      <td>EDSON PIRES DE SOUZA</td>\n",
       "      <td>Vestuário</td>\n",
       "      <td>BLUSA, BERMUDA, ROUPA DE GINÁSTICA, SAIA, VEST...</td>\n",
       "      <td>7.0</td>\n",
       "      <td>11.827592</td>\n",
       "    </tr>\n",
       "    <tr>\n",
       "      <th>...</th>\n",
       "      <td>...</td>\n",
       "      <td>...</td>\n",
       "      <td>...</td>\n",
       "      <td>...</td>\n",
       "      <td>...</td>\n",
       "      <td>...</td>\n",
       "      <td>...</td>\n",
       "      <td>...</td>\n",
       "    </tr>\n",
       "    <tr>\n",
       "      <th>1350</th>\n",
       "      <td>G.F4.V014</td>\n",
       "      <td>BARRACA HELCIO LICIO SILVA</td>\n",
       "      <td>HELCIO LICIO SILVA</td>\n",
       "      <td>GRAZIELA CRISTINA RAMALHO SILVA</td>\n",
       "      <td>Bijouterias</td>\n",
       "      <td>ANEL, COLAR, BROCHE, BRINCO, PULSEIRA, ALIANÇA...</td>\n",
       "      <td>7.0</td>\n",
       "      <td>11.838911</td>\n",
       "    </tr>\n",
       "    <tr>\n",
       "      <th>1351</th>\n",
       "      <td>J.F1.V004</td>\n",
       "      <td>BARRACA DIEGO DOS SANTOS DIAS</td>\n",
       "      <td>DIEGO DOS SANTOS DIAS</td>\n",
       "      <td>CELSO DE SOUZA LINHARES</td>\n",
       "      <td>Calçados</td>\n",
       "      <td>RASTEIRINHA, SAPATO, SANDÁLIA</td>\n",
       "      <td>3.0</td>\n",
       "      <td>11.827592</td>\n",
       "    </tr>\n",
       "    <tr>\n",
       "      <th>1352</th>\n",
       "      <td>D.F4.V050</td>\n",
       "      <td>BARRACA JAIR CORREA</td>\n",
       "      <td>JAIR CORREA</td>\n",
       "      <td>Keli Aparecida Batista Correa</td>\n",
       "      <td>Vestuário</td>\n",
       "      <td>VESTIDO DE MALHA, BATA DE TECIDO, CONJUNTO, SA...</td>\n",
       "      <td>5.0</td>\n",
       "      <td>11.827592</td>\n",
       "    </tr>\n",
       "    <tr>\n",
       "      <th>1353</th>\n",
       "      <td>G.F2.V010</td>\n",
       "      <td>BARRACA SIDNEY FERNANDO KNEIPP SOARES</td>\n",
       "      <td>SIDNEY FERNANDO KNEIPP SOARES</td>\n",
       "      <td>ANA PAULA FAUSTINA DE SOUZA</td>\n",
       "      <td>Bijouterias</td>\n",
       "      <td>COLAR, GARGANTILHA, ARCO, ANEL, PASSADOR DE CA...</td>\n",
       "      <td>7.0</td>\n",
       "      <td>11.838911</td>\n",
       "    </tr>\n",
       "    <tr>\n",
       "      <th>1354</th>\n",
       "      <td>G.F1.V061</td>\n",
       "      <td>BARRACA REGINA GARCIA FERREIRA</td>\n",
       "      <td>REGINA GARCIA FERREIRA</td>\n",
       "      <td>Rejane Garcia Ferreira Clemente</td>\n",
       "      <td>Bijouterias</td>\n",
       "      <td>COLAR DE METAL, PRESILHA, PASSADOR DE CABELO, ...</td>\n",
       "      <td>4.0</td>\n",
       "      <td>11.827592</td>\n",
       "    </tr>\n",
       "  </tbody>\n",
       "</table>\n",
       "<p>1250 rows × 8 columns</p>\n",
       "</div>"
      ],
      "text/plain": [
       "                             CODIGO_VAGA  \\\n",
       "ID_FEIRA_AFONSO_PENA_BARRACA               \n",
       "83                             F.F2.V016   \n",
       "84                             G.F3.V052   \n",
       "85                             E.F4.V003   \n",
       "86                             E.F2.V004   \n",
       "87                             D.F2.V016   \n",
       "...                                  ...   \n",
       "1350                           G.F4.V014   \n",
       "1351                           J.F1.V004   \n",
       "1352                           D.F4.V050   \n",
       "1353                           G.F2.V010   \n",
       "1354                           G.F1.V061   \n",
       "\n",
       "                                                           NOME_FANTASIA  \\\n",
       "ID_FEIRA_AFONSO_PENA_BARRACA                                               \n",
       "83                              BARRACA CARMEN EMMANUEL DOS SANTOS SILVA   \n",
       "84                            BARRACA CARMEN FERNANDA ROCHA DE ALCANTARA   \n",
       "85                              BARRACA CARMEN LÚCIA CARVALHO DE ALMEIDA   \n",
       "86                                  BARRACA CECÍLIA PAGANO NEVES SALAZAR   \n",
       "87                                      BARRACA CÉLIA APARECIDA DE SOUZA   \n",
       "...                                                                  ...   \n",
       "1350                                          BARRACA HELCIO LICIO SILVA   \n",
       "1351                                       BARRACA DIEGO DOS SANTOS DIAS   \n",
       "1352                                                 BARRACA JAIR CORREA   \n",
       "1353                               BARRACA SIDNEY FERNANDO KNEIPP SOARES   \n",
       "1354                                      BARRACA REGINA GARCIA FERREIRA   \n",
       "\n",
       "                                                   NOME_FEIRANTE  \\\n",
       "ID_FEIRA_AFONSO_PENA_BARRACA                                       \n",
       "83                              CARMEN EMMANUEL DOS SANTOS SILVA   \n",
       "84                            CARMEN FERNANDA ROCHA DE ALCANTARA   \n",
       "85                              CARMEN LÚCIA CARVALHO DE ALMEIDA   \n",
       "86                                  CECÍLIA PAGANO NEVES SALAZAR   \n",
       "87                                      CÉLIA APARECIDA DE SOUZA   \n",
       "...                                                          ...   \n",
       "1350                                          HELCIO LICIO SILVA   \n",
       "1351                                       DIEGO DOS SANTOS DIAS   \n",
       "1352                                                 JAIR CORREA   \n",
       "1353                               SIDNEY FERNANDO KNEIPP SOARES   \n",
       "1354                                      REGINA GARCIA FERREIRA   \n",
       "\n",
       "                                                   NOME_PREPOSTO  \\\n",
       "ID_FEIRA_AFONSO_PENA_BARRACA                                       \n",
       "83                                           JANA FONSECA VIEIRA   \n",
       "84                                    KARINA RODRIGUES BRANDORFI   \n",
       "85                            BARBARA ISABELLE CARVALHO DE PAULA   \n",
       "86                                   GISELE PAGANO NEVES SALAZAR   \n",
       "87                                          EDSON PIRES DE SOUZA   \n",
       "...                                                          ...   \n",
       "1350                             GRAZIELA CRISTINA RAMALHO SILVA   \n",
       "1351                                     CELSO DE SOUZA LINHARES   \n",
       "1352                               Keli Aparecida Batista Correa   \n",
       "1353                                 ANA PAULA FAUSTINA DE SOUZA   \n",
       "1354                             Rejane Garcia Ferreira Clemente   \n",
       "\n",
       "                                      NOME_SETOR  \\\n",
       "ID_FEIRA_AFONSO_PENA_BARRACA                       \n",
       "83                                       Criança   \n",
       "84                                   Bijouterias   \n",
       "85                            Vestuário Infantil   \n",
       "86                            Vestuário Infantil   \n",
       "87                                     Vestuário   \n",
       "...                                          ...   \n",
       "1350                                 Bijouterias   \n",
       "1351                                    Calçados   \n",
       "1352                                   Vestuário   \n",
       "1353                                 Bijouterias   \n",
       "1354                                 Bijouterias   \n",
       "\n",
       "                                                                       PRODUTOS  \\\n",
       "ID_FEIRA_AFONSO_PENA_BARRACA                                                      \n",
       "83                            BOLSA DE BEBÊ, MALA DE MATERNIDADE, NECESSÁIRE...   \n",
       "84                                          BRINCO, ANEL, PULSEIRA, COLAR, ARCO   \n",
       "85                                                   VESTIDO, CONJUNTO, MACACÃO   \n",
       "86                                                    MACACÃO, BLUSA, SAPATINHO   \n",
       "87                            BLUSA, BERMUDA, ROUPA DE GINÁSTICA, SAIA, VEST...   \n",
       "...                                                                         ...   \n",
       "1350                          ANEL, COLAR, BROCHE, BRINCO, PULSEIRA, ALIANÇA...   \n",
       "1351                                              RASTEIRINHA, SAPATO, SANDÁLIA   \n",
       "1352                          VESTIDO DE MALHA, BATA DE TECIDO, CONJUNTO, SA...   \n",
       "1353                          COLAR, GARGANTILHA, ARCO, ANEL, PASSADOR DE CA...   \n",
       "1354                          COLAR DE METAL, PRESILHA, PASSADOR DE CABELO, ...   \n",
       "\n",
       "                              NUMERO_PRODUTOS_CADASTRADOS       AREA  \n",
       "ID_FEIRA_AFONSO_PENA_BARRACA                                          \n",
       "83                                                    5.0  11.838911  \n",
       "84                                                    5.0  11.838911  \n",
       "85                                                    3.0  11.838911  \n",
       "86                                                    3.0  11.827592  \n",
       "87                                                    7.0  11.827592  \n",
       "...                                                   ...        ...  \n",
       "1350                                                  7.0  11.838911  \n",
       "1351                                                  3.0  11.827592  \n",
       "1352                                                  5.0  11.827592  \n",
       "1353                                                  7.0  11.838911  \n",
       "1354                                                  4.0  11.827592  \n",
       "\n",
       "[1250 rows x 8 columns]"
      ]
     },
     "execution_count": 6,
     "metadata": {},
     "output_type": "execute_result"
    }
   ],
   "source": [
    "afonso_pena = afonso_pena.set_index('ID_FEIRA_AFONSO_PENA_BARRACA')\n",
    "afonso_pena"
   ]
  },
  {
   "cell_type": "markdown",
   "metadata": {
    "slideshow": {
     "slide_type": "slide"
    }
   },
   "source": [
    "### Forma de um DataFrame\n",
    "\n",
    "- `.shape` retorna o número de linhas e colunas em um determinado DataFrame.\n",
    "- Acesse cada um com `[]`:\n",
    "- `.shape[0]` para linhas.\n",
    "- `.shape[1]` para colunas."
   ]
  },
  {
   "cell_type": "code",
   "execution_count": 7,
   "metadata": {
    "execution": {
     "iopub.execute_input": "2024-04-02T17:44:04.357425Z",
     "iopub.status.busy": "2024-04-02T17:44:04.356753Z",
     "iopub.status.idle": "2024-04-02T17:44:04.361670Z",
     "shell.execute_reply": "2024-04-02T17:44:04.361030Z"
    }
   },
   "outputs": [
    {
     "data": {
      "text/plain": [
       "(1250, 8)"
      ]
     },
     "execution_count": 7,
     "metadata": {},
     "output_type": "execute_result"
    }
   ],
   "source": [
    "# There were 9 columns before, but one of them became the index, and the index is not a column!\n",
    "afonso_pena.shape"
   ]
  },
  {
   "cell_type": "code",
   "execution_count": 8,
   "metadata": {
    "execution": {
     "iopub.execute_input": "2024-04-02T17:44:04.364564Z",
     "iopub.status.busy": "2024-04-02T17:44:04.364306Z",
     "iopub.status.idle": "2024-04-02T17:44:04.368519Z",
     "shell.execute_reply": "2024-04-02T17:44:04.367850Z"
    }
   },
   "outputs": [
    {
     "data": {
      "text/plain": [
       "1250"
      ]
     },
     "execution_count": 8,
     "metadata": {},
     "output_type": "execute_result"
    }
   ],
   "source": [
    "# Number of rows\n",
    "afonso_pena.shape[0]"
   ]
  },
  {
   "cell_type": "code",
   "execution_count": 9,
   "metadata": {
    "execution": {
     "iopub.execute_input": "2024-04-02T17:44:04.371301Z",
     "iopub.status.busy": "2024-04-02T17:44:04.371097Z",
     "iopub.status.idle": "2024-04-02T17:44:04.375373Z",
     "shell.execute_reply": "2024-04-02T17:44:04.374665Z"
    }
   },
   "outputs": [
    {
     "data": {
      "text/plain": [
       "8"
      ]
     },
     "execution_count": 9,
     "metadata": {},
     "output_type": "execute_result"
    }
   ],
   "source": [
    "# Number of columns\n",
    "afonso_pena.shape[1]"
   ]
  },
  {
   "cell_type": "markdown",
   "metadata": {
    "slideshow": {
     "slide_type": "slide"
    }
   },
   "source": [
    "## Exemplo 1: Total, Media e Mediana de Produtos\n",
    "\n",
    "**Conceitos principais:** Acessar colunas, entender operações em colunas numéricas."
   ]
  },
  {
   "cell_type": "markdown",
   "metadata": {
    "slideshow": {
     "slide_type": "slide"
    }
   },
   "source": [
    "### Encontrando o total de solicitações\n",
    "\n",
    "- **Pergunta:** Como sumarizar uma coluna?\n",
    "- Obtenha a coluna\n",
    "- Agregue o valor"
   ]
  },
  {
   "cell_type": "markdown",
   "metadata": {
    "slideshow": {
     "slide_type": "slide"
    }
   },
   "source": [
    "#### Etapa 1 – Obtendo uma coluna\n",
    "\n",
    "- Podemos obter uma coluna de um DataFrame usando `.get(column_name)`.\n",
    "- ⚠️ Os nomes das colunas diferenciam maiúsculas de minúsculas!\n",
    "- Os nomes das colunas são strings, então precisamos usar aspas.\n",
    "- O resultado parece um DataFrame de 1 coluna, mas na verdade é uma *Série*."
   ]
  },
  {
   "cell_type": "code",
   "execution_count": 10,
   "metadata": {
    "execution": {
     "iopub.execute_input": "2024-04-02T17:44:04.378858Z",
     "iopub.status.busy": "2024-04-02T17:44:04.378225Z",
     "iopub.status.idle": "2024-04-02T17:44:04.389771Z",
     "shell.execute_reply": "2024-04-02T17:44:04.389073Z"
    }
   },
   "outputs": [
    {
     "data": {
      "text/html": [
       "<div>\n",
       "<style scoped>\n",
       "    .dataframe tbody tr th:only-of-type {\n",
       "        vertical-align: middle;\n",
       "    }\n",
       "\n",
       "    .dataframe tbody tr th {\n",
       "        vertical-align: top;\n",
       "    }\n",
       "\n",
       "    .dataframe thead th {\n",
       "        text-align: right;\n",
       "    }\n",
       "</style>\n",
       "<table border=\"1\" class=\"dataframe\">\n",
       "  <thead>\n",
       "    <tr style=\"text-align: right;\">\n",
       "      <th></th>\n",
       "      <th>CODIGO_VAGA</th>\n",
       "      <th>NOME_FANTASIA</th>\n",
       "      <th>NOME_FEIRANTE</th>\n",
       "      <th>NOME_PREPOSTO</th>\n",
       "      <th>NOME_SETOR</th>\n",
       "      <th>PRODUTOS</th>\n",
       "      <th>NUMERO_PRODUTOS_CADASTRADOS</th>\n",
       "      <th>AREA</th>\n",
       "    </tr>\n",
       "    <tr>\n",
       "      <th>ID_FEIRA_AFONSO_PENA_BARRACA</th>\n",
       "      <th></th>\n",
       "      <th></th>\n",
       "      <th></th>\n",
       "      <th></th>\n",
       "      <th></th>\n",
       "      <th></th>\n",
       "      <th></th>\n",
       "      <th></th>\n",
       "    </tr>\n",
       "  </thead>\n",
       "  <tbody>\n",
       "    <tr>\n",
       "      <th>83</th>\n",
       "      <td>F.F2.V016</td>\n",
       "      <td>BARRACA CARMEN EMMANUEL DOS SANTOS SILVA</td>\n",
       "      <td>CARMEN EMMANUEL DOS SANTOS SILVA</td>\n",
       "      <td>JANA FONSECA VIEIRA</td>\n",
       "      <td>Criança</td>\n",
       "      <td>BOLSA DE BEBÊ, MALA DE MATERNIDADE, NECESSÁIRE...</td>\n",
       "      <td>5.0</td>\n",
       "      <td>11.838911</td>\n",
       "    </tr>\n",
       "    <tr>\n",
       "      <th>84</th>\n",
       "      <td>G.F3.V052</td>\n",
       "      <td>BARRACA CARMEN FERNANDA ROCHA DE ALCANTARA</td>\n",
       "      <td>CARMEN FERNANDA ROCHA DE ALCANTARA</td>\n",
       "      <td>KARINA RODRIGUES BRANDORFI</td>\n",
       "      <td>Bijouterias</td>\n",
       "      <td>BRINCO, ANEL, PULSEIRA, COLAR, ARCO</td>\n",
       "      <td>5.0</td>\n",
       "      <td>11.838911</td>\n",
       "    </tr>\n",
       "    <tr>\n",
       "      <th>85</th>\n",
       "      <td>E.F4.V003</td>\n",
       "      <td>BARRACA CARMEN LÚCIA CARVALHO DE ALMEIDA</td>\n",
       "      <td>CARMEN LÚCIA CARVALHO DE ALMEIDA</td>\n",
       "      <td>BARBARA ISABELLE CARVALHO DE PAULA</td>\n",
       "      <td>Vestuário Infantil</td>\n",
       "      <td>VESTIDO, CONJUNTO, MACACÃO</td>\n",
       "      <td>3.0</td>\n",
       "      <td>11.838911</td>\n",
       "    </tr>\n",
       "    <tr>\n",
       "      <th>86</th>\n",
       "      <td>E.F2.V004</td>\n",
       "      <td>BARRACA CECÍLIA PAGANO NEVES SALAZAR</td>\n",
       "      <td>CECÍLIA PAGANO NEVES SALAZAR</td>\n",
       "      <td>GISELE PAGANO NEVES SALAZAR</td>\n",
       "      <td>Vestuário Infantil</td>\n",
       "      <td>MACACÃO, BLUSA, SAPATINHO</td>\n",
       "      <td>3.0</td>\n",
       "      <td>11.827592</td>\n",
       "    </tr>\n",
       "    <tr>\n",
       "      <th>87</th>\n",
       "      <td>D.F2.V016</td>\n",
       "      <td>BARRACA CÉLIA APARECIDA DE SOUZA</td>\n",
       "      <td>CÉLIA APARECIDA DE SOUZA</td>\n",
       "      <td>EDSON PIRES DE SOUZA</td>\n",
       "      <td>Vestuário</td>\n",
       "      <td>BLUSA, BERMUDA, ROUPA DE GINÁSTICA, SAIA, VEST...</td>\n",
       "      <td>7.0</td>\n",
       "      <td>11.827592</td>\n",
       "    </tr>\n",
       "    <tr>\n",
       "      <th>...</th>\n",
       "      <td>...</td>\n",
       "      <td>...</td>\n",
       "      <td>...</td>\n",
       "      <td>...</td>\n",
       "      <td>...</td>\n",
       "      <td>...</td>\n",
       "      <td>...</td>\n",
       "      <td>...</td>\n",
       "    </tr>\n",
       "    <tr>\n",
       "      <th>1350</th>\n",
       "      <td>G.F4.V014</td>\n",
       "      <td>BARRACA HELCIO LICIO SILVA</td>\n",
       "      <td>HELCIO LICIO SILVA</td>\n",
       "      <td>GRAZIELA CRISTINA RAMALHO SILVA</td>\n",
       "      <td>Bijouterias</td>\n",
       "      <td>ANEL, COLAR, BROCHE, BRINCO, PULSEIRA, ALIANÇA...</td>\n",
       "      <td>7.0</td>\n",
       "      <td>11.838911</td>\n",
       "    </tr>\n",
       "    <tr>\n",
       "      <th>1351</th>\n",
       "      <td>J.F1.V004</td>\n",
       "      <td>BARRACA DIEGO DOS SANTOS DIAS</td>\n",
       "      <td>DIEGO DOS SANTOS DIAS</td>\n",
       "      <td>CELSO DE SOUZA LINHARES</td>\n",
       "      <td>Calçados</td>\n",
       "      <td>RASTEIRINHA, SAPATO, SANDÁLIA</td>\n",
       "      <td>3.0</td>\n",
       "      <td>11.827592</td>\n",
       "    </tr>\n",
       "    <tr>\n",
       "      <th>1352</th>\n",
       "      <td>D.F4.V050</td>\n",
       "      <td>BARRACA JAIR CORREA</td>\n",
       "      <td>JAIR CORREA</td>\n",
       "      <td>Keli Aparecida Batista Correa</td>\n",
       "      <td>Vestuário</td>\n",
       "      <td>VESTIDO DE MALHA, BATA DE TECIDO, CONJUNTO, SA...</td>\n",
       "      <td>5.0</td>\n",
       "      <td>11.827592</td>\n",
       "    </tr>\n",
       "    <tr>\n",
       "      <th>1353</th>\n",
       "      <td>G.F2.V010</td>\n",
       "      <td>BARRACA SIDNEY FERNANDO KNEIPP SOARES</td>\n",
       "      <td>SIDNEY FERNANDO KNEIPP SOARES</td>\n",
       "      <td>ANA PAULA FAUSTINA DE SOUZA</td>\n",
       "      <td>Bijouterias</td>\n",
       "      <td>COLAR, GARGANTILHA, ARCO, ANEL, PASSADOR DE CA...</td>\n",
       "      <td>7.0</td>\n",
       "      <td>11.838911</td>\n",
       "    </tr>\n",
       "    <tr>\n",
       "      <th>1354</th>\n",
       "      <td>G.F1.V061</td>\n",
       "      <td>BARRACA REGINA GARCIA FERREIRA</td>\n",
       "      <td>REGINA GARCIA FERREIRA</td>\n",
       "      <td>Rejane Garcia Ferreira Clemente</td>\n",
       "      <td>Bijouterias</td>\n",
       "      <td>COLAR DE METAL, PRESILHA, PASSADOR DE CABELO, ...</td>\n",
       "      <td>4.0</td>\n",
       "      <td>11.827592</td>\n",
       "    </tr>\n",
       "  </tbody>\n",
       "</table>\n",
       "<p>1250 rows × 8 columns</p>\n",
       "</div>"
      ],
      "text/plain": [
       "                             CODIGO_VAGA  \\\n",
       "ID_FEIRA_AFONSO_PENA_BARRACA               \n",
       "83                             F.F2.V016   \n",
       "84                             G.F3.V052   \n",
       "85                             E.F4.V003   \n",
       "86                             E.F2.V004   \n",
       "87                             D.F2.V016   \n",
       "...                                  ...   \n",
       "1350                           G.F4.V014   \n",
       "1351                           J.F1.V004   \n",
       "1352                           D.F4.V050   \n",
       "1353                           G.F2.V010   \n",
       "1354                           G.F1.V061   \n",
       "\n",
       "                                                           NOME_FANTASIA  \\\n",
       "ID_FEIRA_AFONSO_PENA_BARRACA                                               \n",
       "83                              BARRACA CARMEN EMMANUEL DOS SANTOS SILVA   \n",
       "84                            BARRACA CARMEN FERNANDA ROCHA DE ALCANTARA   \n",
       "85                              BARRACA CARMEN LÚCIA CARVALHO DE ALMEIDA   \n",
       "86                                  BARRACA CECÍLIA PAGANO NEVES SALAZAR   \n",
       "87                                      BARRACA CÉLIA APARECIDA DE SOUZA   \n",
       "...                                                                  ...   \n",
       "1350                                          BARRACA HELCIO LICIO SILVA   \n",
       "1351                                       BARRACA DIEGO DOS SANTOS DIAS   \n",
       "1352                                                 BARRACA JAIR CORREA   \n",
       "1353                               BARRACA SIDNEY FERNANDO KNEIPP SOARES   \n",
       "1354                                      BARRACA REGINA GARCIA FERREIRA   \n",
       "\n",
       "                                                   NOME_FEIRANTE  \\\n",
       "ID_FEIRA_AFONSO_PENA_BARRACA                                       \n",
       "83                              CARMEN EMMANUEL DOS SANTOS SILVA   \n",
       "84                            CARMEN FERNANDA ROCHA DE ALCANTARA   \n",
       "85                              CARMEN LÚCIA CARVALHO DE ALMEIDA   \n",
       "86                                  CECÍLIA PAGANO NEVES SALAZAR   \n",
       "87                                      CÉLIA APARECIDA DE SOUZA   \n",
       "...                                                          ...   \n",
       "1350                                          HELCIO LICIO SILVA   \n",
       "1351                                       DIEGO DOS SANTOS DIAS   \n",
       "1352                                                 JAIR CORREA   \n",
       "1353                               SIDNEY FERNANDO KNEIPP SOARES   \n",
       "1354                                      REGINA GARCIA FERREIRA   \n",
       "\n",
       "                                                   NOME_PREPOSTO  \\\n",
       "ID_FEIRA_AFONSO_PENA_BARRACA                                       \n",
       "83                                           JANA FONSECA VIEIRA   \n",
       "84                                    KARINA RODRIGUES BRANDORFI   \n",
       "85                            BARBARA ISABELLE CARVALHO DE PAULA   \n",
       "86                                   GISELE PAGANO NEVES SALAZAR   \n",
       "87                                          EDSON PIRES DE SOUZA   \n",
       "...                                                          ...   \n",
       "1350                             GRAZIELA CRISTINA RAMALHO SILVA   \n",
       "1351                                     CELSO DE SOUZA LINHARES   \n",
       "1352                               Keli Aparecida Batista Correa   \n",
       "1353                                 ANA PAULA FAUSTINA DE SOUZA   \n",
       "1354                             Rejane Garcia Ferreira Clemente   \n",
       "\n",
       "                                      NOME_SETOR  \\\n",
       "ID_FEIRA_AFONSO_PENA_BARRACA                       \n",
       "83                                       Criança   \n",
       "84                                   Bijouterias   \n",
       "85                            Vestuário Infantil   \n",
       "86                            Vestuário Infantil   \n",
       "87                                     Vestuário   \n",
       "...                                          ...   \n",
       "1350                                 Bijouterias   \n",
       "1351                                    Calçados   \n",
       "1352                                   Vestuário   \n",
       "1353                                 Bijouterias   \n",
       "1354                                 Bijouterias   \n",
       "\n",
       "                                                                       PRODUTOS  \\\n",
       "ID_FEIRA_AFONSO_PENA_BARRACA                                                      \n",
       "83                            BOLSA DE BEBÊ, MALA DE MATERNIDADE, NECESSÁIRE...   \n",
       "84                                          BRINCO, ANEL, PULSEIRA, COLAR, ARCO   \n",
       "85                                                   VESTIDO, CONJUNTO, MACACÃO   \n",
       "86                                                    MACACÃO, BLUSA, SAPATINHO   \n",
       "87                            BLUSA, BERMUDA, ROUPA DE GINÁSTICA, SAIA, VEST...   \n",
       "...                                                                         ...   \n",
       "1350                          ANEL, COLAR, BROCHE, BRINCO, PULSEIRA, ALIANÇA...   \n",
       "1351                                              RASTEIRINHA, SAPATO, SANDÁLIA   \n",
       "1352                          VESTIDO DE MALHA, BATA DE TECIDO, CONJUNTO, SA...   \n",
       "1353                          COLAR, GARGANTILHA, ARCO, ANEL, PASSADOR DE CA...   \n",
       "1354                          COLAR DE METAL, PRESILHA, PASSADOR DE CABELO, ...   \n",
       "\n",
       "                              NUMERO_PRODUTOS_CADASTRADOS       AREA  \n",
       "ID_FEIRA_AFONSO_PENA_BARRACA                                          \n",
       "83                                                    5.0  11.838911  \n",
       "84                                                    5.0  11.838911  \n",
       "85                                                    3.0  11.838911  \n",
       "86                                                    3.0  11.827592  \n",
       "87                                                    7.0  11.827592  \n",
       "...                                                   ...        ...  \n",
       "1350                                                  7.0  11.838911  \n",
       "1351                                                  3.0  11.827592  \n",
       "1352                                                  5.0  11.827592  \n",
       "1353                                                  7.0  11.838911  \n",
       "1354                                                  4.0  11.827592  \n",
       "\n",
       "[1250 rows x 8 columns]"
      ]
     },
     "execution_count": 10,
     "metadata": {},
     "output_type": "execute_result"
    }
   ],
   "source": [
    "afonso_pena"
   ]
  },
  {
   "cell_type": "code",
   "execution_count": 11,
   "metadata": {
    "execution": {
     "iopub.execute_input": "2024-04-02T17:44:04.392255Z",
     "iopub.status.busy": "2024-04-02T17:44:04.392028Z",
     "iopub.status.idle": "2024-04-02T17:44:04.397741Z",
     "shell.execute_reply": "2024-04-02T17:44:04.396925Z"
    }
   },
   "outputs": [
    {
     "data": {
      "text/plain": [
       "ID_FEIRA_AFONSO_PENA_BARRACA\n",
       "83      5.0\n",
       "84      5.0\n",
       "85      3.0\n",
       "86      3.0\n",
       "87      7.0\n",
       "       ... \n",
       "1350    7.0\n",
       "1351    3.0\n",
       "1352    5.0\n",
       "1353    7.0\n",
       "1354    4.0\n",
       "Name: NUMERO_PRODUTOS_CADASTRADOS, Length: 1250, dtype: float64"
      ]
     },
     "execution_count": 11,
     "metadata": {},
     "output_type": "execute_result"
    }
   ],
   "source": [
    "afonso_pena.get('NUMERO_PRODUTOS_CADASTRADOS')"
   ]
  },
  {
   "cell_type": "markdown",
   "metadata": {
    "slideshow": {
     "slide_type": "slide"
    }
   },
   "source": [
    "### Digressão: Série\n",
    "\n",
    "- Uma *Série* é como um array, mas com um índice.\n",
    "- Em particular, as séries suportam aritmética."
   ]
  },
  {
   "cell_type": "code",
   "execution_count": 12,
   "metadata": {
    "execution": {
     "iopub.execute_input": "2024-04-02T17:44:04.400222Z",
     "iopub.status.busy": "2024-04-02T17:44:04.399979Z",
     "iopub.status.idle": "2024-04-02T17:44:04.408763Z",
     "shell.execute_reply": "2024-04-02T17:44:04.408095Z"
    }
   },
   "outputs": [
    {
     "data": {
      "text/plain": [
       "ID_FEIRA_AFONSO_PENA_BARRACA\n",
       "83      5.0\n",
       "84      5.0\n",
       "85      3.0\n",
       "86      3.0\n",
       "87      7.0\n",
       "       ... \n",
       "1350    7.0\n",
       "1351    3.0\n",
       "1352    5.0\n",
       "1353    7.0\n",
       "1354    4.0\n",
       "Name: NUMERO_PRODUTOS_CADASTRADOS, Length: 1250, dtype: float64"
      ]
     },
     "execution_count": 12,
     "metadata": {},
     "output_type": "execute_result"
    }
   ],
   "source": [
    "afonso_pena.get('NUMERO_PRODUTOS_CADASTRADOS')"
   ]
  },
  {
   "cell_type": "markdown",
   "metadata": {
    "slideshow": {
     "slide_type": "slide"
    }
   },
   "source": [
    "#### Etapa 2 – Calculando o total\n",
    "\n",
    "- Assim como acontece com os arrays, podemos realizar operações aritméticas nas séries"
   ]
  },
  {
   "cell_type": "code",
   "execution_count": 13,
   "metadata": {
    "execution": {
     "iopub.execute_input": "2024-04-02T17:44:04.411098Z",
     "iopub.status.busy": "2024-04-02T17:44:04.410833Z",
     "iopub.status.idle": "2024-04-02T17:44:04.416021Z",
     "shell.execute_reply": "2024-04-02T17:44:04.415405Z"
    }
   },
   "outputs": [
    {
     "data": {
      "text/plain": [
       "7457.0"
      ]
     },
     "execution_count": 13,
     "metadata": {},
     "output_type": "execute_result"
    }
   ],
   "source": [
    "afonso_pena.get('NUMERO_PRODUTOS_CADASTRADOS').sum()"
   ]
  },
  {
   "cell_type": "code",
   "execution_count": 14,
   "metadata": {
    "execution": {
     "iopub.execute_input": "2024-04-02T17:44:04.418880Z",
     "iopub.status.busy": "2024-04-02T17:44:04.418586Z",
     "iopub.status.idle": "2024-04-02T17:44:04.423549Z",
     "shell.execute_reply": "2024-04-02T17:44:04.422925Z"
    },
    "scrolled": true
   },
   "outputs": [
    {
     "data": {
      "text/plain": [
       "21.0"
      ]
     },
     "execution_count": 14,
     "metadata": {},
     "output_type": "execute_result"
    }
   ],
   "source": [
    "afonso_pena.get('NUMERO_PRODUTOS_CADASTRADOS').max()"
   ]
  },
  {
   "cell_type": "code",
   "execution_count": 15,
   "metadata": {
    "execution": {
     "iopub.execute_input": "2024-04-02T17:44:04.425762Z",
     "iopub.status.busy": "2024-04-02T17:44:04.425516Z",
     "iopub.status.idle": "2024-04-02T17:44:04.430000Z",
     "shell.execute_reply": "2024-04-02T17:44:04.429314Z"
    }
   },
   "outputs": [
    {
     "data": {
      "text/plain": [
       "5.9656"
      ]
     },
     "execution_count": 15,
     "metadata": {},
     "output_type": "execute_result"
    }
   ],
   "source": [
    "afonso_pena.get('NUMERO_PRODUTOS_CADASTRADOS').mean()"
   ]
  },
  {
   "cell_type": "markdown",
   "metadata": {
    "slideshow": {
     "slide_type": "slide"
    }
   },
   "source": [
    "## Exemplo 2: Quais feirantes vendem mais produtos?\n",
    "\n",
    "**Conceitos principais**: Classificação. Acessando usando posições inteiras."
   ]
  },
  {
   "cell_type": "markdown",
   "metadata": {
    "slideshow": {
     "slide_type": "slide"
    }
   },
   "source": [
    "#### Etapa 1 – Classificando o DataFrame\n",
    "\n",
    "- Use o método `.sort_values(by=column_name)` para classificar.\n",
    "- O `by=` pode ser omitido, mas ajuda na legibilidade.\n",
    "- Como a maioria dos métodos DataFrame, retorna um novo DataFrame."
   ]
  },
  {
   "cell_type": "code",
   "execution_count": 16,
   "metadata": {
    "execution": {
     "iopub.execute_input": "2024-04-02T17:44:04.433638Z",
     "iopub.status.busy": "2024-04-02T17:44:04.433031Z",
     "iopub.status.idle": "2024-04-02T17:44:04.444369Z",
     "shell.execute_reply": "2024-04-02T17:44:04.443700Z"
    }
   },
   "outputs": [
    {
     "data": {
      "text/html": [
       "<div>\n",
       "<style scoped>\n",
       "    .dataframe tbody tr th:only-of-type {\n",
       "        vertical-align: middle;\n",
       "    }\n",
       "\n",
       "    .dataframe tbody tr th {\n",
       "        vertical-align: top;\n",
       "    }\n",
       "\n",
       "    .dataframe thead th {\n",
       "        text-align: right;\n",
       "    }\n",
       "</style>\n",
       "<table border=\"1\" class=\"dataframe\">\n",
       "  <thead>\n",
       "    <tr style=\"text-align: right;\">\n",
       "      <th></th>\n",
       "      <th>CODIGO_VAGA</th>\n",
       "      <th>NOME_FANTASIA</th>\n",
       "      <th>NOME_FEIRANTE</th>\n",
       "      <th>NOME_PREPOSTO</th>\n",
       "      <th>NOME_SETOR</th>\n",
       "      <th>PRODUTOS</th>\n",
       "      <th>NUMERO_PRODUTOS_CADASTRADOS</th>\n",
       "      <th>AREA</th>\n",
       "    </tr>\n",
       "    <tr>\n",
       "      <th>ID_FEIRA_AFONSO_PENA_BARRACA</th>\n",
       "      <th></th>\n",
       "      <th></th>\n",
       "      <th></th>\n",
       "      <th></th>\n",
       "      <th></th>\n",
       "      <th></th>\n",
       "      <th></th>\n",
       "      <th></th>\n",
       "    </tr>\n",
       "  </thead>\n",
       "  <tbody>\n",
       "    <tr>\n",
       "      <th>545</th>\n",
       "      <td>Y.F1.V027</td>\n",
       "      <td>BARRACA NATALICE BARBOSA DA CONCEIÇÃO</td>\n",
       "      <td>NATALICE BARBOSA DA CONCEIÇÃO</td>\n",
       "      <td>WALDIR BARBOSA DA SILVA</td>\n",
       "      <td>Alimentação</td>\n",
       "      <td>ACARAJÉ</td>\n",
       "      <td>1.0</td>\n",
       "      <td>33.611058</td>\n",
       "    </tr>\n",
       "    <tr>\n",
       "      <th>1019</th>\n",
       "      <td>P.F1.V007</td>\n",
       "      <td>BARRACA EVANDRO TADEU DE OLIVEIRA</td>\n",
       "      <td>EVANDRO TADEU DE OLIVEIRA</td>\n",
       "      <td>JONH WAINE DE ALMEIDA SANTOS</td>\n",
       "      <td>Artes e Pintura</td>\n",
       "      <td>PINTURA ACRÍLICA</td>\n",
       "      <td>1.0</td>\n",
       "      <td>23.790191</td>\n",
       "    </tr>\n",
       "    <tr>\n",
       "      <th>122</th>\n",
       "      <td>E.F4.V001</td>\n",
       "      <td>BARRACA DORA LÚCIA BATISTA  CUNHA</td>\n",
       "      <td>DORA LÚCIA BATISTA  CUNHA</td>\n",
       "      <td>CRISTINA CUNHA ESPERANCA</td>\n",
       "      <td>Vestuário Infantil</td>\n",
       "      <td>VESTIDO</td>\n",
       "      <td>1.0</td>\n",
       "      <td>11.838911</td>\n",
       "    </tr>\n",
       "    <tr>\n",
       "      <th>1331</th>\n",
       "      <td>E.F2.V024</td>\n",
       "      <td>BARRACA VALERIA JANINE VILELA RIBEIRO</td>\n",
       "      <td>VALERIA JANINE VILELA RIBEIRO</td>\n",
       "      <td>AGDA GIOVANNA VILELA</td>\n",
       "      <td>Vestuário Infantil</td>\n",
       "      <td>VESTIDO</td>\n",
       "      <td>1.0</td>\n",
       "      <td>11.827592</td>\n",
       "    </tr>\n",
       "    <tr>\n",
       "      <th>387</th>\n",
       "      <td>I.F3.V031</td>\n",
       "      <td>BARRACA MARIA ANGELICA DOS SANTOS PINTO</td>\n",
       "      <td>MARIA ANGELICA DOS SANTOS PINTO</td>\n",
       "      <td>PABLO TORQUATO SILVA</td>\n",
       "      <td>Cintos, Bolsas e Acessórios</td>\n",
       "      <td>BOLSA</td>\n",
       "      <td>1.0</td>\n",
       "      <td>11.838911</td>\n",
       "    </tr>\n",
       "    <tr>\n",
       "      <th>...</th>\n",
       "      <td>...</td>\n",
       "      <td>...</td>\n",
       "      <td>...</td>\n",
       "      <td>...</td>\n",
       "      <td>...</td>\n",
       "      <td>...</td>\n",
       "      <td>...</td>\n",
       "      <td>...</td>\n",
       "    </tr>\n",
       "    <tr>\n",
       "      <th>653</th>\n",
       "      <td>F.F1.V015</td>\n",
       "      <td>BARRACA SILVIA REGINA NOGUEIRA RIBEIRO</td>\n",
       "      <td>SILVIA REGINA NOGUEIRA RIBEIRO</td>\n",
       "      <td>LIGIA MARIA NOGUEIRA RIBEIRO</td>\n",
       "      <td>Criança</td>\n",
       "      <td>VESTIDO, BLUSA, CONJUNTO VIROL, CALÇA, COLETE,...</td>\n",
       "      <td>20.0</td>\n",
       "      <td>11.827592</td>\n",
       "    </tr>\n",
       "    <tr>\n",
       "      <th>1406</th>\n",
       "      <td>Z.F1.V007</td>\n",
       "      <td>BARRACA FRANCINERE AMARAL CARDOSO RIBEIRO DE S...</td>\n",
       "      <td>FRANCINERE AMARAL CARDOSO RIBEIRO DE SOUZA</td>\n",
       "      <td>RAYKARD AGUIAR DE JESUS</td>\n",
       "      <td>Alimentação</td>\n",
       "      <td>CERVEJA, REFRIGERANTE, SUCO INDUSTRIALIZADO, E...</td>\n",
       "      <td>20.0</td>\n",
       "      <td>33.611058</td>\n",
       "    </tr>\n",
       "    <tr>\n",
       "      <th>336</th>\n",
       "      <td>B.F1.V001</td>\n",
       "      <td>BARRACA LUCY DOS SANTOS SEBASTIAO</td>\n",
       "      <td>LUCY DOS SANTOS SEBASTIAO</td>\n",
       "      <td>LAURO MARTINS DOS SANTOS</td>\n",
       "      <td>Decoração e Utilidades</td>\n",
       "      <td>CERÂMICA VITRIFICADA, MOLDURA, VELA, CASTIÇAL,...</td>\n",
       "      <td>20.0</td>\n",
       "      <td>21.193242</td>\n",
       "    </tr>\n",
       "    <tr>\n",
       "      <th>491</th>\n",
       "      <td>F.F2.V011</td>\n",
       "      <td>BARRACA MARILEA IMACULADA MUNIZ COSTA</td>\n",
       "      <td>MARILEA IMACULADA MUNIZ COSTA</td>\n",
       "      <td>KELLINGTON NONATO MUNIZ COSTA</td>\n",
       "      <td>Criança</td>\n",
       "      <td>KIT BERÇO, CORTINADO, BONECA DE PELÚCIA, SAIA ...</td>\n",
       "      <td>21.0</td>\n",
       "      <td>11.827592</td>\n",
       "    </tr>\n",
       "    <tr>\n",
       "      <th>109</th>\n",
       "      <td>Y.F1.V012</td>\n",
       "      <td>BARRACA DAYSE PINTO NORBERTO</td>\n",
       "      <td>DAYSE PINTO NORBERTO</td>\n",
       "      <td>DJALMA ANTÔNIO DE FREITAS</td>\n",
       "      <td>Alimentação</td>\n",
       "      <td>CERVEJA, TORRESMO, CHIPS, AZEITONA, REFRIGERAN...</td>\n",
       "      <td>21.0</td>\n",
       "      <td>33.611057</td>\n",
       "    </tr>\n",
       "  </tbody>\n",
       "</table>\n",
       "<p>1250 rows × 8 columns</p>\n",
       "</div>"
      ],
      "text/plain": [
       "                             CODIGO_VAGA  \\\n",
       "ID_FEIRA_AFONSO_PENA_BARRACA               \n",
       "545                            Y.F1.V027   \n",
       "1019                           P.F1.V007   \n",
       "122                            E.F4.V001   \n",
       "1331                           E.F2.V024   \n",
       "387                            I.F3.V031   \n",
       "...                                  ...   \n",
       "653                            F.F1.V015   \n",
       "1406                           Z.F1.V007   \n",
       "336                            B.F1.V001   \n",
       "491                            F.F2.V011   \n",
       "109                            Y.F1.V012   \n",
       "\n",
       "                                                                  NOME_FANTASIA  \\\n",
       "ID_FEIRA_AFONSO_PENA_BARRACA                                                      \n",
       "545                                       BARRACA NATALICE BARBOSA DA CONCEIÇÃO   \n",
       "1019                                          BARRACA EVANDRO TADEU DE OLIVEIRA   \n",
       "122                                           BARRACA DORA LÚCIA BATISTA  CUNHA   \n",
       "1331                                      BARRACA VALERIA JANINE VILELA RIBEIRO   \n",
       "387                                     BARRACA MARIA ANGELICA DOS SANTOS PINTO   \n",
       "...                                                                         ...   \n",
       "653                                      BARRACA SILVIA REGINA NOGUEIRA RIBEIRO   \n",
       "1406                          BARRACA FRANCINERE AMARAL CARDOSO RIBEIRO DE S...   \n",
       "336                                           BARRACA LUCY DOS SANTOS SEBASTIAO   \n",
       "491                                       BARRACA MARILEA IMACULADA MUNIZ COSTA   \n",
       "109                                                BARRACA DAYSE PINTO NORBERTO   \n",
       "\n",
       "                                                           NOME_FEIRANTE  \\\n",
       "ID_FEIRA_AFONSO_PENA_BARRACA                                               \n",
       "545                                        NATALICE BARBOSA DA CONCEIÇÃO   \n",
       "1019                                           EVANDRO TADEU DE OLIVEIRA   \n",
       "122                                            DORA LÚCIA BATISTA  CUNHA   \n",
       "1331                                       VALERIA JANINE VILELA RIBEIRO   \n",
       "387                                      MARIA ANGELICA DOS SANTOS PINTO   \n",
       "...                                                                  ...   \n",
       "653                                       SILVIA REGINA NOGUEIRA RIBEIRO   \n",
       "1406                          FRANCINERE AMARAL CARDOSO RIBEIRO DE SOUZA   \n",
       "336                                            LUCY DOS SANTOS SEBASTIAO   \n",
       "491                                        MARILEA IMACULADA MUNIZ COSTA   \n",
       "109                                                 DAYSE PINTO NORBERTO   \n",
       "\n",
       "                                              NOME_PREPOSTO  \\\n",
       "ID_FEIRA_AFONSO_PENA_BARRACA                                  \n",
       "545                                 WALDIR BARBOSA DA SILVA   \n",
       "1019                           JONH WAINE DE ALMEIDA SANTOS   \n",
       "122                                CRISTINA CUNHA ESPERANCA   \n",
       "1331                                   AGDA GIOVANNA VILELA   \n",
       "387                                    PABLO TORQUATO SILVA   \n",
       "...                                                     ...   \n",
       "653                            LIGIA MARIA NOGUEIRA RIBEIRO   \n",
       "1406                                RAYKARD AGUIAR DE JESUS   \n",
       "336                                LAURO MARTINS DOS SANTOS   \n",
       "491                           KELLINGTON NONATO MUNIZ COSTA   \n",
       "109                               DJALMA ANTÔNIO DE FREITAS   \n",
       "\n",
       "                                               NOME_SETOR  \\\n",
       "ID_FEIRA_AFONSO_PENA_BARRACA                                \n",
       "545                                           Alimentação   \n",
       "1019                                      Artes e Pintura   \n",
       "122                                    Vestuário Infantil   \n",
       "1331                                   Vestuário Infantil   \n",
       "387                           Cintos, Bolsas e Acessórios   \n",
       "...                                                   ...   \n",
       "653                                               Criança   \n",
       "1406                                          Alimentação   \n",
       "336                                Decoração e Utilidades   \n",
       "491                                               Criança   \n",
       "109                                           Alimentação   \n",
       "\n",
       "                                                                       PRODUTOS  \\\n",
       "ID_FEIRA_AFONSO_PENA_BARRACA                                                      \n",
       "545                                                                     ACARAJÉ   \n",
       "1019                                                           PINTURA ACRÍLICA   \n",
       "122                                                                     VESTIDO   \n",
       "1331                                                                    VESTIDO   \n",
       "387                                                                       BOLSA   \n",
       "...                                                                         ...   \n",
       "653                           VESTIDO, BLUSA, CONJUNTO VIROL, CALÇA, COLETE,...   \n",
       "1406                          CERVEJA, REFRIGERANTE, SUCO INDUSTRIALIZADO, E...   \n",
       "336                           CERÂMICA VITRIFICADA, MOLDURA, VELA, CASTIÇAL,...   \n",
       "491                           KIT BERÇO, CORTINADO, BONECA DE PELÚCIA, SAIA ...   \n",
       "109                           CERVEJA, TORRESMO, CHIPS, AZEITONA, REFRIGERAN...   \n",
       "\n",
       "                              NUMERO_PRODUTOS_CADASTRADOS       AREA  \n",
       "ID_FEIRA_AFONSO_PENA_BARRACA                                          \n",
       "545                                                   1.0  33.611058  \n",
       "1019                                                  1.0  23.790191  \n",
       "122                                                   1.0  11.838911  \n",
       "1331                                                  1.0  11.827592  \n",
       "387                                                   1.0  11.838911  \n",
       "...                                                   ...        ...  \n",
       "653                                                  20.0  11.827592  \n",
       "1406                                                 20.0  33.611058  \n",
       "336                                                  20.0  21.193242  \n",
       "491                                                  21.0  11.827592  \n",
       "109                                                  21.0  33.611057  \n",
       "\n",
       "[1250 rows x 8 columns]"
      ]
     },
     "execution_count": 16,
     "metadata": {},
     "output_type": "execute_result"
    }
   ],
   "source": [
    "afonso_pena.sort_values(by='NUMERO_PRODUTOS_CADASTRADOS')"
   ]
  },
  {
   "cell_type": "markdown",
   "metadata": {
    "slideshow": {
     "slide_type": "fragment"
    }
   },
   "source": [
    "Isso classifica, mas em ordem crescente (de pequeno para grande). Queremos o contrário!"
   ]
  },
  {
   "cell_type": "markdown",
   "metadata": {
    "slideshow": {
     "slide_type": "slide"
    }
   },
   "source": [
    "#### Etapa 2 – Classificando o DataFrame em ordem *decrescente*\n",
    "\n",
    "- Use `.sort_values(by=column_name, ascending=False)` para classificar em ordem *decrescente*.\n",
    "- `ascendente` é um argumento opcional. Se omitido, será definido como `True` por padrão.\n",
    "- Este é um exemplo de *argumento de palavra-chave* ou *argumento nomeado*.\n",
    "- Se quisermos especificar a ordem de classificação, devemos usar a palavra-chave `ascendente=`."
   ]
  },
  {
   "cell_type": "code",
   "execution_count": 17,
   "metadata": {
    "execution": {
     "iopub.execute_input": "2024-04-02T17:44:04.447237Z",
     "iopub.status.busy": "2024-04-02T17:44:04.446750Z",
     "iopub.status.idle": "2024-04-02T17:44:04.458230Z",
     "shell.execute_reply": "2024-04-02T17:44:04.457554Z"
    }
   },
   "outputs": [
    {
     "data": {
      "text/html": [
       "<div>\n",
       "<style scoped>\n",
       "    .dataframe tbody tr th:only-of-type {\n",
       "        vertical-align: middle;\n",
       "    }\n",
       "\n",
       "    .dataframe tbody tr th {\n",
       "        vertical-align: top;\n",
       "    }\n",
       "\n",
       "    .dataframe thead th {\n",
       "        text-align: right;\n",
       "    }\n",
       "</style>\n",
       "<table border=\"1\" class=\"dataframe\">\n",
       "  <thead>\n",
       "    <tr style=\"text-align: right;\">\n",
       "      <th></th>\n",
       "      <th>CODIGO_VAGA</th>\n",
       "      <th>NOME_FANTASIA</th>\n",
       "      <th>NOME_FEIRANTE</th>\n",
       "      <th>NOME_PREPOSTO</th>\n",
       "      <th>NOME_SETOR</th>\n",
       "      <th>PRODUTOS</th>\n",
       "      <th>NUMERO_PRODUTOS_CADASTRADOS</th>\n",
       "      <th>AREA</th>\n",
       "    </tr>\n",
       "    <tr>\n",
       "      <th>ID_FEIRA_AFONSO_PENA_BARRACA</th>\n",
       "      <th></th>\n",
       "      <th></th>\n",
       "      <th></th>\n",
       "      <th></th>\n",
       "      <th></th>\n",
       "      <th></th>\n",
       "      <th></th>\n",
       "      <th></th>\n",
       "    </tr>\n",
       "  </thead>\n",
       "  <tbody>\n",
       "    <tr>\n",
       "      <th>109</th>\n",
       "      <td>Y.F1.V012</td>\n",
       "      <td>BARRACA DAYSE PINTO NORBERTO</td>\n",
       "      <td>DAYSE PINTO NORBERTO</td>\n",
       "      <td>DJALMA ANTÔNIO DE FREITAS</td>\n",
       "      <td>Alimentação</td>\n",
       "      <td>CERVEJA, TORRESMO, CHIPS, AZEITONA, REFRIGERAN...</td>\n",
       "      <td>21.0</td>\n",
       "      <td>33.611057</td>\n",
       "    </tr>\n",
       "    <tr>\n",
       "      <th>491</th>\n",
       "      <td>F.F2.V011</td>\n",
       "      <td>BARRACA MARILEA IMACULADA MUNIZ COSTA</td>\n",
       "      <td>MARILEA IMACULADA MUNIZ COSTA</td>\n",
       "      <td>KELLINGTON NONATO MUNIZ COSTA</td>\n",
       "      <td>Criança</td>\n",
       "      <td>KIT BERÇO, CORTINADO, BONECA DE PELÚCIA, SAIA ...</td>\n",
       "      <td>21.0</td>\n",
       "      <td>11.827592</td>\n",
       "    </tr>\n",
       "    <tr>\n",
       "      <th>653</th>\n",
       "      <td>F.F1.V015</td>\n",
       "      <td>BARRACA SILVIA REGINA NOGUEIRA RIBEIRO</td>\n",
       "      <td>SILVIA REGINA NOGUEIRA RIBEIRO</td>\n",
       "      <td>LIGIA MARIA NOGUEIRA RIBEIRO</td>\n",
       "      <td>Criança</td>\n",
       "      <td>VESTIDO, BLUSA, CONJUNTO VIROL, CALÇA, COLETE,...</td>\n",
       "      <td>20.0</td>\n",
       "      <td>11.827592</td>\n",
       "    </tr>\n",
       "    <tr>\n",
       "      <th>1406</th>\n",
       "      <td>Z.F1.V007</td>\n",
       "      <td>BARRACA FRANCINERE AMARAL CARDOSO RIBEIRO DE S...</td>\n",
       "      <td>FRANCINERE AMARAL CARDOSO RIBEIRO DE SOUZA</td>\n",
       "      <td>RAYKARD AGUIAR DE JESUS</td>\n",
       "      <td>Alimentação</td>\n",
       "      <td>CERVEJA, REFRIGERANTE, SUCO INDUSTRIALIZADO, E...</td>\n",
       "      <td>20.0</td>\n",
       "      <td>33.611058</td>\n",
       "    </tr>\n",
       "    <tr>\n",
       "      <th>336</th>\n",
       "      <td>B.F1.V001</td>\n",
       "      <td>BARRACA LUCY DOS SANTOS SEBASTIAO</td>\n",
       "      <td>LUCY DOS SANTOS SEBASTIAO</td>\n",
       "      <td>LAURO MARTINS DOS SANTOS</td>\n",
       "      <td>Decoração e Utilidades</td>\n",
       "      <td>CERÂMICA VITRIFICADA, MOLDURA, VELA, CASTIÇAL,...</td>\n",
       "      <td>20.0</td>\n",
       "      <td>21.193242</td>\n",
       "    </tr>\n",
       "    <tr>\n",
       "      <th>...</th>\n",
       "      <td>...</td>\n",
       "      <td>...</td>\n",
       "      <td>...</td>\n",
       "      <td>...</td>\n",
       "      <td>...</td>\n",
       "      <td>...</td>\n",
       "      <td>...</td>\n",
       "      <td>...</td>\n",
       "    </tr>\n",
       "    <tr>\n",
       "      <th>647</th>\n",
       "      <td>P.F1.V023</td>\n",
       "      <td>BARRACA SÉRGIO BARBOSA DE JESUS</td>\n",
       "      <td>SÉRGIO BARBOSA DE JESUS</td>\n",
       "      <td>MARIA ADEMILDE DURAES DOS SANTOS</td>\n",
       "      <td>Artes e Pintura</td>\n",
       "      <td>PINTURA A ÓLEO</td>\n",
       "      <td>1.0</td>\n",
       "      <td>23.790191</td>\n",
       "    </tr>\n",
       "    <tr>\n",
       "      <th>401</th>\n",
       "      <td>I.F1.V017</td>\n",
       "      <td>BARRACA ROSÂNGELA  APARECIDA CALDEIRA DE ALVAR...</td>\n",
       "      <td>ROSÂNGELA  APARECIDA CALDEIRA DE ALVARENGA</td>\n",
       "      <td>ELZIM JOSÉ LUIZ</td>\n",
       "      <td>Cintos, Bolsas e Acessórios</td>\n",
       "      <td>BOLSA</td>\n",
       "      <td>1.0</td>\n",
       "      <td>11.838911</td>\n",
       "    </tr>\n",
       "    <tr>\n",
       "      <th>811</th>\n",
       "      <td>D.F3.V005</td>\n",
       "      <td>BARRACA JANE LACERDA FARIA</td>\n",
       "      <td>JANE LACERDA FARIA</td>\n",
       "      <td>WASHIMGTON GERALDO SILVA</td>\n",
       "      <td>Vestuário</td>\n",
       "      <td>BLUSA</td>\n",
       "      <td>1.0</td>\n",
       "      <td>11.838911</td>\n",
       "    </tr>\n",
       "    <tr>\n",
       "      <th>1022</th>\n",
       "      <td>P.F1.V008</td>\n",
       "      <td>BARRACA IVETE EMILIA MAGALHÃES SANTOS</td>\n",
       "      <td>IVETE EMILIA MAGALHÃES SANTOS</td>\n",
       "      <td>LAZARA TEREZA RIZZO</td>\n",
       "      <td>Artes e Pintura</td>\n",
       "      <td>PINTURA A ÓLEO</td>\n",
       "      <td>1.0</td>\n",
       "      <td>23.790191</td>\n",
       "    </tr>\n",
       "    <tr>\n",
       "      <th>1170</th>\n",
       "      <td>I.F1.V034</td>\n",
       "      <td>BARRACA LUCIENE REIS VASCONCELOS</td>\n",
       "      <td>LUCIENE REIS VASCONCELOS</td>\n",
       "      <td>ELIZETE GENOVEVA DA SILVA</td>\n",
       "      <td>Cintos, Bolsas e Acessórios</td>\n",
       "      <td>BOLSA</td>\n",
       "      <td>1.0</td>\n",
       "      <td>11.827592</td>\n",
       "    </tr>\n",
       "  </tbody>\n",
       "</table>\n",
       "<p>1250 rows × 8 columns</p>\n",
       "</div>"
      ],
      "text/plain": [
       "                             CODIGO_VAGA  \\\n",
       "ID_FEIRA_AFONSO_PENA_BARRACA               \n",
       "109                            Y.F1.V012   \n",
       "491                            F.F2.V011   \n",
       "653                            F.F1.V015   \n",
       "1406                           Z.F1.V007   \n",
       "336                            B.F1.V001   \n",
       "...                                  ...   \n",
       "647                            P.F1.V023   \n",
       "401                            I.F1.V017   \n",
       "811                            D.F3.V005   \n",
       "1022                           P.F1.V008   \n",
       "1170                           I.F1.V034   \n",
       "\n",
       "                                                                  NOME_FANTASIA  \\\n",
       "ID_FEIRA_AFONSO_PENA_BARRACA                                                      \n",
       "109                                                BARRACA DAYSE PINTO NORBERTO   \n",
       "491                                       BARRACA MARILEA IMACULADA MUNIZ COSTA   \n",
       "653                                      BARRACA SILVIA REGINA NOGUEIRA RIBEIRO   \n",
       "1406                          BARRACA FRANCINERE AMARAL CARDOSO RIBEIRO DE S...   \n",
       "336                                           BARRACA LUCY DOS SANTOS SEBASTIAO   \n",
       "...                                                                         ...   \n",
       "647                                             BARRACA SÉRGIO BARBOSA DE JESUS   \n",
       "401                           BARRACA ROSÂNGELA  APARECIDA CALDEIRA DE ALVAR...   \n",
       "811                                                  BARRACA JANE LACERDA FARIA   \n",
       "1022                                      BARRACA IVETE EMILIA MAGALHÃES SANTOS   \n",
       "1170                                           BARRACA LUCIENE REIS VASCONCELOS   \n",
       "\n",
       "                                                           NOME_FEIRANTE  \\\n",
       "ID_FEIRA_AFONSO_PENA_BARRACA                                               \n",
       "109                                                 DAYSE PINTO NORBERTO   \n",
       "491                                        MARILEA IMACULADA MUNIZ COSTA   \n",
       "653                                       SILVIA REGINA NOGUEIRA RIBEIRO   \n",
       "1406                          FRANCINERE AMARAL CARDOSO RIBEIRO DE SOUZA   \n",
       "336                                            LUCY DOS SANTOS SEBASTIAO   \n",
       "...                                                                  ...   \n",
       "647                                              SÉRGIO BARBOSA DE JESUS   \n",
       "401                           ROSÂNGELA  APARECIDA CALDEIRA DE ALVARENGA   \n",
       "811                                                   JANE LACERDA FARIA   \n",
       "1022                                       IVETE EMILIA MAGALHÃES SANTOS   \n",
       "1170                                            LUCIENE REIS VASCONCELOS   \n",
       "\n",
       "                                                 NOME_PREPOSTO  \\\n",
       "ID_FEIRA_AFONSO_PENA_BARRACA                                     \n",
       "109                                  DJALMA ANTÔNIO DE FREITAS   \n",
       "491                              KELLINGTON NONATO MUNIZ COSTA   \n",
       "653                               LIGIA MARIA NOGUEIRA RIBEIRO   \n",
       "1406                                   RAYKARD AGUIAR DE JESUS   \n",
       "336                                   LAURO MARTINS DOS SANTOS   \n",
       "...                                                        ...   \n",
       "647                           MARIA ADEMILDE DURAES DOS SANTOS   \n",
       "401                                            ELZIM JOSÉ LUIZ   \n",
       "811                                   WASHIMGTON GERALDO SILVA   \n",
       "1022                                       LAZARA TEREZA RIZZO   \n",
       "1170                                 ELIZETE GENOVEVA DA SILVA   \n",
       "\n",
       "                                               NOME_SETOR  \\\n",
       "ID_FEIRA_AFONSO_PENA_BARRACA                                \n",
       "109                                           Alimentação   \n",
       "491                                               Criança   \n",
       "653                                               Criança   \n",
       "1406                                          Alimentação   \n",
       "336                                Decoração e Utilidades   \n",
       "...                                                   ...   \n",
       "647                                       Artes e Pintura   \n",
       "401                           Cintos, Bolsas e Acessórios   \n",
       "811                                             Vestuário   \n",
       "1022                                      Artes e Pintura   \n",
       "1170                          Cintos, Bolsas e Acessórios   \n",
       "\n",
       "                                                                       PRODUTOS  \\\n",
       "ID_FEIRA_AFONSO_PENA_BARRACA                                                      \n",
       "109                           CERVEJA, TORRESMO, CHIPS, AZEITONA, REFRIGERAN...   \n",
       "491                           KIT BERÇO, CORTINADO, BONECA DE PELÚCIA, SAIA ...   \n",
       "653                           VESTIDO, BLUSA, CONJUNTO VIROL, CALÇA, COLETE,...   \n",
       "1406                          CERVEJA, REFRIGERANTE, SUCO INDUSTRIALIZADO, E...   \n",
       "336                           CERÂMICA VITRIFICADA, MOLDURA, VELA, CASTIÇAL,...   \n",
       "...                                                                         ...   \n",
       "647                                                              PINTURA A ÓLEO   \n",
       "401                                                                       BOLSA   \n",
       "811                                                                       BLUSA   \n",
       "1022                                                             PINTURA A ÓLEO   \n",
       "1170                                                                      BOLSA   \n",
       "\n",
       "                              NUMERO_PRODUTOS_CADASTRADOS       AREA  \n",
       "ID_FEIRA_AFONSO_PENA_BARRACA                                          \n",
       "109                                                  21.0  33.611057  \n",
       "491                                                  21.0  11.827592  \n",
       "653                                                  20.0  11.827592  \n",
       "1406                                                 20.0  33.611058  \n",
       "336                                                  20.0  21.193242  \n",
       "...                                                   ...        ...  \n",
       "647                                                   1.0  23.790191  \n",
       "401                                                   1.0  11.838911  \n",
       "811                                                   1.0  11.838911  \n",
       "1022                                                  1.0  23.790191  \n",
       "1170                                                  1.0  11.827592  \n",
       "\n",
       "[1250 rows x 8 columns]"
      ]
     },
     "execution_count": 17,
     "metadata": {},
     "output_type": "execute_result"
    }
   ],
   "source": [
    "ordenado = afonso_pena.sort_values(by='NUMERO_PRODUTOS_CADASTRADOS', ascending=False)\n",
    "ordenado"
   ]
  },
  {
   "cell_type": "markdown",
   "metadata": {},
   "source": [
    "## Exemplo 3: Criando novas Colunas\n",
    "\n",
    "**Conceitos Principais** Entender operações em colunas assim como em vetores"
   ]
  },
  {
   "cell_type": "markdown",
   "metadata": {},
   "source": [
    "### Etapa 1 - Operações aritméticas em colunas\n",
    "\n",
    "* Crie uma variável para o número de produtos cadastrados\n",
    "* Crie uma outra variável para a área"
   ]
  },
  {
   "cell_type": "code",
   "execution_count": 18,
   "metadata": {
    "execution": {
     "iopub.execute_input": "2024-04-02T17:44:04.461112Z",
     "iopub.status.busy": "2024-04-02T17:44:04.460753Z",
     "iopub.status.idle": "2024-04-02T17:44:04.464843Z",
     "shell.execute_reply": "2024-04-02T17:44:04.464121Z"
    }
   },
   "outputs": [],
   "source": [
    "produtos = afonso_pena.get('NUMERO_PRODUTOS_CADASTRADOS')\n",
    "area = afonso_pena.get('AREA')"
   ]
  },
  {
   "cell_type": "markdown",
   "metadata": {},
   "source": [
    "* Assim como em `numpy` (aula passada), podemos realizar operações aritméticas em colunas pandas."
   ]
  },
  {
   "cell_type": "code",
   "execution_count": 19,
   "metadata": {
    "execution": {
     "iopub.execute_input": "2024-04-02T17:44:04.467628Z",
     "iopub.status.busy": "2024-04-02T17:44:04.467374Z",
     "iopub.status.idle": "2024-04-02T17:44:04.472811Z",
     "shell.execute_reply": "2024-04-02T17:44:04.472141Z"
    }
   },
   "outputs": [
    {
     "data": {
      "text/plain": [
       "ID_FEIRA_AFONSO_PENA_BARRACA\n",
       "83      0.422336\n",
       "84      0.422336\n",
       "85      0.253402\n",
       "86      0.253644\n",
       "87      0.591836\n",
       "          ...   \n",
       "1350    0.591271\n",
       "1351    0.253644\n",
       "1352    0.422740\n",
       "1353    0.591271\n",
       "1354    0.338192\n",
       "Length: 1250, dtype: float64"
      ]
     },
     "execution_count": 19,
     "metadata": {},
     "output_type": "execute_result"
    }
   ],
   "source": [
    "produtos / area"
   ]
  },
  {
   "cell_type": "markdown",
   "metadata": {},
   "source": [
    "* Observe como a resposta tem a divisão dos produtos pela área, ou seja, a densidade de cada barraca\n",
    "* Além do mais, observe como temos também o índice de cada barraca\n",
    "\n",
    "### Etapa 2: Criando uma nova coluna\n",
    "\n",
    "* Agora, vamos criar a coluna densidade na nossa base de dados\n",
    "* Use `.assign(name_of_column=data_in_series)` para atribuir uma série (ou array, ou lista) a um DataFrame.\n",
    "* ⚠️ Não coloque aspas em `name_of_column`.\n",
    "* Cria um novo DataFrame!"
   ]
  },
  {
   "cell_type": "code",
   "execution_count": 20,
   "metadata": {
    "execution": {
     "iopub.execute_input": "2024-04-02T17:44:04.475719Z",
     "iopub.status.busy": "2024-04-02T17:44:04.475472Z",
     "iopub.status.idle": "2024-04-02T17:44:04.488116Z",
     "shell.execute_reply": "2024-04-02T17:44:04.487455Z"
    }
   },
   "outputs": [
    {
     "data": {
      "text/html": [
       "<div>\n",
       "<style scoped>\n",
       "    .dataframe tbody tr th:only-of-type {\n",
       "        vertical-align: middle;\n",
       "    }\n",
       "\n",
       "    .dataframe tbody tr th {\n",
       "        vertical-align: top;\n",
       "    }\n",
       "\n",
       "    .dataframe thead th {\n",
       "        text-align: right;\n",
       "    }\n",
       "</style>\n",
       "<table border=\"1\" class=\"dataframe\">\n",
       "  <thead>\n",
       "    <tr style=\"text-align: right;\">\n",
       "      <th></th>\n",
       "      <th>CODIGO_VAGA</th>\n",
       "      <th>NOME_FANTASIA</th>\n",
       "      <th>NOME_FEIRANTE</th>\n",
       "      <th>NOME_PREPOSTO</th>\n",
       "      <th>NOME_SETOR</th>\n",
       "      <th>PRODUTOS</th>\n",
       "      <th>NUMERO_PRODUTOS_CADASTRADOS</th>\n",
       "      <th>AREA</th>\n",
       "      <th>DENSIDADE</th>\n",
       "    </tr>\n",
       "    <tr>\n",
       "      <th>ID_FEIRA_AFONSO_PENA_BARRACA</th>\n",
       "      <th></th>\n",
       "      <th></th>\n",
       "      <th></th>\n",
       "      <th></th>\n",
       "      <th></th>\n",
       "      <th></th>\n",
       "      <th></th>\n",
       "      <th></th>\n",
       "      <th></th>\n",
       "    </tr>\n",
       "  </thead>\n",
       "  <tbody>\n",
       "    <tr>\n",
       "      <th>83</th>\n",
       "      <td>F.F2.V016</td>\n",
       "      <td>BARRACA CARMEN EMMANUEL DOS SANTOS SILVA</td>\n",
       "      <td>CARMEN EMMANUEL DOS SANTOS SILVA</td>\n",
       "      <td>JANA FONSECA VIEIRA</td>\n",
       "      <td>Criança</td>\n",
       "      <td>BOLSA DE BEBÊ, MALA DE MATERNIDADE, NECESSÁIRE...</td>\n",
       "      <td>5.0</td>\n",
       "      <td>11.838911</td>\n",
       "      <td>0.422336</td>\n",
       "    </tr>\n",
       "    <tr>\n",
       "      <th>84</th>\n",
       "      <td>G.F3.V052</td>\n",
       "      <td>BARRACA CARMEN FERNANDA ROCHA DE ALCANTARA</td>\n",
       "      <td>CARMEN FERNANDA ROCHA DE ALCANTARA</td>\n",
       "      <td>KARINA RODRIGUES BRANDORFI</td>\n",
       "      <td>Bijouterias</td>\n",
       "      <td>BRINCO, ANEL, PULSEIRA, COLAR, ARCO</td>\n",
       "      <td>5.0</td>\n",
       "      <td>11.838911</td>\n",
       "      <td>0.422336</td>\n",
       "    </tr>\n",
       "    <tr>\n",
       "      <th>85</th>\n",
       "      <td>E.F4.V003</td>\n",
       "      <td>BARRACA CARMEN LÚCIA CARVALHO DE ALMEIDA</td>\n",
       "      <td>CARMEN LÚCIA CARVALHO DE ALMEIDA</td>\n",
       "      <td>BARBARA ISABELLE CARVALHO DE PAULA</td>\n",
       "      <td>Vestuário Infantil</td>\n",
       "      <td>VESTIDO, CONJUNTO, MACACÃO</td>\n",
       "      <td>3.0</td>\n",
       "      <td>11.838911</td>\n",
       "      <td>0.253402</td>\n",
       "    </tr>\n",
       "    <tr>\n",
       "      <th>86</th>\n",
       "      <td>E.F2.V004</td>\n",
       "      <td>BARRACA CECÍLIA PAGANO NEVES SALAZAR</td>\n",
       "      <td>CECÍLIA PAGANO NEVES SALAZAR</td>\n",
       "      <td>GISELE PAGANO NEVES SALAZAR</td>\n",
       "      <td>Vestuário Infantil</td>\n",
       "      <td>MACACÃO, BLUSA, SAPATINHO</td>\n",
       "      <td>3.0</td>\n",
       "      <td>11.827592</td>\n",
       "      <td>0.253644</td>\n",
       "    </tr>\n",
       "    <tr>\n",
       "      <th>87</th>\n",
       "      <td>D.F2.V016</td>\n",
       "      <td>BARRACA CÉLIA APARECIDA DE SOUZA</td>\n",
       "      <td>CÉLIA APARECIDA DE SOUZA</td>\n",
       "      <td>EDSON PIRES DE SOUZA</td>\n",
       "      <td>Vestuário</td>\n",
       "      <td>BLUSA, BERMUDA, ROUPA DE GINÁSTICA, SAIA, VEST...</td>\n",
       "      <td>7.0</td>\n",
       "      <td>11.827592</td>\n",
       "      <td>0.591836</td>\n",
       "    </tr>\n",
       "    <tr>\n",
       "      <th>...</th>\n",
       "      <td>...</td>\n",
       "      <td>...</td>\n",
       "      <td>...</td>\n",
       "      <td>...</td>\n",
       "      <td>...</td>\n",
       "      <td>...</td>\n",
       "      <td>...</td>\n",
       "      <td>...</td>\n",
       "      <td>...</td>\n",
       "    </tr>\n",
       "    <tr>\n",
       "      <th>1350</th>\n",
       "      <td>G.F4.V014</td>\n",
       "      <td>BARRACA HELCIO LICIO SILVA</td>\n",
       "      <td>HELCIO LICIO SILVA</td>\n",
       "      <td>GRAZIELA CRISTINA RAMALHO SILVA</td>\n",
       "      <td>Bijouterias</td>\n",
       "      <td>ANEL, COLAR, BROCHE, BRINCO, PULSEIRA, ALIANÇA...</td>\n",
       "      <td>7.0</td>\n",
       "      <td>11.838911</td>\n",
       "      <td>0.591271</td>\n",
       "    </tr>\n",
       "    <tr>\n",
       "      <th>1351</th>\n",
       "      <td>J.F1.V004</td>\n",
       "      <td>BARRACA DIEGO DOS SANTOS DIAS</td>\n",
       "      <td>DIEGO DOS SANTOS DIAS</td>\n",
       "      <td>CELSO DE SOUZA LINHARES</td>\n",
       "      <td>Calçados</td>\n",
       "      <td>RASTEIRINHA, SAPATO, SANDÁLIA</td>\n",
       "      <td>3.0</td>\n",
       "      <td>11.827592</td>\n",
       "      <td>0.253644</td>\n",
       "    </tr>\n",
       "    <tr>\n",
       "      <th>1352</th>\n",
       "      <td>D.F4.V050</td>\n",
       "      <td>BARRACA JAIR CORREA</td>\n",
       "      <td>JAIR CORREA</td>\n",
       "      <td>Keli Aparecida Batista Correa</td>\n",
       "      <td>Vestuário</td>\n",
       "      <td>VESTIDO DE MALHA, BATA DE TECIDO, CONJUNTO, SA...</td>\n",
       "      <td>5.0</td>\n",
       "      <td>11.827592</td>\n",
       "      <td>0.422740</td>\n",
       "    </tr>\n",
       "    <tr>\n",
       "      <th>1353</th>\n",
       "      <td>G.F2.V010</td>\n",
       "      <td>BARRACA SIDNEY FERNANDO KNEIPP SOARES</td>\n",
       "      <td>SIDNEY FERNANDO KNEIPP SOARES</td>\n",
       "      <td>ANA PAULA FAUSTINA DE SOUZA</td>\n",
       "      <td>Bijouterias</td>\n",
       "      <td>COLAR, GARGANTILHA, ARCO, ANEL, PASSADOR DE CA...</td>\n",
       "      <td>7.0</td>\n",
       "      <td>11.838911</td>\n",
       "      <td>0.591271</td>\n",
       "    </tr>\n",
       "    <tr>\n",
       "      <th>1354</th>\n",
       "      <td>G.F1.V061</td>\n",
       "      <td>BARRACA REGINA GARCIA FERREIRA</td>\n",
       "      <td>REGINA GARCIA FERREIRA</td>\n",
       "      <td>Rejane Garcia Ferreira Clemente</td>\n",
       "      <td>Bijouterias</td>\n",
       "      <td>COLAR DE METAL, PRESILHA, PASSADOR DE CABELO, ...</td>\n",
       "      <td>4.0</td>\n",
       "      <td>11.827592</td>\n",
       "      <td>0.338192</td>\n",
       "    </tr>\n",
       "  </tbody>\n",
       "</table>\n",
       "<p>1250 rows × 9 columns</p>\n",
       "</div>"
      ],
      "text/plain": [
       "                             CODIGO_VAGA  \\\n",
       "ID_FEIRA_AFONSO_PENA_BARRACA               \n",
       "83                             F.F2.V016   \n",
       "84                             G.F3.V052   \n",
       "85                             E.F4.V003   \n",
       "86                             E.F2.V004   \n",
       "87                             D.F2.V016   \n",
       "...                                  ...   \n",
       "1350                           G.F4.V014   \n",
       "1351                           J.F1.V004   \n",
       "1352                           D.F4.V050   \n",
       "1353                           G.F2.V010   \n",
       "1354                           G.F1.V061   \n",
       "\n",
       "                                                           NOME_FANTASIA  \\\n",
       "ID_FEIRA_AFONSO_PENA_BARRACA                                               \n",
       "83                              BARRACA CARMEN EMMANUEL DOS SANTOS SILVA   \n",
       "84                            BARRACA CARMEN FERNANDA ROCHA DE ALCANTARA   \n",
       "85                              BARRACA CARMEN LÚCIA CARVALHO DE ALMEIDA   \n",
       "86                                  BARRACA CECÍLIA PAGANO NEVES SALAZAR   \n",
       "87                                      BARRACA CÉLIA APARECIDA DE SOUZA   \n",
       "...                                                                  ...   \n",
       "1350                                          BARRACA HELCIO LICIO SILVA   \n",
       "1351                                       BARRACA DIEGO DOS SANTOS DIAS   \n",
       "1352                                                 BARRACA JAIR CORREA   \n",
       "1353                               BARRACA SIDNEY FERNANDO KNEIPP SOARES   \n",
       "1354                                      BARRACA REGINA GARCIA FERREIRA   \n",
       "\n",
       "                                                   NOME_FEIRANTE  \\\n",
       "ID_FEIRA_AFONSO_PENA_BARRACA                                       \n",
       "83                              CARMEN EMMANUEL DOS SANTOS SILVA   \n",
       "84                            CARMEN FERNANDA ROCHA DE ALCANTARA   \n",
       "85                              CARMEN LÚCIA CARVALHO DE ALMEIDA   \n",
       "86                                  CECÍLIA PAGANO NEVES SALAZAR   \n",
       "87                                      CÉLIA APARECIDA DE SOUZA   \n",
       "...                                                          ...   \n",
       "1350                                          HELCIO LICIO SILVA   \n",
       "1351                                       DIEGO DOS SANTOS DIAS   \n",
       "1352                                                 JAIR CORREA   \n",
       "1353                               SIDNEY FERNANDO KNEIPP SOARES   \n",
       "1354                                      REGINA GARCIA FERREIRA   \n",
       "\n",
       "                                                   NOME_PREPOSTO  \\\n",
       "ID_FEIRA_AFONSO_PENA_BARRACA                                       \n",
       "83                                           JANA FONSECA VIEIRA   \n",
       "84                                    KARINA RODRIGUES BRANDORFI   \n",
       "85                            BARBARA ISABELLE CARVALHO DE PAULA   \n",
       "86                                   GISELE PAGANO NEVES SALAZAR   \n",
       "87                                          EDSON PIRES DE SOUZA   \n",
       "...                                                          ...   \n",
       "1350                             GRAZIELA CRISTINA RAMALHO SILVA   \n",
       "1351                                     CELSO DE SOUZA LINHARES   \n",
       "1352                               Keli Aparecida Batista Correa   \n",
       "1353                                 ANA PAULA FAUSTINA DE SOUZA   \n",
       "1354                             Rejane Garcia Ferreira Clemente   \n",
       "\n",
       "                                      NOME_SETOR  \\\n",
       "ID_FEIRA_AFONSO_PENA_BARRACA                       \n",
       "83                                       Criança   \n",
       "84                                   Bijouterias   \n",
       "85                            Vestuário Infantil   \n",
       "86                            Vestuário Infantil   \n",
       "87                                     Vestuário   \n",
       "...                                          ...   \n",
       "1350                                 Bijouterias   \n",
       "1351                                    Calçados   \n",
       "1352                                   Vestuário   \n",
       "1353                                 Bijouterias   \n",
       "1354                                 Bijouterias   \n",
       "\n",
       "                                                                       PRODUTOS  \\\n",
       "ID_FEIRA_AFONSO_PENA_BARRACA                                                      \n",
       "83                            BOLSA DE BEBÊ, MALA DE MATERNIDADE, NECESSÁIRE...   \n",
       "84                                          BRINCO, ANEL, PULSEIRA, COLAR, ARCO   \n",
       "85                                                   VESTIDO, CONJUNTO, MACACÃO   \n",
       "86                                                    MACACÃO, BLUSA, SAPATINHO   \n",
       "87                            BLUSA, BERMUDA, ROUPA DE GINÁSTICA, SAIA, VEST...   \n",
       "...                                                                         ...   \n",
       "1350                          ANEL, COLAR, BROCHE, BRINCO, PULSEIRA, ALIANÇA...   \n",
       "1351                                              RASTEIRINHA, SAPATO, SANDÁLIA   \n",
       "1352                          VESTIDO DE MALHA, BATA DE TECIDO, CONJUNTO, SA...   \n",
       "1353                          COLAR, GARGANTILHA, ARCO, ANEL, PASSADOR DE CA...   \n",
       "1354                          COLAR DE METAL, PRESILHA, PASSADOR DE CABELO, ...   \n",
       "\n",
       "                              NUMERO_PRODUTOS_CADASTRADOS       AREA  \\\n",
       "ID_FEIRA_AFONSO_PENA_BARRACA                                           \n",
       "83                                                    5.0  11.838911   \n",
       "84                                                    5.0  11.838911   \n",
       "85                                                    3.0  11.838911   \n",
       "86                                                    3.0  11.827592   \n",
       "87                                                    7.0  11.827592   \n",
       "...                                                   ...        ...   \n",
       "1350                                                  7.0  11.838911   \n",
       "1351                                                  3.0  11.827592   \n",
       "1352                                                  5.0  11.827592   \n",
       "1353                                                  7.0  11.838911   \n",
       "1354                                                  4.0  11.827592   \n",
       "\n",
       "                              DENSIDADE  \n",
       "ID_FEIRA_AFONSO_PENA_BARRACA             \n",
       "83                             0.422336  \n",
       "84                             0.422336  \n",
       "85                             0.253402  \n",
       "86                             0.253644  \n",
       "87                             0.591836  \n",
       "...                                 ...  \n",
       "1350                           0.591271  \n",
       "1351                           0.253644  \n",
       "1352                           0.422740  \n",
       "1353                           0.591271  \n",
       "1354                           0.338192  \n",
       "\n",
       "[1250 rows x 9 columns]"
      ]
     },
     "execution_count": 20,
     "metadata": {},
     "output_type": "execute_result"
    }
   ],
   "source": [
    "afonso_pena.assign(DENSIDADE = produtos / area)"
   ]
  },
  {
   "cell_type": "markdown",
   "metadata": {},
   "source": [
    "* O código acima cria não altera os dados originais\n",
    "* Ainda temos as mesmas colunas de antes"
   ]
  },
  {
   "cell_type": "code",
   "execution_count": 21,
   "metadata": {
    "execution": {
     "iopub.execute_input": "2024-04-02T17:44:04.491411Z",
     "iopub.status.busy": "2024-04-02T17:44:04.490987Z",
     "iopub.status.idle": "2024-04-02T17:44:04.495510Z",
     "shell.execute_reply": "2024-04-02T17:44:04.494800Z"
    }
   },
   "outputs": [
    {
     "data": {
      "text/plain": [
       "Index(['CODIGO_VAGA', 'NOME_FANTASIA', 'NOME_FEIRANTE', 'NOME_PREPOSTO',\n",
       "       'NOME_SETOR', 'PRODUTOS', 'NUMERO_PRODUTOS_CADASTRADOS', 'AREA'],\n",
       "      dtype='object')"
      ]
     },
     "execution_count": 21,
     "metadata": {},
     "output_type": "execute_result"
    }
   ],
   "source": [
    "afonso_pena.columns"
   ]
  },
  {
   "cell_type": "markdown",
   "metadata": {},
   "source": [
    "* Porém, podemos criar uma variável"
   ]
  },
  {
   "cell_type": "code",
   "execution_count": 22,
   "metadata": {
    "execution": {
     "iopub.execute_input": "2024-04-02T17:44:04.498556Z",
     "iopub.status.busy": "2024-04-02T17:44:04.498356Z",
     "iopub.status.idle": "2024-04-02T17:44:04.504718Z",
     "shell.execute_reply": "2024-04-02T17:44:04.503977Z"
    }
   },
   "outputs": [
    {
     "data": {
      "text/plain": [
       "ID_FEIRA_AFONSO_PENA_BARRACA\n",
       "83      0.422336\n",
       "84      0.422336\n",
       "85      0.253402\n",
       "86      0.253644\n",
       "87      0.591836\n",
       "          ...   \n",
       "1350    0.591271\n",
       "1351    0.253644\n",
       "1352    0.422740\n",
       "1353    0.591271\n",
       "1354    0.338192\n",
       "Name: DENSIDADE, Length: 1250, dtype: float64"
      ]
     },
     "execution_count": 22,
     "metadata": {},
     "output_type": "execute_result"
    }
   ],
   "source": [
    "afonso_pena = afonso_pena.assign(DENSIDADE = produtos / area)\n",
    "afonso_pena.get('DENSIDADE')"
   ]
  },
  {
   "cell_type": "markdown",
   "metadata": {},
   "source": [
    "## Exemplo 3: Agora você responda.\n",
    "- Qual a densidade máxima?\n",
    "- Qual a densidade mínima?\n",
    "- Qual a densidade média?"
   ]
  },
  {
   "cell_type": "code",
   "execution_count": 23,
   "metadata": {
    "execution": {
     "iopub.execute_input": "2024-04-02T17:44:04.507192Z",
     "iopub.status.busy": "2024-04-02T17:44:04.506880Z",
     "iopub.status.idle": "2024-04-02T17:44:04.510097Z",
     "shell.execute_reply": "2024-04-02T17:44:04.509401Z"
    }
   },
   "outputs": [],
   "source": [
    "# Suas respostas aqui!"
   ]
  },
  {
   "cell_type": "markdown",
   "metadata": {},
   "source": [
    "## Exemplo 4: A densidade média das barracas de produtos de crianças 👶🧸?\n",
    "\n",
    "- Podemos responde a pergunda acima se tivéssemos um DataFrame composto apenas por tais barracas.\n",
    "- Como conseguimos esse DataFrame?"
   ]
  },
  {
   "cell_type": "code",
   "execution_count": 24,
   "metadata": {
    "execution": {
     "iopub.execute_input": "2024-04-02T17:44:04.513366Z",
     "iopub.status.busy": "2024-04-02T17:44:04.513093Z",
     "iopub.status.idle": "2024-04-02T17:44:04.518919Z",
     "shell.execute_reply": "2024-04-02T17:44:04.518214Z"
    }
   },
   "outputs": [
    {
     "data": {
      "text/plain": [
       "ID_FEIRA_AFONSO_PENA_BARRACA\n",
       "83                 Criança\n",
       "84             Bijouterias\n",
       "85      Vestuário Infantil\n",
       "86      Vestuário Infantil\n",
       "87               Vestuário\n",
       "               ...        \n",
       "1350           Bijouterias\n",
       "1351              Calçados\n",
       "1352             Vestuário\n",
       "1353           Bijouterias\n",
       "1354           Bijouterias\n",
       "Name: NOME_SETOR, Length: 1250, dtype: object"
      ]
     },
     "execution_count": 24,
     "metadata": {},
     "output_type": "execute_result"
    }
   ],
   "source": [
    "# Aqui temos os setores\n",
    "afonso_pena.get('NOME_SETOR')"
   ]
  },
  {
   "cell_type": "code",
   "execution_count": 25,
   "metadata": {
    "execution": {
     "iopub.execute_input": "2024-04-02T17:44:04.521662Z",
     "iopub.status.busy": "2024-04-02T17:44:04.521416Z",
     "iopub.status.idle": "2024-04-02T17:44:04.526708Z",
     "shell.execute_reply": "2024-04-02T17:44:04.526118Z"
    }
   },
   "outputs": [
    {
     "data": {
      "text/plain": [
       "ID_FEIRA_AFONSO_PENA_BARRACA\n",
       "83       True\n",
       "84      False\n",
       "85      False\n",
       "86      False\n",
       "87      False\n",
       "        ...  \n",
       "1350    False\n",
       "1351    False\n",
       "1352    False\n",
       "1353    False\n",
       "1354    False\n",
       "Name: NOME_SETOR, Length: 1250, dtype: bool"
      ]
     },
     "execution_count": 25,
     "metadata": {},
     "output_type": "execute_result"
    }
   ],
   "source": [
    "# Quais deles são de crianças\n",
    "afonso_pena.get('NOME_SETOR') == 'Criança'"
   ]
  },
  {
   "cell_type": "markdown",
   "metadata": {},
   "source": [
    "Use `==` para verificar a igualdade. Não `=`, pois é para atribuição de um valor a uma variável."
   ]
  },
  {
   "cell_type": "code",
   "execution_count": 26,
   "metadata": {
    "execution": {
     "iopub.execute_input": "2024-04-02T17:44:04.529616Z",
     "iopub.status.busy": "2024-04-02T17:44:04.529370Z",
     "iopub.status.idle": "2024-04-02T17:44:04.533397Z",
     "shell.execute_reply": "2024-04-02T17:44:04.532814Z"
    }
   },
   "outputs": [
    {
     "data": {
      "text/plain": [
       "True"
      ]
     },
     "execution_count": 26,
     "metadata": {},
     "output_type": "execute_result"
    }
   ],
   "source": [
    "'Criança' == 'Criança'"
   ]
  },
  {
   "cell_type": "code",
   "execution_count": 27,
   "metadata": {
    "execution": {
     "iopub.execute_input": "2024-04-02T17:44:04.536336Z",
     "iopub.status.busy": "2024-04-02T17:44:04.536036Z",
     "iopub.status.idle": "2024-04-02T17:44:04.540423Z",
     "shell.execute_reply": "2024-04-02T17:44:04.539737Z"
    }
   },
   "outputs": [
    {
     "data": {
      "text/plain": [
       "False"
      ]
     },
     "execution_count": 27,
     "metadata": {},
     "output_type": "execute_result"
    }
   ],
   "source": [
    "'Criança' == 'Adulto'"
   ]
  },
  {
   "cell_type": "markdown",
   "metadata": {},
   "source": [
    "Podemos *transmitir* a verificação de igualdade para cada elemento de uma Série. A comparação acontece elemento a elemento."
   ]
  },
  {
   "cell_type": "code",
   "execution_count": 28,
   "metadata": {
    "execution": {
     "iopub.execute_input": "2024-04-02T17:44:04.543360Z",
     "iopub.status.busy": "2024-04-02T17:44:04.543085Z",
     "iopub.status.idle": "2024-04-02T17:44:04.548916Z",
     "shell.execute_reply": "2024-04-02T17:44:04.548041Z"
    }
   },
   "outputs": [
    {
     "data": {
      "text/plain": [
       "ID_FEIRA_AFONSO_PENA_BARRACA\n",
       "83       True\n",
       "84      False\n",
       "85      False\n",
       "86      False\n",
       "87      False\n",
       "        ...  \n",
       "1350    False\n",
       "1351    False\n",
       "1352    False\n",
       "1353    False\n",
       "1354    False\n",
       "Name: NOME_SETOR, Length: 1250, dtype: bool"
      ]
     },
     "execution_count": 28,
     "metadata": {},
     "output_type": "execute_result"
    }
   ],
   "source": [
    "afonso_pena.get('NOME_SETOR') == 'Criança'"
   ]
  },
  {
   "cell_type": "markdown",
   "metadata": {},
   "source": [
    "### À parte: Booleanos\n",
    "\n",
    "- Quando comparamos dois valores, o resultado é `True` ou `False`.\n",
    "- Observe que essas palavras não estão entre aspas.\n",
    "- `bool` é um tipo de dados em Python, assim como `int`, `float` e `str`.\n",
    "- Significa \"Boolean\", em homenagem a George Boole, um dos primeiros matemáticos.\n",
    "- Existem apenas dois valores booleanos possíveis: `True` ou `False`.\n",
    "- Sim ou não.\n",
    "- Ligado ou desligado.\n",
    "- 1 ou 0.\n",
    "\n",
    "### Operadores de comparação\n",
    "\n",
    "Existem vários tipos de comparações que podemos fazer.\n",
    "\n",
    "|símbolo|significado|\n",
    "|--------|--------|\n",
    "|`==` |igual a |\n",
    "|`!=` |diferente de |\n",
    "|`<`|menos que|\n",
    "|`<=`|menor ou igual a|\n",
    "|`>`|maior que|\n",
    "|`>=`|maior ou igual a|\n",
    "\n",
    "Podemos então usar o operador apropriado para ver tudo que é diferente de 'Criança'\n",
    "Observe que a resposta é o oposto de antes!"
   ]
  },
  {
   "cell_type": "code",
   "execution_count": 29,
   "metadata": {
    "execution": {
     "iopub.execute_input": "2024-04-02T17:44:04.552265Z",
     "iopub.status.busy": "2024-04-02T17:44:04.551828Z",
     "iopub.status.idle": "2024-04-02T17:44:04.557962Z",
     "shell.execute_reply": "2024-04-02T17:44:04.557256Z"
    }
   },
   "outputs": [
    {
     "data": {
      "text/plain": [
       "ID_FEIRA_AFONSO_PENA_BARRACA\n",
       "83      False\n",
       "84       True\n",
       "85       True\n",
       "86       True\n",
       "87       True\n",
       "        ...  \n",
       "1350     True\n",
       "1351     True\n",
       "1352     True\n",
       "1353     True\n",
       "1354     True\n",
       "Name: NOME_SETOR, Length: 1250, dtype: bool"
      ]
     },
     "execution_count": 29,
     "metadata": {},
     "output_type": "execute_result"
    }
   ],
   "source": [
    "afonso_pena.get('NOME_SETOR') != 'Criança'"
   ]
  },
  {
   "cell_type": "markdown",
   "metadata": {},
   "source": [
    "### O que é uma consulta? 🤔\n",
    "\n",
    "- Uma \"consulta\" é um código que extrai linhas de um DataFrame para as quais determinadas condições são verdadeiras.\n",
    "- Freqüentemente usamos consultas para _filtrar_ DataFrames para que contenham apenas as linhas que satisfaçam as condições declaradas em nossas perguntas."
   ]
  },
  {
   "cell_type": "markdown",
   "metadata": {},
   "source": [
    "### Como consultamos um DataFrame?\n",
    "\n",
    "Para selecionar apenas determinadas linhas de `solicitações`:\n",
    "\n",
    "1. Faça uma sequência (lista/matriz/série) de `True`s (manter) e `False`s (lançar), geralmente fazendo uma comparação.\n",
    "2. Em seguida, passe-o para `dados[booleanos]`."
   ]
  },
  {
   "cell_type": "code",
   "execution_count": 30,
   "metadata": {
    "execution": {
     "iopub.execute_input": "2024-04-02T17:44:04.560865Z",
     "iopub.status.busy": "2024-04-02T17:44:04.560536Z",
     "iopub.status.idle": "2024-04-02T17:44:04.573518Z",
     "shell.execute_reply": "2024-04-02T17:44:04.572825Z"
    }
   },
   "outputs": [
    {
     "data": {
      "text/html": [
       "<div>\n",
       "<style scoped>\n",
       "    .dataframe tbody tr th:only-of-type {\n",
       "        vertical-align: middle;\n",
       "    }\n",
       "\n",
       "    .dataframe tbody tr th {\n",
       "        vertical-align: top;\n",
       "    }\n",
       "\n",
       "    .dataframe thead th {\n",
       "        text-align: right;\n",
       "    }\n",
       "</style>\n",
       "<table border=\"1\" class=\"dataframe\">\n",
       "  <thead>\n",
       "    <tr style=\"text-align: right;\">\n",
       "      <th></th>\n",
       "      <th>CODIGO_VAGA</th>\n",
       "      <th>NOME_FANTASIA</th>\n",
       "      <th>NOME_FEIRANTE</th>\n",
       "      <th>NOME_PREPOSTO</th>\n",
       "      <th>NOME_SETOR</th>\n",
       "      <th>PRODUTOS</th>\n",
       "      <th>NUMERO_PRODUTOS_CADASTRADOS</th>\n",
       "      <th>AREA</th>\n",
       "      <th>DENSIDADE</th>\n",
       "    </tr>\n",
       "    <tr>\n",
       "      <th>ID_FEIRA_AFONSO_PENA_BARRACA</th>\n",
       "      <th></th>\n",
       "      <th></th>\n",
       "      <th></th>\n",
       "      <th></th>\n",
       "      <th></th>\n",
       "      <th></th>\n",
       "      <th></th>\n",
       "      <th></th>\n",
       "      <th></th>\n",
       "    </tr>\n",
       "  </thead>\n",
       "  <tbody>\n",
       "    <tr>\n",
       "      <th>83</th>\n",
       "      <td>F.F2.V016</td>\n",
       "      <td>BARRACA CARMEN EMMANUEL DOS SANTOS SILVA</td>\n",
       "      <td>CARMEN EMMANUEL DOS SANTOS SILVA</td>\n",
       "      <td>JANA FONSECA VIEIRA</td>\n",
       "      <td>Criança</td>\n",
       "      <td>BOLSA DE BEBÊ, MALA DE MATERNIDADE, NECESSÁIRE...</td>\n",
       "      <td>5.0</td>\n",
       "      <td>11.838911</td>\n",
       "      <td>0.422336</td>\n",
       "    </tr>\n",
       "    <tr>\n",
       "      <th>97</th>\n",
       "      <td>F.F3.V022</td>\n",
       "      <td>BARRACA CLÁUDIA REGINA RACHID NETTO</td>\n",
       "      <td>CLÁUDIA REGINA RACHID NETTO</td>\n",
       "      <td>HERMOGENES GONÇALVES NETTO</td>\n",
       "      <td>Criança</td>\n",
       "      <td>SACOLA, MOISÉS, FRASQUEIRA, MALA, NECESSÁIRE</td>\n",
       "      <td>5.0</td>\n",
       "      <td>11.838911</td>\n",
       "      <td>0.422336</td>\n",
       "    </tr>\n",
       "    <tr>\n",
       "      <th>99</th>\n",
       "      <td>F.F2.V002</td>\n",
       "      <td>BARRACA CLESIA LUCI TORRES DE OLIVEIRA</td>\n",
       "      <td>CLESIA LUCI TORRES DE OLIVEIRA</td>\n",
       "      <td>ANA CAROLINE SILVA MATOZINHOS</td>\n",
       "      <td>Criança</td>\n",
       "      <td>BONECO, MÓBILE, BICHO DE PANO</td>\n",
       "      <td>3.0</td>\n",
       "      <td>11.838911</td>\n",
       "      <td>0.253402</td>\n",
       "    </tr>\n",
       "    <tr>\n",
       "      <th>108</th>\n",
       "      <td>F.F1.V031</td>\n",
       "      <td>BARRACA DAISY ANDRADE</td>\n",
       "      <td>DAISY ANDRADE</td>\n",
       "      <td>MARCIO MARTINS</td>\n",
       "      <td>Criança</td>\n",
       "      <td>PAGÃO, CABIDE</td>\n",
       "      <td>2.0</td>\n",
       "      <td>11.827592</td>\n",
       "      <td>0.169096</td>\n",
       "    </tr>\n",
       "    <tr>\n",
       "      <th>114</th>\n",
       "      <td>F.F2.V013</td>\n",
       "      <td>BARRACA DIRLENE VILELA ROMÃO</td>\n",
       "      <td>DIRLENE VILELA ROMÃO</td>\n",
       "      <td>MICHELLE VILELA COSTA</td>\n",
       "      <td>Criança</td>\n",
       "      <td>EDREDON, MANTA, CAPA DE CARRINHO, CORTINADO DE...</td>\n",
       "      <td>7.0</td>\n",
       "      <td>11.827592</td>\n",
       "      <td>0.591836</td>\n",
       "    </tr>\n",
       "    <tr>\n",
       "      <th>...</th>\n",
       "      <td>...</td>\n",
       "      <td>...</td>\n",
       "      <td>...</td>\n",
       "      <td>...</td>\n",
       "      <td>...</td>\n",
       "      <td>...</td>\n",
       "      <td>...</td>\n",
       "      <td>...</td>\n",
       "      <td>...</td>\n",
       "    </tr>\n",
       "    <tr>\n",
       "      <th>1411</th>\n",
       "      <td>F.F3.V013</td>\n",
       "      <td>BARRACA ROSANA DANIEL DE FIGUEIREDO</td>\n",
       "      <td>ROSANA DANIEL DE FIGUEIREDO</td>\n",
       "      <td>MARIA DO ROSARIO SILVA SALGADO</td>\n",
       "      <td>Criança</td>\n",
       "      <td>KIT BERÇO, MANTA, PROTETOR DE BERÇO, CAPA DE C...</td>\n",
       "      <td>10.0</td>\n",
       "      <td>11.827592</td>\n",
       "      <td>0.845481</td>\n",
       "    </tr>\n",
       "    <tr>\n",
       "      <th>1467</th>\n",
       "      <td>F.F1.V005</td>\n",
       "      <td>BARRACA LYDNEIA MELISSA TEIXEIRA</td>\n",
       "      <td>LYDNEIA MELISSA TEIXEIRA</td>\n",
       "      <td>LYDSSEI MELISSA TEIXEIRA FERREIRA</td>\n",
       "      <td>Criança</td>\n",
       "      <td>KIT BERÇO, SAIA PARA BERÇO, NINHO, LENÇOL, ALM...</td>\n",
       "      <td>8.0</td>\n",
       "      <td>11.827592</td>\n",
       "      <td>0.676384</td>\n",
       "    </tr>\n",
       "    <tr>\n",
       "      <th>1468</th>\n",
       "      <td>F.F4.V014</td>\n",
       "      <td>BARRACA PAULA GUERRA IGLESIAS RODRIGUES</td>\n",
       "      <td>PAULA GUERRA IGLESIAS RODRIGUES</td>\n",
       "      <td>GREG PETERSON LOPES PERUZZO</td>\n",
       "      <td>Criança</td>\n",
       "      <td>BONECA DE PANO, BONECA DE FELTRO, BONECO, DEDO...</td>\n",
       "      <td>5.0</td>\n",
       "      <td>11.838911</td>\n",
       "      <td>0.422336</td>\n",
       "    </tr>\n",
       "    <tr>\n",
       "      <th>1426</th>\n",
       "      <td>F.F3.V010</td>\n",
       "      <td>BARRACA ALESSANDRA DE ABREU REIS</td>\n",
       "      <td>ALESSANDRA DE ABREU REIS</td>\n",
       "      <td>GLAUCIA HELENA DE ABREU TAVARES</td>\n",
       "      <td>Criança</td>\n",
       "      <td>ACESSÓRIOS PARA CACHORRO, ALMOFADA, CAMA DE TE...</td>\n",
       "      <td>14.0</td>\n",
       "      <td>11.838911</td>\n",
       "      <td>1.182541</td>\n",
       "    </tr>\n",
       "    <tr>\n",
       "      <th>1337</th>\n",
       "      <td>F.F2.V004</td>\n",
       "      <td>BARRACA MATHEUS PESSALI TIAGO BARBOSA</td>\n",
       "      <td>MATHEUS PESSALI TIAGO BARBOSA</td>\n",
       "      <td>MIRNA COSTA GONÇALVES</td>\n",
       "      <td>Criança</td>\n",
       "      <td>QUADRO, TOALHA FRALDA, TOALHA, BRINQUEDO PEDAG...</td>\n",
       "      <td>6.0</td>\n",
       "      <td>11.838911</td>\n",
       "      <td>0.506803</td>\n",
       "    </tr>\n",
       "  </tbody>\n",
       "</table>\n",
       "<p>103 rows × 9 columns</p>\n",
       "</div>"
      ],
      "text/plain": [
       "                             CODIGO_VAGA  \\\n",
       "ID_FEIRA_AFONSO_PENA_BARRACA               \n",
       "83                             F.F2.V016   \n",
       "97                             F.F3.V022   \n",
       "99                             F.F2.V002   \n",
       "108                            F.F1.V031   \n",
       "114                            F.F2.V013   \n",
       "...                                  ...   \n",
       "1411                           F.F3.V013   \n",
       "1467                           F.F1.V005   \n",
       "1468                           F.F4.V014   \n",
       "1426                           F.F3.V010   \n",
       "1337                           F.F2.V004   \n",
       "\n",
       "                                                         NOME_FANTASIA  \\\n",
       "ID_FEIRA_AFONSO_PENA_BARRACA                                             \n",
       "83                            BARRACA CARMEN EMMANUEL DOS SANTOS SILVA   \n",
       "97                                 BARRACA CLÁUDIA REGINA RACHID NETTO   \n",
       "99                              BARRACA CLESIA LUCI TORRES DE OLIVEIRA   \n",
       "108                                              BARRACA DAISY ANDRADE   \n",
       "114                                       BARRACA DIRLENE VILELA ROMÃO   \n",
       "...                                                                ...   \n",
       "1411                               BARRACA ROSANA DANIEL DE FIGUEIREDO   \n",
       "1467                                  BARRACA LYDNEIA MELISSA TEIXEIRA   \n",
       "1468                           BARRACA PAULA GUERRA IGLESIAS RODRIGUES   \n",
       "1426                                  BARRACA ALESSANDRA DE ABREU REIS   \n",
       "1337                             BARRACA MATHEUS PESSALI TIAGO BARBOSA   \n",
       "\n",
       "                                                 NOME_FEIRANTE  \\\n",
       "ID_FEIRA_AFONSO_PENA_BARRACA                                     \n",
       "83                            CARMEN EMMANUEL DOS SANTOS SILVA   \n",
       "97                                 CLÁUDIA REGINA RACHID NETTO   \n",
       "99                              CLESIA LUCI TORRES DE OLIVEIRA   \n",
       "108                                              DAISY ANDRADE   \n",
       "114                                       DIRLENE VILELA ROMÃO   \n",
       "...                                                        ...   \n",
       "1411                               ROSANA DANIEL DE FIGUEIREDO   \n",
       "1467                                  LYDNEIA MELISSA TEIXEIRA   \n",
       "1468                           PAULA GUERRA IGLESIAS RODRIGUES   \n",
       "1426                                  ALESSANDRA DE ABREU REIS   \n",
       "1337                             MATHEUS PESSALI TIAGO BARBOSA   \n",
       "\n",
       "                                                  NOME_PREPOSTO NOME_SETOR  \\\n",
       "ID_FEIRA_AFONSO_PENA_BARRACA                                                 \n",
       "83                                          JANA FONSECA VIEIRA    Criança   \n",
       "97                                   HERMOGENES GONÇALVES NETTO    Criança   \n",
       "99                                ANA CAROLINE SILVA MATOZINHOS    Criança   \n",
       "108                                              MARCIO MARTINS    Criança   \n",
       "114                                       MICHELLE VILELA COSTA    Criança   \n",
       "...                                                         ...        ...   \n",
       "1411                             MARIA DO ROSARIO SILVA SALGADO    Criança   \n",
       "1467                          LYDSSEI MELISSA TEIXEIRA FERREIRA    Criança   \n",
       "1468                                GREG PETERSON LOPES PERUZZO    Criança   \n",
       "1426                            GLAUCIA HELENA DE ABREU TAVARES    Criança   \n",
       "1337                                      MIRNA COSTA GONÇALVES    Criança   \n",
       "\n",
       "                                                                       PRODUTOS  \\\n",
       "ID_FEIRA_AFONSO_PENA_BARRACA                                                      \n",
       "83                            BOLSA DE BEBÊ, MALA DE MATERNIDADE, NECESSÁIRE...   \n",
       "97                                 SACOLA, MOISÉS, FRASQUEIRA, MALA, NECESSÁIRE   \n",
       "99                                                BONECO, MÓBILE, BICHO DE PANO   \n",
       "108                                                               PAGÃO, CABIDE   \n",
       "114                           EDREDON, MANTA, CAPA DE CARRINHO, CORTINADO DE...   \n",
       "...                                                                         ...   \n",
       "1411                          KIT BERÇO, MANTA, PROTETOR DE BERÇO, CAPA DE C...   \n",
       "1467                          KIT BERÇO, SAIA PARA BERÇO, NINHO, LENÇOL, ALM...   \n",
       "1468                          BONECA DE PANO, BONECA DE FELTRO, BONECO, DEDO...   \n",
       "1426                          ACESSÓRIOS PARA CACHORRO, ALMOFADA, CAMA DE TE...   \n",
       "1337                          QUADRO, TOALHA FRALDA, TOALHA, BRINQUEDO PEDAG...   \n",
       "\n",
       "                              NUMERO_PRODUTOS_CADASTRADOS       AREA  \\\n",
       "ID_FEIRA_AFONSO_PENA_BARRACA                                           \n",
       "83                                                    5.0  11.838911   \n",
       "97                                                    5.0  11.838911   \n",
       "99                                                    3.0  11.838911   \n",
       "108                                                   2.0  11.827592   \n",
       "114                                                   7.0  11.827592   \n",
       "...                                                   ...        ...   \n",
       "1411                                                 10.0  11.827592   \n",
       "1467                                                  8.0  11.827592   \n",
       "1468                                                  5.0  11.838911   \n",
       "1426                                                 14.0  11.838911   \n",
       "1337                                                  6.0  11.838911   \n",
       "\n",
       "                              DENSIDADE  \n",
       "ID_FEIRA_AFONSO_PENA_BARRACA             \n",
       "83                             0.422336  \n",
       "97                             0.422336  \n",
       "99                             0.253402  \n",
       "108                            0.169096  \n",
       "114                            0.591836  \n",
       "...                                 ...  \n",
       "1411                           0.845481  \n",
       "1467                           0.676384  \n",
       "1468                           0.422336  \n",
       "1426                           1.182541  \n",
       "1337                           0.506803  \n",
       "\n",
       "[103 rows x 9 columns]"
      ]
     },
     "execution_count": 30,
     "metadata": {},
     "output_type": "execute_result"
    }
   ],
   "source": [
    "afonso_pena[afonso_pena.get('NOME_SETOR') == 'Criança']"
   ]
  },
  {
   "cell_type": "markdown",
   "metadata": {},
   "source": [
    "### Voltando para a pergunta: A densidade média das barracas de produtos de crianças 👶🧸?\n",
    "- Filtre um novo DataFrame apenas de crianças\n",
    "- Pegue a coluna desejada\n",
    "- Tire a média"
   ]
  },
  {
   "cell_type": "code",
   "execution_count": 31,
   "metadata": {
    "execution": {
     "iopub.execute_input": "2024-04-02T17:44:04.575934Z",
     "iopub.status.busy": "2024-04-02T17:44:04.575731Z",
     "iopub.status.idle": "2024-04-02T17:44:04.582577Z",
     "shell.execute_reply": "2024-04-02T17:44:04.581870Z"
    }
   },
   "outputs": [
    {
     "data": {
      "text/plain": [
       "ID_FEIRA_AFONSO_PENA_BARRACA\n",
       "83      0.422336\n",
       "97      0.422336\n",
       "99      0.253402\n",
       "108     0.169096\n",
       "114     0.591836\n",
       "          ...   \n",
       "1411    0.845481\n",
       "1467    0.676384\n",
       "1468    0.422336\n",
       "1426    1.182541\n",
       "1337    0.506803\n",
       "Name: DENSIDADE, Length: 103, dtype: float64"
      ]
     },
     "execution_count": 31,
     "metadata": {},
     "output_type": "execute_result"
    }
   ],
   "source": [
    "criancas = afonso_pena[afonso_pena.get('NOME_SETOR') == 'Criança']\n",
    "criancas.get('DENSIDADE')"
   ]
  },
  {
   "cell_type": "code",
   "execution_count": 32,
   "metadata": {
    "execution": {
     "iopub.execute_input": "2024-04-02T17:44:04.585292Z",
     "iopub.status.busy": "2024-04-02T17:44:04.584817Z",
     "iopub.status.idle": "2024-04-02T17:44:04.589562Z",
     "shell.execute_reply": "2024-04-02T17:44:04.588858Z"
    }
   },
   "outputs": [
    {
     "data": {
      "text/plain": [
       "0.6106923564685903"
      ]
     },
     "execution_count": 32,
     "metadata": {},
     "output_type": "execute_result"
    }
   ],
   "source": [
    "criancas.get('DENSIDADE').mean()"
   ]
  },
  {
   "cell_type": "markdown",
   "metadata": {},
   "source": [
    "### E se forem comidas? 🍓 🍒 🍎 🍉 🍑 🍊 🥭 🍍 🍌 🍋 🍈 🍏 🍐 🥝 🍇 🥥 🍅 🌶 🍄 🥕 🍠 🧅 🌽 🥦 🥒🥬 🥑 🍆 🧄 🥔 🌰🥜"
   ]
  },
  {
   "cell_type": "code",
   "execution_count": 33,
   "metadata": {
    "execution": {
     "iopub.execute_input": "2024-04-02T17:44:04.592381Z",
     "iopub.status.busy": "2024-04-02T17:44:04.592136Z",
     "iopub.status.idle": "2024-04-02T17:44:04.597805Z",
     "shell.execute_reply": "2024-04-02T17:44:04.596881Z"
    }
   },
   "outputs": [
    {
     "data": {
      "text/plain": [
       "0.218202423788409"
      ]
     },
     "execution_count": 33,
     "metadata": {},
     "output_type": "execute_result"
    }
   ],
   "source": [
    "comidas = afonso_pena[afonso_pena.get('NOME_SETOR') == 'Alimentação']\n",
    "comidas.get('DENSIDADE').mean()"
   ]
  },
  {
   "cell_type": "markdown",
   "metadata": {},
   "source": [
    "### Como explicar o resultado acima?\n",
    "- Será que a coluna área ajuda?"
   ]
  },
  {
   "cell_type": "code",
   "execution_count": 34,
   "metadata": {
    "execution": {
     "iopub.execute_input": "2024-04-02T17:44:04.600736Z",
     "iopub.status.busy": "2024-04-02T17:44:04.600539Z",
     "iopub.status.idle": "2024-04-02T17:44:04.605224Z",
     "shell.execute_reply": "2024-04-02T17:44:04.604545Z"
    }
   },
   "outputs": [
    {
     "data": {
      "text/plain": [
       "33.593432833729956"
      ]
     },
     "execution_count": 34,
     "metadata": {},
     "output_type": "execute_result"
    }
   ],
   "source": [
    "comidas.get('AREA').mean()"
   ]
  },
  {
   "cell_type": "code",
   "execution_count": 35,
   "metadata": {
    "execution": {
     "iopub.execute_input": "2024-04-02T17:44:04.608131Z",
     "iopub.status.busy": "2024-04-02T17:44:04.607705Z",
     "iopub.status.idle": "2024-04-02T17:44:04.613178Z",
     "shell.execute_reply": "2024-04-02T17:44:04.612514Z"
    }
   },
   "outputs": [
    {
     "data": {
      "text/plain": [
       "12.378615690707454"
      ]
     },
     "execution_count": 35,
     "metadata": {},
     "output_type": "execute_result"
    }
   ],
   "source": [
    "criancas.get('AREA').mean()"
   ]
  },
  {
   "cell_type": "markdown",
   "metadata": {},
   "source": [
    "Parece que as barracas de comida tem muita espaço. Isso é esperado, elas precisam cozinhar."
   ]
  },
  {
   "cell_type": "markdown",
   "metadata": {
    "slideshow": {
     "slide_type": "slide"
    }
   },
   "source": [
    "## Resumo"
   ]
  },
  {
   "cell_type": "markdown",
   "metadata": {
    "slideshow": {
     "slide_type": "slide"
    }
   },
   "source": [
    "### Resumo\n",
    "\n",
    "- Aprendemos alguns métodos e técnicas do DataFrame.\n",
    "- Não sinta necessidade de memorizá-los todos imediatamente.\n",
    "- Com o tempo, essas técnicas se tornarão cada vez mais familiares.\n",
    "- **Pratique!** Elabore suas próprias perguntas usando este conjunto de dados e tente respondê-las."
   ]
  },
  {
   "cell_type": "markdown",
   "metadata": {
    "slideshow": {
     "slide_type": "slide"
    }
   },
   "source": [
    "### Próxima vez\n",
    "\n",
    "- Responderemos a perguntas mais complicadas, que nos levarão a um novo método principal do DataFrame, `.groupby`, para organizar linhas de um DataFrame com o mesmo valor em uma coluna específica.\n",
    "- Por exemplo, podemos querer organizar os dados por bairro, recolhendo todos os diferentes pedidos de serviço para cada bairro."
   ]
  },
  {
   "cell_type": "code",
   "execution_count": null,
   "metadata": {},
   "outputs": [],
   "source": []
  }
 ],
 "metadata": {
  "kernelspec": {
   "display_name": "Python 3 (ipykernel)",
   "language": "python",
   "name": "python3"
  },
  "language_info": {
   "codemirror_mode": {
    "name": "ipython",
    "version": 3
   },
   "file_extension": ".py",
   "mimetype": "text/x-python",
   "name": "python",
   "nbconvert_exporter": "python",
   "pygments_lexer": "ipython3",
   "version": "3.11.2"
  },
  "livereveal": {
   "scroll": true,
   "transition": "none"
  },
  "rise": {
   "enable_chalkboard": true
  }
 },
 "nbformat": 4,
 "nbformat_minor": 4
}
