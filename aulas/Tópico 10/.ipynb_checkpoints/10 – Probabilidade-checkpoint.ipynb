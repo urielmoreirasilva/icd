{
 "cells": [
  {
   "cell_type": "markdown",
   "metadata": {
    "slideshow": {
     "slide_type": "slide"
    }
   },
   "source": [
    "# Tópico 10 – Probabilidade [<img src=\"images/colag_logo.svg\" style=\"float: right; vertical-align: middle; width: 42px; height: 42px;\">](https://colab.research.google.com/github/urielmoreirasilva/urielmoreirasilva.github.io/blob/main/aulas/T%C3%B3pico%2010/10%20%E2%80%93%20Probabilidade.ipynb) [<img src=\"images/github_logo.svg\" style=\"float: right; margin-right: 12px; vertical-align: middle; width: 36px; height: 36px;\">](https://github.com/urielmoreirasilva/urielmoreirasilva.github.io/blob/main/aulas/T%C3%B3pico%2010/10%20%E2%80%93%20Probabilidade.ipynb)\n",
    "\n",
    "Vamos aprender o básico da Teoria de Probabilidade.\n",
    "\n",
    "### Resultados Esperados\n",
    "\n",
    "1. Introduzir os conceitos de espaço amostral, eventos, massa e densidade de probabilidade.\n",
    "1. Aprender algumas propriedades básicas de probabilidade.\n",
    "1. Introduzir os conceitos de probabilidade condicional e independência.\n",
    "\n",
    "### Referências\n",
    "- [CIT, Capítulo 9](https://inferentialthinking.com/)\n",
    "\n",
    "Material adaptado do [DSC10 (UCSD)](https://dsc10.com/) por [Flavio Figueiredo (DCC-UFMG)](https://flaviovdf.io/fcd/) e [Uriel Silva (DEST-UFMG)](https://urielmoreirasilva.github.io)"
   ]
  },
  {
   "cell_type": "markdown",
   "metadata": {
    "slideshow": {
     "slide_type": "slide"
    }
   },
   "source": [
    "## Probabilidade\n",
    "\n",
    "- Algumas coisas na vida são _naturalmente_ aleatórias.\n",
    "- Por exemplo, quando lançamos uma moeda ou um dado 🎲, não sabemos o resultado de antemão, então podemos dizer que esse resultado é _incerto_, ou _aleatório_.\n",
    "- A **probabilidade** de ver \"cara\" ao lançar uma moeda honesta é $\\frac{1}{2}$. [*]\n",
    "- Uma interpretação da probabilidade diz que se lançássemos uma moeda infinitamente muitas vezes, então $\\frac{1}{2}$ dos resultados seriam caras."
   ]
  },
  {
   "cell_type": "markdown",
   "metadata": {},
   "source": [
    "- interpretação Bayesiana/frequentista"
   ]
  },
  {
   "cell_type": "code",
   "execution_count": null,
   "metadata": {},
   "outputs": [],
   "source": []
  },
  {
   "cell_type": "markdown",
   "metadata": {
    "slideshow": {
     "slide_type": "slide"
    }
   },
   "source": [
    "### Terminologia básica\n",
    "\n",
    "- **Experimento**: Um processo ou ação cujo resultado é aleatório.\n",
    "- por exemplo, lançar um dado.\n",
    "- por exemplo, jogar uma moeda duas vezes."
   ]
  },
  {
   "cell_type": "markdown",
   "metadata": {},
   "source": [
    "- **Resultado**: O resultado de um experimento.\n",
    "- por exemplo, os resultados possíveis do lançamento de um dado de seis lados são 1, 2, 3, 4, 5 e 6.\n",
    "- por exemplo, os resultados possíveis de jogar uma moeda duas vezes são HH, HT, TH e TT.\n"
   ]
  },
  {
   "cell_type": "markdown",
   "metadata": {},
   "source": [
    "- **Evento**: um conjunto de resultados.\n",
    "- por exemplo, o evento em que o dado cai num número par é o conjunto de resultados {2, 4, 6}.\n",
    "- por exemplo, o evento em que o dado cai em 5 é o conjunto de resultados {5}.\n",
    "- por exemplo, o evento em que há pelo menos 1 cara em 2 lançamentos é o conjunto de resultados {HH, HT, TH}."
   ]
  },
  {
   "cell_type": "markdown",
   "metadata": {},
   "source": [
    "- **Probabilidade**: um número entre 0 e 1 (equivalentemente, entre 0% e 100%) que descreve a probabilidade de um evento.\n",
    "- 0: o evento nunca acontece.\n",
    "- 1: o evento sempre acontece.\n",
    "- Notação: se $A$ é um evento, $P(A)$ é a probabilidade desse evento."
   ]
  },
  {
   "cell_type": "markdown",
   "metadata": {
    "slideshow": {
     "slide_type": "slide"
    }
   },
   "source": [
    "### Resultados igualmente prováveis\n",
    "\n",
    "- Se todos os resultados do evento $A$ forem igualmente prováveis, então a probabilidade de $A$ é\n",
    "\n",
    "$$P(A) = \\frac{\\text{\\# de resultados satisfatórios $A$}}{\\text{número total de resultados}}$$\n",
    "\n",
    "- **Exemplo 1:** Suponha que lançamos uma moeda **não enviesada** 3 vezes. Qual é a probabilidade de vermos exatamente 2 caras?"
   ]
  },
  {
   "cell_type": "markdown",
   "metadata": {
    "slideshow": {
     "slide_type": "slide"
    }
   },
   "source": [
    "### Verificação de conceito ✅\n",
    "\n",
    "Tenho três cartas: vermelha, azul e verde. Qual é a chance de eu escolher uma carta aleatoriamente e ela ser verde, então – **sem devolvê-la** – eu escolher outra carta aleatoriamente e ela ser vermelha?\n",
    "\n",
    "- A) $\\frac{1}{9}$\n",
    "- B) $\\frac{1}{6}$\n",
    "- C) $\\frac{1}{3}$\n",
    "- D) $\\frac{2}{3}$\n",
    "- E) Nenhuma das opções acima."
   ]
  },
  {
   "cell_type": "markdown",
   "metadata": {
    "slideshow": {
     "slide_type": "slide"
    }
   },
   "source": [
    "### Probabilidades condicionais\n",
    "\n",
    "- Dois eventos $A$ e $B$ podem acontecer. Suponha que sabemos que $A$ aconteceu, mas não sabemos se $B$ aconteceu.\n",
    "- Se todos os resultados forem igualmente prováveis, então a probabilidade condicional de $B$ dado $A$ é:\n",
    "\n",
    "$$\n",
    "P(B \\text{ dado } A) = P(B | A) = \n",
    "= \\frac{\n",
    "\\text{\\# de resultados que satisfazem $A$ e $B$}\n",
    "}{\n",
    "\\text{\\# de resultados satisfatórios $A$}\n",
    "}\n",
    "$$\n",
    "- Intuitivamente, isso é semelhante à definição da probabilidade regular de $B$, $P(B) = \\frac{\n",
    "\\text{\\# de resultados satisfatórios $B$}\n",
    "}{\n",
    "\\text{número total de resultados}\n",
    "}$, se você restringir o conjunto de resultados possíveis apenas aos do evento $A$."
   ]
  },
  {
   "cell_type": "markdown",
   "metadata": {
    "slideshow": {
     "slide_type": "slide"
    }
   },
   "source": [
    "### Verificação de conceito ✅\n",
    "\n",
    "$$\n",
    "P(B \\text{ dado } A) = P(B | A)\n",
    "= \\frac{\n",
    "\\text{\\# de resultados que satisfazem $A$ e $B$}\n",
    "}{\n",
    "\\text{\\# de resultados satisfatórios $A$}\n",
    "}\n",
    "$$\n",
    "\n",
    "Eu jogo um dado de seis lados e não digo qual é o resultado, mas digo que é 3 ou menos. Qual é a probabilidade de o resultado ser par?\n",
    "\n",
    "- A) $\\frac{1}{2}$\n",
    "- B) $\\frac{1}{3}$\n",
    "- C) $\\frac{1}{4}$\n",
    "- D) Nenhuma das opções acima."
   ]
  },
  {
   "cell_type": "markdown",
   "metadata": {
    "slideshow": {
     "slide_type": "slide"
    }
   },
   "source": [
    "### Probabilidade de que dois eventos aconteçam\n",
    "\n",
    "- Suponha novamente que $A$ e $B$ são dois eventos e que todos os resultados são igualmente prováveis. Então, a probabilidade de que $A$ e $B$ ocorram é\n",
    "\n",
    "$$\n",
    "P(A \\text{ e } B) = P(A, B) = \\frac{\n",
    "\\text{\\# de resultados que satisfazem $A$ e $B$}\n",
    "}{\n",
    "\\text{número total de resultados}\n",
    "}\n",
    "$$\n",
    "\n",
    "- **Exemplo 2:** Eu jogo um dado justo de seis lados. Qual é a probabilidade de o lançamento ser 3 ou menos e par?"
   ]
  },
  {
   "cell_type": "markdown",
   "metadata": {
    "slideshow": {
     "slide_type": "slide"
    }
   },
   "source": [
    "### A regra da multiplicação\n",
    "\n",
    "- A regra de multiplicação especifica como calcular a probabilidade de $A$ e $B$ acontecerem, mesmo que todos os resultados não sejam igualmente prováveis.\n",
    "\n",
    "$$\n",
    "P(A \\text{ e } B)\n",
    "=\n",
    "P(A) \\cdot P(B \\text{ dado } A)\n",
    "$$\n",
    "\n",
    "- **Exemplo 2, novamente:** Eu jogo um dado justo de seis lados. Qual é a probabilidade de o lançamento ser 3 ou menos e par?"
   ]
  },
  {
   "cell_type": "markdown",
   "metadata": {
    "slideshow": {
     "slide_type": "slide"
    }
   },
   "source": [
    "### E se $A$ não for afetado por $B$? 🤔\n",
    "\n",
    "- A regra de multiplicação afirma que, para quaisquer dois eventos $A$ e $B$, $$P(A \\text{ e } B) = P(A) \\cdot P(B \\text{ dado } A)$$\n",
    "- E se saber que $A$ acontece não lhe disser nada sobre a probabilidade de $B$ acontecer?\n",
    "- Suponha que joguemos uma moeda honesta três vezes.\n",
    "- A probabilidade de o segundo lançamento dar cara não depende do resultado do primeiro lançamento.\n",
    "- Então, o que é $P(A \\text{ e } B)$?"
   ]
  },
  {
   "cell_type": "markdown",
   "metadata": {
    "slideshow": {
     "slide_type": "slide"
    }
   },
   "source": [
    "### Eventos independentes\n",
    "\n",
    "- Dois eventos $A$ e $B$ são independentes se $P(B \\text{ dado } A) = P(B) \\:$, ou equivalentemente se $$P(A \\text{ e } B) = P (A) \\cdot P(B)$$\n",
    "- **Exemplo 3:** Suponha que temos uma moeda que é **viciada** e dá cara com probabilidade de 0,7. Cada lançamento é independente de todos os outros lançamentos. Nós viramos 5 vezes. Qual é a probabilidade de vermos 5 caras seguidas?"
   ]
  },
  {
   "cell_type": "markdown",
   "metadata": {
    "slideshow": {
     "slide_type": "slide"
    }
   },
   "source": [
    "### Probabilidade de um evento *não* acontecer\n",
    "\n",
    "- A probabilidade de $A$ **não** acontecer é $1 - P(A) \\:$.\n",
    "- Por exemplo, se a probabilidade de amanhã fazer sol é 0,85, então a probabilidade de não fazer sol amanhã é 0,15."
   ]
  },
  {
   "cell_type": "markdown",
   "metadata": {
    "slideshow": {
     "slide_type": "slide"
    }
   },
   "source": [
    "### Verificação de conceito ✅\n",
    "\n",
    "Cada vez que ligo para minha avó 👵, a probabilidade de ela atender o telefone é $\\frac{1}{3}$, independentemente para cada ligação. Se eu ligar três vezes para minha avó hoje, qual a chance de falar com ela pelo menos uma vez?\n",
    "\n",
    "- A) $\\frac{1}{3}$\n",
    "- B) $\\frac{2}{3}$\n",
    "- C) $\\frac{1}{2}$\n",
    "- D)$1$\n",
    "- E) Nenhuma das opções acima."
   ]
  },
  {
   "cell_type": "markdown",
   "metadata": {
    "slideshow": {
     "slide_type": "slide"
    }
   },
   "source": [
    "### Probabilidade de qualquer um dos dois eventos acontecer\n",
    "\n",
    "- Suponha novamente que $A$ e $B$ são dois eventos e que todos os resultados são igualmente prováveis. Então, a probabilidade de que $A$ ou $B$ ocorram é\n",
    "\n",
    "$$\n",
    "P(A \\text{ ou } B) = \\frac{\n",
    "\\text{\\# de resultados que satisfazem $A$ ou $B$}\n",
    "}{\n",
    "\\text{número total de resultados}\n",
    "}\n",
    "$$\n",
    "\n",
    "- **Exemplo 4:** Eu jogo um dado justo de seis lados. Qual é a probabilidade de o lançamento ser par ou pelo menos 5?"
   ]
  },
  {
   "cell_type": "markdown",
   "metadata": {
    "slideshow": {
     "slide_type": "slide"
    }
   },
   "source": [
    "### A regra de adição\n",
    "\n",
    "- Suponha que se $A$ acontecer, então $B$ não acontecerá, e se $B$ acontecer, então $A$ não acontecerá.\n",
    "- Tais eventos são chamados de **mutuamente exclusivos** – eles **não têm sobreposição**.\n",
    "- Se $A$ e $B$ são quaisquer dois eventos mutuamente exclusivos, então\n",
    "\n",
    "$$P(A \\text{ ou } B) = P(A) + P(B)$$\n",
    "\n",
    "- **Exemplo 5:** Suponha que eu tenha duas moedas tendenciosas, a moeda $A$ e a moeda $B$. A moeda $A$ dá cara com probabilidade 0,6 e a moeda $B$ dá cara com probabilidade 0,3. Eu jogo as duas moedas uma vez. Qual é a probabilidade de eu ver duas faces diferentes?"
   ]
  },
  {
   "cell_type": "markdown",
   "metadata": {
    "slideshow": {
     "slide_type": "slide"
    }
   },
   "source": [
    "### À parte: prova da regra de adição para eventos igualmente prováveis\n",
    "\n",
    "Você não é obrigado a saber como “provar” nada neste curso; você pode achar isso interessante.\n",
    "\n",
    "Se $A$ e $B$ são eventos que consistem em resultados igualmente prováveis ​​e, além disso, $A$ e $B$ são mutuamente exclusivos (o que significa que não têm sobreposição), então\n",
    "\n",
    "$$\n",
    "\\begin{align*}\n",
    "P(A \\text{ ou } B)\n",
    "&= \\frac{\n",
    "\\text{\\# de resultados que satisfazem $A$ ou $B$}\n",
    "}{\n",
    "\\text{número total de resultados}\n",
    "}\n",
    "\\\\[1em]\n",
    "&= \\frac{\n",
    "(\\text{\\# de resultados satisfatórios $A$})\n",
    "+\n",
    "(\\text{\\# de resultados satisfatórios $B$})\n",
    "}{\n",
    "\\text{número total de resultados}\n",
    "}\n",
    "\\\\[1em]\n",
    "&= \\frac{\n",
    "(\\text{\\# de resultados satisfatórios $A$})\n",
    "}{\n",
    "\\text{número total de resultados}\n",
    "}\n",
    "+\n",
    "\\frac{\n",
    "(\\text{\\# de resultados satisfatórios $B$})\n",
    "}{\n",
    "\\text{número total de resultados}\n",
    "}\n",
    "\\\\[1em]\n",
    "&= P(A) + P(B)\n",
    "\\end{align*}\n",
    "$$"
   ]
  },
  {
   "cell_type": "markdown",
   "metadata": {
    "slideshow": {
     "slide_type": "slide"
    }
   },
   "source": [
    "## Resumo [*]\n",
    "\n",
    "- Probabilidade descreve a probabilidade de ocorrência de um evento.\n",
    "- Existem várias regras para calcular probabilidades. Analisamos muitos casos especiais que envolviam eventos igualmente prováveis.\n",
    "- Existem duas regras gerais a ter em conta:\n",
    "- A **regra de multiplicação**, que afirma que para quaisquer dois eventos, $P(A \\text{ e } B) = P(B \\text{ dado } A) \\cdot P(A) \\:$.\n",
    "- A **regra de adição**, que afirma que para quaisquer dois eventos **mutuamente exclusivos**, $P(A \\text{ ou } B) = P(A) + P(B)$.\n",
    "- **Próxima vez:** simulações."
   ]
  },
  {
   "cell_type": "markdown",
   "metadata": {
    "jp-MarkdownHeadingCollapsed": true,
    "slideshow": {
     "slide_type": "slide"
    }
   },
   "source": [
    "### Alguns locais para ler mais sobre o assunto [*]\n",
    "\n",
    "A probabilidade é um assunto complicado. Se não clicar durante a aula ou nas tarefas, dê uma olhada nos seguintes recursos:\n",
    "\n",
    "-[Computational and Inferential Thinking, Chapter 9.5](https://inferentialthinking.com/chapters/09/5/Finding_Probabilities.html).\n",
    "\n",
    "-[Theory Meets Data, Chapters 1 and 2](http://stat88.org/textbook/content/Chapter_01/00_The_Basics.html).\n",
    "\n",
    "-[Khan Academy's unit on Probability](https://www.khanacademy.org/math/probability/xa88397b6:probability)."
   ]
  }
 ],
 "metadata": {
  "kernelspec": {
   "display_name": "Python 3 (ipykernel)",
   "language": "python",
   "name": "python3"
  },
  "language_info": {
   "codemirror_mode": {
    "name": "ipython",
    "version": 3
   },
   "file_extension": ".py",
   "mimetype": "text/x-python",
   "name": "python",
   "nbconvert_exporter": "python",
   "pygments_lexer": "ipython3",
   "version": "3.11.7"
  },
  "livereveal": {
   "scroll": true,
   "transition": "none"
  },
  "rise": {
   "enable_chalkboard": true
  }
 },
 "nbformat": 4,
 "nbformat_minor": 4
}
