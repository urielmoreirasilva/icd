{
 "cells": [
  {
   "cell_type": "markdown",
   "metadata": {
    "slideshow": {
     "slide_type": "slide"
    }
   },
   "source": [
    "# Tópico 10 – Probabilidade [<img src=\"images/colag_logo.svg\" style=\"float: right; vertical-align: middle; width: 42px; height: 42px;\">](https://colab.research.google.com/github/urielmoreirasilva/urielmoreirasilva.github.io/blob/main/aulas/T%C3%B3pico%2010/10%20%E2%80%93%20Probabilidade.ipynb) [<img src=\"images/github_logo.svg\" style=\"float: right; margin-right: 12px; vertical-align: middle; width: 36px; height: 36px;\">](https://github.com/urielmoreirasilva/urielmoreirasilva.github.io/blob/main/aulas/T%C3%B3pico%2010/10%20%E2%80%93%20Probabilidade.ipynb)\n",
    "\n",
    "Vamos aprender o básico da Teoria de Probabilidade.\n",
    "\n",
    "### Resultados Esperados\n",
    "\n",
    "1. Introduzir os conceitos de espaço amostral, eventos, massa e densidade de probabilidade.\n",
    "1. Aprender algumas propriedades básicas de probabilidade.\n",
    "1. Introduzir os conceitos de probabilidade condicional e independência.\n",
    "\n",
    "### Referências\n",
    "- [CIT, Capítulo 9](https://inferentialthinking.com/)\n",
    "\n",
    "Material adaptado do [DSC10 (UCSD)](https://dsc10.com/) por [Flavio Figueiredo (DCC-UFMG)](https://flaviovdf.io/fcd/) e [Uriel Silva (DEST-UFMG)](https://urielmoreirasilva.github.io)"
   ]
  },
  {
   "cell_type": "markdown",
   "metadata": {
    "slideshow": {
     "slide_type": "slide"
    }
   },
   "source": [
    "## Probabilidade\n",
    "\n",
    "- Algumas coisas na vida são _naturalmente_ aleatórias.\n",
    "- Por exemplo, quando lançamos uma moeda ou um dado 🎲, não sabemos o resultado de antemão, então podemos dizer que esse resultado é _incerto_, ou _aleatório_.\n",
    "- Porém, ainda que um resultado em particular seja incerto, podemos estudar a _regularidade_ com as quais certos resultados acontecem através da **Teoria de Probabilidade**."
   ]
  },
  {
   "cell_type": "markdown",
   "metadata": {},
   "source": [
    "- Novamente tomando como exemplo o lançamento de uma moeda \"honesta\", a **probabilidade** de observamos \"cara\" é igual a probabilidade de observarmos \"coroa\", e ambas são iguais a $\\frac{1}{2}$.\n",
    "- Outro exemplo é o lançamento de um lado de 6 faces: a probabilidade com que cada face ocorre é de $\\frac{1}{6}$."
   ]
  },
  {
   "cell_type": "markdown",
   "metadata": {},
   "source": [
    "- Apesar da Probabilidade ser uma área da Estatística/Matemática muito bem definida em termos formais, é natural que busquemos diferentes _interpretações_ para o que uma probabilidade realmente _representa_.\n",
    "- A interpretação \"clássica\" ou **frequentista** nos diz que, se pudéssemos repetir um **experimento aleatório** infinitas vezes, a **frequência** com a qual um resultado ocorre é sua probabilidade de ocorrência.\n",
    "- Por outro lado, a interpretação \"subjetiva\" ou **Bayesiana** nos diz que a probabilidade de ocorrência de um resultado é **diferente para cada indivíduo**, e depende do quão **provável** (ou **improvável**) esse resultado é relativo a todos os outros possíveis resultados do experimento em questão."
   ]
  },
  {
   "cell_type": "markdown",
   "metadata": {},
   "source": [
    "- Nesse curso, adotaremos a interpretação frequentista, e utilizaremos **frequências relativas para estimar probabilidades**!\n",
    "    - Veremos isso com mais detalhes nos Tópicos 11 e 12."
   ]
  },
  {
   "cell_type": "markdown",
   "metadata": {
    "slideshow": {
     "slide_type": "slide"
    }
   },
   "source": [
    "### Terminologia básica"
   ]
  },
  {
   "cell_type": "markdown",
   "metadata": {},
   "source": [
    "**Experimento aleatório**: Um processo ou ação cujo resultado é aleatório.\n",
    "\n",
    "- Exemplos:\n",
    "    - lançamento de um dado;\n",
    "    - lançamento de uma moeda duas vezes;\n",
    "    - ocorrência de chuva no dia de hoje;\n",
    "    - vitória do Galo na Libertadores 2024."
   ]
  },
  {
   "cell_type": "markdown",
   "metadata": {},
   "source": [
    "**Espaço amostral**: O conjunto de todos os resultados possíveis de um experimento aleatório.\n",
    "\n",
    "- Notação: utilizamos $\\Omega$ para denotar o espaço amostral.\n",
    "\n",
    "- Exemplos:\n",
    "    - $\\Omega = \\{1, 2, 3, 4, 5, 6\\}$;\n",
    "    - $\\Omega = \\{(H, H), (H, T), (T, H), (T, T)\\}$;\n",
    "    - $\\Omega = \\{\\text{chove}, \\text{não chove}\\}$;\n",
    "    - $\\Omega = \\{\\text{vitória}, \\text{derrota}\\}$."
   ]
  },
  {
   "cell_type": "markdown",
   "metadata": {},
   "source": [
    "**Evento**: um conjunto específico de resultados de interesse do experimento aleatório. \n",
    "\n",
    "- Notação: utilizamos $A$ para denotar um evento. Escrevemos $A \\subseteq \\Omega$, pois formalmente $A$ é um _subconjunto_ de $\\Omega$.\n",
    "\n",
    "- Exemplos:\n",
    "    - $A = \\text{``número par''} = \\{2, 4, 6\\}$;\n",
    "    - $A = \\text{``pelo menos 1 cara''} = \\{(H, H), (H, T), (T, H)\\}$;\n",
    "    - $A = \\text{``chove e vou me molhar''} = \\{ \\}$;\n",
    "    - $A = \\text{``felicidade da nação atleticana''} = \\{ \\text{vitória} \\}$."
   ]
  },
  {
   "cell_type": "markdown",
   "metadata": {},
   "source": [
    "**Probabilidade**: um número entre 0 e 1 (equivalentemente, entre 0% e 100%) que descreve a probabilidade de um evento.\n",
    "\n",
    "- Notação: utilizamos $P(A)$ para denotar a probabilidade de um evento $A$. Temos sempre $P(A) \\in [0, 1]$.\n",
    "\n",
    "- Exemplos:\n",
    "    - $P(A) = 1/2 = 0.50 = 50\\%$;\n",
    "    - $P(A) = 3/4 = 0.75 = 75\\%$;\n",
    "    - $P(A) = 0 = 0\\%$;\n",
    "    - $P(A) = \\,?$"
   ]
  },
  {
   "cell_type": "markdown",
   "metadata": {},
   "source": [
    "- Nota: o evento $A = \\{ \\}$ é denominado **evento impossível**, pois $P(\\{ \\}) = 0$.\n",
    "- Analogamente, o evento $A = \\Omega$ é denominado **evento certo**, pois $P(\\Omega) = 1$."
   ]
  },
  {
   "cell_type": "markdown",
   "metadata": {
    "slideshow": {
     "slide_type": "slide"
    }
   },
   "source": [
    "### Resultados igualmente prováveis\n",
    "\n",
    "- Se todos os resultados do espaço amostral $\\Omega$ forem _equiprováveis_ (isto é, igualmente prováveis), então a probabilidade de qualquer evento $A \\subseteq \\Omega$ é dada por\n",
    "\n",
    "\\begin{equation*}\n",
    "    P(A) = \\frac{\\# \\text{de elementos em } A}{\\# \\text{de elementos em } \\Omega} = \\frac{\\#(A)}{\\#(\\Omega)}\n",
    "\\end{equation*}"
   ]
  },
  {
   "cell_type": "markdown",
   "metadata": {},
   "source": [
    "#### Exemplo\n",
    "\n",
    "- Suponha que lancemos uma moeda \"justa\" 3 vezes. Qual é a probabilidade de vermos exatamente 2 caras?"
   ]
  },
  {
   "cell_type": "markdown",
   "metadata": {},
   "source": [
    "O espaço amostral nesse exemplo é dado por $\\Omega = \\{(H, H, H), (H, H, T), (H, T, H), (H, T, T), (T, H, H), (T, H, T), (T, T, H), (T, T, T)\\}$. "
   ]
  },
  {
   "cell_type": "markdown",
   "metadata": {},
   "source": [
    "Nosso evento de interesse é $A = \\{(H, H, T), (H, T, H), (T, H, H)\\}$."
   ]
  },
  {
   "cell_type": "markdown",
   "metadata": {},
   "source": [
    "Dessa forma, como $\\#(A) = 3$ e $\\#(\\Omega) = 2^3 = 8$, então $P(A) = 3/8$."
   ]
  },
  {
   "cell_type": "markdown",
   "metadata": {
    "slideshow": {
     "slide_type": "slide"
    }
   },
   "source": [
    "### Exercício ✅\n",
    "\n",
    "Suponha que você tenha três cartas: uma vermelha, uma azul e outra verde. \n",
    "\n",
    "Qual é a probabilidade de você escolher uma das cartas aleatoriamente e ela ser verde, e então – **sem devolvê-la** – você escolher outra carta aleatoriamente e ela ser vermelha?\n",
    "\n",
    "A. $\\frac{1}{9}$\n",
    "\n",
    "B. $\\frac{1}{6}$\n",
    "\n",
    "C. $\\frac{1}{3}$\n",
    "\n",
    "D. $\\frac{2}{3}$\n",
    "\n",
    "E Nenhuma das opções acima."
   ]
  },
  {
   "cell_type": "markdown",
   "metadata": {
    "slideshow": {
     "slide_type": "slide"
    }
   },
   "source": [
    "### Eventos mutuamente exclusivos\n",
    "\n",
    "- Suponha que $A$ e $B$ sejam dois eventos **mutuamente exclusivos**.\n",
    "- Isso significa que se $A$ acontecer, $B$ não acontece, e vice-versa.\n",
    "- Na linguagem de Teoria de Conjuntos, dizemos que $A$ e $B$ são _disjuntos_, isto é, _não existe interseção entre $A$ e $B$_.\n",
    "- Formalmente, escrevemos $A \\cap B = \\{ \\}$."
   ]
  },
  {
   "cell_type": "markdown",
   "metadata": {},
   "source": [
    "- Quando $A$ e $B$ são mutuamente exclusivos, é razoável que a probabilidade de que o evento $\\text{``} A \\text{ ou } B \\text{''}$ ocorra seja igual a **soma das probabilidades** de ocorrência de $A$ e $B$.\n",
    "- Intuitivamente, $\\text{``} A \\text{ ou } B \\text{''} = A \\cup B$.\n",
    "- Essa regra é denominada de **regra da adição**.\n",
    "\n",
    "Mais precisamente, a regra da adição diz que, para $A \\cap B = \\{ \\}$,\n",
    "\\begin{equation*}\n",
    "    P(A \\text{ ou } B) = P(A) + P(B)\n",
    "\\end{equation*}"
   ]
  },
  {
   "cell_type": "markdown",
   "metadata": {},
   "source": [
    "#### Exemplo\n",
    "\n",
    "- Suponha que estejamos analisando o lançamento de um dado de 6 faces. Qual é a probabilidade de obtermos um 5 **ou** um 6?"
   ]
  },
  {
   "cell_type": "markdown",
   "metadata": {},
   "source": [
    "O espaço amostral nesse exemplo é dado por $\\Omega = \\{1, 2, 3, 4, 5, 6\\}$. "
   ]
  },
  {
   "cell_type": "markdown",
   "metadata": {},
   "source": [
    "Nossos eventos de interesse são $A = \\{ 5 \\}$ e $B = \\{ 6 \\}$."
   ]
  },
  {
   "cell_type": "markdown",
   "metadata": {},
   "source": [
    "Dessa forma, como $A \\cap B = \\{ \\}$, $A$ e $B$ são mutuamente exclusivos, e $P(A \\text{ ou } B) = P(A) + P(B)$."
   ]
  },
  {
   "cell_type": "markdown",
   "metadata": {},
   "source": [
    "Como todos os resultados são igualmente prováveis e $\\#(\\Omega) = 6$, então $P(A) = \\#(A) / \\#(\\Omega) = 1/6$ e $P(B) = \\#(B) / \\#(\\Omega) = 1/6$."
   ]
  },
  {
   "cell_type": "markdown",
   "metadata": {},
   "source": [
    "Finalmente, aplicando a regra da adição, chegamos a $P(A \\text{ ou } B) = P(A) + P(B) = 1/6 + 1/6 = 2/6 = 1/3$."
   ]
  },
  {
   "cell_type": "markdown",
   "metadata": {
    "slideshow": {
     "slide_type": "slide"
    }
   },
   "source": [
    "### Eventos complementares\n",
    "\n",
    "- Suponha agora que estejamos interessados na probabilidade de que um evento $A$ **não aconteça**.\n",
    "- Em Teoria dos Conjuntos, denominamos tais eventos de **complementares**.\n",
    "- O complementar de $A$ (em $\\Omega$) é definido como $A^c$.\n",
    "- Formalmente, denotamos $\\text{``} A \\text{ não ocorrer} \\text{''} \\equiv A^c$."
   ]
  },
  {
   "cell_type": "markdown",
   "metadata": {},
   "source": [
    "- Podemos provar, utilizando a regra da adição, que\n",
    "\\begin{equation*}\n",
    "    P(\\text{``} A \\text{ não ocorrer} \\text{''}) := P(A^c) = 1 - P(A)\n",
    "\\end{equation*}"
   ]
  },
  {
   "cell_type": "markdown",
   "metadata": {},
   "source": [
    "- O resultado acima é intuitivo, uma vez que os eventos $A$ e $\\text{``} A \\text{ não ocorrer} \\text{''}$ são mutuamente exclusivos, e como um ou o outro _sempre_ ocorrem, a soma de suas probabilidades é igual a 1."
   ]
  },
  {
   "cell_type": "markdown",
   "metadata": {},
   "source": [
    "#### Exemplo\n",
    "\n",
    "- Suponha que $A = \\{\\text{chover hoje}\\}$, e que $P(A) = 20\\%$. Então $A^c = \\{\\text{não chover hoje}\\}$, e $P(\\text{``} A \\text{ não ocorrer} \\text{''}) = P(A^c) = 1 - P(A) = 80\\%$."
   ]
  },
  {
   "cell_type": "markdown",
   "metadata": {
    "slideshow": {
     "slide_type": "slide"
    }
   },
   "source": [
    "### Eventos simultâneos\n",
    "\n",
    "- Suponha agora que estejamos interessados na probabilidade de que **ambos** $A$ e $B$ ocorram.\n",
    "- O evento de interesse aqui pode ser então denotado como $\\text{``} A \\text{ e } B \\text{''}$.\n",
    "- Intuitivamente, $\\text{``} A \\text{ e } B \\text{''} = A \\cap B$.\n",
    "- É comum denotarmos $P(\\text{``} A \\text{ e } B \\text{''}) = P(A, B)$."
   ]
  },
  {
   "cell_type": "markdown",
   "metadata": {},
   "source": [
    "#### Exemplo\n",
    "\n",
    "- Suponha que você lance um dado de 6 faces. Qual é a probabilidade de o lançamento ser igual a 3 ou menos, e ainda por cima um número par?"
   ]
  },
  {
   "cell_type": "markdown",
   "metadata": {},
   "source": [
    "O espaço amostral nesse exemplo é dado por $\\Omega = \\{1, 2, 3, 4, 5, 6\\}$. "
   ]
  },
  {
   "cell_type": "markdown",
   "metadata": {},
   "source": [
    "Nossos eventos de interesse são $A = \\{ 1, 2, 3 \\}$ e $B = \\{ 2, 4, 6 \\}$."
   ]
  },
  {
   "cell_type": "markdown",
   "metadata": {},
   "source": [
    "Dessa forma, temos $\\text{``} A \\text{ e } B \\text{''} = A \\cap B = \\{ 2 \\}$."
   ]
  },
  {
   "cell_type": "markdown",
   "metadata": {},
   "source": [
    "Como todos os resultados são igualmente prováveis e $\\#(\\Omega) = 6$, então $P(A \\cap B) = \\#(A \\cap B) / \\#(\\Omega) = 1/6$."
   ]
  },
  {
   "cell_type": "markdown",
   "metadata": {
    "slideshow": {
     "slide_type": "slide"
    }
   },
   "source": [
    "### Probabilidade Condicional\n",
    "\n",
    "- Suponha agora que estejamos interessados na probabilidade de que $B$ ocorra, sabendo que $A$ já ocorreu.\n",
    "- Nesse contexto, definimos a **probabilidade condicional** de $B$ dado $A$ por:\n",
    "\n",
    "\\begin{equation*}\n",
    "P(\\text{``} B \\text{ dado } A \\text{''}) \\equiv P(B | A) := \\frac{P(A, B)}{P(A)}\n",
    "\\end{equation*}"
   ]
  },
  {
   "cell_type": "markdown",
   "metadata": {},
   "source": [
    "- Na probabilidade condicional de $B$ dado $A$, \"restringimos\" o espaço amostral $\\Omega$ a ser igual aos elementos contidos em $A$.\n",
    "- Em outras palavras, o conhecimento da ocorrência de $A$ **aumenta** a probabilidade de ocorrência de $P(A, B)$, uma vez que aqui temos **mais informação** e logo **menos incerteza**."
   ]
  },
  {
   "cell_type": "markdown",
   "metadata": {},
   "source": [
    "- Para ilustrar esse ponto formalmente, note que se todos os elementos de $\\Omega$ forem equiprováveis, temos que\n",
    "\\begin{equation*}\n",
    "    P(B|A) = \\frac{P(A, B)}{P(A)} = \\frac{\\frac{\\#(A \\cap B)}{\\#(\\Omega)}}{\\frac{\\#(A)}{\\#(\\Omega)}} = \\frac{\\#(A \\cap B)}{\\#(\\Omega)} \\cdot \\frac{\\#(\\Omega)}{\\#(A)} = \\frac{\\#(A \\cap B)}{\\#(A)}\n",
    "\\end{equation*}\n",
    "o que corrobora nossa intuição de que $A$ se torna o \"novo espaço amostral\" quando condicionamos em sua ocorrência."
   ]
  },
  {
   "cell_type": "markdown",
   "metadata": {
    "slideshow": {
     "slide_type": "slide"
    }
   },
   "source": [
    "### Exercício ✅\n",
    "\n",
    "Suponha que você lance um dado de 6 lados e sabe apenas que o resultado é igual a 3 ou menos. Qual é a probabilidade de que o resultado seja um número par?\n",
    "\n",
    "A. $\\frac{1}{2}$\n",
    "\n",
    "B. $\\frac{1}{3}$\n",
    "\n",
    "C. $\\frac{1}{4}$\n",
    "\n",
    "D. Nenhuma das opções acima."
   ]
  },
  {
   "cell_type": "markdown",
   "metadata": {
    "slideshow": {
     "slide_type": "slide"
    }
   },
   "source": [
    "### A regra da multiplicação\n",
    "\n",
    "- A **regra da multiplicação** nos fornece uma maneira de calcular a probabilidade de ocorrência de ambos $A$ e $B$, sabendo qual é a probabilidade **marginal** de $A$ e qual é a probabilidade condicional de $B$ dado $A$.\n",
    "- Mais especificamente, \n",
    "\n",
    "\\begin{equation*}\n",
    "    P(A, B) = P(A) \\cdot P(B | A)\n",
    "\\end{equation*}"
   ]
  },
  {
   "cell_type": "markdown",
   "metadata": {},
   "source": [
    "#### Exemplo (de novo!)\n",
    "\n",
    "- Suponha que você lance um dado de 6 faces. Qual é a probabilidade de o lançamento ser igual a 3 ou menos, e ainda por cima um número par?"
   ]
  },
  {
   "cell_type": "markdown",
   "metadata": {},
   "source": [
    "O espaço amostral nesse exemplo é dado por $\\Omega = \\{1, 2, 3, 4, 5, 6\\}$. "
   ]
  },
  {
   "cell_type": "markdown",
   "metadata": {},
   "source": [
    "Nossos eventos de interesse são $A = \\{ 1, 2, 3 \\}$ e $B = \\{ 2, 4, 6 \\}$."
   ]
  },
  {
   "cell_type": "markdown",
   "metadata": {},
   "source": [
    "Sabemos que $P(A) = 1/2$ e que $P(B|A) = 1/3$."
   ]
  },
  {
   "cell_type": "markdown",
   "metadata": {},
   "source": [
    "Logo, utilizando a regra da multiplicação, $P(A, B) = 1/2 \\cdot 1/3 = 1/6$, assim como obtivemos anteriormente."
   ]
  },
  {
   "cell_type": "markdown",
   "metadata": {
    "slideshow": {
     "slide_type": "slide"
    }
   },
   "source": [
    "### Eventos independentes\n",
    "\n",
    "- A noção de **eventos independentes** surge naturalmente no contexto de Probabilidade Condicional quando fazemos a seguinte pergunta:\n",
    "\n",
    "> \"e se a ocorrência de $A$ não afetar a ocorrência de $B$? 🤔\""
   ]
  },
  {
   "cell_type": "markdown",
   "metadata": {},
   "source": [
    "- Formalmente, dois eventos $A$ e $B$ são independentes se\n",
    "\\begin{equation*}\n",
    "    P(B | A) = P(B)\n",
    "\\end{equation*}"
   ]
  },
  {
   "cell_type": "markdown",
   "metadata": {},
   "source": [
    "- Agora, pela regra da multiplicação, note que isso implica que\n",
    "\\begin{equation*}\n",
    "    P(A, B) = P(A) \\cdot P(B)\n",
    "\\end{equation*}"
   ]
  },
  {
   "cell_type": "markdown",
   "metadata": {},
   "source": [
    "- Em geral, ambas as definições são válidas para eventos independentes, mas a consequência de ambas é a mesma: se $A$ e $B$ são independentes, $P(B|A) = P(B)$ e $P(A|B) = P(A)$, de maneira que **o conhecimento da ocorrência de um evento não impacta a probabilidade do outro**."
   ]
  },
  {
   "cell_type": "markdown",
   "metadata": {},
   "source": [
    "#### Exemplo\n",
    "\n",
    "- Suponha que lancemos uma moeda justa repetidas vezes, de maneira independente uma da outra. Qual é a probabilidade de observarmos 50 caras seguidas?"
   ]
  },
  {
   "cell_type": "markdown",
   "metadata": {},
   "source": [
    "O espaço amostral de _cada lançamento_ nesse exemplo é dado por $\\Omega_i = \\{H, T\\}$, $i = 1, \\ldots, 50$."
   ]
  },
  {
   "cell_type": "markdown",
   "metadata": {},
   "source": [
    "Nosso evento de interesse é $(A_1, A_2, \\ldots, A_{50})$, onde cada $A_i = \\{ H \\}$. "
   ]
  },
  {
   "cell_type": "markdown",
   "metadata": {},
   "source": [
    "Cada $A_i$ têm probabilidade igual a $P(A_i) = 1/2$."
   ]
  },
  {
   "cell_type": "markdown",
   "metadata": {},
   "source": [
    "Como os $A_i$ são independentes, então $P(A_1, A_2, \\ldots, A_{50}) = (\\frac{1}{2})^{50}$."
   ]
  },
  {
   "cell_type": "markdown",
   "metadata": {
    "slideshow": {
     "slide_type": "slide"
    }
   },
   "source": [
    "### Exercício ✅\n",
    "\n",
    "Suponha que cada vez que você liga para sua avó 👵, a probabilidade de ela atender o telefone é de $\\frac{1}{3}$, independentemente se ela atendeu o telefone ou não na última ligação. Se você ligar três vezes para sua avó hoje, qual a chance de você conseguir falar com ela exatamente três vezes?\n",
    "\n",
    "_Dica_: utilize a independência e a complementariedade dos eventos.\n",
    "\n",
    "A. $\\frac{1}{3}$\n",
    "\n",
    "B. $\\frac{1}{9}$\n",
    "\n",
    "C. $\\frac{1}{27}$\n",
    "\n",
    "D. $1$\n",
    "\n",
    "E. Nenhuma das opções acima."
   ]
  },
  {
   "cell_type": "markdown",
   "metadata": {},
   "source": [
    "### Booleanos\n",
    "\n",
    "- A Teoria de Probabilidade é _intrinsicamente_ ligada à Teoria dos Conjuntos.\n",
    "- Como vimos anteriormente, as operações entre variáveis booleanas também são naturalmente formuladas como operações entre conjuntos.\n",
    "- Na prática, é muito comum definirmos os eventos sobre os quais estamos interessados através de operações entre booleanas nos nossos `arrays`, `DataFrames`, `Series`, `Lists`, etc; veremos isso mais adiante nos próximos tópicos."
   ]
  },
  {
   "cell_type": "markdown",
   "metadata": {
    "slideshow": {
     "slide_type": "slide"
    }
   },
   "source": [
    "## Resumo\n",
    "\n",
    "- O conjunto de todos os possíveis resultados de um experimento aleatório é denominado de **espaço amostral**.\n",
    "- Um **evento** é uma coleção de elementos de interesse do espaço amostral. \n",
    "- A **probabilidade** de ocorrência de um evento pode ser interpretada como a **frequência** com a qual esse evento ocorreria caso pudéssemos repetir o experimento aleatório infinitas vezes.\n",
    "- Existem várias regras para calcular probabilidades. Nesse curso analisaremos muitos casos especiais em que os elementos do espaço amostral são igualmente prováveis.\n",
    "- Duas regras úteis para o cálculo das probabilidades de certos eventos são:\n",
    "    1. A **regra da adição**, que afirma que para quaisquer dois eventos **mutuamente exclusivos**, $P(A \\text{ ou } B) = P(A) + P(B)$;\n",
    "    1. A **regra da multiplicação**, que afirma que para quaisquer dois eventos, $P(A, B) = P(B | A) \\cdot P(A) \\:$."
   ]
  }
 ],
 "metadata": {
  "kernelspec": {
   "display_name": "Python 3 (ipykernel)",
   "language": "python",
   "name": "python3"
  },
  "language_info": {
   "codemirror_mode": {
    "name": "ipython",
    "version": 3
   },
   "file_extension": ".py",
   "mimetype": "text/x-python",
   "name": "python",
   "nbconvert_exporter": "python",
   "pygments_lexer": "ipython3",
   "version": "3.11.7"
  },
  "livereveal": {
   "scroll": true,
   "transition": "none"
  },
  "rise": {
   "enable_chalkboard": true
  }
 },
 "nbformat": 4,
 "nbformat_minor": 4
}
