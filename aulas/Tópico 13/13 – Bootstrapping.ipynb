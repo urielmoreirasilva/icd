{
 "cells": [
  {
   "cell_type": "markdown",
   "metadata": {},
   "source": [
    "# Tópico 13 – Bootstrapping [<img src=\"images/colag_logo.svg\" style=\"float: right; vertical-align: middle; width: 42px; height: 42px;\">](https://colab.research.google.com/github/urielmoreirasilva/urielmoreirasilva.github.io/blob/main/aulas/T%C3%B3pico%2013/13%20%E2%80%93%20Bootstrapping.ipynb) [<img src=\"images/github_logo.svg\" style=\"float: right; margin-right: 12px; vertical-align: middle; width: 36px; height: 36px;\">](https://github.com/urielmoreirasilva/urielmoreirasilva.github.io/blob/main/aulas/T%C3%B3pico%2013/13%20%E2%80%93%20Bootstrapping.ipynb)\n",
    "\n",
    "Como na prática em Ciência de Dados raramente temos acesso à população inteira, na maior parte das vezes realizamos a inferência desejada com base em uma amostra. Porém, uma amostra nos possibilita ter apenas uma estimativa, e muitas vezes ficamos incertos sobre o quão precisa de fato é essa estimativa. Nessa aula, vamos aprender como quantificar a incerteza sobre nossas estimativas e como aplicar uma técnica pioneira que nos permite, com base em uma única amostra, simular diferentes cenários possíveis para nossas estimativas. [*]\n",
    "\n",
    "### Resultados Esperados\n",
    "\n",
    "1. Entender o papel das distribuições amostrais na quantificação de incerteza sobre nossas estimativas. [*]\n",
    "1. Aprender sobre as potencialidades do bootstrap, e aprender como operacionalizá-lo na prática.\n",
    "1. Introduzir as noções de percentis e de intervalos de confiança nesse contexto.\n",
    "\n",
    "### Referências\n",
    "- [CIT, Capítulo 13](https://inferentialthinking.com/)\n",
    "\n",
    "Material adaptado do [DSC10 (UCSD)](https://dsc10.com/) por [Flavio Figueiredo (DCC-UFMG)](https://flaviovdf.io/fcd/) e [Uriel Silva (DEST-UFMG)](https://urielmoreirasilva.github.io)"
   ]
  },
  {
   "cell_type": "code",
   "execution_count": 1,
   "metadata": {},
   "outputs": [],
   "source": [
    "# Imports for this lesson. [*]\n",
    "import numpy as np\n",
    "import babypandas as bpd\n",
    "import pandas as pd\n",
    "import matplotlib.pyplot as plt\n",
    "plt.style.use('ggplot')\n",
    "\n",
    "# Print options. [*]\n",
    "np.set_printoptions(threshold=20, precision=2, suppress=True)\n",
    "pd.set_option(\"display.max_rows\", 7)\n",
    "pd.set_option(\"display.max_columns\", 8)\n",
    "pd.set_option(\"display.precision\", 2)"
   ]
  },
  {
   "cell_type": "markdown",
   "metadata": {
    "slideshow": {
     "slide_type": "slide"
    }
   },
   "source": [
    "## Recapitulando: Inferência Estatística"
   ]
  },
  {
   "cell_type": "markdown",
   "metadata": {
    "slideshow": {
     "slide_type": "slide"
    }
   },
   "source": [
    "### Salários dos funcionários públicos da cidade de San Diego\n",
    "\n",
    "Os salários de todos os funcionários públicos da cidade de San Diego [estão disponíveis publicamente](https://publicpay.ca.gov/Reports/Cities/City.aspx?entityid=405&year=2021&rpt=1). Nesse exemplo, estamos utilizando a base de dados mais recente (de 2022)."
   ]
  },
  {
   "cell_type": "code",
   "execution_count": 2,
   "metadata": {
    "scrolled": true
   },
   "outputs": [
    {
     "data": {
      "text/html": [
       "<div>\n",
       "<style scoped>\n",
       "    .dataframe tbody tr th:only-of-type {\n",
       "        vertical-align: middle;\n",
       "    }\n",
       "\n",
       "    .dataframe tbody tr th {\n",
       "        vertical-align: top;\n",
       "    }\n",
       "\n",
       "    .dataframe thead th {\n",
       "        text-align: right;\n",
       "    }\n",
       "</style>\n",
       "<table border=\"1\" class=\"dataframe\">\n",
       "  <thead>\n",
       "    <tr style=\"text-align: right;\">\n",
       "      <th></th>\n",
       "      <th>Year</th>\n",
       "      <th>EmployerType</th>\n",
       "      <th>EmployerName</th>\n",
       "      <th>DepartmentOrSubdivision</th>\n",
       "      <th>...</th>\n",
       "      <th>EmployerCounty</th>\n",
       "      <th>SpecialDistrictActivities</th>\n",
       "      <th>IncludesUnfundedLiability</th>\n",
       "      <th>SpecialDistrictType</th>\n",
       "    </tr>\n",
       "  </thead>\n",
       "  <tbody>\n",
       "    <tr>\n",
       "      <th>0</th>\n",
       "      <td>2022</td>\n",
       "      <td>City</td>\n",
       "      <td>San Diego</td>\n",
       "      <td>Police</td>\n",
       "      <td>...</td>\n",
       "      <td>San Diego</td>\n",
       "      <td>NaN</td>\n",
       "      <td>False</td>\n",
       "      <td>NaN</td>\n",
       "    </tr>\n",
       "    <tr>\n",
       "      <th>1</th>\n",
       "      <td>2022</td>\n",
       "      <td>City</td>\n",
       "      <td>San Diego</td>\n",
       "      <td>Police</td>\n",
       "      <td>...</td>\n",
       "      <td>San Diego</td>\n",
       "      <td>NaN</td>\n",
       "      <td>False</td>\n",
       "      <td>NaN</td>\n",
       "    </tr>\n",
       "    <tr>\n",
       "      <th>2</th>\n",
       "      <td>2022</td>\n",
       "      <td>City</td>\n",
       "      <td>San Diego</td>\n",
       "      <td>Fire-Rescue</td>\n",
       "      <td>...</td>\n",
       "      <td>San Diego</td>\n",
       "      <td>NaN</td>\n",
       "      <td>False</td>\n",
       "      <td>NaN</td>\n",
       "    </tr>\n",
       "    <tr>\n",
       "      <th>...</th>\n",
       "      <td>...</td>\n",
       "      <td>...</td>\n",
       "      <td>...</td>\n",
       "      <td>...</td>\n",
       "      <td>...</td>\n",
       "      <td>...</td>\n",
       "      <td>...</td>\n",
       "      <td>...</td>\n",
       "      <td>...</td>\n",
       "    </tr>\n",
       "    <tr>\n",
       "      <th>12826</th>\n",
       "      <td>2022</td>\n",
       "      <td>City</td>\n",
       "      <td>San Diego</td>\n",
       "      <td>Public Utilities</td>\n",
       "      <td>...</td>\n",
       "      <td>San Diego</td>\n",
       "      <td>NaN</td>\n",
       "      <td>False</td>\n",
       "      <td>NaN</td>\n",
       "    </tr>\n",
       "    <tr>\n",
       "      <th>12827</th>\n",
       "      <td>2022</td>\n",
       "      <td>City</td>\n",
       "      <td>San Diego</td>\n",
       "      <td>Police</td>\n",
       "      <td>...</td>\n",
       "      <td>San Diego</td>\n",
       "      <td>NaN</td>\n",
       "      <td>False</td>\n",
       "      <td>NaN</td>\n",
       "    </tr>\n",
       "    <tr>\n",
       "      <th>12828</th>\n",
       "      <td>2022</td>\n",
       "      <td>City</td>\n",
       "      <td>San Diego</td>\n",
       "      <td>Police</td>\n",
       "      <td>...</td>\n",
       "      <td>San Diego</td>\n",
       "      <td>NaN</td>\n",
       "      <td>False</td>\n",
       "      <td>NaN</td>\n",
       "    </tr>\n",
       "  </tbody>\n",
       "</table>\n",
       "<p>12829 rows × 29 columns</p>\n",
       "</div>"
      ],
      "text/plain": [
       "       Year EmployerType EmployerName DepartmentOrSubdivision  ...  \\\n",
       "0      2022         City    San Diego                  Police  ...   \n",
       "1      2022         City    San Diego                  Police  ...   \n",
       "2      2022         City    San Diego             Fire-Rescue  ...   \n",
       "...     ...          ...          ...                     ...  ...   \n",
       "12826  2022         City    San Diego        Public Utilities  ...   \n",
       "12827  2022         City    San Diego                  Police  ...   \n",
       "12828  2022         City    San Diego                  Police  ...   \n",
       "\n",
       "      EmployerCounty  SpecialDistrictActivities  IncludesUnfundedLiability  \\\n",
       "0          San Diego                        NaN                      False   \n",
       "1          San Diego                        NaN                      False   \n",
       "2          San Diego                        NaN                      False   \n",
       "...              ...                        ...                        ...   \n",
       "12826      San Diego                        NaN                      False   \n",
       "12827      San Diego                        NaN                      False   \n",
       "12828      San Diego                        NaN                      False   \n",
       "\n",
       "       SpecialDistrictType  \n",
       "0                      NaN  \n",
       "1                      NaN  \n",
       "2                      NaN  \n",
       "...                    ...  \n",
       "12826                  NaN  \n",
       "12827                  NaN  \n",
       "12828                  NaN  \n",
       "\n",
       "[12829 rows x 29 columns]"
      ]
     },
     "execution_count": 2,
     "metadata": {},
     "output_type": "execute_result"
    }
   ],
   "source": [
    "population = bpd.read_csv('data/2022_salaries.csv')\n",
    "population"
   ]
  },
  {
   "cell_type": "markdown",
   "metadata": {
    "slideshow": {
     "slide_type": "slide"
    }
   },
   "source": [
    "Quando trabalhamos com um base de dados com um número grande de colunas, não conseguimos visualizá-las todas ao mesmo tempo. Nesses casos, é sempre uma boa ideia analisarmos os nomes das colunas."
   ]
  },
  {
   "cell_type": "code",
   "execution_count": 3,
   "metadata": {},
   "outputs": [
    {
     "data": {
      "text/plain": [
       "Index(['Year', 'EmployerType', 'EmployerName', 'DepartmentOrSubdivision',\n",
       "       'Position', 'ElectedOfficial', 'Judicial', 'OtherPositions',\n",
       "       'MinPositionSalary', 'MaxPositionSalary', 'ReportedBaseWage',\n",
       "       'RegularPay', 'OvertimePay', 'LumpSumPay', 'OtherPay', 'TotalWages',\n",
       "       'DefinedBenefitPlanContribution', 'EmployeesRetirementCostCovered',\n",
       "       'DeferredCompensationPlan', 'HealthDentalVision',\n",
       "       'TotalRetirementAndHealthContribution', 'PensionFormula', 'EmployerURL',\n",
       "       'EmployerPopulation', 'LastUpdatedDate', 'EmployerCounty',\n",
       "       'SpecialDistrictActivities', 'IncludesUnfundedLiability',\n",
       "       'SpecialDistrictType'],\n",
       "      dtype='object')"
      ]
     },
     "execution_count": 3,
     "metadata": {},
     "output_type": "execute_result"
    }
   ],
   "source": [
    "population.columns"
   ]
  },
  {
   "cell_type": "markdown",
   "metadata": {
    "slideshow": {
     "slide_type": "fragment"
    }
   },
   "source": [
    "Como aqui estamos interessados apenas nos salários totais (`'TotalWages'`), selecionaremos (com `get`) apenas essa coluna."
   ]
  },
  {
   "cell_type": "code",
   "execution_count": 4,
   "metadata": {},
   "outputs": [
    {
     "data": {
      "text/html": [
       "<div>\n",
       "<style scoped>\n",
       "    .dataframe tbody tr th:only-of-type {\n",
       "        vertical-align: middle;\n",
       "    }\n",
       "\n",
       "    .dataframe tbody tr th {\n",
       "        vertical-align: top;\n",
       "    }\n",
       "\n",
       "    .dataframe thead th {\n",
       "        text-align: right;\n",
       "    }\n",
       "</style>\n",
       "<table border=\"1\" class=\"dataframe\">\n",
       "  <thead>\n",
       "    <tr style=\"text-align: right;\">\n",
       "      <th></th>\n",
       "      <th>TotalWages</th>\n",
       "    </tr>\n",
       "  </thead>\n",
       "  <tbody>\n",
       "    <tr>\n",
       "      <th>0</th>\n",
       "      <td>384909</td>\n",
       "    </tr>\n",
       "    <tr>\n",
       "      <th>1</th>\n",
       "      <td>381566</td>\n",
       "    </tr>\n",
       "    <tr>\n",
       "      <th>2</th>\n",
       "      <td>350013</td>\n",
       "    </tr>\n",
       "    <tr>\n",
       "      <th>...</th>\n",
       "      <td>...</td>\n",
       "    </tr>\n",
       "    <tr>\n",
       "      <th>12826</th>\n",
       "      <td>6</td>\n",
       "    </tr>\n",
       "    <tr>\n",
       "      <th>12827</th>\n",
       "      <td>4</td>\n",
       "    </tr>\n",
       "    <tr>\n",
       "      <th>12828</th>\n",
       "      <td>2</td>\n",
       "    </tr>\n",
       "  </tbody>\n",
       "</table>\n",
       "<p>12829 rows × 1 columns</p>\n",
       "</div>"
      ],
      "text/plain": [
       "       TotalWages\n",
       "0          384909\n",
       "1          381566\n",
       "2          350013\n",
       "...           ...\n",
       "12826           6\n",
       "12827           4\n",
       "12828           2\n",
       "\n",
       "[12829 rows x 1 columns]"
      ]
     },
     "execution_count": 4,
     "metadata": {},
     "output_type": "execute_result"
    }
   ],
   "source": [
    "population = population.get(['TotalWages'])\n",
    "population"
   ]
  },
  {
   "cell_type": "code",
   "execution_count": 5,
   "metadata": {},
   "outputs": [
    {
     "data": {
      "image/png": "[encoded data removed]",
      "text/plain": [
       "<Figure size 1000x500 with 1 Axes>"
      ]
     },
     "metadata": {},
     "output_type": "display_data"
    }
   ],
   "source": [
    "population.plot(kind='hist', bins=np.arange(0, 400000, 10000), density=True, ec='w', figsize=(10, 5),\n",
    "                title='Distribuição dos Salários Totais dos Funcionários Públicos da cidade de San Diego em 2022')\n",
    "plt.ylabel('Frequência');"
   ]
  },
  {
   "cell_type": "markdown",
   "metadata": {
    "slideshow": {
     "slide_type": "slide"
    }
   },
   "source": [
    "### Salário mediano\n",
    "\n",
    "- Podemos utilizar a função `.median()` para calcular o salário mediano de todos os funcionários públicos da cidade de San Diego.\n",
    "- Note que, como temos a população _inteira_ disponível, essa mediana é um **parâmetro**, i.e. **não-aleatória**."
   ]
  },
  {
   "cell_type": "code",
   "execution_count": 6,
   "metadata": {},
   "outputs": [
    {
     "data": {
      "text/plain": [
       "78136.0"
      ]
     },
     "execution_count": 6,
     "metadata": {},
     "output_type": "execute_result"
    }
   ],
   "source": [
    "population_median = population.get('TotalWages').median()\n",
    "population_median"
   ]
  },
  {
   "cell_type": "markdown",
   "metadata": {
    "slideshow": {
     "slide_type": "slide"
    }
   },
   "source": [
    "### Na prática, porém..."
   ]
  },
  {
   "cell_type": "markdown",
   "metadata": {
    "slideshow": {
     "slide_type": "fragment"
    }
   },
   "source": [
    "- Na prática, o processo de entrevistar **toda** a população (no caso mais de 12,000 funcionários) é caro e pode consumir muito tempo.\n",
    "    - Além disso, muitas vezes é impossível entrevistar todos os indivíduos da população."
   ]
  },
  {
   "cell_type": "markdown",
   "metadata": {
    "slideshow": {
     "slide_type": "fragment"
    }
   },
   "source": [
    "- O que fazemos então é aferir os salários com base em uma amostra aleatória (nesse exemplo tomamos $n = 500$)."
   ]
  },
  {
   "cell_type": "markdown",
   "metadata": {
    "slideshow": {
     "slide_type": "slide"
    }
   },
   "source": [
    "### Revisão da terminologia"
   ]
  },
  {
   "cell_type": "markdown",
   "metadata": {
    "slideshow": {
     "slide_type": "fragment"
    }
   },
   "source": [
    "- O DataFrame completo de salários, i.e. `population.get(['TotalWages'])`, é a nossa **população**."
   ]
  },
  {
   "cell_type": "markdown",
   "metadata": {
    "slideshow": {
     "slide_type": "fragment"
    }
   },
   "source": [
    "- Nós observamos uma **amostra** de tamanho $n = 500$ dessa população."
   ]
  },
  {
   "cell_type": "markdown",
   "metadata": {
    "slideshow": {
     "slide_type": "fragment"
    }
   },
   "source": [
    "- Queremos determinar a **mediana populacional** (que é um _parâmetro_), mas como não temos acesso à população completa, utilizaremos a **mediana amostral** (que é uma _estatística_) como uma **estimativa** desse parâmetro."
   ]
  },
  {
   "cell_type": "markdown",
   "metadata": {
    "slideshow": {
     "slide_type": "fragment"
    }
   },
   "source": [
    "- Nesse processo, esperamos que a mediana amostral seja próxima da mediana populacional."
   ]
  },
  {
   "cell_type": "markdown",
   "metadata": {
    "slideshow": {
     "slide_type": "slide"
    }
   },
   "source": [
    "### A mediana amostral\n",
    "\n",
    "Vamos amostrar 500 funcionários aleatoriamente. Para fazer isso, podemos utilizar o método `.sample`."
   ]
  },
  {
   "cell_type": "code",
   "execution_count": 7,
   "metadata": {},
   "outputs": [
    {
     "data": {
      "text/html": [
       "<div>\n",
       "<style scoped>\n",
       "    .dataframe tbody tr th:only-of-type {\n",
       "        vertical-align: middle;\n",
       "    }\n",
       "\n",
       "    .dataframe tbody tr th {\n",
       "        vertical-align: top;\n",
       "    }\n",
       "\n",
       "    .dataframe thead th {\n",
       "        text-align: right;\n",
       "    }\n",
       "</style>\n",
       "<table border=\"1\" class=\"dataframe\">\n",
       "  <thead>\n",
       "    <tr style=\"text-align: right;\">\n",
       "      <th></th>\n",
       "      <th>TotalWages</th>\n",
       "    </tr>\n",
       "  </thead>\n",
       "  <tbody>\n",
       "    <tr>\n",
       "      <th>10301</th>\n",
       "      <td>27866</td>\n",
       "    </tr>\n",
       "    <tr>\n",
       "      <th>6913</th>\n",
       "      <td>71861</td>\n",
       "    </tr>\n",
       "    <tr>\n",
       "      <th>5163</th>\n",
       "      <td>91843</td>\n",
       "    </tr>\n",
       "    <tr>\n",
       "      <th>...</th>\n",
       "      <td>...</td>\n",
       "    </tr>\n",
       "    <tr>\n",
       "      <th>3002</th>\n",
       "      <td>121209</td>\n",
       "    </tr>\n",
       "    <tr>\n",
       "      <th>3718</th>\n",
       "      <td>109709</td>\n",
       "    </tr>\n",
       "    <tr>\n",
       "      <th>2394</th>\n",
       "      <td>131409</td>\n",
       "    </tr>\n",
       "  </tbody>\n",
       "</table>\n",
       "<p>500 rows × 1 columns</p>\n",
       "</div>"
      ],
      "text/plain": [
       "       TotalWages\n",
       "10301       27866\n",
       "6913        71861\n",
       "5163        91843\n",
       "...           ...\n",
       "3002       121209\n",
       "3718       109709\n",
       "2394       131409\n",
       "\n",
       "[500 rows x 1 columns]"
      ]
     },
     "execution_count": 7,
     "metadata": {},
     "output_type": "execute_result"
    }
   ],
   "source": [
    "np.random.seed(38) # Magic to ensure that we get the same results every time this code is run.\n",
    "\n",
    "# Take a sample of size 500.\n",
    "my_sample = population.sample(500)\n",
    "my_sample"
   ]
  },
  {
   "cell_type": "markdown",
   "metadata": {},
   "source": [
    "Nesse notebook, não vamos mais modificar `my_sample`, então esse DataFrame vai sempre se referir à essa amostra em particular."
   ]
  },
  {
   "cell_type": "code",
   "execution_count": 8,
   "metadata": {
    "scrolled": true
   },
   "outputs": [
    {
     "data": {
      "text/plain": [
       "76237.0"
      ]
     },
     "execution_count": 8,
     "metadata": {},
     "output_type": "execute_result"
    }
   ],
   "source": [
    "# Compute the sample median.\n",
    "sample_median = my_sample.get('TotalWages').median()\n",
    "sample_median"
   ]
  },
  {
   "cell_type": "markdown",
   "metadata": {
    "slideshow": {
     "slide_type": "slide"
    }
   },
   "source": [
    "### O quão \"confiantes\" estamos que essa é uma boa estimativa?"
   ]
  },
  {
   "cell_type": "markdown",
   "metadata": {
    "slideshow": {
     "slide_type": "fragment"
    }
   },
   "source": [
    "- Nossa estimativa é função da amostra aleatória particular `my_sample`. Se tívessemos coletado outra amostra, a estimativa poderia ter sido diferente."
   ]
  },
  {
   "cell_type": "markdown",
   "metadata": {
    "slideshow": {
     "slide_type": "fragment"
    }
   },
   "source": [
    "- **Agora, o quão diferente nossa estimativa poderia ter sido?** Nosssa _confiança_ na estimativa depende fundamentalmente da resposta à essa pergunta."
   ]
  },
  {
   "cell_type": "markdown",
   "metadata": {
    "slideshow": {
     "slide_type": "fragment"
    }
   },
   "source": [
    "- The sample median is a random number. It comes from some distribution, which we don't know. "
   ]
  },
  {
   "cell_type": "markdown",
   "metadata": {
    "slideshow": {
     "slide_type": "fragment"
    }
   },
   "source": [
    "- **Se** conhecéssmos a distribuição verdadeira da mediana amostral (i.e. a _distribuição amostral_), essa distribuição nos ajudaria a responder essa pergunta.\n",
    "    - Distribuições mais \"estreitas\" (i.e. com baixa _variabilidade/dispersão_) $\\Rightarrow$ nossa estimativa em geral não teria sido tão diferente.\n",
    "    - Distribuições mais \"largas\" (i.e. com alta variabilidade/dispersão) $\\Rightarrow$ nossa estimativa em geral teria sido bem diferente."
   ]
  },
  {
   "cell_type": "markdown",
   "metadata": {
    "slideshow": {
     "slide_type": "slide"
    }
   },
   "source": [
    "### Uma abordagem ineficiente\n",
    "\n",
    "- Uma ideia natural aqui então seria: coletar repetidas amostras de tamanho $n = 500$ **da população** e calcular as medianas amostrais de cada uma.\n",
    "    - Foi examente isso o que fizemos na aula anterior, quando calculamos a distribuição empírica das médias amostrais dos atrasos de vôos (como aproximação para a distribuição amostral)."
   ]
  },
  {
   "cell_type": "code",
   "execution_count": 9,
   "metadata": {},
   "outputs": [
    {
     "data": {
      "text/plain": [
       "array([81686.5, 79641. , 75592. , ..., 79350. , 78826.5, 78459.5])"
      ]
     },
     "execution_count": 9,
     "metadata": {},
     "output_type": "execute_result"
    }
   ],
   "source": [
    "sample_medians = np.array([])\n",
    "for i in np.arange(1000):\n",
    "    median = population.sample(500).get('TotalWages').median()\n",
    "    sample_medians = np.append(sample_medians, median)\n",
    "sample_medians"
   ]
  },
  {
   "cell_type": "code",
   "execution_count": 10,
   "metadata": {},
   "outputs": [
    {
     "data": {
      "image/png": "[encoded data removed]",
      "text/plain": [
       "<Figure size 800x500 with 1 Axes>"
      ]
     },
     "metadata": {},
     "output_type": "display_data"
    }
   ],
   "source": [
    "(bpd.DataFrame()\n",
    " .assign(SampleMedians=sample_medians)\n",
    " .plot(kind='hist', density=True,\n",
    "       bins=30, ec='w', figsize=(8, 5),\n",
    "       title='Distribuição da Mediana Amostral de 1,000 Amostras da População\\n de Tamanho $n = 500$')\n",
    ")\n",
    "plt.ylabel(\"Frequência\");"
   ]
  },
  {
   "cell_type": "markdown",
   "metadata": {
    "slideshow": {
     "slide_type": "fragment"
    }
   },
   "source": [
    "- Essa distribuição empírica da mediana amostral é uma aproximação para sua verdadeira distribuição amostral."
   ]
  },
  {
   "cell_type": "markdown",
   "metadata": {
    "slideshow": {
     "slide_type": "slide"
    }
   },
   "source": [
    "### E porque essa abordagem é ineficiente?"
   ]
  },
  {
   "cell_type": "markdown",
   "metadata": {
    "slideshow": {
     "slide_type": "fragment"
    }
   },
   "source": [
    "- Amostrar repetidas vezes da mesma população muitas vezes é infactível pelas mesmas razões pelas quais não trabalhamos com a população desde o começo!\n",
    "    - Se pudéssemos fazer isso, porque não simplesmente coletar mais dados (i.e. uma amostra maior)?"
   ]
  },
  {
   "cell_type": "markdown",
   "metadata": {
    "slideshow": {
     "slide_type": "slide"
    }
   },
   "source": [
    "## Bootstrapping 🥾"
   ]
  },
  {
   "cell_type": "markdown",
   "metadata": {
    "slideshow": {
     "slide_type": "slide"
    }
   },
   "source": [
    "### Bootstrapping"
   ]
  },
  {
   "cell_type": "markdown",
   "metadata": {
    "slideshow": {
     "slide_type": "fragment"
    }
   },
   "source": [
    "- **Ideia principal**: Utilizar a amostra no lugar da população.\n",
    "    - Assumimos aqui que a amostra \"se parece\" com a população.\n",
    "    - Logo, _reamostrar da amostra_, de uma certa maneira, é similar à reamostrar da própria população!\n",
    "    - Denominamos o conjunto de técnicas que se baseiam em reamostragens a partir da amostra de **bootstrapping**."
   ]
  },
  {
   "cell_type": "markdown",
   "metadata": {
    "slideshow": {
     "slide_type": "slide"
    }
   },
   "source": [
    "### Com reposição ou sem reposição?"
   ]
  },
  {
   "cell_type": "markdown",
   "metadata": {
    "slideshow": {
     "slide_type": "fragment"
    }
   },
   "source": [
    "- Nosso objetivo quando realizamos um bootstrap é gerar uma amostra do _mesmo tamanho_, porém com _algumas características_ diferentes da amostra original."
   ]
  },
  {
   "cell_type": "markdown",
   "metadata": {
    "slideshow": {
     "slide_type": "fragment"
    }
   },
   "source": [
    "- Para ilustrar esse ponto, considere um exemplo simples onde vamos reamostrar repetidas vezes **sem reposição**, uma amostra original igual a [1, 2, 3]."
   ]
  },
  {
   "cell_type": "code",
   "execution_count": 13,
   "metadata": {},
   "outputs": [
    {
     "name": "stdout",
     "output_type": "stream",
     "text": [
      "Resample:  [2 1 3]     Median:  2.0\n",
      "Resample:  [1 2 3]     Median:  2.0\n",
      "Resample:  [1 2 3]     Median:  2.0\n",
      "Resample:  [3 1 2]     Median:  2.0\n",
      "Resample:  [1 3 2]     Median:  2.0\n",
      "Resample:  [1 3 2]     Median:  2.0\n",
      "Resample:  [3 1 2]     Median:  2.0\n",
      "Resample:  [3 2 1]     Median:  2.0\n",
      "Resample:  [1 2 3]     Median:  2.0\n",
      "Resample:  [3 2 1]     Median:  2.0\n"
     ]
    }
   ],
   "source": [
    "original = [1, 2, 3]\n",
    "for i in np.arange(10):\n",
    "    resample = np.random.choice(original, 3, replace=False)\n",
    "    print(\"Resample: \", resample, \"    Median: \", np.median(resample))"
   ]
  },
  {
   "cell_type": "markdown",
   "metadata": {
    "slideshow": {
     "slide_type": "fragment"
    }
   },
   "source": [
    "- Vamos agora repetir o mesmo experimento, mas dessa vez reamostrando **com reposição**:"
   ]
  },
  {
   "cell_type": "code",
   "execution_count": 14,
   "metadata": {
    "scrolled": true
   },
   "outputs": [
    {
     "name": "stdout",
     "output_type": "stream",
     "text": [
      "Resample:  [3 2 1]     Median:  2.0\n",
      "Resample:  [1 1 3]     Median:  1.0\n",
      "Resample:  [3 2 1]     Median:  2.0\n",
      "Resample:  [1 1 2]     Median:  1.0\n",
      "Resample:  [2 1 3]     Median:  2.0\n",
      "Resample:  [3 3 3]     Median:  3.0\n",
      "Resample:  [1 1 1]     Median:  1.0\n",
      "Resample:  [2 2 3]     Median:  2.0\n",
      "Resample:  [2 3 2]     Median:  2.0\n",
      "Resample:  [3 3 2]     Median:  3.0\n"
     ]
    }
   ],
   "source": [
    "original = [1, 2, 3]\n",
    "for i in np.arange(10):\n",
    "    resample = np.random.choice(original, 3, replace=True)\n",
    "    print(\"Resample: \", resample, \"    Median: \", np.median(resample))"
   ]
  },
  {
   "cell_type": "markdown",
   "metadata": {
    "slideshow": {
     "slide_type": "fragment"
    }
   },
   "source": [
    "- Concluímos com esse exemplo que:\n",
    "    - Quando amostramos _sem reposição_, as novas amostras (amostras bootstrap) são em um certo sentido \"idênticas\" à amostra original – muda se apenas a ordenação dos indivíduos.\n",
    "        - Como consequência, todas as suas características (isto é, estatísticas), são _iguais_.\n",
    "    - Por outro lado, quando amostramos _com reposição_, as amostras bootstrap em geral terão características diferentes da amostra original.\n",
    "        - As estatísticas calculadas nas amostras bootstrap serão em geral diferentes das calculadas na amostra original, o que nos permite aferir _variabilidade das estimativas_ entre as amostras e/ou construir uma distribuição amostral para as estatísticas de interesse."
   ]
  },
  {
   "cell_type": "markdown",
   "metadata": {
    "slideshow": {
     "slide_type": "fragment"
    }
   },
   "source": [
    "- Dessa forma, quando realizamos um bootstrap, sempre reamostramos **com reposição**, para garantir que as nossas amostras bootstrap possam ser diferentes da nossa amostra original.\n",
    "    - O bootstrap funciona então como um processo que \"imita\", em um certo sentido, o ato de coletar novas amostras."
   ]
  },
  {
   "cell_type": "markdown",
   "metadata": {
    "slideshow": {
     "slide_type": "slide"
    }
   },
   "source": [
    "### Bootstrap na amostra de salários\n",
    "\n",
    "Conforme dito anteriormente, para realizar o bootstrap na nossa amostra basta gerar novas amostras **reamostrando com reposição da nossa amostra original, `my_sample`**."
   ]
  },
  {
   "cell_type": "code",
   "execution_count": 15,
   "metadata": {},
   "outputs": [],
   "source": [
    "# Note that the population DataFrame, population, doesn't appear anywhere here.\n",
    "# This is all based on one sample, my_sample.\n",
    "\n",
    "np.random.seed(38) # Magic to ensure that we get the same results every time this code is run.\n",
    "\n",
    "n_resamples = 5000\n",
    "boot_medians = np.array([])\n",
    "\n",
    "for i in range(n_resamples):\n",
    "    \n",
    "    # Resample from my_sample WITH REPLACEMENT.\n",
    "    resample = my_sample.sample(500, replace=True)\n",
    "    \n",
    "    # Compute the median.\n",
    "    median = resample.get('TotalWages').median()\n",
    "    \n",
    "    # Store it in our array of medians.\n",
    "    boot_medians = np.append(boot_medians, median)"
   ]
  },
  {
   "cell_type": "code",
   "execution_count": 16,
   "metadata": {},
   "outputs": [
    {
     "data": {
      "text/plain": [
       "array([76896. , 72945. , 73555. , ..., 74431. , 75868. , 78601.5])"
      ]
     },
     "execution_count": 16,
     "metadata": {},
     "output_type": "execute_result"
    }
   ],
   "source": [
    "boot_medians"
   ]
  },
  {
   "cell_type": "markdown",
   "metadata": {
    "slideshow": {
     "slide_type": "slide"
    }
   },
   "source": [
    "### _Distribuição bootstrap_ da mediana amostral"
   ]
  },
  {
   "cell_type": "code",
   "execution_count": 17,
   "metadata": {},
   "outputs": [
    {
     "data": {
      "image/png": "[encoded data removed]",
      "text/plain": [
       "<Figure size 1000x500 with 1 Axes>"
      ]
     },
     "metadata": {},
     "output_type": "display_data"
    }
   ],
   "source": [
    "bpd.DataFrame().assign(BootstrapMedians=boot_medians).plot(kind='hist', density=True, bins=np.arange(63000, 88000, 1000), ec='w', figsize=(10, 5))\n",
    "plt.scatter(population_median, 0.000004, color='blue', s=100, label='population median').set_zorder(2)\n",
    "plt.legend()\n",
    "plt.ylabel(\"Frequência\");"
   ]
  },
  {
   "cell_type": "markdown",
   "metadata": {
    "slideshow": {
     "slide_type": "fragment"
    }
   },
   "source": [
    "Apenas para termos uma referência do quão boa é nossa inferência, a mediana populacional é reportada no histograma acima como um <span style=\"color:blue\"><b>ponto azul</b></span>.\n",
    "\n",
    "**Lembre porém que, na maior parte das situações, não temos acesso à essa informação!**"
   ]
  },
  {
   "cell_type": "markdown",
   "metadata": {
    "slideshow": {
     "slide_type": "slide"
    }
   },
   "source": [
    "### Mas afinal, como o bootstrap nos ajuda a responder nossa pergunta original?\n",
    "\n",
    "Lembre que, aqui, iniciamos apenas com a mediana amostral:"
   ]
  },
  {
   "cell_type": "code",
   "execution_count": 18,
   "metadata": {},
   "outputs": [
    {
     "data": {
      "text/plain": [
       "76237.0"
      ]
     },
     "execution_count": 18,
     "metadata": {},
     "output_type": "execute_result"
    }
   ],
   "source": [
    "my_sample.get('TotalWages').median()"
   ]
  },
  {
   "cell_type": "markdown",
   "metadata": {
    "slideshow": {
     "slide_type": "fragment"
    }
   },
   "source": [
    "Com base nessa estimativa, podemos dizer apenas que o salário mediano da população é aproximadamente \\\\$76,237, mas não muito mais do que isso.\n",
    "\n",
    "Em particular, não podemos afirmar nada acerca da _variabilidade_ dessa estimativa, isto é, o quão _confiantes_ (ou incertos!) estamos sobre esse valor."
   ]
  },
  {
   "cell_type": "markdown",
   "metadata": {
    "slideshow": {
     "slide_type": "fragment"
    }
   },
   "source": [
    "Após realizarmos um bootstrap, porém, podemos gerar uma distribuição empírica da mediana amostral:"
   ]
  },
  {
   "cell_type": "code",
   "execution_count": 19,
   "metadata": {
    "slideshow": {
     "slide_type": "-"
    }
   },
   "outputs": [
    {
     "data": {
      "image/png": "[encoded data removed]",
      "text/plain": [
       "<Figure size 1000x500 with 1 Axes>"
      ]
     },
     "metadata": {},
     "output_type": "display_data"
    }
   ],
   "source": [
    "(bpd.DataFrame()\n",
    " .assign(BootstrapMedians=boot_medians)\n",
    " .plot(kind='hist', density=True, bins=np.arange(63000, 88000, 1000), ec='w', figsize=(10, 5))\n",
    ")\n",
    "plt.legend()\n",
    "plt.ylabel(\"Frequência\");"
   ]
  },
  {
   "cell_type": "markdown",
   "metadata": {
    "slideshow": {
     "slide_type": "fragment"
    }
   },
   "source": [
    "e essa distribuição nos permite realizar afirmações do tipo\n",
    "\n",
    "> O salário mediano na população está entre \\\\$68,000 e \\\\$82,000."
   ]
  },
  {
   "cell_type": "markdown",
   "metadata": {
    "slideshow": {
     "slide_type": "fragment"
    }
   },
   "source": [
    "**Pergunta**: Poderíamos também dizer que o salário mediano na população está entre \\\\$70,000 e \\\\$80,000, ou entre \\\\$65,000 e \\\\$85,000. Qual desses dois intervalos você reportaria?"
   ]
  },
  {
   "cell_type": "markdown",
   "metadata": {
    "slideshow": {
     "slide_type": "slide"
    }
   },
   "source": [
    "## Percentis"
   ]
  },
  {
   "cell_type": "markdown",
   "metadata": {
    "slideshow": {
     "slide_type": "slide"
    }
   },
   "source": [
    "### Definição informal\n",
    "\n",
    "> Seja $p$ um número entre 0 e 100. O $p$-ésimo percentil de um conjunto de observações é o número que é maior ou igual a $p\\%$ de todos os valores do conjunto."
   ]
  },
  {
   "cell_type": "markdown",
   "metadata": {
    "slideshow": {
     "slide_type": "fragment"
    }
   },
   "source": [
    "<center><img src=\"images/percentile2.jpg\" width=600></center>"
   ]
  },
  {
   "cell_type": "markdown",
   "metadata": {
    "slideshow": {
     "slide_type": "fragment"
    }
   },
   "source": [
    "**Outro exemplo**: Se você está no percentil $80$ da altura de um certo conjunto de pessoas, isso significa que aproximadamente $80\\%$ das pessoas desse conjunto são mais baixas que você, e que $20\\%$ são mais altas.\n",
    "\n",
    "<center><img src=\"images/percentile.svg\" width=400></center>"
   ]
  },
  {
   "cell_type": "markdown",
   "metadata": {
    "slideshow": {
     "slide_type": "slide"
    }
   },
   "source": [
    "### Calculando os percentis\n",
    "\n",
    "- O pacote `numpy` contém uma função para calcular percentis, `np.percentile(array, p)`, que retorna o `p`-ésimo percentil de `array`. \n",
    "- Por enquanto, não entraremos em detalhes sobre como esse valor é calculado – nos concentraremos apenas em utilizar o resultado.\n",
    "    - Retornaremos à esse ponto mais adiante, mas apenas para uma breve reflexão: você acha que ordenar a amostra, calcular as frequências correspondentes e encontrar o valor correspondente à frequência $p\\%$ em geral é suficiente?"
   ]
  },
  {
   "cell_type": "code",
   "execution_count": 20,
   "metadata": {},
   "outputs": [
    {
     "data": {
      "text/plain": [
       "6.0"
      ]
     },
     "execution_count": 20,
     "metadata": {},
     "output_type": "execute_result"
    }
   ],
   "source": [
    "np.percentile([4, 6, 9, 2, 7], 50)"
   ]
  },
  {
   "cell_type": "code",
   "execution_count": 21,
   "metadata": {},
   "outputs": [
    {
     "data": {
      "text/plain": [
       "6.0"
      ]
     },
     "execution_count": 21,
     "metadata": {},
     "output_type": "execute_result"
    }
   ],
   "source": [
    "np.percentile([2, 4, 6, 7, 9], 50)"
   ]
  },
  {
   "cell_type": "markdown",
   "metadata": {
    "slideshow": {
     "slide_type": "slide"
    }
   },
   "source": [
    "## Intervalos de confiança"
   ]
  },
  {
   "cell_type": "markdown",
   "metadata": {
    "slideshow": {
     "slide_type": "slide"
    }
   },
   "source": [
    "Anteriormente, geramos uma distribuição boostrap da mediana amostral:"
   ]
  },
  {
   "cell_type": "code",
   "execution_count": 22,
   "metadata": {},
   "outputs": [
    {
     "data": {
      "image/png": "[encoded data removed]",
      "text/plain": [
       "<Figure size 1000x500 with 1 Axes>"
      ]
     },
     "metadata": {},
     "output_type": "display_data"
    }
   ],
   "source": [
    "bpd.DataFrame().assign(BootstrapMedians=boot_medians).plot(kind='hist', density=True, bins=np.arange(63000, 88000, 1000), ec='w', figsize=(10, 5))\n",
    "plt.scatter(population_median, 0.000004, color='blue', s=100, label='population median').set_zorder(2)\n",
    "plt.legend()\n",
    "plt.ylabel(\"Frequência\");"
   ]
  },
  {
   "cell_type": "markdown",
   "metadata": {
    "slideshow": {
     "slide_type": "fragment"
    }
   },
   "source": [
    "Com base nessa distribuição, o que podemos então afirmar em termos de percentis?"
   ]
  },
  {
   "cell_type": "markdown",
   "metadata": {
    "slideshow": {
     "slide_type": "slide"
    }
   },
   "source": [
    "### Utilizando a distribuição bootstrap da mediana amostral"
   ]
  },
  {
   "cell_type": "markdown",
   "metadata": {
    "slideshow": {
     "slide_type": "fragment"
    }
   },
   "source": [
    "- Nossa mediana amostral é igual a \\\\$76,237."
   ]
  },
  {
   "cell_type": "markdown",
   "metadata": {
    "slideshow": {
     "slide_type": "fragment"
    }
   },
   "source": [
    "- Conforme mencionamos anteriormente, acreditamos que a mediana populacional seja _próxima_ de \\\\$76,237, mas não sabemos _quão_ próxima."
   ]
  },
  {
   "cell_type": "markdown",
   "metadata": {
    "slideshow": {
     "slide_type": "fragment"
    }
   },
   "source": [
    "- Como quantificar então a incerteza sobre essa estimativa?"
   ]
  },
  {
   "cell_type": "markdown",
   "metadata": {
    "slideshow": {
     "slide_type": "fragment"
    }
   },
   "source": [
    "- 💡 **Ideia:** Encontrar um intervalo que contenha **a maior parte** (por exemplo, 95%) das medianas amostrais na distribuição bootstrap. Intervalos desse tipo são denominados de **intervalos de confiança**.\n",
    "    - Mais uma vez ressaltamos que aqui nosso principal objetivo é entender e aprender como utilizar os conceitos introduzidos – uma formalização completa do conceito de intervalo de confiança será feita em outras disciplinas mais adiante. "
   ]
  },
  {
   "cell_type": "markdown",
   "metadata": {
    "slideshow": {
     "slide_type": "slide"
    }
   },
   "source": [
    "### Definindo um intervalo de confiança [*]"
   ]
  },
  {
   "cell_type": "markdown",
   "metadata": {
    "slideshow": {
     "slide_type": "fragment"
    }
   },
   "source": [
    "- No exemplo acima, queremos encontrar um intervalo $[x,y]$ que contenha aproximadamente 95% da área total da distribuição bootstrap. Denominamos esse intervalo de **intervalo de 95% de confiança** (IC95%).\n",
    "    - Note que um intervalo de confiança _não é único_ – mais adiante veremos como calcular diferentes intervalos para um mesmo **nível de confiança**."
   ]
  },
  {
   "cell_type": "markdown",
   "metadata": {
    "slideshow": {
     "slide_type": "fragment"
    }
   },
   "source": [
    "- Uma maneira de encontrar esse intervalo é encontrar dois pontos, $x$ e $y$, tais que:\n",
    "    - A área _à esquerda_ de $x$ na distribuição bootstrap seja aproximadamente 2.5%.\n",
    "    - A área _à direita_ de $y$ na distribuição bootstrap seja aproximadamente 2.5%."
   ]
  },
  {
   "cell_type": "markdown",
   "metadata": {
    "slideshow": {
     "slide_type": "fragment"
    }
   },
   "source": [
    "- Pela definição de percentil dada acima, temos então que $x$ e $y$ são os percentis **2.5** e **97.5**, respectivamente.\n",
    "    - Usualmente, $x$ e $y$ são respectivamente denominados **limite inferior** e **limite superior** do intervalo de confiança.  "
   ]
  },
  {
   "cell_type": "markdown",
   "metadata": {
    "slideshow": {
     "slide_type": "slide"
    }
   },
   "source": [
    "### Encontrando os limites do IC95% com np.percentile"
   ]
  },
  {
   "cell_type": "code",
   "execution_count": 23,
   "metadata": {},
   "outputs": [
    {
     "data": {
      "text/plain": [
       "array([76896. , 72945. , 73555. , ..., 74431. , 75868. , 78601.5])"
      ]
     },
     "execution_count": 23,
     "metadata": {},
     "output_type": "execute_result"
    }
   ],
   "source": [
    "boot_medians"
   ]
  },
  {
   "cell_type": "code",
   "execution_count": 24,
   "metadata": {},
   "outputs": [
    {
     "data": {
      "text/plain": [
       "68469.0"
      ]
     },
     "execution_count": 24,
     "metadata": {},
     "output_type": "execute_result"
    }
   ],
   "source": [
    "# Left endpoint.\n",
    "left = np.percentile(boot_medians, 2.5)\n",
    "left"
   ]
  },
  {
   "cell_type": "code",
   "execution_count": 25,
   "metadata": {},
   "outputs": [
    {
     "data": {
      "text/plain": [
       "81253.5"
      ]
     },
     "execution_count": 25,
     "metadata": {},
     "output_type": "execute_result"
    }
   ],
   "source": [
    "# Right endpoint.\n",
    "right = np.percentile(boot_medians, 97.5)\n",
    "right"
   ]
  },
  {
   "cell_type": "code",
   "execution_count": 26,
   "metadata": {},
   "outputs": [
    {
     "data": {
      "text/plain": [
       "[68469.0, 81253.5]"
      ]
     },
     "execution_count": 26,
     "metadata": {},
     "output_type": "execute_result"
    }
   ],
   "source": [
    "# Therefore, our interval is:\n",
    "[left, right]"
   ]
  },
  {
   "cell_type": "markdown",
   "metadata": {},
   "source": [
    "Utilizamos códigos como esse acima o **tempo todo** em Ciência de Dados!"
   ]
  },
  {
   "cell_type": "markdown",
   "metadata": {
    "slideshow": {
     "slide_type": "slide"
    }
   },
   "source": [
    "### Visualizando nosso IC95%\n",
    "- Vamos agora plotar o intervalo que acabamos de calcular no histograma anterior.\n",
    "- Lembre que, pela definição do IC95%, que 95% das medianas da distribuição bootstrap estão contidas nesse intervalo."
   ]
  },
  {
   "cell_type": "code",
   "execution_count": 27,
   "metadata": {},
   "outputs": [
    {
     "data": {
      "image/png": "[encoded data removed]",
      "text/plain": [
       "<Figure size 1000x500 with 1 Axes>"
      ]
     },
     "metadata": {},
     "output_type": "display_data"
    }
   ],
   "source": [
    "bpd.DataFrame().assign(BootstrapMedians=boot_medians).plot(kind='hist', density=True, bins=np.arange(63000, 88000, 1000), ec='w', figsize=(10, 5), zorder=1)\n",
    "plt.plot([left, right], [0, 0], color='gold', linewidth=12, label='95% confidence interval', zorder=2);\n",
    "plt.scatter(population_median, 0.000004, color='blue', s=100, label='population median', zorder=3)\n",
    "plt.legend()\n",
    "plt.ylabel(\"Frequência\");"
   ]
  },
  {
   "cell_type": "markdown",
   "metadata": {},
   "source": [
    "- Nesse exemplo, note que nosso IC95% (representado pela <span style=\"color:gold\"><b>linha dourada</b></span>) contém o verdadeiro valor do parâmetro, isto é, a mediana populacional (representada pelo <span style=\"color:blue\"><b>ponto azul</b></span>).\n",
    "    - Note que _isso nem sempre acontece_, pois a amostra original pode não ser tão boa!\n",
    "    - Na prática, além de não saber o quão próxima a mediana amostral está da mediana populacional, em geral também não saberemos o quão boa a nossa amostra original realmente é.\n",
    "    - Discutiremos na próxima aula algumas maneiras de contornar esse problema."
   ]
  },
  {
   "cell_type": "markdown",
   "metadata": {},
   "source": [
    "- Finalmente, note pelo histograma acima que nesse exemplo a distribuição bootstrap não está centrada na _mediana populacional_ (de \\\\$78,136), mas sim na _mediana amostral_ (\\\\$76,237)."
   ]
  },
  {
   "cell_type": "markdown",
   "metadata": {
    "slideshow": {
     "slide_type": "slide"
    }
   },
   "source": [
    "### Teste Rápido ✅\n",
    "\n",
    "Suponha que tenhamos calculado o seguinte IC95%:"
   ]
  },
  {
   "cell_type": "code",
   "execution_count": 28,
   "metadata": {},
   "outputs": [
    {
     "name": "stdout",
     "output_type": "stream",
     "text": [
      "Interval: [68469.0, 81253.5]\n",
      "Width: 12784.5\n"
     ]
    }
   ],
   "source": [
    "print('Interval:', [left, right])\n",
    "print('Width:', right - left)"
   ]
  },
  {
   "cell_type": "markdown",
   "metadata": {},
   "source": [
    "onde `Width` acima representa a **largura** do IC, i.e. se $IC95\\% = [y, x]$, sua largura é igual a $y - x$. "
   ]
  },
  {
   "cell_type": "markdown",
   "metadata": {},
   "source": [
    "Agora, se ao invés de 95\\% de confiança tivéssemos calculado um intervalo de 80% de confiança, isto é, um IC80\\%, você acha que esse intervalo seria _mais largo_ ou _mais estreito_ do que o IC95%?\n",
    "\n",
    "- A.  Mais largo\n",
    "- B.  Mais estreito\n",
    "- C.  É impossível dizer"
   ]
  },
  {
   "cell_type": "markdown",
   "metadata": {},
   "source": [
    "## \"Armadilhas\" do bootstrap"
   ]
  },
  {
   "cell_type": "markdown",
   "metadata": {},
   "source": [
    "### Regras de bolso"
   ]
  },
  {
   "cell_type": "markdown",
   "metadata": {},
   "source": [
    "- Bootstrap é uma técnica bem poderosa! Nós apenas precisamos coletar uma única amostra para obter uma distribuição aproximada para a mediana amostral."
   ]
  },
  {
   "cell_type": "markdown",
   "metadata": {},
   "source": [
    "- Porém, essa técnica tem suas limitações:\n",
    "    - O bootstrap não é muito bom para estatísticas mais \"sensíveis\" a valores extremos (como por exemplo o máximo, ou o mínimo).\n",
    "         - Essa técnica funciona melhor para estatísticas que são mais \"robustas\" (a _outliers_).\n",
    "    - O boostrap fornece bons resultados apenas se a amostra é \"suficientemente próxima\" da população.\n",
    "        - Se nossa amostra original **não for representativa da população**, as amostras bootstrap também não serão representativas da população."
   ]
  },
  {
   "cell_type": "markdown",
   "metadata": {},
   "source": [
    "### Exemplo: Estimando o máximo de uma quantidade populacional\n",
    "\n",
    "- Suponha que, ao invés da mediana, estejamos agora interessados no _máximo_ dos salários de todos os funcionários públicos da cidade de San Diego (nossa população).\n",
    "- Nossa amostra coletada continua a mesma que tínhamos anteriormente, `my_sample`.\n",
    "- Nossa estimativa será igual ao máximo dos salários amostrais (i.e. o maior salário contido na amostra). Esse máximo é uma estatística."
   ]
  },
  {
   "cell_type": "markdown",
   "metadata": {},
   "source": [
    "- Para obter uma distribuição empírica do máximo, fazemos então o seguinte bootstrap:"
   ]
  },
  {
   "cell_type": "code",
   "execution_count": 1,
   "metadata": {},
   "outputs": [
    {
     "ename": "NameError",
     "evalue": "name 'np' is not defined",
     "output_type": "error",
     "traceback": [
      "\u001b[1;31m---------------------------------------------------------------------------\u001b[0m",
      "\u001b[1;31mNameError\u001b[0m                                 Traceback (most recent call last)",
      "Cell \u001b[1;32mIn[1], line 2\u001b[0m\n\u001b[0;32m      1\u001b[0m n_resamples \u001b[38;5;241m=\u001b[39m \u001b[38;5;241m5000\u001b[39m\n\u001b[1;32m----> 2\u001b[0m boot_maxes \u001b[38;5;241m=\u001b[39m np\u001b[38;5;241m.\u001b[39marray([])\n\u001b[0;32m      4\u001b[0m \u001b[38;5;28;01mfor\u001b[39;00m i \u001b[38;5;129;01min\u001b[39;00m \u001b[38;5;28mrange\u001b[39m(n_resamples):\n\u001b[0;32m      5\u001b[0m     resample \u001b[38;5;241m=\u001b[39m my_sample\u001b[38;5;241m.\u001b[39msample(\u001b[38;5;241m500\u001b[39m, replace\u001b[38;5;241m=\u001b[39m\u001b[38;5;28;01mTrue\u001b[39;00m)\n",
      "\u001b[1;31mNameError\u001b[0m: name 'np' is not defined"
     ]
    }
   ],
   "source": [
    "n_resamples = 5000\n",
    "boot_maxes = np.array([])\n",
    "\n",
    "for i in range(n_resamples):\n",
    "    resample = my_sample.sample(500, replace=True)\n",
    "    boot_max = resample.get('TotalWages').max()\n",
    "    boot_maxes = np.append(boot_maxes, boot_max)"
   ]
  },
  {
   "cell_type": "code",
   "execution_count": null,
   "metadata": {},
   "outputs": [],
   "source": [
    "boot_maxes"
   ]
  },
  {
   "cell_type": "markdown",
   "metadata": {},
   "source": [
    "### Visualizando os resultados\n",
    "\n",
    "Como aqui temos acesso à população, podemos encontrar o máximo populacional direto (sem bootstrap), apenas para comparação."
   ]
  },
  {
   "cell_type": "code",
   "execution_count": null,
   "metadata": {},
   "outputs": [],
   "source": [
    "population_max = population.get('TotalWages').max()\n",
    "population_max"
   ]
  },
  {
   "cell_type": "markdown",
   "metadata": {},
   "source": [
    "Então, será que o máximo populacional se encontra na parte com \"mais massa\" da distribuição bootstrap?"
   ]
  },
  {
   "cell_type": "code",
   "execution_count": null,
   "metadata": {},
   "outputs": [],
   "source": [
    "bpd.DataFrame().assign(BootstrapMax=boot_maxes).plot(kind='hist', \n",
    "                                                     density=True, \n",
    "                                                     bins=10,\n",
    "                                                     ec='w',\n",
    "                                                     figsize=(10, 5))\n",
    "plt.scatter(population_max, 0.0000008, color='blue', s=100, label='population max')\n",
    "plt.legend();"
   ]
  },
  {
   "cell_type": "markdown",
   "metadata": {},
   "source": [
    "Na verdade não! A distribuição bootstrap (e os ICs que podemos construir através dela) não captura muito bem o máximo populacional, representado no histograma acima pelo <span style=\"color:blue\"><b>ponto azul</b></span> igual a \\$384,909.\n",
    "\n",
    "> E porque não?! 🤔"
   ]
  },
  {
   "cell_type": "code",
   "execution_count": null,
   "metadata": {},
   "outputs": [],
   "source": [
    "my_sample.get('TotalWages').max()"
   ]
  },
  {
   "cell_type": "markdown",
   "metadata": {},
   "source": [
    "- O maior valor na nossa amostra original é de \\\\$347,755. Logo, o maior valor na nossa amostra bootstrap será no máximo igual a \\\\$347,755."
   ]
  },
  {
   "cell_type": "markdown",
   "metadata": {},
   "source": [
    "- Em geral, o bootstrap funciona melhor para medidas de tendência central ou dispersão (como a média, mediana, desvio padrão, etc.) do que para medidas que são mais sensíveis a outliers, como os extremos (máximo e mínimo)."
   ]
  },
  {
   "cell_type": "markdown",
   "metadata": {
    "slideshow": {
     "slide_type": "slide"
    }
   },
   "source": [
    "### Para refletir [*]\n",
    "\n",
    "Na aula anterior, aprendemos a fazer afirmativas do tipo\n",
    "\n",
    "> Acreditamos que a mediana populacional está \"próxima\" da nossa mediana amostral, \\\\$76,237."
   ]
  },
  {
   "cell_type": "markdown",
   "metadata": {
    "slideshow": {
     "slide_type": "fragment"
    }
   },
   "source": [
    "Nessa aula, aprendemos a fazer afirmativas do tipo\n",
    "\n",
    "> Podemos dizer, com \"95% de confiança\", que a mediana populacional está entre \\\\$68,469 e \\\\$81,253.50."
   ]
  },
  {
   "cell_type": "markdown",
   "metadata": {
    "slideshow": {
     "slide_type": "slide"
    }
   },
   "source": [
    "## Resumo [*]\n",
    "\n",
    "- Com base em uma amostra, queremos inferir sobre um parâmetro populacional. Porém, como podemos calcular apenas uma estimativa com essa amostra, em geral não sabemos o quão _precisa_ é essa estimativa.\n",
    "    - Para termos uma ideia do quão variável é nossa estimativa, idealmente coletaríamos mais amostras e calcularíamos nossa estatística em cada uma dessas amostras. Porém, na prática, amostrar em geral é caro, e logo usualmente temos disponível **apenas uma amostra**.\n",
    "- **Ideia principal**: Sob certas condições, a amostra é distribuída de maneira bem similar à população da qual a amostra foi coletada. Dessa forma, podemos tratar a distribuição empírica da amostra como se fosse a distribuição populacional e produzir novas amostras **reamostrando** da amostra original.\n",
    "    - Cada nova amostra produzida dessa forma gera nos permite calcular uma nova estimativa. Com base em um conjunto dessas estimativas, podemos então ter uma noção da precisão/variabilidade da nossa estimativa original.\n",
    "- O **Bootstrap** nos fornece uma maneira de gerarmos uma distribuição empírica de uma estatística, utilizando apenas uma única amostra original. Com base nessa **distribuição bootstrap**, podemos criar intervalos de $c$% confiança identificando os valores cujo intervalo contenha $c$% da distribuição entre si.\n",
    "    - Podemos assim **quantificar a incerteza** sobre nossas estimativas, e fazer afirmações do tipo \"a média populacional está entre \\\\$68,469 e \\\\$81,253.50\" ao invés de afirmar apenas que \"a média populacional é aproximadamente \\\\$76,237\".\n",
    "\n",
    "\n",
    "\n",
    "- O bootstrap funciona bem para estatísticas que não são tão sensíveis à pequenas variações na amostra (tais como a média e a mediana, mas não para máximos e mínimos). [*]"
   ]
  }
 ],
 "metadata": {
  "kernelspec": {
   "display_name": "Python 3 (ipykernel)",
   "language": "python",
   "name": "python3"
  },
  "language_info": {
   "codemirror_mode": {
    "name": "ipython",
    "version": 3
   },
   "file_extension": ".py",
   "mimetype": "text/x-python",
   "name": "python",
   "nbconvert_exporter": "python",
   "pygments_lexer": "ipython3",
   "version": "3.11.7"
  },
  "livereveal": {
   "scroll": true,
   "transition": "none"
  },
  "rise": {
   "enable_chalkboard": true
  }
 },
 "nbformat": 4,
 "nbformat_minor": 4
}
