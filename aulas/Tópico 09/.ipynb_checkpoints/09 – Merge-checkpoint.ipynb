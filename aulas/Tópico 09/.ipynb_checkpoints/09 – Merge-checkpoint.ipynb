{
 "cells": [
  {
   "cell_type": "markdown",
   "metadata": {},
   "source": [
    "# Tópico 09 – Merge [<img src=\"images/colag_logo.svg\" style=\"float: right; vertical-align: middle; width: 42px; height: 42px;\">](https://colab.research.google.com/github/urielmoreirasilva/urielmoreirasilva.github.io/blob/main/aulas/T%C3%B3pico%2009/09%20%E2%80%93%20Merge.ipynb) [<img src=\"images/github_logo.svg\" style=\"float: right; margin-right: 12px; vertical-align: middle; width: 36px; height: 36px;\">](https://github.com/urielmoreirasilva/urielmoreirasilva.github.io/blob/main/aulas/T%C3%B3pico%2009/09%20%E2%80%93%20Merge.ipynb)\n",
    "\n",
    "Vamos aprender como juntar DataFrames diferentes!\n",
    "\n",
    "### Resultados Esperados\n",
    "1. Aprender um pouco sobre o uso do `merge`.\n",
    "\n",
    "### Referências\n",
    "- [BPD, Capítulos 11 e 13](https://notes.dsc10.com/)\n",
    "\n",
    "Material adaptado do [DSC10 (UCSD)](https://dsc10.com/) por [Flavio Figueiredo (DCC-UFMG)](https://flaviovdf.io/fcd/) e [Uriel Silva (DEST-UFMG)](https://urielmoreirasilva.github.io)"
   ]
  },
  {
   "cell_type": "code",
   "execution_count": 1,
   "metadata": {
    "slideshow": {
     "slide_type": "skip"
    }
   },
   "outputs": [],
   "source": [
    "# Importando BabyPandas, Numpy e o Pandas\n",
    "import numpy as np\n",
    "import babypandas as bpd"
   ]
  },
  {
   "cell_type": "markdown",
   "metadata": {
    "slideshow": {
     "slide_type": "slide"
    }
   },
   "source": [
    "## Merge\n",
    "\n",
    "<center>\n",
    "    <img src = \"images/FusionDanceFinaleGotenTrunksBuuSaga.webp\" width = 45%>    \n",
    "</center>"
   ]
  },
  {
   "cell_type": "markdown",
   "metadata": {},
   "source": [
    "### Motivação"
   ]
  },
  {
   "cell_type": "markdown",
   "metadata": {},
   "source": [
    "Considere uma situação em que temos 2 `DataFrame`s diferentes:\n",
    "- `telefones`, um DataFrame contendo informações gerais e especificações técnicas acerca de vários modelos de smartphones;\n",
    "- `unidades`, um DataFrame contendo o número de unidades por loja de eletrônicos da franquia da qual você é dono, em cada um dos shoppings de Belo Horizonte."
   ]
  },
  {
   "cell_type": "code",
   "execution_count": 2,
   "metadata": {
    "slideshow": {
     "slide_type": "slide"
    }
   },
   "outputs": [],
   "source": [
    "# DataFrame 1\n",
    "telefones = bpd.DataFrame().assign(\n",
    "    Modelo=['iPhone 13', 'iPhone 13 Pro Max', 'Samsung Galaxy Z Flip', 'Pixel 5a'],\n",
    "    Preco=[799, 1099, 999, 449],\n",
    "    Tela=[6.1, 6.7, 6.7, 6.3]\n",
    ")\n",
    "\n",
    "# DataFrame 2\n",
    "unidades = bpd.DataFrame().assign(\n",
    "    Celular=['iPhone 13 Pro Max', 'iPhone 13', 'Pixel 5a', 'iPhone 13'],\n",
    "    Unidades=[50, 40, 10, 100],\n",
    "    Shopping=['Del Rey', 'Savassi', 'Diamond', 'Cidade']\n",
    ")"
   ]
  },
  {
   "cell_type": "code",
   "execution_count": 3,
   "metadata": {
    "slideshow": {
     "slide_type": "slide"
    }
   },
   "outputs": [
    {
     "data": {
      "text/html": [
       "<div>\n",
       "<style scoped>\n",
       "    .dataframe tbody tr th:only-of-type {\n",
       "        vertical-align: middle;\n",
       "    }\n",
       "\n",
       "    .dataframe tbody tr th {\n",
       "        vertical-align: top;\n",
       "    }\n",
       "\n",
       "    .dataframe thead th {\n",
       "        text-align: right;\n",
       "    }\n",
       "</style>\n",
       "<table border=\"1\" class=\"dataframe\">\n",
       "  <thead>\n",
       "    <tr style=\"text-align: right;\">\n",
       "      <th></th>\n",
       "      <th>Modelo</th>\n",
       "      <th>Preco</th>\n",
       "      <th>Tela</th>\n",
       "    </tr>\n",
       "  </thead>\n",
       "  <tbody>\n",
       "    <tr>\n",
       "      <th>0</th>\n",
       "      <td>iPhone 13</td>\n",
       "      <td>799</td>\n",
       "      <td>6.1</td>\n",
       "    </tr>\n",
       "    <tr>\n",
       "      <th>1</th>\n",
       "      <td>iPhone 13 Pro Max</td>\n",
       "      <td>1099</td>\n",
       "      <td>6.7</td>\n",
       "    </tr>\n",
       "    <tr>\n",
       "      <th>2</th>\n",
       "      <td>Samsung Galaxy Z Flip</td>\n",
       "      <td>999</td>\n",
       "      <td>6.7</td>\n",
       "    </tr>\n",
       "    <tr>\n",
       "      <th>3</th>\n",
       "      <td>Pixel 5a</td>\n",
       "      <td>449</td>\n",
       "      <td>6.3</td>\n",
       "    </tr>\n",
       "  </tbody>\n",
       "</table>\n",
       "</div>"
      ],
      "text/plain": [
       "                  Modelo  Preco  Tela\n",
       "0              iPhone 13    799   6.1\n",
       "1      iPhone 13 Pro Max   1099   6.7\n",
       "2  Samsung Galaxy Z Flip    999   6.7\n",
       "3               Pixel 5a    449   6.3"
      ]
     },
     "execution_count": 3,
     "metadata": {},
     "output_type": "execute_result"
    }
   ],
   "source": [
    "# DataFrame1\n",
    "telefones"
   ]
  },
  {
   "cell_type": "code",
   "execution_count": 4,
   "metadata": {},
   "outputs": [
    {
     "data": {
      "text/html": [
       "<div>\n",
       "<style scoped>\n",
       "    .dataframe tbody tr th:only-of-type {\n",
       "        vertical-align: middle;\n",
       "    }\n",
       "\n",
       "    .dataframe tbody tr th {\n",
       "        vertical-align: top;\n",
       "    }\n",
       "\n",
       "    .dataframe thead th {\n",
       "        text-align: right;\n",
       "    }\n",
       "</style>\n",
       "<table border=\"1\" class=\"dataframe\">\n",
       "  <thead>\n",
       "    <tr style=\"text-align: right;\">\n",
       "      <th></th>\n",
       "      <th>Celular</th>\n",
       "      <th>Unidades</th>\n",
       "      <th>Shopping</th>\n",
       "    </tr>\n",
       "  </thead>\n",
       "  <tbody>\n",
       "    <tr>\n",
       "      <th>0</th>\n",
       "      <td>iPhone 13 Pro Max</td>\n",
       "      <td>50</td>\n",
       "      <td>Del Rey</td>\n",
       "    </tr>\n",
       "    <tr>\n",
       "      <th>1</th>\n",
       "      <td>iPhone 13</td>\n",
       "      <td>40</td>\n",
       "      <td>Savassi</td>\n",
       "    </tr>\n",
       "    <tr>\n",
       "      <th>2</th>\n",
       "      <td>Pixel 5a</td>\n",
       "      <td>10</td>\n",
       "      <td>Diamond</td>\n",
       "    </tr>\n",
       "    <tr>\n",
       "      <th>3</th>\n",
       "      <td>iPhone 13</td>\n",
       "      <td>100</td>\n",
       "      <td>Cidade</td>\n",
       "    </tr>\n",
       "  </tbody>\n",
       "</table>\n",
       "</div>"
      ],
      "text/plain": [
       "             Celular  Unidades Shopping\n",
       "0  iPhone 13 Pro Max        50  Del Rey\n",
       "1          iPhone 13        40  Savassi\n",
       "2           Pixel 5a        10  Diamond\n",
       "3          iPhone 13       100   Cidade"
      ]
     },
     "execution_count": 4,
     "metadata": {},
     "output_type": "execute_result"
    }
   ],
   "source": [
    "# DataFrame2\n",
    "unidades"
   ]
  },
  {
   "cell_type": "markdown",
   "metadata": {
    "slideshow": {
     "slide_type": "fragment"
    }
   },
   "source": [
    "**Pergunta:** Se você vender todos os telefones do seu estoque (isto é, todas as unidades de todas as lojas), qual será a sua receita total? 🤔"
   ]
  },
  {
   "cell_type": "markdown",
   "metadata": {},
   "source": [
    "Para responder essa pergunta, primeiramente precisamos _cruzar_ as informações do preço de mercado e da quantidade de cada celular que temos disponíveis em nossas lojas."
   ]
  },
  {
   "cell_type": "markdown",
   "metadata": {},
   "source": [
    "Fazemos isso através do método `.merge`!"
   ]
  },
  {
   "cell_type": "code",
   "execution_count": 5,
   "metadata": {},
   "outputs": [
    {
     "data": {
      "text/html": [
       "<div>\n",
       "<style scoped>\n",
       "    .dataframe tbody tr th:only-of-type {\n",
       "        vertical-align: middle;\n",
       "    }\n",
       "\n",
       "    .dataframe tbody tr th {\n",
       "        vertical-align: top;\n",
       "    }\n",
       "\n",
       "    .dataframe thead th {\n",
       "        text-align: right;\n",
       "    }\n",
       "</style>\n",
       "<table border=\"1\" class=\"dataframe\">\n",
       "  <thead>\n",
       "    <tr style=\"text-align: right;\">\n",
       "      <th></th>\n",
       "      <th>Modelo</th>\n",
       "      <th>Preco</th>\n",
       "      <th>Tela</th>\n",
       "      <th>Celular</th>\n",
       "      <th>Unidades</th>\n",
       "      <th>Shopping</th>\n",
       "    </tr>\n",
       "  </thead>\n",
       "  <tbody>\n",
       "    <tr>\n",
       "      <th>0</th>\n",
       "      <td>iPhone 13</td>\n",
       "      <td>799</td>\n",
       "      <td>6.1</td>\n",
       "      <td>iPhone 13</td>\n",
       "      <td>40</td>\n",
       "      <td>Savassi</td>\n",
       "    </tr>\n",
       "    <tr>\n",
       "      <th>1</th>\n",
       "      <td>iPhone 13</td>\n",
       "      <td>799</td>\n",
       "      <td>6.1</td>\n",
       "      <td>iPhone 13</td>\n",
       "      <td>100</td>\n",
       "      <td>Cidade</td>\n",
       "    </tr>\n",
       "    <tr>\n",
       "      <th>2</th>\n",
       "      <td>iPhone 13 Pro Max</td>\n",
       "      <td>1099</td>\n",
       "      <td>6.7</td>\n",
       "      <td>iPhone 13 Pro Max</td>\n",
       "      <td>50</td>\n",
       "      <td>Del Rey</td>\n",
       "    </tr>\n",
       "    <tr>\n",
       "      <th>3</th>\n",
       "      <td>Pixel 5a</td>\n",
       "      <td>449</td>\n",
       "      <td>6.3</td>\n",
       "      <td>Pixel 5a</td>\n",
       "      <td>10</td>\n",
       "      <td>Diamond</td>\n",
       "    </tr>\n",
       "  </tbody>\n",
       "</table>\n",
       "</div>"
      ],
      "text/plain": [
       "              Modelo  Preco  Tela            Celular  Unidades Shopping\n",
       "0          iPhone 13    799   6.1          iPhone 13        40  Savassi\n",
       "1          iPhone 13    799   6.1          iPhone 13       100   Cidade\n",
       "2  iPhone 13 Pro Max   1099   6.7  iPhone 13 Pro Max        50  Del Rey\n",
       "3           Pixel 5a    449   6.3           Pixel 5a        10  Diamond"
      ]
     },
     "execution_count": 5,
     "metadata": {},
     "output_type": "execute_result"
    }
   ],
   "source": [
    "telefones.merge(unidades, left_on = 'Modelo', right_on = 'Celular')"
   ]
  },
  {
   "cell_type": "markdown",
   "metadata": {
    "slideshow": {
     "slide_type": "slide"
    }
   },
   "source": [
    "Mas o que acabou de acontecer?! 🤯"
   ]
  },
  {
   "cell_type": "markdown",
   "metadata": {
    "slideshow": {
     "slide_type": "slide"
    }
   },
   "source": [
    "### O método `.merge`\n",
    "\n",
    "O método `.merge` funciona da seguinte maneira:\n",
    "- Escolha um DataFrame \"à esquerda\" (`left_df`) e outro \"à direita\" (`right_df`).\n",
    "- Escolha uma coluna de cada um desses DataFrames, isto é, `left_column_name` e `right_column_name`, respectivamente.\n",
    "- Execute o merge invocando:\n",
    "```python\n",
    "left_df.merge(\n",
    "    right_df, \n",
    "    left_on = left_column_name,\n",
    "    right_on = right_column_name\n",
    ")\n",
    "```\n",
    "\n",
    "- O DataFrame resultante de um `.merge` contém uma única linha para cada correspondência entre as duas colunas.\n",
    "- _Usualmente_, os argumentos `left_on` e `right_on` são iguais, mas como no exemplo acima, _isso não é necessário_.\n",
    "- Note que as linhas em qualquer um dos DataFrames sem correspondência com o outro desaparecem após o merge!"
   ]
  },
  {
   "cell_type": "markdown",
   "metadata": {
    "slideshow": {
     "slide_type": "slide"
    }
   },
   "source": [
    "Voltando à nossa pergunta original, para calcular a receita total da venda de todos os aparelhos em todas as lojas, basta somar os produtos entre as colunas `Preco` e `Unidades` após realizarmos o merge:"
   ]
  },
  {
   "cell_type": "code",
   "execution_count": 6,
   "metadata": {},
   "outputs": [],
   "source": [
    "# Merge: DataFrames 1 e 2, por `Modelo` e `Celular`\n",
    "merge = telefones.merge(\n",
    "    unidades,\n",
    "    left_on = 'Modelo',\n",
    "    right_on = 'Celular'\n",
    ")"
   ]
  },
  {
   "cell_type": "code",
   "execution_count": 7,
   "metadata": {},
   "outputs": [
    {
     "data": {
      "text/plain": [
       "171300"
      ]
     },
     "execution_count": 7,
     "metadata": {},
     "output_type": "execute_result"
    }
   ],
   "source": [
    "# Calculando a receita total no DataFrame sobre o qual fizemos o _merge_ \n",
    "(merge.get('Preco') * merge.get('Unidades')).sum()"
   ]
  },
  {
   "cell_type": "markdown",
   "metadata": {
    "slideshow": {
     "slide_type": "slide"
    }
   },
   "source": [
    "Note que a ordem das colunas escolhidas para o merge _não influencia_ o resultado final, apenas a _ordenação_ das colunas do DataFrame resultante."
   ]
  },
  {
   "cell_type": "code",
   "execution_count": 8,
   "metadata": {},
   "outputs": [
    {
     "data": {
      "text/html": [
       "<div>\n",
       "<style scoped>\n",
       "    .dataframe tbody tr th:only-of-type {\n",
       "        vertical-align: middle;\n",
       "    }\n",
       "\n",
       "    .dataframe tbody tr th {\n",
       "        vertical-align: top;\n",
       "    }\n",
       "\n",
       "    .dataframe thead th {\n",
       "        text-align: right;\n",
       "    }\n",
       "</style>\n",
       "<table border=\"1\" class=\"dataframe\">\n",
       "  <thead>\n",
       "    <tr style=\"text-align: right;\">\n",
       "      <th></th>\n",
       "      <th>Celular</th>\n",
       "      <th>Unidades</th>\n",
       "      <th>Shopping</th>\n",
       "      <th>Modelo</th>\n",
       "      <th>Preco</th>\n",
       "      <th>Tela</th>\n",
       "    </tr>\n",
       "  </thead>\n",
       "  <tbody>\n",
       "    <tr>\n",
       "      <th>0</th>\n",
       "      <td>iPhone 13 Pro Max</td>\n",
       "      <td>50</td>\n",
       "      <td>Del Rey</td>\n",
       "      <td>iPhone 13 Pro Max</td>\n",
       "      <td>1099</td>\n",
       "      <td>6.7</td>\n",
       "    </tr>\n",
       "    <tr>\n",
       "      <th>1</th>\n",
       "      <td>iPhone 13</td>\n",
       "      <td>40</td>\n",
       "      <td>Savassi</td>\n",
       "      <td>iPhone 13</td>\n",
       "      <td>799</td>\n",
       "      <td>6.1</td>\n",
       "    </tr>\n",
       "    <tr>\n",
       "      <th>2</th>\n",
       "      <td>iPhone 13</td>\n",
       "      <td>100</td>\n",
       "      <td>Cidade</td>\n",
       "      <td>iPhone 13</td>\n",
       "      <td>799</td>\n",
       "      <td>6.1</td>\n",
       "    </tr>\n",
       "    <tr>\n",
       "      <th>3</th>\n",
       "      <td>Pixel 5a</td>\n",
       "      <td>10</td>\n",
       "      <td>Diamond</td>\n",
       "      <td>Pixel 5a</td>\n",
       "      <td>449</td>\n",
       "      <td>6.3</td>\n",
       "    </tr>\n",
       "  </tbody>\n",
       "</table>\n",
       "</div>"
      ],
      "text/plain": [
       "             Celular  Unidades Shopping             Modelo  Preco  Tela\n",
       "0  iPhone 13 Pro Max        50  Del Rey  iPhone 13 Pro Max   1099   6.7\n",
       "1          iPhone 13        40  Savassi          iPhone 13    799   6.1\n",
       "2          iPhone 13       100   Cidade          iPhone 13    799   6.1\n",
       "3           Pixel 5a        10  Diamond           Pixel 5a    449   6.3"
      ]
     },
     "execution_count": 8,
     "metadata": {},
     "output_type": "execute_result"
    }
   ],
   "source": [
    "unidades.merge(telefones, left_on = 'Celular', right_on = 'Modelo')"
   ]
  },
  {
   "cell_type": "markdown",
   "metadata": {
    "slideshow": {
     "slide_type": "slide"
    }
   },
   "source": [
    "### `.merge` com índices\n",
    "\n",
    "- O método `.merge` pode ser utilizado com um `DataFrame` _indexado_, e nesse caso toma uma forma ainda mais simples. \n",
    "- Nesse caso, em vez de especificarmos ambos `left_on` e `right_on`, especificamos apenas `left_index = True` ou `right_index = True`."
   ]
  },
  {
   "cell_type": "code",
   "execution_count": 9,
   "metadata": {},
   "outputs": [
    {
     "data": {
      "text/html": [
       "<div>\n",
       "<style scoped>\n",
       "    .dataframe tbody tr th:only-of-type {\n",
       "        vertical-align: middle;\n",
       "    }\n",
       "\n",
       "    .dataframe tbody tr th {\n",
       "        vertical-align: top;\n",
       "    }\n",
       "\n",
       "    .dataframe thead th {\n",
       "        text-align: right;\n",
       "    }\n",
       "</style>\n",
       "<table border=\"1\" class=\"dataframe\">\n",
       "  <thead>\n",
       "    <tr style=\"text-align: right;\">\n",
       "      <th></th>\n",
       "      <th>Modelo</th>\n",
       "      <th>Preco</th>\n",
       "      <th>Tela</th>\n",
       "    </tr>\n",
       "  </thead>\n",
       "  <tbody>\n",
       "    <tr>\n",
       "      <th>0</th>\n",
       "      <td>iPhone 13</td>\n",
       "      <td>799</td>\n",
       "      <td>6.1</td>\n",
       "    </tr>\n",
       "    <tr>\n",
       "      <th>1</th>\n",
       "      <td>iPhone 13 Pro Max</td>\n",
       "      <td>1099</td>\n",
       "      <td>6.7</td>\n",
       "    </tr>\n",
       "    <tr>\n",
       "      <th>2</th>\n",
       "      <td>Samsung Galaxy Z Flip</td>\n",
       "      <td>999</td>\n",
       "      <td>6.7</td>\n",
       "    </tr>\n",
       "    <tr>\n",
       "      <th>3</th>\n",
       "      <td>Pixel 5a</td>\n",
       "      <td>449</td>\n",
       "      <td>6.3</td>\n",
       "    </tr>\n",
       "  </tbody>\n",
       "</table>\n",
       "</div>"
      ],
      "text/plain": [
       "                  Modelo  Preco  Tela\n",
       "0              iPhone 13    799   6.1\n",
       "1      iPhone 13 Pro Max   1099   6.7\n",
       "2  Samsung Galaxy Z Flip    999   6.7\n",
       "3               Pixel 5a    449   6.3"
      ]
     },
     "execution_count": 9,
     "metadata": {},
     "output_type": "execute_result"
    }
   ],
   "source": [
    "telefones"
   ]
  },
  {
   "cell_type": "code",
   "execution_count": 10,
   "metadata": {},
   "outputs": [
    {
     "data": {
      "text/html": [
       "<div>\n",
       "<style scoped>\n",
       "    .dataframe tbody tr th:only-of-type {\n",
       "        vertical-align: middle;\n",
       "    }\n",
       "\n",
       "    .dataframe tbody tr th {\n",
       "        vertical-align: top;\n",
       "    }\n",
       "\n",
       "    .dataframe thead th {\n",
       "        text-align: right;\n",
       "    }\n",
       "</style>\n",
       "<table border=\"1\" class=\"dataframe\">\n",
       "  <thead>\n",
       "    <tr style=\"text-align: right;\">\n",
       "      <th></th>\n",
       "      <th>Unidades</th>\n",
       "      <th>Shopping</th>\n",
       "    </tr>\n",
       "    <tr>\n",
       "      <th>Celular</th>\n",
       "      <th></th>\n",
       "      <th></th>\n",
       "    </tr>\n",
       "  </thead>\n",
       "  <tbody>\n",
       "    <tr>\n",
       "      <th>iPhone 13 Pro Max</th>\n",
       "      <td>50</td>\n",
       "      <td>Del Rey</td>\n",
       "    </tr>\n",
       "    <tr>\n",
       "      <th>iPhone 13</th>\n",
       "      <td>40</td>\n",
       "      <td>Savassi</td>\n",
       "    </tr>\n",
       "    <tr>\n",
       "      <th>Pixel 5a</th>\n",
       "      <td>10</td>\n",
       "      <td>Diamond</td>\n",
       "    </tr>\n",
       "    <tr>\n",
       "      <th>iPhone 13</th>\n",
       "      <td>100</td>\n",
       "      <td>Cidade</td>\n",
       "    </tr>\n",
       "  </tbody>\n",
       "</table>\n",
       "</div>"
      ],
      "text/plain": [
       "                   Unidades Shopping\n",
       "Celular                             \n",
       "iPhone 13 Pro Max        50  Del Rey\n",
       "iPhone 13                40  Savassi\n",
       "Pixel 5a                 10  Diamond\n",
       "iPhone 13               100   Cidade"
      ]
     },
     "execution_count": 10,
     "metadata": {},
     "output_type": "execute_result"
    }
   ],
   "source": [
    "unidades_com_index = unidades.set_index('Celular')\n",
    "unidades_com_index"
   ]
  },
  {
   "cell_type": "code",
   "execution_count": 11,
   "metadata": {},
   "outputs": [
    {
     "data": {
      "text/html": [
       "<div>\n",
       "<style scoped>\n",
       "    .dataframe tbody tr th:only-of-type {\n",
       "        vertical-align: middle;\n",
       "    }\n",
       "\n",
       "    .dataframe tbody tr th {\n",
       "        vertical-align: top;\n",
       "    }\n",
       "\n",
       "    .dataframe thead th {\n",
       "        text-align: right;\n",
       "    }\n",
       "</style>\n",
       "<table border=\"1\" class=\"dataframe\">\n",
       "  <thead>\n",
       "    <tr style=\"text-align: right;\">\n",
       "      <th></th>\n",
       "      <th>Modelo</th>\n",
       "      <th>Preco</th>\n",
       "      <th>Tela</th>\n",
       "      <th>Unidades</th>\n",
       "      <th>Shopping</th>\n",
       "    </tr>\n",
       "  </thead>\n",
       "  <tbody>\n",
       "    <tr>\n",
       "      <th>0</th>\n",
       "      <td>iPhone 13</td>\n",
       "      <td>799</td>\n",
       "      <td>6.1</td>\n",
       "      <td>40</td>\n",
       "      <td>Savassi</td>\n",
       "    </tr>\n",
       "    <tr>\n",
       "      <th>0</th>\n",
       "      <td>iPhone 13</td>\n",
       "      <td>799</td>\n",
       "      <td>6.1</td>\n",
       "      <td>100</td>\n",
       "      <td>Cidade</td>\n",
       "    </tr>\n",
       "    <tr>\n",
       "      <th>1</th>\n",
       "      <td>iPhone 13 Pro Max</td>\n",
       "      <td>1099</td>\n",
       "      <td>6.7</td>\n",
       "      <td>50</td>\n",
       "      <td>Del Rey</td>\n",
       "    </tr>\n",
       "    <tr>\n",
       "      <th>3</th>\n",
       "      <td>Pixel 5a</td>\n",
       "      <td>449</td>\n",
       "      <td>6.3</td>\n",
       "      <td>10</td>\n",
       "      <td>Diamond</td>\n",
       "    </tr>\n",
       "  </tbody>\n",
       "</table>\n",
       "</div>"
      ],
      "text/plain": [
       "              Modelo  Preco  Tela  Unidades Shopping\n",
       "0          iPhone 13    799   6.1        40  Savassi\n",
       "0          iPhone 13    799   6.1       100   Cidade\n",
       "1  iPhone 13 Pro Max   1099   6.7        50  Del Rey\n",
       "3           Pixel 5a    449   6.3        10  Diamond"
      ]
     },
     "execution_count": 11,
     "metadata": {},
     "output_type": "execute_result"
    }
   ],
   "source": [
    "telefones.merge(\n",
    "    unidades_com_index,\n",
    "    left_on = 'Modelo',\n",
    "    right_index = True\n",
    ")"
   ]
  },
  {
   "cell_type": "markdown",
   "metadata": {},
   "source": [
    "Como dito anteriormente, obtemos os mesmos resultados se indexarmos o DataFrame `telefones`, apesar de isso não ser necessário:"
   ]
  },
  {
   "cell_type": "code",
   "execution_count": 12,
   "metadata": {},
   "outputs": [
    {
     "data": {
      "text/html": [
       "<div>\n",
       "<style scoped>\n",
       "    .dataframe tbody tr th:only-of-type {\n",
       "        vertical-align: middle;\n",
       "    }\n",
       "\n",
       "    .dataframe tbody tr th {\n",
       "        vertical-align: top;\n",
       "    }\n",
       "\n",
       "    .dataframe thead th {\n",
       "        text-align: right;\n",
       "    }\n",
       "</style>\n",
       "<table border=\"1\" class=\"dataframe\">\n",
       "  <thead>\n",
       "    <tr style=\"text-align: right;\">\n",
       "      <th></th>\n",
       "      <th>Preco</th>\n",
       "      <th>Tela</th>\n",
       "      <th>Unidades</th>\n",
       "      <th>Shopping</th>\n",
       "    </tr>\n",
       "    <tr>\n",
       "      <th>Modelo</th>\n",
       "      <th></th>\n",
       "      <th></th>\n",
       "      <th></th>\n",
       "      <th></th>\n",
       "    </tr>\n",
       "  </thead>\n",
       "  <tbody>\n",
       "    <tr>\n",
       "      <th>iPhone 13</th>\n",
       "      <td>799</td>\n",
       "      <td>6.1</td>\n",
       "      <td>40</td>\n",
       "      <td>Savassi</td>\n",
       "    </tr>\n",
       "    <tr>\n",
       "      <th>iPhone 13</th>\n",
       "      <td>799</td>\n",
       "      <td>6.1</td>\n",
       "      <td>100</td>\n",
       "      <td>Cidade</td>\n",
       "    </tr>\n",
       "    <tr>\n",
       "      <th>iPhone 13 Pro Max</th>\n",
       "      <td>1099</td>\n",
       "      <td>6.7</td>\n",
       "      <td>50</td>\n",
       "      <td>Del Rey</td>\n",
       "    </tr>\n",
       "    <tr>\n",
       "      <th>Pixel 5a</th>\n",
       "      <td>449</td>\n",
       "      <td>6.3</td>\n",
       "      <td>10</td>\n",
       "      <td>Diamond</td>\n",
       "    </tr>\n",
       "  </tbody>\n",
       "</table>\n",
       "</div>"
      ],
      "text/plain": [
       "                   Preco  Tela  Unidades Shopping\n",
       "Modelo                                           \n",
       "iPhone 13            799   6.1        40  Savassi\n",
       "iPhone 13            799   6.1       100   Cidade\n",
       "iPhone 13 Pro Max   1099   6.7        50  Del Rey\n",
       "Pixel 5a             449   6.3        10  Diamond"
      ]
     },
     "execution_count": 12,
     "metadata": {},
     "output_type": "execute_result"
    }
   ],
   "source": [
    "telefones_com_index = telefones.set_index('Modelo')\n",
    "telefones_com_index.merge(\n",
    "    unidades_com_index,\n",
    "    left_on = 'Modelo',\n",
    "    right_index = True\n",
    ")"
   ]
  },
  {
   "cell_type": "markdown",
   "metadata": {},
   "source": [
    "... e vice-versa com `right_on` e `left_index = True`:"
   ]
  },
  {
   "cell_type": "code",
   "execution_count": 13,
   "metadata": {},
   "outputs": [
    {
     "data": {
      "text/html": [
       "<div>\n",
       "<style scoped>\n",
       "    .dataframe tbody tr th:only-of-type {\n",
       "        vertical-align: middle;\n",
       "    }\n",
       "\n",
       "    .dataframe tbody tr th {\n",
       "        vertical-align: top;\n",
       "    }\n",
       "\n",
       "    .dataframe thead th {\n",
       "        text-align: right;\n",
       "    }\n",
       "</style>\n",
       "<table border=\"1\" class=\"dataframe\">\n",
       "  <thead>\n",
       "    <tr style=\"text-align: right;\">\n",
       "      <th></th>\n",
       "      <th>Unidades</th>\n",
       "      <th>Shopping</th>\n",
       "      <th>Preco</th>\n",
       "      <th>Tela</th>\n",
       "    </tr>\n",
       "    <tr>\n",
       "      <th>Modelo</th>\n",
       "      <th></th>\n",
       "      <th></th>\n",
       "      <th></th>\n",
       "      <th></th>\n",
       "    </tr>\n",
       "  </thead>\n",
       "  <tbody>\n",
       "    <tr>\n",
       "      <th>iPhone 13 Pro Max</th>\n",
       "      <td>50</td>\n",
       "      <td>Del Rey</td>\n",
       "      <td>1099</td>\n",
       "      <td>6.7</td>\n",
       "    </tr>\n",
       "    <tr>\n",
       "      <th>iPhone 13</th>\n",
       "      <td>40</td>\n",
       "      <td>Savassi</td>\n",
       "      <td>799</td>\n",
       "      <td>6.1</td>\n",
       "    </tr>\n",
       "    <tr>\n",
       "      <th>iPhone 13</th>\n",
       "      <td>100</td>\n",
       "      <td>Cidade</td>\n",
       "      <td>799</td>\n",
       "      <td>6.1</td>\n",
       "    </tr>\n",
       "    <tr>\n",
       "      <th>Pixel 5a</th>\n",
       "      <td>10</td>\n",
       "      <td>Diamond</td>\n",
       "      <td>449</td>\n",
       "      <td>6.3</td>\n",
       "    </tr>\n",
       "  </tbody>\n",
       "</table>\n",
       "</div>"
      ],
      "text/plain": [
       "                   Unidades Shopping  Preco  Tela\n",
       "Modelo                                           \n",
       "iPhone 13 Pro Max        50  Del Rey   1099   6.7\n",
       "iPhone 13                40  Savassi    799   6.1\n",
       "iPhone 13               100   Cidade    799   6.1\n",
       "Pixel 5a                 10  Diamond    449   6.3"
      ]
     },
     "execution_count": 13,
     "metadata": {},
     "output_type": "execute_result"
    }
   ],
   "source": [
    "unidades_com_index.merge(\n",
    "    telefones_com_index,\n",
    "    right_on = 'Modelo',\n",
    "    left_index = True\n",
    ")"
   ]
  },
  {
   "cell_type": "markdown",
   "metadata": {},
   "source": [
    "### `.merge` com rótulos iguais\n",
    "\n",
    "- Finalmente, note que se ambos `left_column_name` e `right_column_name` forem iguais, podemos especificar o `.merge` apenas com a opção `on`."
   ]
  },
  {
   "cell_type": "code",
   "execution_count": 14,
   "metadata": {},
   "outputs": [
    {
     "data": {
      "text/html": [
       "<div>\n",
       "<style scoped>\n",
       "    .dataframe tbody tr th:only-of-type {\n",
       "        vertical-align: middle;\n",
       "    }\n",
       "\n",
       "    .dataframe tbody tr th {\n",
       "        vertical-align: top;\n",
       "    }\n",
       "\n",
       "    .dataframe thead th {\n",
       "        text-align: right;\n",
       "    }\n",
       "</style>\n",
       "<table border=\"1\" class=\"dataframe\">\n",
       "  <thead>\n",
       "    <tr style=\"text-align: right;\">\n",
       "      <th></th>\n",
       "      <th>Unidades</th>\n",
       "      <th>Shopping</th>\n",
       "      <th>Modelo</th>\n",
       "    </tr>\n",
       "  </thead>\n",
       "  <tbody>\n",
       "    <tr>\n",
       "      <th>0</th>\n",
       "      <td>50</td>\n",
       "      <td>Del Rey</td>\n",
       "      <td>iPhone 13 Pro Max</td>\n",
       "    </tr>\n",
       "    <tr>\n",
       "      <th>1</th>\n",
       "      <td>40</td>\n",
       "      <td>Savassi</td>\n",
       "      <td>iPhone 13</td>\n",
       "    </tr>\n",
       "    <tr>\n",
       "      <th>2</th>\n",
       "      <td>10</td>\n",
       "      <td>Diamond</td>\n",
       "      <td>Pixel 5a</td>\n",
       "    </tr>\n",
       "    <tr>\n",
       "      <th>3</th>\n",
       "      <td>100</td>\n",
       "      <td>Cidade</td>\n",
       "      <td>iPhone 13</td>\n",
       "    </tr>\n",
       "  </tbody>\n",
       "</table>\n",
       "</div>"
      ],
      "text/plain": [
       "   Unidades Shopping             Modelo\n",
       "0        50  Del Rey  iPhone 13 Pro Max\n",
       "1        40  Savassi          iPhone 13\n",
       "2        10  Diamond           Pixel 5a\n",
       "3       100   Cidade          iPhone 13"
      ]
     },
     "execution_count": 14,
     "metadata": {},
     "output_type": "execute_result"
    }
   ],
   "source": [
    "# Criando uma nova coluna `Modelo` igual a `Celular`\n",
    "unidades_modelo = unidades.assign(Modelo = unidades.get('Celular'))\n",
    "\n",
    "# Deletando a coluna `Celular`\n",
    "unidades_modelo = unidades_modelo.drop(columns = 'Celular')\n",
    "\n",
    "unidades_modelo"
   ]
  },
  {
   "cell_type": "markdown",
   "metadata": {
    "slideshow": {
     "slide_type": "slide"
    }
   },
   "source": [
    "### Um outro exemplo: \"cidades com clima bom\" e \"cidades com universidades\""
   ]
  },
  {
   "cell_type": "markdown",
   "metadata": {},
   "source": [
    "Considere o seguinte exemplo, com 2 DataFrames: um contendo algumas \"cidades com clima bom\" e outro contendo algumas \"cidades com universidades\", em diferentes estados dos EUA. "
   ]
  },
  {
   "cell_type": "code",
   "execution_count": 15,
   "metadata": {},
   "outputs": [
    {
     "data": {
      "text/html": [
       "<div>\n",
       "<style scoped>\n",
       "    .dataframe tbody tr th:only-of-type {\n",
       "        vertical-align: middle;\n",
       "    }\n",
       "\n",
       "    .dataframe tbody tr th {\n",
       "        vertical-align: top;\n",
       "    }\n",
       "\n",
       "    .dataframe thead th {\n",
       "        text-align: right;\n",
       "    }\n",
       "</style>\n",
       "<table border=\"1\" class=\"dataframe\">\n",
       "  <thead>\n",
       "    <tr style=\"text-align: right;\">\n",
       "      <th></th>\n",
       "      <th>city</th>\n",
       "      <th>today_high_temp</th>\n",
       "    </tr>\n",
       "  </thead>\n",
       "  <tbody>\n",
       "    <tr>\n",
       "      <th>0</th>\n",
       "      <td>La Jolla</td>\n",
       "      <td>79</td>\n",
       "    </tr>\n",
       "    <tr>\n",
       "      <th>1</th>\n",
       "      <td>San Diego</td>\n",
       "      <td>83</td>\n",
       "    </tr>\n",
       "    <tr>\n",
       "      <th>2</th>\n",
       "      <td>Austin</td>\n",
       "      <td>87</td>\n",
       "    </tr>\n",
       "    <tr>\n",
       "      <th>3</th>\n",
       "      <td>Los Angeles</td>\n",
       "      <td>87</td>\n",
       "    </tr>\n",
       "  </tbody>\n",
       "</table>\n",
       "</div>"
      ],
      "text/plain": [
       "          city today_high_temp\n",
       "0     La Jolla              79\n",
       "1    San Diego              83\n",
       "2       Austin              87\n",
       "3  Los Angeles              87"
      ]
     },
     "execution_count": 15,
     "metadata": {},
     "output_type": "execute_result"
    }
   ],
   "source": [
    "# Cidades com clima bom\n",
    "nice_weather_cities = bpd.DataFrame().assign(\n",
    "    city=['La Jolla', 'San Diego', 'Austin', 'Los Angeles'],\n",
    "    today_high_temp=['79', '83', '87', '87']\n",
    "    \n",
    ")\n",
    "\n",
    "nice_weather_cities"
   ]
  },
  {
   "cell_type": "code",
   "execution_count": 16,
   "metadata": {
    "scrolled": true
   },
   "outputs": [
    {
     "data": {
      "text/html": [
       "<div>\n",
       "<style scoped>\n",
       "    .dataframe tbody tr th:only-of-type {\n",
       "        vertical-align: middle;\n",
       "    }\n",
       "\n",
       "    .dataframe tbody tr th {\n",
       "        vertical-align: top;\n",
       "    }\n",
       "\n",
       "    .dataframe thead th {\n",
       "        text-align: right;\n",
       "    }\n",
       "</style>\n",
       "<table border=\"1\" class=\"dataframe\">\n",
       "  <thead>\n",
       "    <tr style=\"text-align: right;\">\n",
       "      <th></th>\n",
       "      <th>name</th>\n",
       "      <th>city</th>\n",
       "      <th>state</th>\n",
       "      <th>graduation_rate</th>\n",
       "    </tr>\n",
       "  </thead>\n",
       "  <tbody>\n",
       "    <tr>\n",
       "      <th>0</th>\n",
       "      <td>UCSD</td>\n",
       "      <td>La Jolla</td>\n",
       "      <td>California</td>\n",
       "      <td>0.87</td>\n",
       "    </tr>\n",
       "    <tr>\n",
       "      <th>1</th>\n",
       "      <td>University of Chicago</td>\n",
       "      <td>Chicago</td>\n",
       "      <td>Illinois</td>\n",
       "      <td>0.94</td>\n",
       "    </tr>\n",
       "    <tr>\n",
       "      <th>2</th>\n",
       "      <td>University of San Diego</td>\n",
       "      <td>San Diego</td>\n",
       "      <td>California</td>\n",
       "      <td>0.78</td>\n",
       "    </tr>\n",
       "    <tr>\n",
       "      <th>3</th>\n",
       "      <td>Johns Hopkins University</td>\n",
       "      <td>Baltimore</td>\n",
       "      <td>Maryland</td>\n",
       "      <td>0.92</td>\n",
       "    </tr>\n",
       "    <tr>\n",
       "      <th>4</th>\n",
       "      <td>UT Austin</td>\n",
       "      <td>Austin</td>\n",
       "      <td>Texas</td>\n",
       "      <td>0.81</td>\n",
       "    </tr>\n",
       "    <tr>\n",
       "      <th>5</th>\n",
       "      <td>SDSU</td>\n",
       "      <td>San Diego</td>\n",
       "      <td>California</td>\n",
       "      <td>0.83</td>\n",
       "    </tr>\n",
       "    <tr>\n",
       "      <th>6</th>\n",
       "      <td>UCLA</td>\n",
       "      <td>Los Angeles</td>\n",
       "      <td>California</td>\n",
       "      <td>0.91</td>\n",
       "    </tr>\n",
       "  </tbody>\n",
       "</table>\n",
       "</div>"
      ],
      "text/plain": [
       "                       name         city       state  graduation_rate\n",
       "0                      UCSD     La Jolla  California             0.87\n",
       "1     University of Chicago      Chicago    Illinois             0.94\n",
       "2   University of San Diego    San Diego  California             0.78\n",
       "3  Johns Hopkins University    Baltimore    Maryland             0.92\n",
       "4                 UT Austin       Austin       Texas             0.81\n",
       "5                      SDSU    San Diego  California             0.83\n",
       "6                      UCLA  Los Angeles  California             0.91"
      ]
     },
     "execution_count": 16,
     "metadata": {},
     "output_type": "execute_result"
    }
   ],
   "source": [
    "# Cidades com escolas\n",
    "schools = bpd.DataFrame().assign(\n",
    "    name=['UCSD', 'University of Chicago', 'University of San Diego','Johns Hopkins University', 'UT Austin', 'SDSU', 'UCLA'], \n",
    "    city=['La Jolla', 'Chicago', 'San Diego', 'Baltimore', 'Austin', 'San Diego', 'Los Angeles'],\n",
    "    state=['California', 'Illinois', 'California', 'Maryland', 'Texas', 'California', 'California'],\n",
    "    graduation_rate=[0.87, 0.94, 0.78, 0.92, 0.81, 0.83, 0.91 ]\n",
    ")\n",
    "\n",
    "schools"
   ]
  },
  {
   "cell_type": "markdown",
   "metadata": {
    "slideshow": {
     "slide_type": "slide"
    }
   },
   "source": [
    "### Exercício ✅\n",
    "\n",
    "Apenas olhando as células acima e **sem escrever nenhuma linha de código**, quantas linhas terá o DataFrame `nice_weather_cities.merge(schools, on = 'city')`?\n",
    "\n",
    "A. 4\n",
    "\n",
    "B. 5\n",
    "\n",
    "C. 6\n",
    "\n",
    "D. 7\n",
    "\n",
    "E. 8"
   ]
  },
  {
   "cell_type": "markdown",
   "metadata": {
    "slideshow": {
     "slide_type": "slide"
    }
   },
   "source": [
    "## Resumo\n",
    "\n",
    "- Para combinar informações de vários `DataFrame`s, podemos utilizar o método `.merge`.\n",
    "- Ao usar `.merge`, o Python procura uma correspondência entre uma coluna especificada em cada DataFrame, e combina as linhas onde há correspondência.\n",
    "- Nos casos em que não houver correspondência, a linha desaparece!"
   ]
  }
 ],
 "metadata": {
  "kernelspec": {
   "display_name": "Python 3 (ipykernel)",
   "language": "python",
   "name": "python3"
  },
  "language_info": {
   "codemirror_mode": {
    "name": "ipython",
    "version": 3
   },
   "file_extension": ".py",
   "mimetype": "text/x-python",
   "name": "python",
   "nbconvert_exporter": "python",
   "pygments_lexer": "ipython3",
   "version": "3.11.7"
  },
  "livereveal": {
   "scroll": true,
   "transition": "none"
  },
  "rise": {
   "enable_chalkboard": true
  }
 },
 "nbformat": 4,
 "nbformat_minor": 4
}
