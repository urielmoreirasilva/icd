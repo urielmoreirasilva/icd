{
 "cells": [
  {
   "cell_type": "markdown",
   "metadata": {},
   "source": [
    "---\n",
    "layout: page\n",
    "title: Merge\n",
    "nav_order: 11\n",
    "---\n",
    "[<img src=\"https://raw.githubusercontent.com/flaviovdf/fcd/master/assets/colab_favicon_small.png\" style=\"float: right;\">](https://colab.research.google.com/github/flaviovdf/fcd/blob/master/_lessons/11-Mesclando.ipynb)\n",
    "\n",
    "# Tópico 11 – Merge ou Mesclando\n",
    "{: .no_toc .mb-2 }\n",
    "\n",
    "Vamos aprender como juntar duas tabelas diferentes de dados.\n",
    "{: .fs-6 .fw-300 }\n",
    "\n",
    "{: .no_toc .text-delta }\n",
    "Resultados Esperados\n",
    "\n",
    "1. Uso do merge!\n",
    "\n",
    "{: .no_toc .text-delta }\n",
    "Material Adaptado do [DSC10 (UCSD)](https://dsc10.com/)\n",
    "\n",
    "![](https://static.wikia.nocookie.net/dragonball/images/6/60/FusionDanceFinaleGotenTrunksBuuSaga.png)"
   ]
  },
  {
   "cell_type": "code",
   "execution_count": 1,
   "metadata": {
    "execution": {
     "iopub.execute_input": "2024-04-23T16:35:36.464175Z",
     "iopub.status.busy": "2024-04-23T16:35:36.463861Z",
     "iopub.status.idle": "2024-04-23T16:35:36.842334Z",
     "shell.execute_reply": "2024-04-23T16:35:36.841678Z"
    },
    "slideshow": {
     "slide_type": "skip"
    }
   },
   "outputs": [],
   "source": [
    "import numpy as np\n",
    "import babypandas as bpd\n",
    "import pandas as pd"
   ]
  },
  {
   "cell_type": "markdown",
   "metadata": {
    "slideshow": {
     "slide_type": "slide"
    }
   },
   "source": [
    "## Mesclando Dados"
   ]
  },
  {
   "cell_type": "code",
   "execution_count": 2,
   "metadata": {
    "execution": {
     "iopub.execute_input": "2024-04-23T16:35:36.845966Z",
     "iopub.status.busy": "2024-04-23T16:35:36.845575Z",
     "iopub.status.idle": "2024-04-23T16:35:36.857065Z",
     "shell.execute_reply": "2024-04-23T16:35:36.856397Z"
    },
    "slideshow": {
     "slide_type": "slide"
    }
   },
   "outputs": [],
   "source": [
    "telefones = bpd.DataFrame().assign(\n",
    "    Modelo=['iPhone 13', 'iPhone 13 Pro Max', 'Samsung Galaxy Z Flip', 'Pixel 5a'],\n",
    "    Preco=[799, 1099, 999, 449],\n",
    "    Tela=[6.1, 6.7, 6.7, 6.3]\n",
    ")\n",
    "\n",
    "unidades = bpd.DataFrame().assign(\n",
    "    Celular=['iPhone 13 Pro Max', 'iPhone 13', 'Pixel 5a', 'iPhone 13'],\n",
    "    Unidades=[50, 40, 10, 100],\n",
    "    Shopping=['Del Rey', 'Savassi', 'Diamond', 'Cidade']\n",
    ")"
   ]
  },
  {
   "cell_type": "code",
   "execution_count": 3,
   "metadata": {
    "execution": {
     "iopub.execute_input": "2024-04-23T16:35:36.860033Z",
     "iopub.status.busy": "2024-04-23T16:35:36.859543Z",
     "iopub.status.idle": "2024-04-23T16:35:36.928884Z",
     "shell.execute_reply": "2024-04-23T16:35:36.928126Z"
    },
    "slideshow": {
     "slide_type": "slide"
    }
   },
   "outputs": [
    {
     "data": {
      "text/html": [
       "<div>\n",
       "<style scoped>\n",
       "    .dataframe tbody tr th:only-of-type {\n",
       "        vertical-align: middle;\n",
       "    }\n",
       "\n",
       "    .dataframe tbody tr th {\n",
       "        vertical-align: top;\n",
       "    }\n",
       "\n",
       "    .dataframe thead th {\n",
       "        text-align: right;\n",
       "    }\n",
       "</style>\n",
       "<table border=\"1\" class=\"dataframe\">\n",
       "  <thead>\n",
       "    <tr style=\"text-align: right;\">\n",
       "      <th></th>\n",
       "      <th>Modelo</th>\n",
       "      <th>Preco</th>\n",
       "      <th>Tela</th>\n",
       "    </tr>\n",
       "  </thead>\n",
       "  <tbody>\n",
       "    <tr>\n",
       "      <th>0</th>\n",
       "      <td>iPhone 13</td>\n",
       "      <td>799</td>\n",
       "      <td>6.1</td>\n",
       "    </tr>\n",
       "    <tr>\n",
       "      <th>1</th>\n",
       "      <td>iPhone 13 Pro Max</td>\n",
       "      <td>1099</td>\n",
       "      <td>6.7</td>\n",
       "    </tr>\n",
       "    <tr>\n",
       "      <th>2</th>\n",
       "      <td>Samsung Galaxy Z Flip</td>\n",
       "      <td>999</td>\n",
       "      <td>6.7</td>\n",
       "    </tr>\n",
       "    <tr>\n",
       "      <th>3</th>\n",
       "      <td>Pixel 5a</td>\n",
       "      <td>449</td>\n",
       "      <td>6.3</td>\n",
       "    </tr>\n",
       "  </tbody>\n",
       "</table>\n",
       "</div>"
      ],
      "text/plain": [
       "                  Modelo  Preco  Tela\n",
       "0              iPhone 13    799   6.1\n",
       "1      iPhone 13 Pro Max   1099   6.7\n",
       "2  Samsung Galaxy Z Flip    999   6.7\n",
       "3               Pixel 5a    449   6.3"
      ]
     },
     "execution_count": 3,
     "metadata": {},
     "output_type": "execute_result"
    }
   ],
   "source": [
    "# Preços\n",
    "telefones"
   ]
  },
  {
   "cell_type": "code",
   "execution_count": 4,
   "metadata": {
    "execution": {
     "iopub.execute_input": "2024-04-23T16:35:36.982417Z",
     "iopub.status.busy": "2024-04-23T16:35:36.982072Z",
     "iopub.status.idle": "2024-04-23T16:35:36.994220Z",
     "shell.execute_reply": "2024-04-23T16:35:36.993363Z"
    }
   },
   "outputs": [
    {
     "data": {
      "text/html": [
       "<div>\n",
       "<style scoped>\n",
       "    .dataframe tbody tr th:only-of-type {\n",
       "        vertical-align: middle;\n",
       "    }\n",
       "\n",
       "    .dataframe tbody tr th {\n",
       "        vertical-align: top;\n",
       "    }\n",
       "\n",
       "    .dataframe thead th {\n",
       "        text-align: right;\n",
       "    }\n",
       "</style>\n",
       "<table border=\"1\" class=\"dataframe\">\n",
       "  <thead>\n",
       "    <tr style=\"text-align: right;\">\n",
       "      <th></th>\n",
       "      <th>Celular</th>\n",
       "      <th>Unidades</th>\n",
       "      <th>Shopping</th>\n",
       "    </tr>\n",
       "  </thead>\n",
       "  <tbody>\n",
       "    <tr>\n",
       "      <th>0</th>\n",
       "      <td>iPhone 13 Pro Max</td>\n",
       "      <td>50</td>\n",
       "      <td>Del Rey</td>\n",
       "    </tr>\n",
       "    <tr>\n",
       "      <th>1</th>\n",
       "      <td>iPhone 13</td>\n",
       "      <td>40</td>\n",
       "      <td>Savassi</td>\n",
       "    </tr>\n",
       "    <tr>\n",
       "      <th>2</th>\n",
       "      <td>Pixel 5a</td>\n",
       "      <td>10</td>\n",
       "      <td>Diamond</td>\n",
       "    </tr>\n",
       "    <tr>\n",
       "      <th>3</th>\n",
       "      <td>iPhone 13</td>\n",
       "      <td>100</td>\n",
       "      <td>Cidade</td>\n",
       "    </tr>\n",
       "  </tbody>\n",
       "</table>\n",
       "</div>"
      ],
      "text/plain": [
       "             Celular  Unidades Shopping\n",
       "0  iPhone 13 Pro Max        50  Del Rey\n",
       "1          iPhone 13        40  Savassi\n",
       "2           Pixel 5a        10  Diamond\n",
       "3          iPhone 13       100   Cidade"
      ]
     },
     "execution_count": 4,
     "metadata": {},
     "output_type": "execute_result"
    }
   ],
   "source": [
    "# Unidades por shopping\n",
    "unidades"
   ]
  },
  {
   "cell_type": "markdown",
   "metadata": {
    "slideshow": {
     "slide_type": "fragment"
    }
   },
   "source": [
    "**Pergunta:** Se eu vender todos os telefones do meu estoque, quanto terei em receita?"
   ]
  },
  {
   "cell_type": "markdown",
   "metadata": {
    "slideshow": {
     "slide_type": "slide"
    }
   },
   "source": [
    "### Se eu vender todos os telefones do meu estoque, quanto terei de receita?"
   ]
  },
  {
   "cell_type": "code",
   "execution_count": 5,
   "metadata": {
    "execution": {
     "iopub.execute_input": "2024-04-23T16:35:36.998985Z",
     "iopub.status.busy": "2024-04-23T16:35:36.998107Z",
     "iopub.status.idle": "2024-04-23T16:35:37.017749Z",
     "shell.execute_reply": "2024-04-23T16:35:37.016969Z"
    }
   },
   "outputs": [
    {
     "data": {
      "text/html": [
       "<div>\n",
       "<style scoped>\n",
       "    .dataframe tbody tr th:only-of-type {\n",
       "        vertical-align: middle;\n",
       "    }\n",
       "\n",
       "    .dataframe tbody tr th {\n",
       "        vertical-align: top;\n",
       "    }\n",
       "\n",
       "    .dataframe thead th {\n",
       "        text-align: right;\n",
       "    }\n",
       "</style>\n",
       "<table border=\"1\" class=\"dataframe\">\n",
       "  <thead>\n",
       "    <tr style=\"text-align: right;\">\n",
       "      <th></th>\n",
       "      <th>Modelo</th>\n",
       "      <th>Preco</th>\n",
       "      <th>Tela</th>\n",
       "      <th>Celular</th>\n",
       "      <th>Unidades</th>\n",
       "      <th>Shopping</th>\n",
       "    </tr>\n",
       "  </thead>\n",
       "  <tbody>\n",
       "    <tr>\n",
       "      <th>0</th>\n",
       "      <td>iPhone 13</td>\n",
       "      <td>799</td>\n",
       "      <td>6.1</td>\n",
       "      <td>iPhone 13</td>\n",
       "      <td>40</td>\n",
       "      <td>Savassi</td>\n",
       "    </tr>\n",
       "    <tr>\n",
       "      <th>1</th>\n",
       "      <td>iPhone 13</td>\n",
       "      <td>799</td>\n",
       "      <td>6.1</td>\n",
       "      <td>iPhone 13</td>\n",
       "      <td>100</td>\n",
       "      <td>Cidade</td>\n",
       "    </tr>\n",
       "    <tr>\n",
       "      <th>2</th>\n",
       "      <td>iPhone 13 Pro Max</td>\n",
       "      <td>1099</td>\n",
       "      <td>6.7</td>\n",
       "      <td>iPhone 13 Pro Max</td>\n",
       "      <td>50</td>\n",
       "      <td>Del Rey</td>\n",
       "    </tr>\n",
       "    <tr>\n",
       "      <th>3</th>\n",
       "      <td>Pixel 5a</td>\n",
       "      <td>449</td>\n",
       "      <td>6.3</td>\n",
       "      <td>Pixel 5a</td>\n",
       "      <td>10</td>\n",
       "      <td>Diamond</td>\n",
       "    </tr>\n",
       "  </tbody>\n",
       "</table>\n",
       "</div>"
      ],
      "text/plain": [
       "              Modelo  Preco  Tela            Celular  Unidades Shopping\n",
       "0          iPhone 13    799   6.1          iPhone 13        40  Savassi\n",
       "1          iPhone 13    799   6.1          iPhone 13       100   Cidade\n",
       "2  iPhone 13 Pro Max   1099   6.7  iPhone 13 Pro Max        50  Del Rey\n",
       "3           Pixel 5a    449   6.3           Pixel 5a        10  Diamond"
      ]
     },
     "execution_count": 5,
     "metadata": {},
     "output_type": "execute_result"
    }
   ],
   "source": [
    "telefones.merge(unidades, left_on='Modelo', right_on='Celular')"
   ]
  },
  {
   "cell_type": "markdown",
   "metadata": {
    "slideshow": {
     "slide_type": "slide"
    }
   },
   "source": [
    "### O que acabou de acontecer!? 🤯"
   ]
  },
  {
   "cell_type": "code",
   "execution_count": 6,
   "metadata": {
    "execution": {
     "iopub.execute_input": "2024-04-23T16:35:37.021964Z",
     "iopub.status.busy": "2024-04-23T16:35:37.021620Z",
     "iopub.status.idle": "2024-04-23T16:35:37.030974Z",
     "shell.execute_reply": "2024-04-23T16:35:37.030110Z"
    }
   },
   "outputs": [
    {
     "data": {
      "text/html": [
       "\n",
       "        <iframe\n",
       "            width=\"825\"\n",
       "            height=\"500\"\n",
       "            src=\"https://docs.google.com/presentation/d/e/2PACX-1vSk2FfJ4K_An_CQwcN_Yu5unpJckOZjVQDFqZ78ZTTMmowUsCQKKVnum0_m6TaiGquQ44E3FiS9g2Y4/embed?start=false&loop=false&delayms=60000\"\n",
       "            frameborder=\"0\"\n",
       "            allowfullscreen\n",
       "            \n",
       "        ></iframe>\n",
       "        "
      ],
      "text/plain": [
       "<IPython.lib.display.IFrame at 0x7fa5c9378d10>"
      ]
     },
     "metadata": {},
     "output_type": "display_data"
    }
   ],
   "source": [
    "from IPython.display import display, IFrame\n",
    "\n",
    "def merging_animation():\n",
    "    src=\"https://docs.google.com/presentation/d/e/2PACX-1vSk2FfJ4K_An_CQwcN_Yu5unpJckOZjVQDFqZ78ZTTMmowUsCQKKVnum0_m6TaiGquQ44E3FiS9g2Y4/embed?start=false&loop=false&delayms=60000\"\n",
    "    width=825\n",
    "    height=500\n",
    "    display(IFrame(src, width, height))\n",
    "merging_animation()"
   ]
  },
  {
   "cell_type": "markdown",
   "metadata": {
    "slideshow": {
     "slide_type": "slide"
    }
   },
   "source": [
    "### `.merge`\n",
    "\n",
    "- Escolha um DataFrame \"esquerdo\" e \"direito\".\n",
    "- Escolha uma coluna de cada uma para \"mesclar\".\n",
    "```python\n",
    "left_df.merge(\n",
    "    right_df, \n",
    "    left_on=left_column_name,\n",
    "    right_on=right_column_name\n",
    ")\n",
    "```\n",
    "- `left_on` e `right_on` devem ser nomes de colunas (não precisam ser iguais).\n",
    "- O DataFrame resultante contém uma única linha para cada correspondência entre as duas colunas.\n",
    "- As linhas em qualquer DataFrame sem correspondência desaparecem!"
   ]
  },
  {
   "cell_type": "markdown",
   "metadata": {
    "slideshow": {
     "slide_type": "slide"
    }
   },
   "source": [
    "### Se eu vender todos os telefones do meu estoque, quanto terei de receita?\n",
    "\n",
    "- Mostrar no pandas tutor!"
   ]
  },
  {
   "cell_type": "code",
   "execution_count": 7,
   "metadata": {
    "execution": {
     "iopub.execute_input": "2024-04-23T16:35:37.034801Z",
     "iopub.status.busy": "2024-04-23T16:35:37.034541Z",
     "iopub.status.idle": "2024-04-23T16:35:37.042110Z",
     "shell.execute_reply": "2024-04-23T16:35:37.039307Z"
    }
   },
   "outputs": [],
   "source": [
    "merge = telefones.merge(\n",
    "    unidades,\n",
    "    left_on='Modelo',\n",
    "    right_on='Celular'\n",
    ")"
   ]
  },
  {
   "cell_type": "code",
   "execution_count": 8,
   "metadata": {
    "execution": {
     "iopub.execute_input": "2024-04-23T16:35:37.046785Z",
     "iopub.status.busy": "2024-04-23T16:35:37.045741Z",
     "iopub.status.idle": "2024-04-23T16:35:37.052121Z",
     "shell.execute_reply": "2024-04-23T16:35:37.051502Z"
    }
   },
   "outputs": [
    {
     "data": {
      "text/plain": [
       "171300"
      ]
     },
     "execution_count": 8,
     "metadata": {},
     "output_type": "execute_result"
    }
   ],
   "source": [
    "(merge.get('Preco') * merge.get('Unidades')).sum()"
   ]
  },
  {
   "cell_type": "markdown",
   "metadata": {
    "slideshow": {
     "slide_type": "slide"
    }
   },
   "source": [
    "### A ordem importa? 🤔"
   ]
  },
  {
   "cell_type": "code",
   "execution_count": 9,
   "metadata": {
    "execution": {
     "iopub.execute_input": "2024-04-23T16:35:37.055618Z",
     "iopub.status.busy": "2024-04-23T16:35:37.054971Z",
     "iopub.status.idle": "2024-04-23T16:35:37.064872Z",
     "shell.execute_reply": "2024-04-23T16:35:37.064168Z"
    }
   },
   "outputs": [
    {
     "data": {
      "text/html": [
       "<div>\n",
       "<style scoped>\n",
       "    .dataframe tbody tr th:only-of-type {\n",
       "        vertical-align: middle;\n",
       "    }\n",
       "\n",
       "    .dataframe tbody tr th {\n",
       "        vertical-align: top;\n",
       "    }\n",
       "\n",
       "    .dataframe thead th {\n",
       "        text-align: right;\n",
       "    }\n",
       "</style>\n",
       "<table border=\"1\" class=\"dataframe\">\n",
       "  <thead>\n",
       "    <tr style=\"text-align: right;\">\n",
       "      <th></th>\n",
       "      <th>Celular</th>\n",
       "      <th>Unidades</th>\n",
       "      <th>Shopping</th>\n",
       "      <th>Modelo</th>\n",
       "      <th>Preco</th>\n",
       "      <th>Tela</th>\n",
       "    </tr>\n",
       "  </thead>\n",
       "  <tbody>\n",
       "    <tr>\n",
       "      <th>0</th>\n",
       "      <td>iPhone 13 Pro Max</td>\n",
       "      <td>50</td>\n",
       "      <td>Del Rey</td>\n",
       "      <td>iPhone 13 Pro Max</td>\n",
       "      <td>1099</td>\n",
       "      <td>6.7</td>\n",
       "    </tr>\n",
       "    <tr>\n",
       "      <th>1</th>\n",
       "      <td>iPhone 13</td>\n",
       "      <td>40</td>\n",
       "      <td>Savassi</td>\n",
       "      <td>iPhone 13</td>\n",
       "      <td>799</td>\n",
       "      <td>6.1</td>\n",
       "    </tr>\n",
       "    <tr>\n",
       "      <th>2</th>\n",
       "      <td>iPhone 13</td>\n",
       "      <td>100</td>\n",
       "      <td>Cidade</td>\n",
       "      <td>iPhone 13</td>\n",
       "      <td>799</td>\n",
       "      <td>6.1</td>\n",
       "    </tr>\n",
       "    <tr>\n",
       "      <th>3</th>\n",
       "      <td>Pixel 5a</td>\n",
       "      <td>10</td>\n",
       "      <td>Diamond</td>\n",
       "      <td>Pixel 5a</td>\n",
       "      <td>449</td>\n",
       "      <td>6.3</td>\n",
       "    </tr>\n",
       "  </tbody>\n",
       "</table>\n",
       "</div>"
      ],
      "text/plain": [
       "             Celular  Unidades Shopping             Modelo  Preco  Tela\n",
       "0  iPhone 13 Pro Max        50  Del Rey  iPhone 13 Pro Max   1099   6.7\n",
       "1          iPhone 13        40  Savassi          iPhone 13    799   6.1\n",
       "2          iPhone 13       100   Cidade          iPhone 13    799   6.1\n",
       "3           Pixel 5a        10  Diamond           Pixel 5a    449   6.3"
      ]
     },
     "execution_count": 9,
     "metadata": {},
     "output_type": "execute_result"
    }
   ],
   "source": [
    "unidades.merge(telefones, left_on='Celular', right_on='Modelo')"
   ]
  },
  {
   "cell_type": "markdown",
   "metadata": {
    "slideshow": {
     "slide_type": "fragment"
    }
   },
   "source": [
    "**Resposta:** A ordem das linhas e colunas será diferente, mas o conteúdo será o mesmo."
   ]
  },
  {
   "cell_type": "markdown",
   "metadata": {
    "slideshow": {
     "slide_type": "slide"
    }
   },
   "source": [
    "### E se quisermos \"mesclar\" um índice?\n",
    "\n",
    "Em vez de usar `left_on` ou `right_on`, use `left_index=True` ou `right_index=True`."
   ]
  },
  {
   "cell_type": "code",
   "execution_count": 10,
   "metadata": {
    "execution": {
     "iopub.execute_input": "2024-04-23T16:35:37.067939Z",
     "iopub.status.busy": "2024-04-23T16:35:37.067667Z",
     "iopub.status.idle": "2024-04-23T16:35:37.078203Z",
     "shell.execute_reply": "2024-04-23T16:35:37.077099Z"
    }
   },
   "outputs": [
    {
     "data": {
      "text/html": [
       "<div>\n",
       "<style scoped>\n",
       "    .dataframe tbody tr th:only-of-type {\n",
       "        vertical-align: middle;\n",
       "    }\n",
       "\n",
       "    .dataframe tbody tr th {\n",
       "        vertical-align: top;\n",
       "    }\n",
       "\n",
       "    .dataframe thead th {\n",
       "        text-align: right;\n",
       "    }\n",
       "</style>\n",
       "<table border=\"1\" class=\"dataframe\">\n",
       "  <thead>\n",
       "    <tr style=\"text-align: right;\">\n",
       "      <th></th>\n",
       "      <th>Modelo</th>\n",
       "      <th>Preco</th>\n",
       "      <th>Tela</th>\n",
       "    </tr>\n",
       "  </thead>\n",
       "  <tbody>\n",
       "    <tr>\n",
       "      <th>0</th>\n",
       "      <td>iPhone 13</td>\n",
       "      <td>799</td>\n",
       "      <td>6.1</td>\n",
       "    </tr>\n",
       "    <tr>\n",
       "      <th>1</th>\n",
       "      <td>iPhone 13 Pro Max</td>\n",
       "      <td>1099</td>\n",
       "      <td>6.7</td>\n",
       "    </tr>\n",
       "    <tr>\n",
       "      <th>2</th>\n",
       "      <td>Samsung Galaxy Z Flip</td>\n",
       "      <td>999</td>\n",
       "      <td>6.7</td>\n",
       "    </tr>\n",
       "    <tr>\n",
       "      <th>3</th>\n",
       "      <td>Pixel 5a</td>\n",
       "      <td>449</td>\n",
       "      <td>6.3</td>\n",
       "    </tr>\n",
       "  </tbody>\n",
       "</table>\n",
       "</div>"
      ],
      "text/plain": [
       "                  Modelo  Preco  Tela\n",
       "0              iPhone 13    799   6.1\n",
       "1      iPhone 13 Pro Max   1099   6.7\n",
       "2  Samsung Galaxy Z Flip    999   6.7\n",
       "3               Pixel 5a    449   6.3"
      ]
     },
     "execution_count": 10,
     "metadata": {},
     "output_type": "execute_result"
    }
   ],
   "source": [
    "telefones"
   ]
  },
  {
   "cell_type": "code",
   "execution_count": 11,
   "metadata": {
    "execution": {
     "iopub.execute_input": "2024-04-23T16:35:37.081521Z",
     "iopub.status.busy": "2024-04-23T16:35:37.080978Z",
     "iopub.status.idle": "2024-04-23T16:35:37.088449Z",
     "shell.execute_reply": "2024-04-23T16:35:37.087765Z"
    }
   },
   "outputs": [
    {
     "data": {
      "text/html": [
       "<div>\n",
       "<style scoped>\n",
       "    .dataframe tbody tr th:only-of-type {\n",
       "        vertical-align: middle;\n",
       "    }\n",
       "\n",
       "    .dataframe tbody tr th {\n",
       "        vertical-align: top;\n",
       "    }\n",
       "\n",
       "    .dataframe thead th {\n",
       "        text-align: right;\n",
       "    }\n",
       "</style>\n",
       "<table border=\"1\" class=\"dataframe\">\n",
       "  <thead>\n",
       "    <tr style=\"text-align: right;\">\n",
       "      <th></th>\n",
       "      <th>Unidades</th>\n",
       "      <th>Shopping</th>\n",
       "    </tr>\n",
       "    <tr>\n",
       "      <th>Celular</th>\n",
       "      <th></th>\n",
       "      <th></th>\n",
       "    </tr>\n",
       "  </thead>\n",
       "  <tbody>\n",
       "    <tr>\n",
       "      <th>iPhone 13 Pro Max</th>\n",
       "      <td>50</td>\n",
       "      <td>Del Rey</td>\n",
       "    </tr>\n",
       "    <tr>\n",
       "      <th>iPhone 13</th>\n",
       "      <td>40</td>\n",
       "      <td>Savassi</td>\n",
       "    </tr>\n",
       "    <tr>\n",
       "      <th>Pixel 5a</th>\n",
       "      <td>10</td>\n",
       "      <td>Diamond</td>\n",
       "    </tr>\n",
       "    <tr>\n",
       "      <th>iPhone 13</th>\n",
       "      <td>100</td>\n",
       "      <td>Cidade</td>\n",
       "    </tr>\n",
       "  </tbody>\n",
       "</table>\n",
       "</div>"
      ],
      "text/plain": [
       "                   Unidades Shopping\n",
       "Celular                             \n",
       "iPhone 13 Pro Max        50  Del Rey\n",
       "iPhone 13                40  Savassi\n",
       "Pixel 5a                 10  Diamond\n",
       "iPhone 13               100   Cidade"
      ]
     },
     "execution_count": 11,
     "metadata": {},
     "output_type": "execute_result"
    }
   ],
   "source": [
    "unidades_com_index = unidades.set_index('Celular')\n",
    "unidades_com_index"
   ]
  },
  {
   "cell_type": "code",
   "execution_count": 12,
   "metadata": {
    "execution": {
     "iopub.execute_input": "2024-04-23T16:35:37.091609Z",
     "iopub.status.busy": "2024-04-23T16:35:37.091299Z",
     "iopub.status.idle": "2024-04-23T16:35:37.104119Z",
     "shell.execute_reply": "2024-04-23T16:35:37.103243Z"
    }
   },
   "outputs": [
    {
     "data": {
      "text/html": [
       "<div>\n",
       "<style scoped>\n",
       "    .dataframe tbody tr th:only-of-type {\n",
       "        vertical-align: middle;\n",
       "    }\n",
       "\n",
       "    .dataframe tbody tr th {\n",
       "        vertical-align: top;\n",
       "    }\n",
       "\n",
       "    .dataframe thead th {\n",
       "        text-align: right;\n",
       "    }\n",
       "</style>\n",
       "<table border=\"1\" class=\"dataframe\">\n",
       "  <thead>\n",
       "    <tr style=\"text-align: right;\">\n",
       "      <th></th>\n",
       "      <th>Modelo</th>\n",
       "      <th>Preco</th>\n",
       "      <th>Tela</th>\n",
       "      <th>Unidades</th>\n",
       "      <th>Shopping</th>\n",
       "    </tr>\n",
       "  </thead>\n",
       "  <tbody>\n",
       "    <tr>\n",
       "      <th>0</th>\n",
       "      <td>iPhone 13</td>\n",
       "      <td>799</td>\n",
       "      <td>6.1</td>\n",
       "      <td>40</td>\n",
       "      <td>Savassi</td>\n",
       "    </tr>\n",
       "    <tr>\n",
       "      <th>0</th>\n",
       "      <td>iPhone 13</td>\n",
       "      <td>799</td>\n",
       "      <td>6.1</td>\n",
       "      <td>100</td>\n",
       "      <td>Cidade</td>\n",
       "    </tr>\n",
       "    <tr>\n",
       "      <th>1</th>\n",
       "      <td>iPhone 13 Pro Max</td>\n",
       "      <td>1099</td>\n",
       "      <td>6.7</td>\n",
       "      <td>50</td>\n",
       "      <td>Del Rey</td>\n",
       "    </tr>\n",
       "    <tr>\n",
       "      <th>3</th>\n",
       "      <td>Pixel 5a</td>\n",
       "      <td>449</td>\n",
       "      <td>6.3</td>\n",
       "      <td>10</td>\n",
       "      <td>Diamond</td>\n",
       "    </tr>\n",
       "  </tbody>\n",
       "</table>\n",
       "</div>"
      ],
      "text/plain": [
       "              Modelo  Preco  Tela  Unidades Shopping\n",
       "0          iPhone 13    799   6.1        40  Savassi\n",
       "0          iPhone 13    799   6.1       100   Cidade\n",
       "1  iPhone 13 Pro Max   1099   6.7        50  Del Rey\n",
       "3           Pixel 5a    449   6.3        10  Diamond"
      ]
     },
     "execution_count": 12,
     "metadata": {},
     "output_type": "execute_result"
    }
   ],
   "source": [
    "telefones.merge(\n",
    "    unidades_com_index,\n",
    "    left_on='Modelo',\n",
    "    right_index=True\n",
    ")"
   ]
  },
  {
   "cell_type": "markdown",
   "metadata": {
    "slideshow": {
     "slide_type": "slide"
    }
   },
   "source": [
    "### Configuração de atividade"
   ]
  },
  {
   "cell_type": "code",
   "execution_count": 13,
   "metadata": {
    "execution": {
     "iopub.execute_input": "2024-04-23T16:35:37.108000Z",
     "iopub.status.busy": "2024-04-23T16:35:37.107658Z",
     "iopub.status.idle": "2024-04-23T16:35:37.116115Z",
     "shell.execute_reply": "2024-04-23T16:35:37.115422Z"
    }
   },
   "outputs": [],
   "source": [
    "nice_weather_cities = bpd.DataFrame().assign(\n",
    "    city=['La Jolla', 'San Diego', 'Austin', 'Los Angeles'],\n",
    "    state=['California', 'California', 'Texas', 'California'],\n",
    "    today_high_temp=['79', '83', '87', '87']\n",
    "    \n",
    ")\n",
    "\n",
    "schools = bpd.DataFrame().assign(\n",
    "    name=['UCSD', 'University of Chicago', 'University of San Diego','Johns Hopkins University', 'UT Austin', 'SDSU', 'UCLA'], \n",
    "    city=['La Jolla', 'Chicago', 'San Diego', 'Baltimore', 'Austin', 'San Diego', 'Los Angeles'],\n",
    "    state=['California', 'Illinois', 'California', 'Maryland', 'Texas', 'California', 'California'],\n",
    "    graduation_rate=[0.87, 0.94, 0.78, 0.92, 0.81, 0.83, 0.91 ]\n",
    ")"
   ]
  },
  {
   "cell_type": "markdown",
   "metadata": {
    "slideshow": {
     "slide_type": "slide"
    }
   },
   "source": [
    "### Verificação de conceito ✅\n",
    "\n",
    "**Sem escrever código**, quantas linhas existem em `nice_weather_cities.merge(schools, on='city')`?\n",
    "\n",
    "- A. 4\n",
    "- B. 5\n",
    "- C. 6\n",
    "- D. 7\n",
    "- E. 8"
   ]
  },
  {
   "cell_type": "code",
   "execution_count": 14,
   "metadata": {
    "execution": {
     "iopub.execute_input": "2024-04-23T16:35:37.119051Z",
     "iopub.status.busy": "2024-04-23T16:35:37.118774Z",
     "iopub.status.idle": "2024-04-23T16:35:37.125577Z",
     "shell.execute_reply": "2024-04-23T16:35:37.124846Z"
    }
   },
   "outputs": [
    {
     "data": {
      "text/html": [
       "<div>\n",
       "<style scoped>\n",
       "    .dataframe tbody tr th:only-of-type {\n",
       "        vertical-align: middle;\n",
       "    }\n",
       "\n",
       "    .dataframe tbody tr th {\n",
       "        vertical-align: top;\n",
       "    }\n",
       "\n",
       "    .dataframe thead th {\n",
       "        text-align: right;\n",
       "    }\n",
       "</style>\n",
       "<table border=\"1\" class=\"dataframe\">\n",
       "  <thead>\n",
       "    <tr style=\"text-align: right;\">\n",
       "      <th></th>\n",
       "      <th>city</th>\n",
       "      <th>state</th>\n",
       "      <th>today_high_temp</th>\n",
       "    </tr>\n",
       "  </thead>\n",
       "  <tbody>\n",
       "    <tr>\n",
       "      <th>0</th>\n",
       "      <td>La Jolla</td>\n",
       "      <td>California</td>\n",
       "      <td>79</td>\n",
       "    </tr>\n",
       "    <tr>\n",
       "      <th>1</th>\n",
       "      <td>San Diego</td>\n",
       "      <td>California</td>\n",
       "      <td>83</td>\n",
       "    </tr>\n",
       "    <tr>\n",
       "      <th>2</th>\n",
       "      <td>Austin</td>\n",
       "      <td>Texas</td>\n",
       "      <td>87</td>\n",
       "    </tr>\n",
       "    <tr>\n",
       "      <th>3</th>\n",
       "      <td>Los Angeles</td>\n",
       "      <td>California</td>\n",
       "      <td>87</td>\n",
       "    </tr>\n",
       "  </tbody>\n",
       "</table>\n",
       "</div>"
      ],
      "text/plain": [
       "          city       state today_high_temp\n",
       "0     La Jolla  California              79\n",
       "1    San Diego  California              83\n",
       "2       Austin       Texas              87\n",
       "3  Los Angeles  California              87"
      ]
     },
     "execution_count": 14,
     "metadata": {},
     "output_type": "execute_result"
    }
   ],
   "source": [
    "nice_weather_cities"
   ]
  },
  {
   "cell_type": "code",
   "execution_count": 15,
   "metadata": {
    "execution": {
     "iopub.execute_input": "2024-04-23T16:35:37.128644Z",
     "iopub.status.busy": "2024-04-23T16:35:37.128343Z",
     "iopub.status.idle": "2024-04-23T16:35:37.140531Z",
     "shell.execute_reply": "2024-04-23T16:35:37.139659Z"
    }
   },
   "outputs": [
    {
     "data": {
      "text/html": [
       "<div>\n",
       "<style scoped>\n",
       "    .dataframe tbody tr th:only-of-type {\n",
       "        vertical-align: middle;\n",
       "    }\n",
       "\n",
       "    .dataframe tbody tr th {\n",
       "        vertical-align: top;\n",
       "    }\n",
       "\n",
       "    .dataframe thead th {\n",
       "        text-align: right;\n",
       "    }\n",
       "</style>\n",
       "<table border=\"1\" class=\"dataframe\">\n",
       "  <thead>\n",
       "    <tr style=\"text-align: right;\">\n",
       "      <th></th>\n",
       "      <th>name</th>\n",
       "      <th>city</th>\n",
       "      <th>state</th>\n",
       "      <th>graduation_rate</th>\n",
       "    </tr>\n",
       "  </thead>\n",
       "  <tbody>\n",
       "    <tr>\n",
       "      <th>0</th>\n",
       "      <td>UCSD</td>\n",
       "      <td>La Jolla</td>\n",
       "      <td>California</td>\n",
       "      <td>0.87</td>\n",
       "    </tr>\n",
       "    <tr>\n",
       "      <th>1</th>\n",
       "      <td>University of Chicago</td>\n",
       "      <td>Chicago</td>\n",
       "      <td>Illinois</td>\n",
       "      <td>0.94</td>\n",
       "    </tr>\n",
       "    <tr>\n",
       "      <th>2</th>\n",
       "      <td>University of San Diego</td>\n",
       "      <td>San Diego</td>\n",
       "      <td>California</td>\n",
       "      <td>0.78</td>\n",
       "    </tr>\n",
       "    <tr>\n",
       "      <th>3</th>\n",
       "      <td>Johns Hopkins University</td>\n",
       "      <td>Baltimore</td>\n",
       "      <td>Maryland</td>\n",
       "      <td>0.92</td>\n",
       "    </tr>\n",
       "    <tr>\n",
       "      <th>4</th>\n",
       "      <td>UT Austin</td>\n",
       "      <td>Austin</td>\n",
       "      <td>Texas</td>\n",
       "      <td>0.81</td>\n",
       "    </tr>\n",
       "    <tr>\n",
       "      <th>5</th>\n",
       "      <td>SDSU</td>\n",
       "      <td>San Diego</td>\n",
       "      <td>California</td>\n",
       "      <td>0.83</td>\n",
       "    </tr>\n",
       "    <tr>\n",
       "      <th>6</th>\n",
       "      <td>UCLA</td>\n",
       "      <td>Los Angeles</td>\n",
       "      <td>California</td>\n",
       "      <td>0.91</td>\n",
       "    </tr>\n",
       "  </tbody>\n",
       "</table>\n",
       "</div>"
      ],
      "text/plain": [
       "                       name         city       state  graduation_rate\n",
       "0                      UCSD     La Jolla  California             0.87\n",
       "1     University of Chicago      Chicago    Illinois             0.94\n",
       "2   University of San Diego    San Diego  California             0.78\n",
       "3  Johns Hopkins University    Baltimore    Maryland             0.92\n",
       "4                 UT Austin       Austin       Texas             0.81\n",
       "5                      SDSU    San Diego  California             0.83\n",
       "6                      UCLA  Los Angeles  California             0.91"
      ]
     },
     "execution_count": 15,
     "metadata": {},
     "output_type": "execute_result"
    }
   ],
   "source": [
    "schools"
   ]
  },
  {
   "cell_type": "markdown",
   "metadata": {
    "slideshow": {
     "slide_type": "slide"
    }
   },
   "source": [
    "### Atividade de acompanhamento\n",
    "\n",
    "**Sem escrever código**, quantas linhas existem em `nice_weather_cities.merge(schools, on='state')`?"
   ]
  },
  {
   "cell_type": "code",
   "execution_count": 16,
   "metadata": {
    "execution": {
     "iopub.execute_input": "2024-04-23T16:35:37.143416Z",
     "iopub.status.busy": "2024-04-23T16:35:37.143111Z",
     "iopub.status.idle": "2024-04-23T16:35:37.158856Z",
     "shell.execute_reply": "2024-04-23T16:35:37.158133Z"
    }
   },
   "outputs": [
    {
     "data": {
      "text/html": [
       "<div>\n",
       "<style scoped>\n",
       "    .dataframe tbody tr th:only-of-type {\n",
       "        vertical-align: middle;\n",
       "    }\n",
       "\n",
       "    .dataframe tbody tr th {\n",
       "        vertical-align: top;\n",
       "    }\n",
       "\n",
       "    .dataframe thead th {\n",
       "        text-align: right;\n",
       "    }\n",
       "</style>\n",
       "<table border=\"1\" class=\"dataframe\">\n",
       "  <thead>\n",
       "    <tr style=\"text-align: right;\">\n",
       "      <th></th>\n",
       "      <th>city_x</th>\n",
       "      <th>state</th>\n",
       "      <th>today_high_temp</th>\n",
       "      <th>name</th>\n",
       "      <th>city_y</th>\n",
       "      <th>graduation_rate</th>\n",
       "    </tr>\n",
       "  </thead>\n",
       "  <tbody>\n",
       "    <tr>\n",
       "      <th>0</th>\n",
       "      <td>La Jolla</td>\n",
       "      <td>California</td>\n",
       "      <td>79</td>\n",
       "      <td>UCSD</td>\n",
       "      <td>La Jolla</td>\n",
       "      <td>0.87</td>\n",
       "    </tr>\n",
       "    <tr>\n",
       "      <th>1</th>\n",
       "      <td>La Jolla</td>\n",
       "      <td>California</td>\n",
       "      <td>79</td>\n",
       "      <td>University of San Diego</td>\n",
       "      <td>San Diego</td>\n",
       "      <td>0.78</td>\n",
       "    </tr>\n",
       "    <tr>\n",
       "      <th>2</th>\n",
       "      <td>La Jolla</td>\n",
       "      <td>California</td>\n",
       "      <td>79</td>\n",
       "      <td>SDSU</td>\n",
       "      <td>San Diego</td>\n",
       "      <td>0.83</td>\n",
       "    </tr>\n",
       "    <tr>\n",
       "      <th>3</th>\n",
       "      <td>La Jolla</td>\n",
       "      <td>California</td>\n",
       "      <td>79</td>\n",
       "      <td>UCLA</td>\n",
       "      <td>Los Angeles</td>\n",
       "      <td>0.91</td>\n",
       "    </tr>\n",
       "    <tr>\n",
       "      <th>4</th>\n",
       "      <td>San Diego</td>\n",
       "      <td>California</td>\n",
       "      <td>83</td>\n",
       "      <td>UCSD</td>\n",
       "      <td>La Jolla</td>\n",
       "      <td>0.87</td>\n",
       "    </tr>\n",
       "    <tr>\n",
       "      <th>...</th>\n",
       "      <td>...</td>\n",
       "      <td>...</td>\n",
       "      <td>...</td>\n",
       "      <td>...</td>\n",
       "      <td>...</td>\n",
       "      <td>...</td>\n",
       "    </tr>\n",
       "    <tr>\n",
       "      <th>8</th>\n",
       "      <td>Los Angeles</td>\n",
       "      <td>California</td>\n",
       "      <td>87</td>\n",
       "      <td>UCSD</td>\n",
       "      <td>La Jolla</td>\n",
       "      <td>0.87</td>\n",
       "    </tr>\n",
       "    <tr>\n",
       "      <th>9</th>\n",
       "      <td>Los Angeles</td>\n",
       "      <td>California</td>\n",
       "      <td>87</td>\n",
       "      <td>University of San Diego</td>\n",
       "      <td>San Diego</td>\n",
       "      <td>0.78</td>\n",
       "    </tr>\n",
       "    <tr>\n",
       "      <th>10</th>\n",
       "      <td>Los Angeles</td>\n",
       "      <td>California</td>\n",
       "      <td>87</td>\n",
       "      <td>SDSU</td>\n",
       "      <td>San Diego</td>\n",
       "      <td>0.83</td>\n",
       "    </tr>\n",
       "    <tr>\n",
       "      <th>11</th>\n",
       "      <td>Los Angeles</td>\n",
       "      <td>California</td>\n",
       "      <td>87</td>\n",
       "      <td>UCLA</td>\n",
       "      <td>Los Angeles</td>\n",
       "      <td>0.91</td>\n",
       "    </tr>\n",
       "    <tr>\n",
       "      <th>12</th>\n",
       "      <td>Austin</td>\n",
       "      <td>Texas</td>\n",
       "      <td>87</td>\n",
       "      <td>UT Austin</td>\n",
       "      <td>Austin</td>\n",
       "      <td>0.81</td>\n",
       "    </tr>\n",
       "  </tbody>\n",
       "</table>\n",
       "<p>13 rows × 6 columns</p>\n",
       "</div>"
      ],
      "text/plain": [
       "         city_x       state today_high_temp                     name  \\\n",
       "0      La Jolla  California              79                     UCSD   \n",
       "1      La Jolla  California              79  University of San Diego   \n",
       "2      La Jolla  California              79                     SDSU   \n",
       "3      La Jolla  California              79                     UCLA   \n",
       "4     San Diego  California              83                     UCSD   \n",
       "..          ...         ...             ...                      ...   \n",
       "8   Los Angeles  California              87                     UCSD   \n",
       "9   Los Angeles  California              87  University of San Diego   \n",
       "10  Los Angeles  California              87                     SDSU   \n",
       "11  Los Angeles  California              87                     UCLA   \n",
       "12       Austin       Texas              87                UT Austin   \n",
       "\n",
       "         city_y  graduation_rate  \n",
       "0      La Jolla             0.87  \n",
       "1     San Diego             0.78  \n",
       "2     San Diego             0.83  \n",
       "3   Los Angeles             0.91  \n",
       "4      La Jolla             0.87  \n",
       "..          ...              ...  \n",
       "8      La Jolla             0.87  \n",
       "9     San Diego             0.78  \n",
       "10    San Diego             0.83  \n",
       "11  Los Angeles             0.91  \n",
       "12       Austin             0.81  \n",
       "\n",
       "[13 rows x 6 columns]"
      ]
     },
     "execution_count": 16,
     "metadata": {},
     "output_type": "execute_result"
    }
   ],
   "source": [
    "nice_weather_cities.merge(schools, on='state')"
   ]
  },
  {
   "cell_type": "code",
   "execution_count": 17,
   "metadata": {
    "execution": {
     "iopub.execute_input": "2024-04-23T16:35:37.162370Z",
     "iopub.status.busy": "2024-04-23T16:35:37.161532Z",
     "iopub.status.idle": "2024-04-23T16:35:37.171906Z",
     "shell.execute_reply": "2024-04-23T16:35:37.171133Z"
    }
   },
   "outputs": [
    {
     "data": {
      "text/plain": [
       "13"
      ]
     },
     "execution_count": 17,
     "metadata": {},
     "output_type": "execute_result"
    }
   ],
   "source": [
    "nice_weather_cities.merge(schools, on='state').shape[0]"
   ]
  },
  {
   "cell_type": "markdown",
   "metadata": {
    "slideshow": {
     "slide_type": "slide"
    }
   },
   "source": [
    "## Resumo, da próxima vez"
   ]
  },
  {
   "cell_type": "markdown",
   "metadata": {
    "slideshow": {
     "slide_type": "slide"
    }
   },
   "source": [
    "### Resumo\n",
    "\n",
    "- Para criar grupos dentro de um grupo, passe uma lista para `.groupby`.\n",
    "- O resultado possui uma linha para cada combinação única de elementos nas colunas especificadas.\n",
    "- Para combinar informações de vários DataFrames, use `.merge`.\n",
    "- Ao usar `.merge`, Python procura uma correspondência entre uma coluna especificada em cada DataFrame e combina as linhas com uma correspondência.\n",
    "- Se não houver correspondências, a linha desaparece!"
   ]
  }
 ],
 "metadata": {
  "kernelspec": {
   "display_name": "Python 3 (ipykernel)",
   "language": "python",
   "name": "python3"
  },
  "language_info": {
   "codemirror_mode": {
    "name": "ipython",
    "version": 3
   },
   "file_extension": ".py",
   "mimetype": "text/x-python",
   "name": "python",
   "nbconvert_exporter": "python",
   "pygments_lexer": "ipython3",
   "version": "3.11.2"
  },
  "livereveal": {
   "scroll": true,
   "transition": "none"
  },
  "rise": {
   "enable_chalkboard": true
  }
 },
 "nbformat": 4,
 "nbformat_minor": 4
}
