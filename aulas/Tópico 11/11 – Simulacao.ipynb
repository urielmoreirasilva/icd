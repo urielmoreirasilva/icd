{
 "cells": [
  {
   "cell_type": "markdown",
   "metadata": {},
   "source": [
    "# Tópico 11 – Simulação [<img src=\"images/colag_logo.svg\" style=\"float: right; vertical-align: middle; width: 42px; height: 42px;\">](https://colab.research.google.com/github/urielmoreirasilva/urielmoreirasilva.github.io/blob/main/aulas/T%C3%B3pico%2011/11%20%E2%80%93%20Simulacao.ipynb) [<img src=\"images/github_logo.svg\" style=\"float: right; margin-right: 12px; vertical-align: middle; width: 36px; height: 36px;\">](https://github.com/urielmoreirasilva/urielmoreirasilva.github.io/blob/main/aulas/T%C3%B3pico%2011/11%20%E2%80%93%20Simulacao.ipynb)\n",
    "\n",
    "A simulação de dados é essencial na Estatística e em Ciência de Dados. Vamos aprender a combinar o que aprendemos sobre iteração e sobre arrays para realizar simulações e aproximar probabilidades!\n",
    "\n",
    "### Resultados Esperados\n",
    "\n",
    "1. Introduzir método `np.random` para simulação.\n",
    "1. Aprender sobre como utilizar simulação para aproximar probabilidades.\n",
    "1. Discutir sobre o uso das simulações como uma alternativa às soluções exatas para problemas complexos.\n",
    "\n",
    "### Referências\n",
    "- [CIT, Capítulo 9](https://inferentialthinking.com/)\n",
    "\n",
    "Material adaptado do [DSC10 (UCSD)](https://dsc10.com/) por [Flavio Figueiredo (DCC-UFMG)](https://flaviovdf.io/fcd/) e [Uriel Silva (DEST-UFMG)](https://urielmoreirasilva.github.io)"
   ]
  },
  {
   "cell_type": "code",
   "execution_count": 2,
   "metadata": {
    "slideshow": {
     "slide_type": "skip"
    }
   },
   "outputs": [],
   "source": [
    "# Imports: Matplotlib, Numpy, BabyPandas e Pandas.\n",
    "import matplotlib.pyplot as plt\n",
    "import numpy as np\n",
    "import babypandas as bpd\n",
    "import pandas as pd\n",
    "plt.style.use('ggplot')"
   ]
  },
  {
   "cell_type": "markdown",
   "metadata": {
    "slideshow": {
     "slide_type": "slide"
    }
   },
   "source": [
    "## Simulação"
   ]
  },
  {
   "cell_type": "markdown",
   "metadata": {
    "slideshow": {
     "slide_type": "slide"
    }
   },
   "source": [
    "### Ideias básicas\n",
    "\n",
    "- Suponha que queiramos responder a seguinte pergunta: \"Qual é a probabilidade de obtermos 60 ou mais caras no lançamento de 100 moedas (justas)?\" 🤔"
   ]
  },
  {
   "cell_type": "markdown",
   "metadata": {
    "slideshow": {
     "slide_type": "fragment"
    }
   },
   "source": [
    "- Embora com certeza _seja possível_ calcular essa probabilidade \"manualmente\", isto é, utilizando Matemática e Probabilidade, podemos também aproximá-la utilizando um computador:\n",
    "  \n",
    "1. Descubra como fazer o experimento correspondente (ou seja, jogar 100 moedas).\n",
    "1. Execute o experimento várias vezes.\n",
    "1. Encontre a proporção de experimentos em que o número de caras foi igual a 60 ou mais."
   ]
  },
  {
   "cell_type": "markdown",
   "metadata": {
    "slideshow": {
     "slide_type": "fragment"
    }
   },
   "source": [
    "- Nesse curso, esse será nosso principal uso para técnicas de **simulação**.\n",
    "- Isto, é, utilizaremos simulação para aproximar a solução _exata_ do problema no qual estamos interessados.\n",
    "- Embora a maior parte dos problemas que trabalharemos nesse curso _admitam soluções analíticas_, técnicas de simulação são facilmente generalizáveis para os casos onde uma solução analítica seja muito complicada algebricamente, numericamente instável, ou muitas vezes **nem exista**."
   ]
  },
  {
   "cell_type": "markdown",
   "metadata": {},
   "source": [
    "- Apesar do poder das técnicas de simulação ser evidente quando aplicadas para resolver problemas complexos, devemos sempre lembrar que a simulação nos dá sempre uma solução **aproximada**.\n",
    "    - Na maior parte das situações, podemos escolher o quão _boa_ essa aproximação será (em geral ao custo de um esforço computacional maior).\n",
    "- De qualquer maneira, é sempre uma boa ideia realizarmos uma **análise de sensibilidade** para tentar detectar se nossas aproximações sofrem de algum **viés**, ou **erro sistemático**. "
   ]
  },
  {
   "cell_type": "markdown",
   "metadata": {
    "slideshow": {
     "slide_type": "slide"
    }
   },
   "source": [
    "### Simulando um experimento aleatório\n",
    "\n",
    "- Para simular um experimento aleatório, precisamos de uma função adequada para gerar _números aleatórios_ no computador.\n",
    "- Esses números então serão utilizados para representar os resultados de um experimento aleatório (como por exemplo lançar uma moeda, lançar um dado, etc.)."
   ]
  },
  {
   "cell_type": "markdown",
   "metadata": {
    "slideshow": {
     "slide_type": "fragment"
    }
   },
   "source": [
    "- Uma função muito útil nesse contexto é `np.random.choice(options)`.\n",
    "    - A entrada dessa função, `options`, é uma lista ou array com todos os possíveis resultados do experimento desejado.\n",
    "    - A saída dessa função é um elemento selecionado aleatoriamente em `options`.\n",
    "    - Como padrão, todos os elementos de `options` têm a mesma probabilidade de serem escolhidos, isto é, `np.random.choice` amostra probabilidades **uniformes**."
   ]
  },
  {
   "cell_type": "code",
   "execution_count": 10,
   "metadata": {},
   "outputs": [
    {
     "data": {
      "text/plain": [
       "'Heads'"
      ]
     },
     "execution_count": 10,
     "metadata": {},
     "output_type": "execute_result"
    }
   ],
   "source": [
    "# Simulando o lançamento de uma moeda (justa).\n",
    "# Nota: execute essa célula mais de uma vez para ver algo interessante!\n",
    "np.random.choice(['Heads', 'Tails'])"
   ]
  },
  {
   "cell_type": "code",
   "execution_count": 11,
   "metadata": {
    "scrolled": true
   },
   "outputs": [
    {
     "data": {
      "text/plain": [
       "3"
      ]
     },
     "execution_count": 11,
     "metadata": {},
     "output_type": "execute_result"
    }
   ],
   "source": [
    "# Simulando o lançamento de uma dado (de 6 lados).\n",
    "# Nota: execute essa célula mais de uma vez para ver algo interessante!\n",
    "np.random.choice(np.arange(1, 7))"
   ]
  },
  {
   "cell_type": "markdown",
   "metadata": {
    "slideshow": {
     "slide_type": "slide"
    }
   },
   "source": [
    "### Simulando múltiplos experimentos aleatórios\n",
    "\n",
    "- Para simularmos `n` experimentos aleatórios, basta invocar `np.random.choice(options, n)`.\n",
    "- A saída correspondente será um array de `n` elementos selecionados aleatoriamente de `options`."
   ]
  },
  {
   "cell_type": "code",
   "execution_count": 13,
   "metadata": {
    "scrolled": true
   },
   "outputs": [
    {
     "data": {
      "text/plain": [
       "array(['Tails', 'Heads', 'Tails', 'Heads', 'Heads', 'Heads', 'Heads',\n",
       "       'Heads', 'Heads', 'Heads'], dtype='<U5')"
      ]
     },
     "execution_count": 13,
     "metadata": {},
     "output_type": "execute_result"
    }
   ],
   "source": [
    "# Simulando o lançamento de 10 moedas (justas).\n",
    "# Nota: execute essa célula mais de uma vez para ver algo interessante!\n",
    "np.random.choice(['Heads', 'Tails'], 10)"
   ]
  },
  {
   "cell_type": "markdown",
   "metadata": {
    "slideshow": {
     "slide_type": "slide"
    }
   },
   "source": [
    "### Com reposição ou sem reposição? 🤔\n",
    "\n",
    "- Como padrão, `np.random.choice` seleciona elementos de `options` **com** reposição.\n",
    "- Isso significa que, após uma opção ser selecionada, essa opção estará disponível para ser selecionada novamente!"
   ]
  },
  {
   "cell_type": "markdown",
   "metadata": {},
   "source": [
    "- Por exemplo, se ao retirarmos uma bola de gude de um saco, anotarmos alguma característica de interesse e a colocarmos de volta, estaremos selecionando _com_ reposição.\n",
    "- Por outro lado, se ao retirarmos a bola de gude do saco não a colocarmos de volta, estaremos selecionando _sem_ reposição."
   ]
  },
  {
   "cell_type": "markdown",
   "metadata": {},
   "source": [
    "- Para selecionar **sem** reposição, basta invocar `np.random.choice` com a opção `replace = False`."
   ]
  },
  {
   "cell_type": "code",
   "execution_count": 17,
   "metadata": {},
   "outputs": [
    {
     "data": {
      "text/plain": [
       "array(['Thurgood Marshall', 'John Muir', 'Earl Warren'], dtype='<U17')"
      ]
     },
     "execution_count": 17,
     "metadata": {},
     "output_type": "execute_result"
    }
   ],
   "source": [
    "# Nesse exemplo, cada elemento de `college` é selecionado apenas uma vez.\n",
    "colleges = ['Revelle', 'John Muir', 'Thurgood Marshall', \n",
    "            'Earl Warren', 'Eleanor Roosevelt', 'Sixth', 'Seventh']\n",
    "\n",
    "np.random.choice(colleges, 3, replace = False)"
   ]
  },
  {
   "cell_type": "markdown",
   "metadata": {
    "slideshow": {
     "slide_type": "slide"
    }
   },
   "source": [
    "## Simulando probabilidades"
   ]
  },
  {
   "cell_type": "markdown",
   "metadata": {},
   "source": [
    "### Exemplo: Probabilidade de obter 60 ou mais caras no lançamento de 100 moedas"
   ]
  },
  {
   "cell_type": "markdown",
   "metadata": {
    "slideshow": {
     "slide_type": "slide"
    }
   },
   "source": [
    "Voltando à nossa pergunta original, vamos detalhar abaixo cada um dos passos da estratégia de simulação que delineamos anteriormente."
   ]
  },
  {
   "cell_type": "markdown",
   "metadata": {
    "slideshow": {
     "slide_type": "slide"
    }
   },
   "source": [
    "#### Passo 1: Descobrir como fazer o experimento \n",
    "\n",
    "- Nesse exemplo, podemos utilizar `np.random.choice` para simular o lançamento de 100 moedas:"
   ]
  },
  {
   "cell_type": "code",
   "execution_count": 22,
   "metadata": {},
   "outputs": [
    {
     "data": {
      "text/plain": [
       "array(['Heads', 'Heads', 'Heads', 'Heads', 'Tails', 'Heads', 'Tails',\n",
       "       'Heads', 'Heads', 'Heads', 'Heads', 'Heads', 'Heads', 'Tails',\n",
       "       'Tails', 'Heads', 'Tails', 'Heads', 'Heads', 'Tails', 'Tails',\n",
       "       'Heads', 'Tails', 'Tails', 'Heads', 'Tails', 'Tails', 'Tails',\n",
       "       'Heads', 'Tails', 'Heads', 'Tails', 'Tails', 'Heads', 'Heads',\n",
       "       'Tails', 'Tails', 'Heads', 'Heads', 'Heads', 'Heads', 'Tails',\n",
       "       'Heads', 'Heads', 'Tails', 'Heads', 'Heads', 'Heads', 'Heads',\n",
       "       'Tails', 'Heads', 'Heads', 'Tails', 'Tails', 'Tails', 'Heads',\n",
       "       'Tails', 'Tails', 'Tails', 'Heads', 'Heads', 'Heads', 'Heads',\n",
       "       'Heads', 'Heads', 'Tails', 'Tails', 'Tails', 'Tails', 'Tails',\n",
       "       'Tails', 'Heads', 'Tails', 'Heads', 'Tails', 'Tails', 'Tails',\n",
       "       'Heads', 'Heads', 'Heads', 'Heads', 'Heads', 'Heads', 'Heads',\n",
       "       'Tails', 'Tails', 'Heads', 'Heads', 'Tails', 'Tails', 'Heads',\n",
       "       'Tails', 'Heads', 'Heads', 'Heads', 'Heads', 'Heads', 'Tails',\n",
       "       'Heads', 'Heads'], dtype='<U5')"
      ]
     },
     "execution_count": 22,
     "metadata": {},
     "output_type": "execute_result"
    }
   ],
   "source": [
    "coins = np.random.choice(['Heads', 'Tails'], 100)\n",
    "coins"
   ]
  },
  {
   "cell_type": "markdown",
   "metadata": {},
   "source": [
    "e depois, podemos contar o número de caras utilizando a função `np.count_nonzero`:"
   ]
  },
  {
   "cell_type": "code",
   "execution_count": 24,
   "metadata": {},
   "outputs": [
    {
     "data": {
      "text/plain": [
       "58"
      ]
     },
     "execution_count": 24,
     "metadata": {},
     "output_type": "execute_result"
    }
   ],
   "source": [
    "np.count_nonzero(coins == 'Heads')"
   ]
  },
  {
   "cell_type": "markdown",
   "metadata": {},
   "source": [
    "- Em essência, a função `np.count_nonzero(array)` retorna o número de entradas em `array` que são `True`."
   ]
  },
  {
   "cell_type": "code",
   "execution_count": 26,
   "metadata": {},
   "outputs": [
    {
     "data": {
      "text/plain": [
       "array([ True,  True,  True,  True, False,  True, False,  True,  True,\n",
       "        True,  True,  True,  True, False, False,  True, False,  True,\n",
       "        True, False, False,  True, False, False,  True, False, False,\n",
       "       False,  True, False,  True, False, False,  True,  True, False,\n",
       "       False,  True,  True,  True,  True, False,  True,  True, False,\n",
       "        True,  True,  True,  True, False,  True,  True, False, False,\n",
       "       False,  True, False, False, False,  True,  True,  True,  True,\n",
       "        True,  True, False, False, False, False, False, False,  True,\n",
       "       False,  True, False, False, False,  True,  True,  True,  True,\n",
       "        True,  True,  True, False, False,  True,  True, False, False,\n",
       "        True, False,  True,  True,  True,  True,  True, False,  True,\n",
       "        True])"
      ]
     },
     "execution_count": 26,
     "metadata": {},
     "output_type": "execute_result"
    }
   ],
   "source": [
    "coins == 'Heads'"
   ]
  },
  {
   "cell_type": "markdown",
   "metadata": {},
   "source": [
    "Lembrando que as booleanas `True` e `False` são codificadas no Python como sendo iguas a 1 e 0, respectivamente, podemos alternativamente contar o número de caras através de:"
   ]
  },
  {
   "cell_type": "code",
   "execution_count": 28,
   "metadata": {},
   "outputs": [
    {
     "data": {
      "text/plain": [
       "58"
      ]
     },
     "execution_count": 28,
     "metadata": {},
     "output_type": "execute_result"
    }
   ],
   "source": [
    "(coins == 'Heads').sum()"
   ]
  },
  {
   "cell_type": "markdown",
   "metadata": {},
   "source": [
    "Isso também motiva o nome da função `count_nonzero`: como `False == 0`, a função conta os elementos diferentes de 0, isto é, aqueles que são iguais a `True`. "
   ]
  },
  {
   "cell_type": "markdown",
   "metadata": {
    "slideshow": {
     "slide_type": "slide"
    }
   },
   "source": [
    "#### Interlúdio: Definindo uma função para simular o experimento aleatório\n",
    "\n",
    "- Para facilitar a repetição do experimento (e aumentar a legibilidade do código), podemos definir uma função para executar o Passo 1 acima:"
   ]
  },
  {
   "cell_type": "code",
   "execution_count": 31,
   "metadata": {},
   "outputs": [],
   "source": [
    "def coin_experiment():\n",
    "    '''Simulates 100 (fair) coin tosses and returns the number of Heads.'''\n",
    "    coins = np.random.choice(['Heads', 'Tails'], 100)\n",
    "    return np.count_nonzero(coins == 'Heads')"
   ]
  },
  {
   "cell_type": "code",
   "execution_count": 32,
   "metadata": {},
   "outputs": [
    {
     "data": {
      "text/plain": [
       "\u001b[1;31mSignature:\u001b[0m \u001b[0mcoin_experiment\u001b[0m\u001b[1;33m(\u001b[0m\u001b[1;33m)\u001b[0m\u001b[1;33m\u001b[0m\u001b[1;33m\u001b[0m\u001b[0m\n",
       "\u001b[1;31mDocstring:\u001b[0m Simulates 100 (fair) coin tosses and returns the number of Heads.\n",
       "\u001b[1;31mFile:\u001b[0m      c:\\users\\uriel\\appdata\\local\\temp\\ipykernel_6280\\3756918760.py\n",
       "\u001b[1;31mType:\u001b[0m      function"
      ]
     },
     "metadata": {},
     "output_type": "display_data"
    }
   ],
   "source": [
    "coin_experiment?"
   ]
  },
  {
   "cell_type": "code",
   "execution_count": 33,
   "metadata": {},
   "outputs": [
    {
     "data": {
      "text/plain": [
       "46"
      ]
     },
     "execution_count": 33,
     "metadata": {},
     "output_type": "execute_result"
    }
   ],
   "source": [
    "coin_experiment()"
   ]
  },
  {
   "cell_type": "markdown",
   "metadata": {
    "slideshow": {
     "slide_type": "slide"
    }
   },
   "source": [
    "#### Passo 2: Repetir o experimento várias vezes\n",
    "\n",
    "- Como vimos no Tópico 08, podemos repetir o mesmo código muitas vezes **utilizando um loop `for`!**\n",
    "- Cada vez que simularmos o experimento, precisaremos armazenar os resultados em um array.\n",
    "    - Faremos isso aqui através da função `np.append`."
   ]
  },
  {
   "cell_type": "markdown",
   "metadata": {},
   "source": [
    "Para ilustrar o uso do `np.append`, começamos com um array vazio:"
   ]
  },
  {
   "cell_type": "code",
   "execution_count": 36,
   "metadata": {},
   "outputs": [
    {
     "data": {
      "text/plain": [
       "array([], dtype=float64)"
      ]
     },
     "execution_count": 36,
     "metadata": {},
     "output_type": "execute_result"
    }
   ],
   "source": [
    "head_counts = np.array([])\n",
    "head_counts"
   ]
  },
  {
   "cell_type": "markdown",
   "metadata": {},
   "source": [
    "Fazemos então um append ao array existente:"
   ]
  },
  {
   "cell_type": "code",
   "execution_count": 38,
   "metadata": {},
   "outputs": [
    {
     "data": {
      "text/plain": [
       "array([15.])"
      ]
     },
     "execution_count": 38,
     "metadata": {},
     "output_type": "execute_result"
    }
   ],
   "source": [
    "head_counts = np.append(head_counts, 15)\n",
    "head_counts"
   ]
  },
  {
   "cell_type": "markdown",
   "metadata": {},
   "source": [
    "e mais um:"
   ]
  },
  {
   "cell_type": "code",
   "execution_count": 40,
   "metadata": {},
   "outputs": [
    {
     "data": {
      "text/plain": [
       "array([15., 25.])"
      ]
     },
     "execution_count": 40,
     "metadata": {},
     "output_type": "execute_result"
    }
   ],
   "source": [
    "head_counts = np.append(head_counts, 25)\n",
    "head_counts"
   ]
  },
  {
   "cell_type": "markdown",
   "metadata": {},
   "source": [
    "... e assim por diante."
   ]
  },
  {
   "cell_type": "markdown",
   "metadata": {},
   "source": [
    "Nosso `for` para repetir o experimento aleatório várias vezes então fica assim:"
   ]
  },
  {
   "cell_type": "code",
   "execution_count": 43,
   "metadata": {
    "slideshow": {
     "slide_type": "-"
    }
   },
   "outputs": [],
   "source": [
    "# Número de repetições.\n",
    "repetitions = 10000\n",
    "\n",
    "# Começamos com um array vazio para armazenar os resultados.\n",
    "head_counts = np.array([])\n",
    "\n",
    "# Loop for.\n",
    "for i in np.arange(repetitions):\n",
    "    # For each repetition, run the experiment and add the result to head_counts\n",
    "    head_count = coin_experiment()\n",
    "    head_counts = np.append(head_counts, head_count)"
   ]
  },
  {
   "cell_type": "code",
   "execution_count": 44,
   "metadata": {
    "scrolled": true
   },
   "outputs": [
    {
     "data": {
      "text/plain": [
       "10000"
      ]
     },
     "execution_count": 44,
     "metadata": {},
     "output_type": "execute_result"
    }
   ],
   "source": [
    "len(head_counts)"
   ]
  },
  {
   "cell_type": "code",
   "execution_count": 45,
   "metadata": {},
   "outputs": [
    {
     "data": {
      "text/plain": [
       "array([48., 45., 51., ..., 50., 44., 50.])"
      ]
     },
     "execution_count": 45,
     "metadata": {},
     "output_type": "execute_result"
    }
   ],
   "source": [
    "head_counts"
   ]
  },
  {
   "cell_type": "markdown",
   "metadata": {
    "slideshow": {
     "slide_type": "slide"
    }
   },
   "source": [
    "#### Passo 3: Encontrar a proporção de experimentos em que o número de caras foi igual a 60 ou mais\n",
    "\n",
    "- Calculamos agora então a proporção $\\hat{p}$ dos experimentos em que o número de caras foi igual a 60 ou mais.\n",
    "- Essa medida de _frequência_ nos fornece a **probabilidade estimada** do nosso evento, isto é, \"obter 60 ou mais caras em 100 lançamentos de uma moeda\"."
   ]
  },
  {
   "cell_type": "markdown",
   "metadata": {},
   "source": [
    "O _número de experimentos_ em que o número de caras observado foi igual a 60 ou mais é:"
   ]
  },
  {
   "cell_type": "code",
   "execution_count": 48,
   "metadata": {},
   "outputs": [
    {
     "data": {
      "text/plain": [
       "267"
      ]
     },
     "execution_count": 48,
     "metadata": {},
     "output_type": "execute_result"
    }
   ],
   "source": [
    "at_least_60 = np.count_nonzero(head_counts >= 60)\n",
    "at_least_60"
   ]
  },
  {
   "cell_type": "markdown",
   "metadata": {},
   "source": [
    "e a _proporção correspondente_ $\\hat{p}$, isto é, sobre todos as repetições do experimento aleatório, é igual a"
   ]
  },
  {
   "cell_type": "code",
   "execution_count": 50,
   "metadata": {},
   "outputs": [
    {
     "data": {
      "text/plain": [
       "0.0267"
      ]
     },
     "execution_count": 50,
     "metadata": {},
     "output_type": "execute_result"
    }
   ],
   "source": [
    "p_hat = at_least_60 / repetitions\n",
    "p_hat"
   ]
  },
  {
   "cell_type": "markdown",
   "metadata": {},
   "source": [
    "Lembrando que a soma das booleanas de uma array nos dá sempre o número de elementos que são iguais a `True`, a proporção $\\hat{p}$ é igual a _média das booleanas correspondentes_, que em Probabilidade denominamos de **indicadoras da ocorrência de um evento**:"
   ]
  },
  {
   "cell_type": "code",
   "execution_count": 52,
   "metadata": {},
   "outputs": [
    {
     "data": {
      "text/plain": [
       "array([False, False, False, ..., False, False, False])"
      ]
     },
     "execution_count": 52,
     "metadata": {},
     "output_type": "execute_result"
    }
   ],
   "source": [
    "head_counts >= 60"
   ]
  },
  {
   "cell_type": "code",
   "execution_count": 53,
   "metadata": {},
   "outputs": [
    {
     "data": {
      "text/plain": [
       "0.0267"
      ]
     },
     "execution_count": 53,
     "metadata": {},
     "output_type": "execute_result"
    }
   ],
   "source": [
    "np.mean(head_counts >= 60)"
   ]
  },
  {
   "cell_type": "markdown",
   "metadata": {
    "slideshow": {
     "slide_type": "slide"
    }
   },
   "source": [
    "#### Visualizando a distribuição dos experimentos aleatórios simulados\n",
    "\n",
    "O histograma abaixo contém a distribuição do número de caras em cada um dos experimentos:"
   ]
  },
  {
   "cell_type": "code",
   "execution_count": 55,
   "metadata": {},
   "outputs": [
    {
     "data": {
      "image/png": "[encoded data removed]",
      "text/plain": [
       "<Figure size 1000x500 with 1 Axes>"
      ]
     },
     "metadata": {},
     "output_type": "display_data"
    }
   ],
   "source": [
    "bpd.DataFrame().assign(\n",
    "    Number_of_Heads=head_counts\n",
    ").plot(kind = 'hist', bins = np.arange(30, 70), density = True, ec = 'w', figsize = (10, 5));\n",
    "plt.axvline(60, color = 'C1');\n",
    "plt.ylabel('Densidade');"
   ]
  },
  {
   "cell_type": "markdown",
   "metadata": {},
   "source": [
    "- Lembrando que o histograma acima é um _histograma de densidade_, as barras representam _frequências relativas_, e logo _estimativas da probabilidade_ de cada classe.\n",
    "- Em outras palavras, o histograma descreve a \"distribuição das probabilidades de cada um dos valores de caras observados em 100 lançamentos de uma moeda\", aproximada por simulação!\n",
    "    - Introduziremos com mais precisão o conceito de \"distribuição de probabilidade\" no Tópico 12."
   ]
  },
  {
   "cell_type": "markdown",
   "metadata": {},
   "source": [
    "#### Verificando a qualidade da simulação"
   ]
  },
  {
   "cell_type": "markdown",
   "metadata": {},
   "source": [
    "Nossa probabilidade de \"60 caras ou mais em 100 lançamentos de uma moeda\", estimada através de simulação, é igual a:"
   ]
  },
  {
   "cell_type": "code",
   "execution_count": 59,
   "metadata": {},
   "outputs": [
    {
     "data": {
      "text/plain": [
       "0.0267"
      ]
     },
     "execution_count": 59,
     "metadata": {},
     "output_type": "execute_result"
    }
   ],
   "source": [
    "np.mean(head_counts >= 60)"
   ]
  },
  {
   "cell_type": "markdown",
   "metadata": {},
   "source": [
    "Como mencionado anteriormente, conseguimos calcular também essa probabilidade de maneira _exata_/_analítica_, utilizando a [distribuição Binomial](https://en.wikipedia.org/wiki/Binomial_distribution)."
   ]
  },
  {
   "cell_type": "markdown",
   "metadata": {},
   "source": [
    "Sem adentrar em mais detalhes técnicos, a probabilidade de \"60 caras ou mais em 100 lançamentos de uma moeda\" calculada através da distribuição Binomial é: "
   ]
  },
  {
   "cell_type": "code",
   "execution_count": 62,
   "metadata": {},
   "outputs": [
    {
     "data": {
      "text/plain": [
       "0.028443966820490395"
      ]
     },
     "execution_count": 62,
     "metadata": {},
     "output_type": "execute_result"
    }
   ],
   "source": [
    "# A distribuição Binomial é importada do SciPy, e toma parâmetros `n` e `p`.\n",
    "from scipy.stats import binom\n",
    "n = 100\n",
    "p = 0.5\n",
    "grid = np.arange(60, n + 1, 1)\n",
    "binom.pmf(grid, n, p).sum()"
   ]
  },
  {
   "cell_type": "markdown",
   "metadata": {},
   "source": [
    "A simulação produziu um resultado bem próximo ao real! 👍"
   ]
  },
  {
   "cell_type": "markdown",
   "metadata": {},
   "source": [
    "- Finalmente, podemos ainda sobrepor a distribuição do número de caras em 100 lançamentos calculada através da simulação (histograma, em vermelho) contra os valores exatos correspondentes (gráfico de barras, em azul), calculados através da distribuição Binomial:"
   ]
  },
  {
   "cell_type": "code",
   "execution_count": 65,
   "metadata": {},
   "outputs": [
    {
     "data": {
      "image/png": "[encoded data removed]",
      "text/plain": [
       "<Figure size 1000x500 with 1 Axes>"
      ]
     },
     "metadata": {},
     "output_type": "display_data"
    }
   ],
   "source": [
    "# Histograma: distribuição simulada.\n",
    "bpd.DataFrame().assign(\n",
    "    Number_of_Heads=head_counts\n",
    ").plot(kind = 'hist', bins = np.arange(30, 70), density = True, ec = 'w', figsize = (10, 5));\n",
    "plt.axvline(60, color = 'C1');\n",
    "plt.ylabel('Densidade');\n",
    "\n",
    "# Gráfico de barras: distribuição exata.\n",
    "n = 100\n",
    "p = 0.5\n",
    "x = np.arange(30, 70)\n",
    "y = binom.pmf(x, n, p)\n",
    "dd = bpd.DataFrame()\n",
    "dd = dd.assign(grid = x, probs = y)\n",
    "plt.bar(x, y, linewidth = 2, color = 'skyblue', alpha = 0.60, width = 1, label = 'Binomial')\n",
    "plt.legend();"
   ]
  },
  {
   "cell_type": "markdown",
   "metadata": {
    "slideshow": {
     "slide_type": "slide"
    }
   },
   "source": [
    "### Exemplo: [O paradoxo dos aniversários](https://en.wikipedia.org/wiki/Birthday_problem)"
   ]
  },
  {
   "cell_type": "markdown",
   "metadata": {},
   "source": [
    "- Como outro exemplo de uma aplicação das técnicas de simulação para estimar probabilidades, considere o problema que é conhecido popularmente como **\"Paradoxo dos Aniversários\"**."
   ]
  },
  {
   "cell_type": "markdown",
   "metadata": {},
   "source": [
    "- O paradoxo dos aniversários diz que, em uma sala com $n$ pessoas, precisamos de apenas $n = 23$ para que a probabilidade de que duas ou mais pessoas tenham o mesmo aniversário seja maior que $1/2 = 50\\%$!\n",
    "- Esse fato é surpreendente (e logo considerado um \"paradoxo\") porque a intuição simples nos diria que, como temos $N = 365$ dias em um ano, precisaríamos de $n \\simeq 365/2$ pessoas para que a probabilidade de interesse fosse maior ou igual a $1/2$."
   ]
  },
  {
   "cell_type": "markdown",
   "metadata": {},
   "source": [
    "- E como será que podemos calcular essa probabilidade via simulação? 🤔"
   ]
  },
  {
   "cell_type": "markdown",
   "metadata": {},
   "source": [
    "#### Passo 1: Descobrir como fazer o experimento "
   ]
  },
  {
   "cell_type": "markdown",
   "metadata": {},
   "source": [
    "- Nesse caso, o experimento aleatório consiste em sortear números de 1 a 365 (os aniversários), e o nosso evento de interesse é o número de pessoas cujos aniversários caem no mesmo dia, em uma sala de $n$ pessoas.\n",
    "\n",
    "Nota: aqui ignoraremos anos bissextos, e é possível que exista mais de um aniversário que se repita (por exemplo, se 2 pessoas fazem aniversário no dia 05/01 e mais 3 fazem aniversário no dia 08/03, nossa contagem de pessoas será igual a 5)."
   ]
  },
  {
   "cell_type": "markdown",
   "metadata": {},
   "source": [
    "Como exemplo inicial, vamos tomar $n = 60$, e simular os aniversários:"
   ]
  },
  {
   "cell_type": "code",
   "execution_count": 73,
   "metadata": {},
   "outputs": [
    {
     "data": {
      "text/plain": [
       "array([321, 349,  76, 111,  22, 349, 262, 333, 328,  42, 351,  56, 210,\n",
       "        30, 350, 192, 272, 320,  99, 235,   1, 113,  92, 303,  96,  56,\n",
       "       302, 208, 134,  34, 164,  39, 259, 315, 230, 129, 101, 355,  33,\n",
       "       151, 126, 244,  58, 247,  42,  19,  94, 148, 119, 348, 310, 334,\n",
       "       364,   8, 162, 171, 340,  54, 212, 140])"
      ]
     },
     "execution_count": 73,
     "metadata": {},
     "output_type": "execute_result"
    }
   ],
   "source": [
    "n = 60\n",
    "birthdays = np.random.choice(np.arange(1, 365 + 1, 1), n)\n",
    "birthdays"
   ]
  },
  {
   "cell_type": "markdown",
   "metadata": {},
   "source": [
    "Agora, para contar o número de valores que _não se repetem_, vamos utilizar `len` e `np.unique`:"
   ]
  },
  {
   "cell_type": "code",
   "execution_count": 75,
   "metadata": {},
   "outputs": [
    {
     "data": {
      "text/plain": [
       "array([  1,   8,  19,  22,  30,  33,  34,  39,  42,  54,  56,  58,  76,\n",
       "        92,  94,  96,  99, 101, 111, 113, 119, 126, 129, 134, 140, 148,\n",
       "       151, 162, 164, 171, 192, 208, 210, 212, 230, 235, 244, 247, 259,\n",
       "       262, 272, 302, 303, 310, 315, 320, 321, 328, 333, 334, 340, 348,\n",
       "       349, 350, 351, 355, 364])"
      ]
     },
     "execution_count": 75,
     "metadata": {},
     "output_type": "execute_result"
    }
   ],
   "source": [
    "np.unique(birthdays)"
   ]
  },
  {
   "cell_type": "code",
   "execution_count": 76,
   "metadata": {
    "scrolled": true
   },
   "outputs": [
    {
     "data": {
      "text/plain": [
       "57"
      ]
     },
     "execution_count": 76,
     "metadata": {},
     "output_type": "execute_result"
    }
   ],
   "source": [
    "len(np.unique(birthdays))"
   ]
  },
  {
   "cell_type": "markdown",
   "metadata": {},
   "source": [
    "E, finalmente, para contar o número de valores que _se repetem_, podemos tomar:"
   ]
  },
  {
   "cell_type": "code",
   "execution_count": 78,
   "metadata": {},
   "outputs": [
    {
     "data": {
      "text/plain": [
       "3"
      ]
     },
     "execution_count": 78,
     "metadata": {},
     "output_type": "execute_result"
    }
   ],
   "source": [
    "# Note que sempre temos n == len(birthdays) >= len(np.unique(birthdays).\n",
    "n - len(np.unique(birthdays))"
   ]
  },
  {
   "cell_type": "markdown",
   "metadata": {},
   "source": [
    "Como fizemos anteriormente, vamos agora então encapsular esse comportamento em uma função:"
   ]
  },
  {
   "cell_type": "code",
   "execution_count": 80,
   "metadata": {},
   "outputs": [],
   "source": [
    "def birthday_experiment(n):\n",
    "    '''Simulates n birthdays and returns the number of matches.'''\n",
    "    birthdays = np.random.choice(np.arange(1, 365 + 1, 1), n)\n",
    "    return n - len(np.unique(birthdays))"
   ]
  },
  {
   "cell_type": "code",
   "execution_count": 81,
   "metadata": {},
   "outputs": [
    {
     "data": {
      "text/plain": [
       "4"
      ]
     },
     "execution_count": 81,
     "metadata": {},
     "output_type": "execute_result"
    }
   ],
   "source": [
    "birthday_experiment(60)"
   ]
  },
  {
   "cell_type": "markdown",
   "metadata": {
    "slideshow": {
     "slide_type": "slide"
    }
   },
   "source": [
    "#### Passo 2: Repetir o experimento várias vezes"
   ]
  },
  {
   "cell_type": "markdown",
   "metadata": {},
   "source": [
    "- Repetimos agora nosso experimento $M = 10000$ vezes, tomando $n = 23$:"
   ]
  },
  {
   "cell_type": "code",
   "execution_count": 84,
   "metadata": {
    "slideshow": {
     "slide_type": "-"
    }
   },
   "outputs": [],
   "source": [
    "# Número de repetições.\n",
    "repetitions = 10000\n",
    "\n",
    "# Número de pessoas.\n",
    "n = 23\n",
    "\n",
    "# Começamos com um array vazio para armazenar os resultados.\n",
    "birthday_matches = np.array([])\n",
    "\n",
    "# Loop for.\n",
    "for i in np.arange(repetitions):\n",
    "    # For each repetition, run the experiment and add the result to head_counts\n",
    "    birthdays = birthday_experiment(n)\n",
    "    birthday_matches = np.append(birthday_matches, birthdays)"
   ]
  },
  {
   "cell_type": "markdown",
   "metadata": {
    "slideshow": {
     "slide_type": "slide"
    }
   },
   "source": [
    "#### Passo 3: Encontrar a proporção de experimentos em que 2 ou mais pessoas tenham o mesmo aniversário"
   ]
  },
  {
   "cell_type": "markdown",
   "metadata": {},
   "source": [
    "Finalmente, para encontrar o número de experimentos em que o evento de interesse ocorre, fazemos:"
   ]
  },
  {
   "cell_type": "code",
   "execution_count": 87,
   "metadata": {},
   "outputs": [
    {
     "data": {
      "text/plain": [
       "5065"
      ]
     },
     "execution_count": 87,
     "metadata": {},
     "output_type": "execute_result"
    }
   ],
   "source": [
    "at_least_a_birthday_match = np.count_nonzero(birthday_matches >= 1)\n",
    "at_least_a_birthday_match"
   ]
  },
  {
   "cell_type": "markdown",
   "metadata": {},
   "source": [
    "e, finalmente, a proporção correspondente é igual a:"
   ]
  },
  {
   "cell_type": "code",
   "execution_count": 89,
   "metadata": {},
   "outputs": [
    {
     "data": {
      "text/plain": [
       "0.5065"
      ]
     },
     "execution_count": 89,
     "metadata": {},
     "output_type": "execute_result"
    }
   ],
   "source": [
    "p_hat = at_least_a_birthday_match / repetitions\n",
    "p_hat"
   ]
  },
  {
   "cell_type": "markdown",
   "metadata": {},
   "source": [
    "O paradoxo parece realmente ser verdadeiro!"
   ]
  },
  {
   "cell_type": "markdown",
   "metadata": {},
   "source": [
    "#### Visualizando a distribuição dos experimentos aleatórios simulados"
   ]
  },
  {
   "cell_type": "code",
   "execution_count": 92,
   "metadata": {},
   "outputs": [
    {
     "data": {
      "image/png": "[encoded data removed]",
      "text/plain": [
       "<Figure size 1000x500 with 1 Axes>"
      ]
     },
     "metadata": {},
     "output_type": "display_data"
    }
   ],
   "source": [
    "## Histograma: distribuição simulada.\n",
    "# Escolhendo o número de classes do histograma.\n",
    "m = int(birthday_matches.max())\n",
    "bins = np.arange(m + 1)\n",
    "\n",
    "# Elaborando o histograma.\n",
    "bpd.DataFrame().assign(\n",
    "    Number_of_Birthday_Matches = birthday_matches\n",
    ").plot(kind = 'hist', bins = bins, density = True, ec = 'w', figsize = (10, 5));\n",
    "plt.axvline(1, color = 'C1');\n",
    "plt.ylabel('Densidade');"
   ]
  },
  {
   "cell_type": "markdown",
   "metadata": {},
   "source": [
    "#### Verificando a qualidade da simulação"
   ]
  },
  {
   "cell_type": "markdown",
   "metadata": {},
   "source": [
    "- É possível calcular analiticamente a probabilidade de que, em uma sala de $n$ pessoas, 2 ou mais pessoas tenham o mesmo aniversário."
   ]
  },
  {
   "cell_type": "markdown",
   "metadata": {},
   "source": [
    "- Mais especificamente, defina o evento $A_n = \\text{``2 ou mais pessoas tenham o mesmo aniversário''}$, para $n = 1, \\ldots, 365$.\n",
    "- Com um pouco (na verdade muito!) de análise combinatória, é possível mostrar que\n",
    "\n",
    "\\begin{equation*}\n",
    "    P(A_n) = 1 - \\frac{P_{365, n}}{365^n} = 1 - \\frac{n! \\cdot \\binom{365}{n}}{365^n}\n",
    "\\end{equation*}"
   ]
  },
  {
   "cell_type": "code",
   "execution_count": 96,
   "metadata": {},
   "outputs": [
    {
     "name": "stdout",
     "output_type": "stream",
     "text": [
      "6\n",
      "15\n"
     ]
    }
   ],
   "source": [
    "# Para calcular fatoriais e combinações, importamos o módulo `math`.\n",
    "import math as math\n",
    "print(math.factorial(3))\n",
    "print(math.comb(6, 2))"
   ]
  },
  {
   "cell_type": "code",
   "execution_count": 97,
   "metadata": {},
   "outputs": [],
   "source": [
    "# Aqui, calculamos P(A_n) para 1 <= n <= 365.\n",
    "N = 365\n",
    "probs = []\n",
    "for n in np.arange(1, N + 1, 1):\n",
    "    i_n = int(n)\n",
    "    prob_an = 1 - (math.factorial(i_n) * math.comb(365, i_n)) / (365 ** i_n)\n",
    "    probs = np.append(probs, prob_an)"
   ]
  },
  {
   "cell_type": "code",
   "execution_count": 98,
   "metadata": {},
   "outputs": [
    {
     "data": {
      "text/html": [
       "<div>\n",
       "<style scoped>\n",
       "    .dataframe tbody tr th:only-of-type {\n",
       "        vertical-align: middle;\n",
       "    }\n",
       "\n",
       "    .dataframe tbody tr th {\n",
       "        vertical-align: top;\n",
       "    }\n",
       "\n",
       "    .dataframe thead th {\n",
       "        text-align: right;\n",
       "    }\n",
       "</style>\n",
       "<table border=\"1\" class=\"dataframe\">\n",
       "  <thead>\n",
       "    <tr style=\"text-align: right;\">\n",
       "      <th></th>\n",
       "      <th>n</th>\n",
       "      <th>p_n</th>\n",
       "    </tr>\n",
       "  </thead>\n",
       "  <tbody>\n",
       "    <tr>\n",
       "      <th>0</th>\n",
       "      <td>1</td>\n",
       "      <td>0.00e+00</td>\n",
       "    </tr>\n",
       "    <tr>\n",
       "      <th>1</th>\n",
       "      <td>2</td>\n",
       "      <td>2.74e-03</td>\n",
       "    </tr>\n",
       "    <tr>\n",
       "      <th>2</th>\n",
       "      <td>3</td>\n",
       "      <td>8.20e-03</td>\n",
       "    </tr>\n",
       "    <tr>\n",
       "      <th>3</th>\n",
       "      <td>4</td>\n",
       "      <td>1.64e-02</td>\n",
       "    </tr>\n",
       "    <tr>\n",
       "      <th>4</th>\n",
       "      <td>5</td>\n",
       "      <td>2.71e-02</td>\n",
       "    </tr>\n",
       "    <tr>\n",
       "      <th>...</th>\n",
       "      <td>...</td>\n",
       "      <td>...</td>\n",
       "    </tr>\n",
       "    <tr>\n",
       "      <th>360</th>\n",
       "      <td>361</td>\n",
       "      <td>1.00e+00</td>\n",
       "    </tr>\n",
       "    <tr>\n",
       "      <th>361</th>\n",
       "      <td>362</td>\n",
       "      <td>1.00e+00</td>\n",
       "    </tr>\n",
       "    <tr>\n",
       "      <th>362</th>\n",
       "      <td>363</td>\n",
       "      <td>1.00e+00</td>\n",
       "    </tr>\n",
       "    <tr>\n",
       "      <th>363</th>\n",
       "      <td>364</td>\n",
       "      <td>1.00e+00</td>\n",
       "    </tr>\n",
       "    <tr>\n",
       "      <th>364</th>\n",
       "      <td>365</td>\n",
       "      <td>1.00e+00</td>\n",
       "    </tr>\n",
       "  </tbody>\n",
       "</table>\n",
       "<p>365 rows × 2 columns</p>\n",
       "</div>"
      ],
      "text/plain": [
       "       n       p_n\n",
       "0      1  0.00e+00\n",
       "1      2  2.74e-03\n",
       "2      3  8.20e-03\n",
       "3      4  1.64e-02\n",
       "4      5  2.71e-02\n",
       "..   ...       ...\n",
       "360  361  1.00e+00\n",
       "361  362  1.00e+00\n",
       "362  363  1.00e+00\n",
       "363  364  1.00e+00\n",
       "364  365  1.00e+00\n",
       "\n",
       "[365 rows x 2 columns]"
      ]
     },
     "execution_count": 98,
     "metadata": {},
     "output_type": "execute_result"
    }
   ],
   "source": [
    "## Finalmente, printamos um DataFrame com `n` e `P(A_n)`.\n",
    "\n",
    "# Customizando como printar objetos do NumPy e do pandas.\n",
    "np.set_printoptions(threshold = 20, precision = 2, suppress = True)\n",
    "pd.set_option(\"display.max_rows\", 40)\n",
    "pd.set_option(\"display.max_columns\", 8)\n",
    "pd.set_option(\"display.precision\", 2)\n",
    "\n",
    "# Printando o DataFrame.\n",
    "prob = bpd.DataFrame()\n",
    "prob = prob.assign(n = np.arange(1, N + 1, 1), p_n = probs)\n",
    "prob"
   ]
  },
  {
   "cell_type": "code",
   "execution_count": 99,
   "metadata": {},
   "outputs": [
    {
     "data": {
      "text/html": [
       "<div>\n",
       "<style scoped>\n",
       "    .dataframe tbody tr th:only-of-type {\n",
       "        vertical-align: middle;\n",
       "    }\n",
       "\n",
       "    .dataframe tbody tr th {\n",
       "        vertical-align: top;\n",
       "    }\n",
       "\n",
       "    .dataframe thead th {\n",
       "        text-align: right;\n",
       "    }\n",
       "</style>\n",
       "<table border=\"1\" class=\"dataframe\">\n",
       "  <thead>\n",
       "    <tr style=\"text-align: right;\">\n",
       "      <th></th>\n",
       "      <th>n</th>\n",
       "      <th>p_n</th>\n",
       "    </tr>\n",
       "  </thead>\n",
       "  <tbody>\n",
       "    <tr>\n",
       "      <th>22</th>\n",
       "      <td>23</td>\n",
       "      <td>0.51</td>\n",
       "    </tr>\n",
       "  </tbody>\n",
       "</table>\n",
       "</div>"
      ],
      "text/plain": [
       "     n   p_n\n",
       "22  23  0.51"
      ]
     },
     "execution_count": 99,
     "metadata": {},
     "output_type": "execute_result"
    }
   ],
   "source": [
    "# Consultando a linha correspondente a n = 23.\n",
    "prob[prob.get('n') == 23]"
   ]
  },
  {
   "cell_type": "code",
   "execution_count": 100,
   "metadata": {},
   "outputs": [
    {
     "data": {
      "image/png": "[encoded data removed]",
      "text/plain": [
       "<Figure size 640x480 with 1 Axes>"
      ]
     },
     "metadata": {},
     "output_type": "display_data"
    }
   ],
   "source": [
    "# Alternativamente, podemos fazer um gráfico de linhas com os valores.\n",
    "prob.plot(x = 'n', y = 'p_n', kind = 'line')\n",
    "plt.axvline(23, linestyle = '--', color = 'C1');\n",
    "plt.axhline(0.50, linestyle = '--', color = 'C1');"
   ]
  },
  {
   "cell_type": "markdown",
   "metadata": {},
   "source": [
    "- Finalmente, a probabilidade calculada através de simulação foi igual a:"
   ]
  },
  {
   "cell_type": "code",
   "execution_count": 102,
   "metadata": {},
   "outputs": [
    {
     "data": {
      "text/plain": [
       "0.5065"
      ]
     },
     "execution_count": 102,
     "metadata": {},
     "output_type": "execute_result"
    }
   ],
   "source": [
    "p_hat"
   ]
  },
  {
   "cell_type": "markdown",
   "metadata": {},
   "source": [
    "e a calculada de maneira exata foi de:"
   ]
  },
  {
   "cell_type": "code",
   "execution_count": 104,
   "metadata": {},
   "outputs": [
    {
     "data": {
      "text/plain": [
       "0.5072972343239854"
      ]
     },
     "execution_count": 104,
     "metadata": {},
     "output_type": "execute_result"
    }
   ],
   "source": [
    "1 - (math.factorial(23) * math.comb(365, 23)) / (365 ** 23)"
   ]
  },
  {
   "cell_type": "markdown",
   "metadata": {},
   "source": [
    "Mais uma vez concluímos que ambas são bem próximas! 👍"
   ]
  },
  {
   "cell_type": "markdown",
   "metadata": {
    "slideshow": {
     "slide_type": "slide"
    }
   },
   "source": [
    "## Resumo\n",
    "\n",
    "#### Podemos utilizar simulação para estimar probabilidades\n",
    "\n",
    "- Calcular probabilidades é importante, mas pode ser difícil!\n",
    "- A simulação nos permite encontrar probabilidades por meio de computadores em vez de utilizar matemática.\n",
    "- Alguns cenários do mundo real são muito complicados, e técnicas de simulação podem ser a única solução em muitos destes casos.\n",
    "\n",
    "#### Como realizar uma simulação\n",
    "\n",
    "Para estimar a probabilidade de um evento por meio de simulação:\n",
    "1. Crie uma função que execute o experimento uma vez.\n",
    "1. Execute essa função muitas e muitas vezes através de um loop `for`, e salve os resultados em um array com `np.append`.\n",
    "1. Calcule a proporção de vezes que o evento ocorre utilizando `np.count_nonzero`."
   ]
  }
 ],
 "metadata": {
  "kernelspec": {
   "display_name": "Python 3 (ipykernel)",
   "language": "python",
   "name": "python3"
  },
  "language_info": {
   "codemirror_mode": {
    "name": "ipython",
    "version": 3
   },
   "file_extension": ".py",
   "mimetype": "text/x-python",
   "name": "python",
   "nbconvert_exporter": "python",
   "pygments_lexer": "ipython3",
   "version": "3.11.7"
  },
  "livereveal": {
   "scroll": true,
   "transition": "none"
  },
  "rise": {
   "enable_chalkboard": true
  }
 },
 "nbformat": 4,
 "nbformat_minor": 4
}
