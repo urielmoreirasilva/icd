{
 "cells": [
  {
   "cell_type": "markdown",
   "metadata": {},
   "source": [
    "# Tópico 11 – Simulação [<img src=\"images/colag_logo.svg\" style=\"float: right; vertical-align: middle; width: 42px; height: 42px;\">](https://colab.research.google.com/github/urielmoreirasilva/urielmoreirasilva.github.io/blob/main/aulas/T%C3%B3pico%2011/11%20%E2%80%93%20Simulacao.ipynb) [<img src=\"images/github_logo.svg\" style=\"float: right; margin-right: 12px; vertical-align: middle; width: 36px; height: 36px;\">](https://github.com/urielmoreirasilva/urielmoreirasilva.github.io/blob/main/aulas/T%C3%B3pico%2011/11%20%E2%80%93%20Simulacao.ipynb)\n",
    "\n",
    "A simulação de dados é essencial na Estatística e em Ciência de Dados. Vamos aprender a combinar o que aprendemos sobre iteração e sobre arrays para realizar simulações e aproximar probabilidades!\n",
    "\n",
    "### Resultados Esperados\n",
    "\n",
    "1. Introduzir método `np.random` para simulação.\n",
    "1. Aprender sobre como utilizar simulação para aproximar probabilidades.\n",
    "1. Discutir sobre o uso das simulações como uma alternativa às soluções exatas para problemas complexos.\n",
    "\n",
    "### Referências\n",
    "- [CIT, Capítulo 9](https://inferentialthinking.com/)\n",
    "\n",
    "Material adaptado do [DSC10 (UCSD)](https://dsc10.com/) por [Flavio Figueiredo (DCC-UFMG)](https://flaviovdf.io/fcd/) e [Uriel Silva (DEST-UFMG)](https://urielmoreirasilva.github.io)"
   ]
  },
  {
   "cell_type": "code",
   "execution_count": 2,
   "metadata": {
    "slideshow": {
     "slide_type": "skip"
    }
   },
   "outputs": [],
   "source": [
    "# Imports: Matplotlib, Numpy, BabyPandas e Pandas.\n",
    "import matplotlib.pyplot as plt\n",
    "import numpy as np\n",
    "import babypandas as bpd\n",
    "import pandas as pd\n",
    "plt.style.use('ggplot')"
   ]
  },
  {
   "cell_type": "markdown",
   "metadata": {
    "slideshow": {
     "slide_type": "slide"
    }
   },
   "source": [
    "## Simulação"
   ]
  },
  {
   "cell_type": "markdown",
   "metadata": {
    "slideshow": {
     "slide_type": "slide"
    }
   },
   "source": [
    "### Ideias básicas\n",
    "\n",
    "- Suponha que queiramos responder a seguinte pergunta: \"Qual é a probabilidade de obtermos 60 ou mais caras no lançamento de 100 moedas (justas)?\" 🤔"
   ]
  },
  {
   "cell_type": "markdown",
   "metadata": {
    "slideshow": {
     "slide_type": "fragment"
    }
   },
   "source": [
    "- Embora com certeza _seja possível_ calcular essa probabilidade \"manualmente\", isto é, utilizando Matemática e Probabilidade, podemos também aproximá-la utilizando um computador:\n",
    "  \n",
    "1. Descubra como fazer o experimento correspondente (ou seja, jogar 100 moedas).\n",
    "1. Execute o experimento várias vezes.\n",
    "1. Encontre a proporção de experimentos em que o número de caras foi igual a 60 ou mais."
   ]
  },
  {
   "cell_type": "markdown",
   "metadata": {
    "slideshow": {
     "slide_type": "fragment"
    }
   },
   "source": [
    "- Nesse curso, esse será nosso principal uso para técnicas de **simulação**.\n",
    "- Isto, é, utilizaremos simulação para aproximar a solução _exata_ do problema no qual estamos interessados.\n",
    "- Embora a maior parte dos problemas que trabalharemos nesse curso _admitam soluções analíticas_, técnicas de simulação são facilmente generalizáveis para os casos onde uma solução analítica seja muito complicada algebricamente, numericamente instável, ou muitas vezes **nem exista**."
   ]
  },
  {
   "cell_type": "markdown",
   "metadata": {},
   "source": [
    "- Apesar do poder das técnicas de simulação ser evidente quando aplicadas para resolver problemas complexos, devemos sempre lembrar que a simulação nos dá sempre uma solução **aproximada**.\n",
    "    - Na maior parte das situações, podemos escolher o quão _boa_ essa aproximação será (em geral ao custo de um esforço computacional maior).\n",
    "- De qualquer maneira, é sempre uma boa ideia realizarmos uma **análise de sensibilidade** para tentar detectar se nossas aproximações sofrem de algum **viés**, ou **erro sistemático**. "
   ]
  },
  {
   "cell_type": "markdown",
   "metadata": {
    "slideshow": {
     "slide_type": "slide"
    }
   },
   "source": [
    "### Simulando um experimento aleatório\n",
    "\n",
    "- Para simular um experimento aleatório, precisamos de uma função adequada para gerar _números aleatórios_ no computador.\n",
    "- Esses números então serão utilizados para representar os resultados de um experimento aleatório (como por exemplo lançar uma moeda, lançar um dado, etc.)."
   ]
  },
  {
   "cell_type": "markdown",
   "metadata": {
    "slideshow": {
     "slide_type": "fragment"
    }
   },
   "source": [
    "- Uma função muito útil nesse contexto é `np.random.choice(options)`.\n",
    "    - A entrada dessa função, `options`, é uma lista ou array com todos os possíveis resultados do experimento desejado.\n",
    "    - A saída dessa função é um elemento selecionado aleatoriamente em `options`.\n",
    "    - Como padrão, todos os elementos de `options` têm a mesma probabilidade de serem escolhidos, isto é, `np.random.choice` amostra probabilidades **uniformes**."
   ]
  },
  {
   "cell_type": "code",
   "execution_count": 10,
   "metadata": {},
   "outputs": [
    {
     "data": {
      "text/plain": [
       "'Tails'"
      ]
     },
     "execution_count": 10,
     "metadata": {},
     "output_type": "execute_result"
    }
   ],
   "source": [
    "# Simulando o lançamento de uma moeda (justa).\n",
    "# Nota: execute essa célula mais de uma vez para ver algo interessante!\n",
    "np.random.choice(['Heads', 'Tails'])"
   ]
  },
  {
   "cell_type": "code",
   "execution_count": 11,
   "metadata": {
    "scrolled": true
   },
   "outputs": [
    {
     "data": {
      "text/plain": [
       "4"
      ]
     },
     "execution_count": 11,
     "metadata": {},
     "output_type": "execute_result"
    }
   ],
   "source": [
    "# Simulando o lançamento de uma dado (de 6 lados).\n",
    "# Nota: execute essa célula mais de uma vez para ver algo interessante!\n",
    "np.random.choice(np.arange(1, 7))"
   ]
  },
  {
   "cell_type": "markdown",
   "metadata": {
    "slideshow": {
     "slide_type": "slide"
    }
   },
   "source": [
    "### Simulando múltiplos experimentos aleatórios\n",
    "\n",
    "- Para simularmos `n` experimentos aleatórios, basta invocar `np.random.choice(options, n)`.\n",
    "- A saída correspondente será um array de `n` elementos selecionados aleatoriamente de `options`."
   ]
  },
  {
   "cell_type": "code",
   "execution_count": 13,
   "metadata": {
    "scrolled": true
   },
   "outputs": [
    {
     "data": {
      "text/plain": [
       "array(['Tails', 'Tails', 'Heads', 'Heads', 'Tails', 'Tails', 'Tails',\n",
       "       'Tails', 'Heads', 'Heads'], dtype='<U5')"
      ]
     },
     "execution_count": 13,
     "metadata": {},
     "output_type": "execute_result"
    }
   ],
   "source": [
    "# Simulando o lançamento de 10 moedas (justas).\n",
    "# Nota: execute essa célula mais de uma vez para ver algo interessante!\n",
    "np.random.choice(['Heads', 'Tails'], 10)"
   ]
  },
  {
   "cell_type": "markdown",
   "metadata": {
    "slideshow": {
     "slide_type": "slide"
    }
   },
   "source": [
    "### Com reposição ou sem reposição? 🤔\n",
    "\n",
    "- Como padrão, `np.random.choice` seleciona elementos de `options` **com** reposição.\n",
    "- Isso significa que, após uma opção ser selecionada, essa opção estará disponível para ser selecionada novamente!"
   ]
  },
  {
   "cell_type": "markdown",
   "metadata": {},
   "source": [
    "- Por exemplo, se ao retirarmos uma bola de gude de um saco, anotarmos alguma característica de interesse e a colocarmos de volta, estaremos selecionando _com_ reposição.\n",
    "- Por outro lado, se ao retirarmos a bola de gude do saco não a colocarmos de volta, estaremos selecionando _sem_ reposição."
   ]
  },
  {
   "cell_type": "markdown",
   "metadata": {},
   "source": [
    "- Para selecionar **sem** reposição, basta invocar `np.random.choice` com a opção `replace = False`."
   ]
  },
  {
   "cell_type": "code",
   "execution_count": 17,
   "metadata": {},
   "outputs": [
    {
     "data": {
      "text/plain": [
       "array(['Earl Warren', 'Eleanor Roosevelt', 'Revelle'], dtype='<U17')"
      ]
     },
     "execution_count": 17,
     "metadata": {},
     "output_type": "execute_result"
    }
   ],
   "source": [
    "# Nesse exemplo, cada elemento de `college` é selecionado apenas uma vez.\n",
    "colleges = ['Revelle', 'John Muir', 'Thurgood Marshall', \n",
    "            'Earl Warren', 'Eleanor Roosevelt', 'Sixth', 'Seventh']\n",
    "\n",
    "np.random.choice(colleges, 3, replace = False)"
   ]
  },
  {
   "cell_type": "markdown",
   "metadata": {
    "slideshow": {
     "slide_type": "slide"
    }
   },
   "source": [
    "## Simulando probabilidades"
   ]
  },
  {
   "cell_type": "markdown",
   "metadata": {},
   "source": [
    "### Exemplo: Probabilidade de obter 60 ou mais caras no lançamento de 100 moedas"
   ]
  },
  {
   "cell_type": "markdown",
   "metadata": {
    "slideshow": {
     "slide_type": "slide"
    }
   },
   "source": [
    "Voltando à nossa pergunta original, vamos detalhar abaixo cada um dos passos da estratégia de simulação que delineamos anteriormente."
   ]
  },
  {
   "cell_type": "markdown",
   "metadata": {
    "slideshow": {
     "slide_type": "slide"
    }
   },
   "source": [
    "#### Passo 1: Descobrir como fazer o experimento \n",
    "\n",
    "- Nesse exemplo, podemos utilizar `np.random.choice` para simular o lançamento de 100 moedas:"
   ]
  },
  {
   "cell_type": "code",
   "execution_count": 38,
   "metadata": {},
   "outputs": [
    {
     "data": {
      "text/plain": [
       "array(['Heads', 'Tails', 'Tails', 'Heads', 'Tails', 'Heads', 'Heads',\n",
       "       'Tails', 'Heads', 'Tails', 'Tails', 'Heads', 'Heads', 'Heads',\n",
       "       'Tails', 'Heads', 'Heads', 'Tails', 'Tails', 'Heads', 'Tails',\n",
       "       'Heads', 'Tails', 'Heads', 'Tails', 'Heads', 'Tails', 'Heads',\n",
       "       'Heads', 'Heads', 'Tails', 'Heads', 'Tails', 'Tails', 'Heads',\n",
       "       'Heads', 'Heads', 'Tails', 'Heads', 'Tails', 'Heads', 'Heads',\n",
       "       'Heads', 'Tails', 'Heads', 'Tails', 'Tails', 'Heads', 'Heads',\n",
       "       'Tails', 'Heads', 'Tails', 'Tails', 'Heads', 'Tails', 'Heads',\n",
       "       'Heads', 'Tails', 'Heads', 'Tails', 'Tails', 'Heads', 'Tails',\n",
       "       'Tails', 'Heads', 'Heads', 'Heads', 'Heads', 'Heads', 'Tails',\n",
       "       'Tails', 'Heads', 'Tails', 'Heads', 'Tails', 'Tails', 'Heads',\n",
       "       'Tails', 'Tails', 'Heads', 'Heads', 'Tails', 'Heads', 'Tails',\n",
       "       'Tails', 'Tails', 'Heads', 'Tails', 'Tails', 'Heads', 'Heads',\n",
       "       'Tails', 'Tails', 'Heads', 'Tails', 'Heads', 'Tails', 'Tails',\n",
       "       'Tails', 'Tails'], dtype='<U5')"
      ]
     },
     "execution_count": 38,
     "metadata": {},
     "output_type": "execute_result"
    }
   ],
   "source": [
    "coins = np.random.choice(['Heads', 'Tails'], 100)\n",
    "coins"
   ]
  },
  {
   "cell_type": "markdown",
   "metadata": {},
   "source": [
    "e depois, podemos contar o número de caras utilizando a função `np.count_nonzero`:"
   ]
  },
  {
   "cell_type": "code",
   "execution_count": 45,
   "metadata": {},
   "outputs": [
    {
     "data": {
      "text/plain": [
       "50"
      ]
     },
     "execution_count": 45,
     "metadata": {},
     "output_type": "execute_result"
    }
   ],
   "source": [
    "np.count_nonzero(coins == 'Heads')"
   ]
  },
  {
   "cell_type": "markdown",
   "metadata": {},
   "source": [
    "- Em essência, a função `np.count_nonzero(array)` retorna o número de entradas em `array` que são `True`."
   ]
  },
  {
   "cell_type": "code",
   "execution_count": 53,
   "metadata": {},
   "outputs": [
    {
     "data": {
      "text/plain": [
       "array([ True, False, False,  True, False,  True,  True, False,  True,\n",
       "       False, False,  True,  True,  True, False,  True,  True, False,\n",
       "       False,  True, False,  True, False,  True, False,  True, False,\n",
       "        True,  True,  True, False,  True, False, False,  True,  True,\n",
       "        True, False,  True, False,  True,  True,  True, False,  True,\n",
       "       False, False,  True,  True, False,  True, False, False,  True,\n",
       "       False,  True,  True, False,  True, False, False,  True, False,\n",
       "       False,  True,  True,  True,  True,  True, False, False,  True,\n",
       "       False,  True, False, False,  True, False, False,  True,  True,\n",
       "       False,  True, False, False, False,  True, False, False,  True,\n",
       "        True, False, False,  True, False,  True, False, False, False,\n",
       "       False])"
      ]
     },
     "execution_count": 53,
     "metadata": {},
     "output_type": "execute_result"
    }
   ],
   "source": [
    "coins == 'Heads'"
   ]
  },
  {
   "cell_type": "markdown",
   "metadata": {},
   "source": [
    "Lembrando que as booleanas `True` e `False` são codificadas no Python como sendo iguas a 1 e 0, respectivamente, podemos alternativamente contar o número de caras através de:"
   ]
  },
  {
   "cell_type": "code",
   "execution_count": 58,
   "metadata": {},
   "outputs": [
    {
     "data": {
      "text/plain": [
       "50"
      ]
     },
     "execution_count": 58,
     "metadata": {},
     "output_type": "execute_result"
    }
   ],
   "source": [
    "(coins == 'Heads').sum()"
   ]
  },
  {
   "cell_type": "markdown",
   "metadata": {},
   "source": [
    "Isso também motiva o nome da função `count_nonzero`: como `False == 0`, a função conta os elementos diferentes de 0, isto é, aqueles que são iguais a `True`. "
   ]
  },
  {
   "cell_type": "markdown",
   "metadata": {
    "slideshow": {
     "slide_type": "slide"
    }
   },
   "source": [
    "#### Interlúdio: Definindo uma função para simular o experimento aleatório\n",
    "\n",
    "- Para facilitar a repetição do experimento (e aumentar a legibilidade do código), podemos definir uma função para executar o Passo 1 acima:"
   ]
  },
  {
   "cell_type": "code",
   "execution_count": 73,
   "metadata": {},
   "outputs": [],
   "source": [
    "def coin_experiment():\n",
    "    '''Simulates 100 (fair) coin tosses and returns the number of Heads.'''\n",
    "    coins = np.random.choice(['Heads', 'Tails'], 100)\n",
    "    return np.count_nonzero(coins == 'Heads')"
   ]
  },
  {
   "cell_type": "code",
   "execution_count": 81,
   "metadata": {},
   "outputs": [
    {
     "data": {
      "text/plain": [
       "\u001b[1;31mSignature:\u001b[0m \u001b[0mcoin_experiment\u001b[0m\u001b[1;33m(\u001b[0m\u001b[1;33m)\u001b[0m\u001b[1;33m\u001b[0m\u001b[1;33m\u001b[0m\u001b[0m\n",
       "\u001b[1;31mDocstring:\u001b[0m Simulates 100 (fair) coin tosses and returns the number of Heads.\n",
       "\u001b[1;31mFile:\u001b[0m      c:\\users\\uriel\\appdata\\local\\temp\\ipykernel_1160\\3756918760.py\n",
       "\u001b[1;31mType:\u001b[0m      function"
      ]
     },
     "metadata": {},
     "output_type": "display_data"
    }
   ],
   "source": [
    "coin_experiment?"
   ]
  },
  {
   "cell_type": "code",
   "execution_count": 83,
   "metadata": {},
   "outputs": [
    {
     "data": {
      "text/plain": [
       "53"
      ]
     },
     "execution_count": 83,
     "metadata": {},
     "output_type": "execute_result"
    }
   ],
   "source": [
    "coin_experiment()"
   ]
  },
  {
   "cell_type": "markdown",
   "metadata": {
    "slideshow": {
     "slide_type": "slide"
    }
   },
   "source": [
    "#### Passo 2: Repetir o experimento várias vezes\n",
    "\n",
    "- Como vimos no Tópico 08, podemos repetir o mesmo código muitas vezes **utilizando um loop `for`!**\n",
    "- Cada vez que simularmos o experimento, precisaremos armazenar os resultados em um array.\n",
    "    - Faremos isso aqui através da função `np.append`."
   ]
  },
  {
   "cell_type": "markdown",
   "metadata": {},
   "source": [
    "Para ilustrar o uso do `np.append`, começamos com um array vazio:"
   ]
  },
  {
   "cell_type": "code",
   "execution_count": 191,
   "metadata": {},
   "outputs": [
    {
     "data": {
      "text/plain": [
       "array([], dtype=float64)"
      ]
     },
     "execution_count": 191,
     "metadata": {},
     "output_type": "execute_result"
    }
   ],
   "source": [
    "head_counts = np.array([])\n",
    "head_counts"
   ]
  },
  {
   "cell_type": "markdown",
   "metadata": {},
   "source": [
    "Fazemos então um append ao array existente:"
   ]
  },
  {
   "cell_type": "code",
   "execution_count": 193,
   "metadata": {},
   "outputs": [
    {
     "data": {
      "text/plain": [
       "array([15.])"
      ]
     },
     "execution_count": 193,
     "metadata": {},
     "output_type": "execute_result"
    }
   ],
   "source": [
    "head_counts = np.append(head_counts, 15)\n",
    "head_counts"
   ]
  },
  {
   "cell_type": "markdown",
   "metadata": {},
   "source": [
    "e mais um:"
   ]
  },
  {
   "cell_type": "code",
   "execution_count": 199,
   "metadata": {},
   "outputs": [
    {
     "data": {
      "text/plain": [
       "array([15., 25., 25.])"
      ]
     },
     "execution_count": 199,
     "metadata": {},
     "output_type": "execute_result"
    }
   ],
   "source": [
    "head_counts = np.append(head_counts, 25)\n",
    "head_counts"
   ]
  },
  {
   "cell_type": "markdown",
   "metadata": {},
   "source": [
    "... e assim por diante."
   ]
  },
  {
   "cell_type": "markdown",
   "metadata": {},
   "source": [
    "Nosso `for` para repetir o experimento aleatório várias vezes então fica assim:"
   ]
  },
  {
   "cell_type": "code",
   "execution_count": 207,
   "metadata": {
    "slideshow": {
     "slide_type": "-"
    }
   },
   "outputs": [],
   "source": [
    "# Número de repetições.\n",
    "repetitions = 10000\n",
    "\n",
    "# Começamos com um array vazio para armazenar os resultados.\n",
    "head_counts = np.array([])\n",
    "\n",
    "# Loop for.\n",
    "for i in np.arange(repetitions):\n",
    "    # For each repetition, run the experiment and add the result to head_counts\n",
    "    head_count = coin_experiment()\n",
    "    head_counts = np.append(head_counts, head_count)"
   ]
  },
  {
   "cell_type": "code",
   "execution_count": 209,
   "metadata": {
    "scrolled": true
   },
   "outputs": [
    {
     "data": {
      "text/plain": [
       "10000"
      ]
     },
     "execution_count": 209,
     "metadata": {},
     "output_type": "execute_result"
    }
   ],
   "source": [
    "len(head_counts)"
   ]
  },
  {
   "cell_type": "code",
   "execution_count": 211,
   "metadata": {},
   "outputs": [
    {
     "data": {
      "text/plain": [
       "array([53., 48., 61., ..., 49., 50., 44.])"
      ]
     },
     "execution_count": 211,
     "metadata": {},
     "output_type": "execute_result"
    }
   ],
   "source": [
    "head_counts"
   ]
  },
  {
   "cell_type": "markdown",
   "metadata": {
    "slideshow": {
     "slide_type": "slide"
    }
   },
   "source": [
    "#### Passo 3: Encontrar a proporção de experimentos em que o número de caras foi igual a 60 ou mais\n",
    "\n",
    "- Calculamos agora então a proporção $\\hat{p}$ dos experimentos em que o número de caras foi igual a 60 ou mais.\n",
    "- Essa medida de _frequência_ nos fornece a **probabilidade estimada** do nosso evento, isto é, \"obter 60 ou mais caras em 100 lançamentos de uma moeda\"."
   ]
  },
  {
   "cell_type": "markdown",
   "metadata": {},
   "source": [
    "O _número de experimentos_ em que o número de caras observado foi igual a 60 ou mais é:"
   ]
  },
  {
   "cell_type": "code",
   "execution_count": 224,
   "metadata": {},
   "outputs": [
    {
     "data": {
      "text/plain": [
       "311"
      ]
     },
     "execution_count": 224,
     "metadata": {},
     "output_type": "execute_result"
    }
   ],
   "source": [
    "at_least_60 = np.count_nonzero(head_counts >= 60)\n",
    "at_least_60"
   ]
  },
  {
   "cell_type": "markdown",
   "metadata": {},
   "source": [
    "e a _proporção correspondente_ $\\hat{p}$, isto é, sobre todos as repetições do experimento aleatório, é igual a"
   ]
  },
  {
   "cell_type": "code",
   "execution_count": 228,
   "metadata": {},
   "outputs": [
    {
     "data": {
      "text/plain": [
       "0.0311"
      ]
     },
     "execution_count": 228,
     "metadata": {},
     "output_type": "execute_result"
    }
   ],
   "source": [
    "p_hat = at_least_60 / repetitions\n",
    "p_hat"
   ]
  },
  {
   "cell_type": "markdown",
   "metadata": {},
   "source": [
    "Lembrando que a soma das booleanas de uma array nos dá sempre o número de elementos que são iguais a `True`, a proporção $\\hat{p}$ é igual a _média das booleanas correspondentes_, que em Probabilidade denominamos de **indicadoras da ocorrência de um evento**:"
   ]
  },
  {
   "cell_type": "code",
   "execution_count": 233,
   "metadata": {},
   "outputs": [
    {
     "data": {
      "text/plain": [
       "array([False, False,  True, ..., False, False, False])"
      ]
     },
     "execution_count": 233,
     "metadata": {},
     "output_type": "execute_result"
    }
   ],
   "source": [
    "head_counts >= 60"
   ]
  },
  {
   "cell_type": "code",
   "execution_count": 235,
   "metadata": {},
   "outputs": [
    {
     "data": {
      "text/plain": [
       "0.0311"
      ]
     },
     "execution_count": 235,
     "metadata": {},
     "output_type": "execute_result"
    }
   ],
   "source": [
    "np.mean(head_counts >= 60)"
   ]
  },
  {
   "cell_type": "markdown",
   "metadata": {
    "slideshow": {
     "slide_type": "slide"
    }
   },
   "source": [
    "#### Visualizando a distribuição dos experimentos aleatórios simulados\n",
    "\n",
    "- O histograma abaixo :\n",
    "- Lembre que, "
   ]
  },
  {
   "cell_type": "markdown",
   "metadata": {
    "slideshow": {
     "slide_type": "-"
    }
   },
   "source": [
    "- Este histograma descreve a distribuição do número de cabeças em cada experimento.\n",
    "- Agora vemos outra razão para usar histogramas de densidade.\n",
    "- Usar densidade significa que as áreas se aproximam de **probabilidades**."
   ]
  },
  {
   "cell_type": "code",
   "execution_count": 238,
   "metadata": {},
   "outputs": [
    {
     "data": {
      "image/png": "[encoded data removed]",
      "text/plain": [
       "<Figure size 1000x500 with 1 Axes>"
      ]
     },
     "metadata": {},
     "output_type": "display_data"
    }
   ],
   "source": [
    "bpd.DataFrame().assign(\n",
    "    Number_of_Heads=head_counts\n",
    ").plot(kind='hist', bins=np.arange(30, 70), density=True, ec='w', figsize=(10, 5));\n",
    "plt.axvline(60, color='C1');"
   ]
  },
  {
   "cell_type": "markdown",
   "metadata": {},
   "source": [
    "#### Comparando o resultado simulado com o verdadeiro"
   ]
  },
  {
   "cell_type": "markdown",
   "metadata": {},
   "source": [
    "Isso está bem próximo da verdadeira resposta teórica!"
   ]
  },
  {
   "cell_type": "code",
   "execution_count": 186,
   "metadata": {},
   "outputs": [
    {
     "data": {
      "text/plain": [
       "0.028443966820490392"
      ]
     },
     "execution_count": 186,
     "metadata": {},
     "output_type": "execute_result"
    }
   ],
   "source": [
    "# The theoretical answer – don't worry about how or why this code works\n",
    "import math\n",
    "sum([math.comb(100, i) * (1 / 2) ** 100 for i in np.arange(60, 101)])"
   ]
  },
  {
   "cell_type": "markdown",
   "metadata": {},
   "source": [
    "binomial [*]"
   ]
  },
  {
   "cell_type": "markdown",
   "metadata": {},
   "source": [
    "curva sobreposta com os verdadeiros valores da binomial"
   ]
  },
  {
   "cell_type": "markdown",
   "metadata": {
    "slideshow": {
     "slide_type": "slide"
    }
   },
   "source": [
    "## Exemplo: O problema dos aniversários"
   ]
  },
  {
   "cell_type": "code",
   "execution_count": 166,
   "metadata": {},
   "outputs": [
    {
     "data": {
      "text/plain": [
       "15"
      ]
     },
     "execution_count": 166,
     "metadata": {},
     "output_type": "execute_result"
    }
   ],
   "source": [
    "import math as math\n",
    "math.factorial(3)\n",
    "math.comb(6, 2)\n",
    "\n",
    "# print, change display (see other classes)"
   ]
  },
  {
   "cell_type": "code",
   "execution_count": 164,
   "metadata": {},
   "outputs": [
    {
     "data": {
      "text/html": [
       "<div>\n",
       "<style scoped>\n",
       "    .dataframe tbody tr th:only-of-type {\n",
       "        vertical-align: middle;\n",
       "    }\n",
       "\n",
       "    .dataframe tbody tr th {\n",
       "        vertical-align: top;\n",
       "    }\n",
       "\n",
       "    .dataframe thead th {\n",
       "        text-align: right;\n",
       "    }\n",
       "</style>\n",
       "<table border=\"1\" class=\"dataframe\">\n",
       "  <thead>\n",
       "    <tr style=\"text-align: right;\">\n",
       "      <th></th>\n",
       "      <th>n</th>\n",
       "      <th>p_n</th>\n",
       "    </tr>\n",
       "  </thead>\n",
       "  <tbody>\n",
       "    <tr>\n",
       "      <th>0</th>\n",
       "      <td>1</td>\n",
       "      <td>0.000000</td>\n",
       "    </tr>\n",
       "    <tr>\n",
       "      <th>1</th>\n",
       "      <td>2</td>\n",
       "      <td>0.002740</td>\n",
       "    </tr>\n",
       "    <tr>\n",
       "      <th>2</th>\n",
       "      <td>3</td>\n",
       "      <td>0.008204</td>\n",
       "    </tr>\n",
       "    <tr>\n",
       "      <th>3</th>\n",
       "      <td>4</td>\n",
       "      <td>0.016356</td>\n",
       "    </tr>\n",
       "    <tr>\n",
       "      <th>4</th>\n",
       "      <td>5</td>\n",
       "      <td>0.027136</td>\n",
       "    </tr>\n",
       "    <tr>\n",
       "      <th>...</th>\n",
       "      <td>...</td>\n",
       "      <td>...</td>\n",
       "    </tr>\n",
       "    <tr>\n",
       "      <th>18</th>\n",
       "      <td>19</td>\n",
       "      <td>0.379119</td>\n",
       "    </tr>\n",
       "    <tr>\n",
       "      <th>19</th>\n",
       "      <td>20</td>\n",
       "      <td>0.411438</td>\n",
       "    </tr>\n",
       "    <tr>\n",
       "      <th>20</th>\n",
       "      <td>21</td>\n",
       "      <td>0.443688</td>\n",
       "    </tr>\n",
       "    <tr>\n",
       "      <th>21</th>\n",
       "      <td>22</td>\n",
       "      <td>0.475695</td>\n",
       "    </tr>\n",
       "    <tr>\n",
       "      <th>22</th>\n",
       "      <td>23</td>\n",
       "      <td>0.507297</td>\n",
       "    </tr>\n",
       "  </tbody>\n",
       "</table>\n",
       "<p>23 rows × 2 columns</p>\n",
       "</div>"
      ],
      "text/plain": [
       "     n       p_n\n",
       "0    1  0.000000\n",
       "1    2  0.002740\n",
       "2    3  0.008204\n",
       "3    4  0.016356\n",
       "4    5  0.027136\n",
       "..  ..       ...\n",
       "18  19  0.379119\n",
       "19  20  0.411438\n",
       "20  21  0.443688\n",
       "21  22  0.475695\n",
       "22  23  0.507297\n",
       "\n",
       "[23 rows x 2 columns]"
      ]
     },
     "execution_count": 164,
     "metadata": {},
     "output_type": "execute_result"
    }
   ],
   "source": [
    "N = 23\n",
    "probs = []\n",
    "for n in np.arange(1, N + 1, 1):\n",
    "    i_n = int(n)\n",
    "    prob_an = 1 - (math.factorial(i_n) * math.comb(365, i_n)) / (365 ** i_n)\n",
    "    probs = np.append(probs, prob_an)\n",
    "\n",
    "prob = bpd.DataFrame()\n",
    "prob.assign(n = np.arange(1, N + 1, 1), p_n = probs)"
   ]
  },
  {
   "cell_type": "code",
   "execution_count": null,
   "metadata": {},
   "outputs": [],
   "source": []
  },
  {
   "cell_type": "code",
   "execution_count": null,
   "metadata": {},
   "outputs": [],
   "source": []
  },
  {
   "cell_type": "code",
   "execution_count": null,
   "metadata": {},
   "outputs": [],
   "source": []
  },
  {
   "cell_type": "markdown",
   "metadata": {
    "slideshow": {
     "slide_type": "slide"
    }
   },
   "source": [
    "![](https://upload.wikimedia.org/wikipedia/commons/thumb/3/3f/Monty_open_door.svg/1920px-Monty_open_door.svg.png)"
   ]
  },
  {
   "cell_type": "markdown",
   "metadata": {
    "slideshow": {
     "slide_type": "slide"
    }
   },
   "source": [
    "### O problema de \"Monty Hall\"\n",
    "\n",
    "Suponha que você esteja em um game show e tenha a opção de escolher entre três portas: atrás de uma porta está um carro 🚗; atrás dos outros, cabras 🐐🐐.\n",
    "\n",
    "- Você escolhe uma porta, digamos a nº 2, e o anfitrião, **que sabe o que tem atrás das portas**, abre outra porta, digamos a nº 3, que tem uma cabra.\n",
    "\n",
    "- Ele então diz para você: “Você quer escolher a porta número 1?”\n",
    "\n",
    "- **Pergunta:** É vantajoso mudar de escolha?\n",
    "\n",
    "_(A questão foi colocada na coluna \"Ask Marilyn\" da revista Parade em 1990. É chamada de \"problema de Monty Hall\" porque Monty Hall apresentou um game show semelhante chamado \"Let's Make a Deal\".)_"
   ]
  },
  {
   "cell_type": "markdown",
   "metadata": {
    "slideshow": {
     "slide_type": "slide"
    }
   },
   "source": [
    "### Verificação de conceito ✅\n",
    "\n",
    "Você selecionou originalmente a porta nº 2. O anfitrião revela que a porta nº 3 tem uma cabra atrás dela. O que você deveria fazer?\n",
    "\n",
    "A. É melhor ficar com a porta número 2; tem chances tão altas de vencer quanto a porta número 1. Não importa se você muda ou não.\n",
    "\n",
    "B. Mude para a porta número 1; tem uma chance maior de vencer do que a porta 2."
   ]
  },
  {
   "cell_type": "markdown",
   "metadata": {
    "slideshow": {
     "slide_type": "slide"
    }
   },
   "source": [
    "### Vamos ver 🤔\n",
    "\n",
    "- Usaremos simulação para calcular:\n",
    "- A probabilidade de ganhar se mudarmos.\n",
    "- A probabilidade de ganhar se ficarmos.\n",
    "- Qualquer estratégia que tenha maior probabilidade de ganhar é melhor!"
   ]
  },
  {
   "cell_type": "markdown",
   "metadata": {
    "slideshow": {
     "slide_type": "slide"
    }
   },
   "source": [
    "### Hora de simular!\n",
    "\n",
    "Vamos **simular** o problema de Monty Hall muitas vezes para **estimar** a probabilidade de vitória se mudarmos.\n",
    "\n",
    "1. Descubra como simular um jogo de Monty Hall.\n",
    "2. Jogue o jogo várias vezes, trocando a cada vez.\n",
    "3. Conte a proporção de vitórias.\n",
    "\n",
    "Então repetiremos o processo para ficar a cada vez."
   ]
  },
  {
   "cell_type": "markdown",
   "metadata": {
    "slideshow": {
     "slide_type": "slide"
    }
   },
   "source": [
    "### Passo 1: Simule um único jogo\n",
    "\n",
    "Quando você escolhe uma porta, há três resultados igualmente prováveis:\n",
    "\n",
    "1. Carro.\n",
    "1. Cabra nº 1.\n",
    "1. Cabra #2."
   ]
  },
  {
   "cell_type": "code",
   "execution_count": null,
   "metadata": {},
   "outputs": [],
   "source": [
    "behind_picked_door = np.random.choice(['Car', 'Goat #1', 'Goat #2'])\n",
    "behind_picked_door"
   ]
  },
  {
   "cell_type": "markdown",
   "metadata": {
    "slideshow": {
     "slide_type": "slide"
    }
   },
   "source": [
    "### Passo 1: Simule um único jogo\n",
    "\n",
    "Quando Monty abre uma porta diferente, ele sempre revela uma cabra."
   ]
  },
  {
   "cell_type": "code",
   "execution_count": null,
   "metadata": {},
   "outputs": [],
   "source": [
    "if behind_picked_door == 'Goat #1':\n",
    "    revealed = 'Goat #2'\n",
    "elif behind_picked_door == 'Goat #2':\n",
    "    revealed = 'Goat #1'\n",
    "else:\n",
    "    revealed = np.random.choice(['Goat #1', 'Goat #2'])\n",
    "\n",
    "revealed"
   ]
  },
  {
   "cell_type": "markdown",
   "metadata": {
    "slideshow": {
     "slide_type": "slide"
    }
   },
   "source": [
    "### Passo 1: Simule um único jogo"
   ]
  },
  {
   "cell_type": "markdown",
   "metadata": {},
   "source": [
    "Se você sempre trocar, acabará ganhando o prêmio que não está nem `behind_picked_door` nem `revealed`."
   ]
  },
  {
   "cell_type": "code",
   "execution_count": null,
   "metadata": {},
   "outputs": [],
   "source": [
    "for prize in ['Car', 'Goat #1', 'Goat #2']:\n",
    "    if prize != behind_picked_door and prize != revealed:\n",
    "        your_prize = prize\n",
    "\n",
    "your_prize"
   ]
  },
  {
   "cell_type": "markdown",
   "metadata": {
    "slideshow": {
     "slide_type": "slide"
    }
   },
   "source": [
    "### Passo 1: Simule um único jogo\n",
    "\n",
    "Vamos transformar isso em uma função para facilitar a repetição:"
   ]
  },
  {
   "cell_type": "code",
   "execution_count": null,
   "metadata": {},
   "outputs": [],
   "source": [
    "def simulate_switch_strategy():\n",
    "    behind_picked_door = np.random.choice(['Car', 'Goat #1', 'Goat #2'])\n",
    "    \n",
    "    if behind_picked_door == 'Goat #1':\n",
    "        revealed = 'Goat #2'\n",
    "    elif behind_picked_door == 'Goat #2':\n",
    "        revealed = 'Goat #1'\n",
    "    else:\n",
    "        revealed = np.random.choice(['Goat #1', 'Goat #2'])\n",
    "        \n",
    "    for prize in ['Car', 'Goat #1', 'Goat #2']:\n",
    "        if prize != behind_picked_door and prize != revealed:\n",
    "            your_prize = prize\n",
    "        \n",
    "    #print(behind_picked_door, 'was behind the door.', revealed, 'was revealed by the host. Your prize was:', your_prize)\n",
    "    return your_prize"
   ]
  },
  {
   "cell_type": "code",
   "execution_count": null,
   "metadata": {},
   "outputs": [],
   "source": [
    "simulate_switch_strategy()"
   ]
  },
  {
   "cell_type": "markdown",
   "metadata": {
    "slideshow": {
     "slide_type": "slide"
    }
   },
   "source": [
    "### Etapa 2: jogue o jogo várias vezes\n",
    "\n",
    "Devemos guardar seu prêmio em cada jogo. Para fazer isso, vamos usar `np.append`:"
   ]
  },
  {
   "cell_type": "code",
   "execution_count": null,
   "metadata": {},
   "outputs": [],
   "source": [
    "repetitions = 10000\n",
    "\n",
    "your_prizes = np.array([])\n",
    "\n",
    "for i in np.arange(repetitions):\n",
    "    your_prize = simulate_switch_strategy()\n",
    "    your_prizes = np.append(your_prizes, your_prize)"
   ]
  },
  {
   "cell_type": "code",
   "execution_count": null,
   "metadata": {},
   "outputs": [],
   "source": [
    "your_prizes"
   ]
  },
  {
   "cell_type": "markdown",
   "metadata": {
    "slideshow": {
     "slide_type": "slide"
    }
   },
   "source": [
    "### Etapa 3: contar a proporção de vitórias para esta estratégia (troca)"
   ]
  },
  {
   "cell_type": "code",
   "execution_count": null,
   "metadata": {},
   "outputs": [],
   "source": [
    "your_prizes"
   ]
  },
  {
   "cell_type": "code",
   "execution_count": null,
   "metadata": {},
   "outputs": [],
   "source": [
    "np.count_nonzero(your_prizes == 'Car')"
   ]
  },
  {
   "cell_type": "code",
   "execution_count": null,
   "metadata": {},
   "outputs": [],
   "source": [
    "np.count_nonzero(your_prizes == 'Car') / repetitions"
   ]
  },
  {
   "cell_type": "markdown",
   "metadata": {
    "slideshow": {
     "slide_type": "fragment"
    }
   },
   "source": [
    "Isso está bem próximo da verdadeira probabilidade de ganhar se você trocar, $\\frac{2}{3}$."
   ]
  },
  {
   "cell_type": "markdown",
   "metadata": {
    "slideshow": {
     "slide_type": "slide"
    }
   },
   "source": [
    "### Implementação alternativa\n",
    "\n",
    "- Analisando nossa implementação, monitoramos seu prêmio em cada jogo."
   ]
  },
  {
   "cell_type": "markdown",
   "metadata": {
    "slideshow": {
     "slide_type": "fragment"
    }
   },
   "source": [
    "- No entanto, tudo o que realmente precisávamos saber era o **número de jogos** em que você ganhou um carro."
   ]
  },
  {
   "cell_type": "markdown",
   "metadata": {
    "slideshow": {
     "slide_type": "fragment"
    }
   },
   "source": [
    "- Ideia: Mantenha um registro do número de vezes que você ganhou um carro. Ou seja, inicialize `car_count` com 0 e adicione 1 sempre que seu prêmio for um carro."
   ]
  },
  {
   "cell_type": "code",
   "execution_count": null,
   "metadata": {},
   "outputs": [],
   "source": [
    "car_count = 0"
   ]
  },
  {
   "cell_type": "code",
   "execution_count": null,
   "metadata": {},
   "outputs": [],
   "source": [
    "for i in np.arange(repetitions):\n",
    "    your_prize = simulate_switch_strategy()\n",
    "    if your_prize == 'Car':\n",
    "        car_count = car_count + 1"
   ]
  },
  {
   "cell_type": "code",
   "execution_count": null,
   "metadata": {},
   "outputs": [],
   "source": [
    "car_count / repetitions"
   ]
  },
  {
   "cell_type": "markdown",
   "metadata": {
    "slideshow": {
     "slide_type": "fragment"
    }
   },
   "source": [
    "Não são necessárias matrizes! Esta estratégia nem sempre funciona; depende do objetivo da simulação."
   ]
  },
  {
   "cell_type": "markdown",
   "metadata": {},
   "source": [
    "### E se você ficar sempre com sua porta original?\n",
    "\n",
    "- Neste caso, o seu prêmio é sempre o mesmo que estava atrás da porta escolhida."
   ]
  },
  {
   "cell_type": "code",
   "execution_count": null,
   "metadata": {},
   "outputs": [],
   "source": [
    "car_count = 0\n",
    "\n",
    "for i in np.arange(repetitions):\n",
    "    behind_picked_door = np.random.choice(['Car', 'Goat #1', 'Goat #2'])\n",
    "    your_prize = behind_picked_door\n",
    "    if your_prize == 'Car':\n",
    "        car_count = car_count + 1\n",
    "        \n",
    "car_count / repetitions"
   ]
  },
  {
   "cell_type": "markdown",
   "metadata": {
    "slideshow": {
     "slide_type": "fragment"
    }
   },
   "source": [
    "- Isso é bem próximo da verdadeira probabilidade de ganhar se você ficar, $\\frac{1}{3}$."
   ]
  },
  {
   "cell_type": "markdown",
   "metadata": {
    "slideshow": {
     "slide_type": "fragment"
    }
   },
   "source": [
    "- **Conclusão:** É melhor mudar."
   ]
  },
  {
   "cell_type": "markdown",
   "metadata": {
    "slideshow": {
     "slide_type": "fragment"
    }
   },
   "source": [
    "- **Explicação:**\n",
    "- Se você escolher originalmente uma cabra, Monty revelará a outra cabra e você ganhará o carro trocando.\n",
    "- Se você escolher originalmente um carro, você ganhará ficando.\n",
    "- Mas há 2 cabras e 1 carro, então você ganha o dobro trocando."
   ]
  },
  {
   "attachments": {},
   "cell_type": "markdown",
   "metadata": {
    "slideshow": {
     "slide_type": "slide"
    }
   },
   "source": [
    "### Coluna de Marilyn vos Savant na revista Parade\n",
    "\n",
    "![](https://parade.com/.image/ar_1:1%2Cc_fill%2Ccs_srgb%2Cfl_progressive%2Cq_auto:good%2Cw_1200/MTkwNTc4NzM1NjQ4MTU1NTE2/marilynfirstquestions.jpg)\n",
    "\n",
    "<div style=\"display: flex; margem superior: 0,5 pol; margem direita: 1 pol\">\n",
    "<div style=\"largura: 85%;\">\n",
    "<ul>\n",
    "<li>Quando um leitor fez esta pergunta, vos Savant afirmou a resposta correta: <i>switch</i>.</li>\n",
    "<li>Ela recebeu mais de 10.000 cartas em desacordo, incluindo mais de 1.000 cartas de pessoas com doutorado.</li>\n",
    "<li>Isso se tornou uma controvérsia nacional, recebendo até um <a href='https://www.nytimes.com/1991/07/21/us/behind-monty-hall-s-doors-puzzle-debate-and -answer.html'>artigo de primeira página do New York Times em 1991.</a></li>\n",
    "</ul>\n",
    "</div>\n",
    "</div>\n",
    "\n",
    "\n",
    "### Qual a intuição da resposta?\n",
    "\n",
    "1. Abaixo temos todas as três configurções iniciais (nas linhas). Em duas delas, trocar é melhor. Em uma não.\n",
    "\n",
    "![](https://upload.wikimedia.org/wikipedia/commons/thumb/4/41/Monty_Hall_Problem_-_Standard_probabilities.svg/1024px-Monty_Hall_Problem_-_Standard_probabilities.svg.png)"
   ]
  },
  {
   "cell_type": "markdown",
   "metadata": {
    "slideshow": {
     "slide_type": "slide"
    }
   },
   "source": [
    "## Resumo [*]\n",
    "\n",
    "#### Simulação encontra probabilidades\n",
    "\n",
    "- Calcular probabilidades é importante, mas pode ser difícil!\n",
    "- Você aprenderá muitas fórmulas nas futuras aulas do DSC.\n",
    "- A simulação nos permite encontrar probabilidades por meio da computação em vez da matemática.\n",
    "- Muitos cenários do mundo real são complicados.\n",
    "- A simulação é muito mais fácil que a matemática em muitos destes casos.\n",
    "\n",
    "#### A \"receita\" da simulação\n",
    "\n",
    "Para estimar a probabilidade de um evento por meio de simulação:\n",
    "1. Crie uma função que execute o experimento uma vez.\n",
    "2. Execute essa função muitas e muitas vezes (geralmente 10.000) com um loop `for` e salve os resultados em um array com `np.append`.\n",
    "3. Calcule a proporção de vezes que o evento ocorre usando `np.count_nonzero`."
   ]
  }
 ],
 "metadata": {
  "kernelspec": {
   "display_name": "Python 3 (ipykernel)",
   "language": "python",
   "name": "python3"
  },
  "language_info": {
   "codemirror_mode": {
    "name": "ipython",
    "version": 3
   },
   "file_extension": ".py",
   "mimetype": "text/x-python",
   "name": "python",
   "nbconvert_exporter": "python",
   "pygments_lexer": "ipython3",
   "version": "3.11.7"
  },
  "livereveal": {
   "scroll": true,
   "transition": "none"
  },
  "rise": {
   "enable_chalkboard": true
  }
 },
 "nbformat": 4,
 "nbformat_minor": 4
}
