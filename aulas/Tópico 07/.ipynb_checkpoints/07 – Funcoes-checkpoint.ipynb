{
 "cells": [
  {
   "cell_type": "markdown",
   "metadata": {},
   "source": [
    "# Tópico 07 – Funções e Apply [<img src=\"images/colag_logo.svg\" style=\"float: right; vertical-align: middle; width: 42px; height: 42px;\">](https://colab.research.google.com/github/urielmoreirasilva/urielmoreirasilva.github.io/blob/main/aulas/T%C3%B3pico%2007/07%20%E2%80%93%20Funcoes.ipynb) [<img src=\"images/github_logo.svg\" style=\"float: right; margin-right: 12px; vertical-align: middle; width: 36px; height: 36px;\">](https://github.com/urielmoreirasilva/urielmoreirasilva.github.io/blob/main/aulas/T%C3%B3pico%2007/07%20%E2%80%93%20Funcoes.ipynb)\n",
    "\n",
    "Vamos aprender mais sobre as funções no Python, e como aplicar essas funções em um `DataFrame`.\n",
    "\n",
    "### Resultados Esperados\n",
    "1. Aprender a definir funções através de`def`.\n",
    "1. Aprender a aplicar funções em `DataFrame`s através do método `.apply`.\n",
    "\n",
    "### Referências\n",
    "- [BPD, Capítulo 12](https://notes.dsc10.com/)\n",
    "- [CIT, Capítulo 8](https://inferentialthinking.com/)\n",
    "\n",
    "Material adaptado do [DSC10 (UCSD)](https://dsc10.com/) por [Flavio Figueiredo (DCC-UFMG)](https://flaviovdf.io/fcd/) e [Uriel Silva (DEST-UFMG)](https://urielmoreirasilva.github.io)"
   ]
  },
  {
   "cell_type": "code",
   "execution_count": 1,
   "metadata": {
    "slideshow": {
     "slide_type": "skip"
    }
   },
   "outputs": [],
   "source": [
    "# Importando BabyPandas, Numpy e Matplotlib\n",
    "import babypandas as bpd\n",
    "import matplotlib.pyplot as plt\n",
    "import numpy as np\n",
    "plt.style.use('ggplot')"
   ]
  },
  {
   "cell_type": "markdown",
   "metadata": {
    "slideshow": {
     "slide_type": "slide"
    }
   },
   "source": [
    "## Funções"
   ]
  },
  {
   "cell_type": "markdown",
   "metadata": {
    "slideshow": {
     "slide_type": "slide"
    }
   },
   "source": [
    "### Definindo novas funções\n",
    "\n",
    "- Até agora, aprendemos bastante sobre como fazer as seguintes coisas no Python:\n",
    "    - Manipular arrays, séries e DataFrames.\n",
    "    - Execute operações em strings.\n",
    "    - Crie visualizações.\n",
    "\n",
    "Porém, até aqui, estamos restritos ao uso de funções e métodos _já existentes_ nos módulos que importamos ou nativos ao próprio Python, como por exemplo: `max`, `np.sqrt`, `len`, `.groupby`, `.assign` e `.plot`, dentre outros."
   ]
  },
  {
   "cell_type": "markdown",
   "metadata": {
    "slideshow": {
     "slide_type": "slide"
    }
   },
   "source": [
    "#### Motivação\n",
    "\n",
    "Suponha que você dirija até um restaurante 🥘 em Ouro Preto, localizado a exatamente 100 quilômetros de distância.\n",
    "\n",
    "- Nos primeiros 80 quilômetros, você dirige a 80 quilômetros por hora.\n",
    "- Nos últimos 20 quilômetros, você dirige a 60 quilômetros por hora."
   ]
  },
  {
   "cell_type": "markdown",
   "metadata": {
    "slideshow": {
     "slide_type": "fragment"
    }
   },
   "source": [
    "- **Pergunta:** Qual é a sua **velocidade média** durante a viagem?"
   ]
  },
  {
   "cell_type": "markdown",
   "metadata": {
    "slideshow": {
     "slide_type": "fragment"
    }
   },
   "source": [
    "🚨 A resposta não é 70 quilômetros por hora! Você precisa usar o fato de que $\\text{velocidade} = \\frac{\\text{distancia}}{\\text{tempo}}$."
   ]
  },
  {
   "cell_type": "markdown",
   "metadata": {
    "slideshow": {
     "slide_type": "slide"
    }
   },
   "source": [
    "Nesse caso específico, temos \n",
    "\n",
    "$$\\text{velocidade média} = \\frac{\\text{distância total}}{\\text{tempo total}} = \\frac{80 + 20}{\\text{tempo}_1 + \\text{tempo}_2} \\: \\text {km/hora}$$"
   ]
  },
  {
   "cell_type": "markdown",
   "metadata": {
    "slideshow": {
     "slide_type": "fragment"
    }
   },
   "source": [
    "No segmento 1, quando você dirigiu 80 quilômetros a 80 quilômetros por hora, você dirigiu por $\\frac{80}{80}$ horas:\n",
    "\n",
    "$$\\text{velocidade}_1 = \\frac{\\text{distância}_1}{\\text{tempo}_1}$$"
   ]
  },
  {
   "cell_type": "markdown",
   "metadata": {
    "slideshow": {
     "slide_type": "fragment"
    }
   },
   "source": [
    "$$80 \\: \\text{km/hora} = \\frac{80 \\text{km}}{\\text{tempo}_1} \\implies \\text{tempo}_1 = \\frac{80}{80} \\: \\text{horas} = 1 \\: \\text{hora}$$"
   ]
  },
  {
   "cell_type": "markdown",
   "metadata": {
    "slideshow": {
     "slide_type": "fragment"
    }
   },
   "source": [
    "Da mesma forma, no segmento 2, quando você dirigiu 20 quilômetros a 60 quilômetros por hora, você dirigiu por $\\text{tempo}_2 = \\frac{20}{60} \\text{ horas} = \\frac{1}{3} \\: \\text{horas}$."
   ]
  },
  {
   "cell_type": "markdown",
   "metadata": {
    "slideshow": {
     "slide_type": "fragment"
    }
   },
   "source": [
    "Finalmente, temos então\n",
    "\n",
    "\\begin{align*}\n",
    "    \\text{velocidade média} &= \\frac{80 + 20}{\\frac{1}{1} + \\frac{1}{3}} \\: \\text{km/hora} \\\\\n",
    "    &= 100 \\cdot \\frac{1}{\\frac{1}{1} + \\frac{1}{3}} \\text{km/hora} \\\\ \n",
    "    &= 100 \\cdot \\frac{1}{\\frac{3 + 1}{3}} \\: \\text{km/hora} \\\\ \n",
    "    &= 100 \\cdot \\frac{3}{4} \\: \\text{km/hora} \\\\ \n",
    "    &= 75 \\text{km/hora}\n",
    "\\end{align*}"
   ]
  },
  {
   "cell_type": "markdown",
   "metadata": {
    "slideshow": {
     "slide_type": "slide"
    }
   },
   "source": [
    "#### Exemplo de função: Média harmônica\n",
    "\n",
    "A **média harmônica** ($\\text{HM}$) de dois números positivos, $a$ e $b$, é definida como\n",
    "\n",
    "$$\\text{HM} = \\frac{2}{\\frac{1}{a} + \\frac{1}{b}}$$\n",
    "\n",
    "Geralmente, HM é utilizada para encontrar a média de múltiplas **taxas**."
   ]
  },
  {
   "cell_type": "markdown",
   "metadata": {
    "slideshow": {
     "slide_type": "fragment"
    }
   },
   "source": [
    "Encontrar a média harmônica de 80 e 60 não é difícil:"
   ]
  },
  {
   "cell_type": "code",
   "execution_count": 2,
   "metadata": {},
   "outputs": [
    {
     "data": {
      "text/plain": [
       "1.5"
      ]
     },
     "execution_count": 2,
     "metadata": {},
     "output_type": "execute_result"
    }
   ],
   "source": [
    "2 / (1 / 1 + 1 / 3)"
   ]
  },
  {
   "cell_type": "markdown",
   "metadata": {},
   "source": [
    "Mas e se quisermos determinar a média harmónica de 80 e 70? 80 e 90? 20 e 40? ]\n",
    "\n",
    "**Isso exigiria muitas operações do tipo \"copiar e colar\", o que torna nosso código propenso a erros.**"
   ]
  },
  {
   "cell_type": "markdown",
   "metadata": {
    "slideshow": {
     "slide_type": "slide"
    }
   },
   "source": [
    "Uma ótima solução para esses casos é **definir** nossa própria função de \"média harmônica\"!"
   ]
  },
  {
   "cell_type": "code",
   "execution_count": 3,
   "metadata": {},
   "outputs": [],
   "source": [
    "def harmonic_mean(a, b):\n",
    "    return 2 / (1 / a + 1 / b)"
   ]
  },
  {
   "cell_type": "code",
   "execution_count": 4,
   "metadata": {
    "scrolled": true
   },
   "outputs": [
    {
     "data": {
      "text/plain": [
       "1.5"
      ]
     },
     "execution_count": 4,
     "metadata": {},
     "output_type": "execute_result"
    }
   ],
   "source": [
    "harmonic_mean(1, 3)"
   ]
  },
  {
   "cell_type": "code",
   "execution_count": 5,
   "metadata": {},
   "outputs": [
    {
     "data": {
      "text/plain": [
       "1.6666666666666667"
      ]
     },
     "execution_count": 5,
     "metadata": {},
     "output_type": "execute_result"
    }
   ],
   "source": [
    "harmonic_mean(1, 5)"
   ]
  },
  {
   "cell_type": "markdown",
   "metadata": {},
   "source": [
    "Podemos responder nossa pergunta anterior com nossa função de média harmônica:"
   ]
  },
  {
   "cell_type": "code",
   "execution_count": 6,
   "metadata": {},
   "outputs": [
    {
     "data": {
      "text/plain": [
       "75.0"
      ]
     },
     "execution_count": 6,
     "metadata": {},
     "output_type": "execute_result"
    }
   ],
   "source": [
    "100*harmonic_mean(1, 3)/2"
   ]
  },
  {
   "cell_type": "markdown",
   "metadata": {
    "slideshow": {
     "slide_type": "fragment"
    }
   },
   "source": [
    "Observe que só tivemos que especificar como calcular a média harmônica _uma única_ vez!"
   ]
  },
  {
   "cell_type": "markdown",
   "metadata": {
    "slideshow": {
     "slide_type": "slide"
    }
   },
   "source": [
    "### Definindo funções no Python\n",
    "\n",
    "- As funções são uma forma de dividir nosso código em pequenas subpartes.\n",
    "- Isso evita repetição, e melhora a legibilidade do código.\n",
    "- Definimos novas funções no Python através do seguinte padrão:\n",
    "\n",
    "````py\n",
    "def <function name>(<arguments>):\n",
    "    <body>\n",
    "    <return>\n",
    "````\n",
    "\n",
    "Vamos agora explicar cada um dos detalhes dessa estrutura."
   ]
  },
  {
   "cell_type": "markdown",
   "metadata": {
    "slideshow": {
     "slide_type": "slide"
    }
   },
   "source": [
    "### Funções são \"receitas\"\n",
    "\n",
    "- As funções recebem entradas, conhecidas como **argumentos** (\\<arguments>), executam código (\\<body>) e produzem uma saída (\\<return>).\n",
    "- A beleza das funções é que, na maior parte das vezes, **você não precisa saber como elas são implementadas para usá-las!**\n",
    "- Esta é a premissa da ideia de **abstração** na Ciência da Computação – você aprenderá mais sobre isso em outros cursos."
   ]
  },
  {
   "cell_type": "code",
   "execution_count": 8,
   "metadata": {},
   "outputs": [
    {
     "data": {
      "text/plain": [
       "1.0"
      ]
     },
     "execution_count": 8,
     "metadata": {},
     "output_type": "execute_result"
    }
   ],
   "source": [
    "harmonic_mean(1, 1)"
   ]
  },
  {
   "cell_type": "code",
   "execution_count": 9,
   "metadata": {},
   "outputs": [
    {
     "data": {
      "text/plain": [
       "1.5"
      ]
     },
     "execution_count": 9,
     "metadata": {},
     "output_type": "execute_result"
    }
   ],
   "source": [
    "harmonic_mean(1, 3)"
   ]
  },
  {
   "cell_type": "code",
   "execution_count": 10,
   "metadata": {},
   "outputs": [
    {
     "data": {
      "text/plain": [
       "1.3333333333333333"
      ]
     },
     "execution_count": 10,
     "metadata": {},
     "output_type": "execute_result"
    }
   ],
   "source": [
    "harmonic_mean(1, 2)"
   ]
  },
  {
   "cell_type": "markdown",
   "metadata": {
    "slideshow": {
     "slide_type": "slide"
    }
   },
   "source": [
    "### Argumentos\n",
    "\n",
    "Como um exemplo, vamos definir uma função `triple` abaixo, que recebe um argumento `x` e triplica esse argumento."
   ]
  },
  {
   "cell_type": "code",
   "execution_count": 14,
   "metadata": {},
   "outputs": [],
   "source": [
    "def triple(x):\n",
    "    return x * 3"
   ]
  },
  {
   "cell_type": "markdown",
   "metadata": {},
   "source": [
    "Quando chamamos `triple` com o **argumento** 5, por exemplo, podemos fingir que há uma primeira linha \"invisível\" no corpo de `triple` que diz `x = 5`."
   ]
  },
  {
   "cell_type": "code",
   "execution_count": 15,
   "metadata": {},
   "outputs": [
    {
     "data": {
      "text/plain": [
       "15"
      ]
     },
     "execution_count": 15,
     "metadata": {},
     "output_type": "execute_result"
    }
   ],
   "source": [
    "triple(5)"
   ]
  },
  {
   "cell_type": "markdown",
   "metadata": {
    "slideshow": {
     "slide_type": "fragment"
    }
   },
   "source": [
    "Observe que, apesar de implicitamente assumirmos que `x` é uma variável numérica, como não especificamos isso na definição de `triple`, seus argumentos podem ser de qualquer tipo!"
   ]
  },
  {
   "cell_type": "code",
   "execution_count": 16,
   "metadata": {},
   "outputs": [
    {
     "data": {
      "text/plain": [
       "'triton triton triton '"
      ]
     },
     "execution_count": 16,
     "metadata": {},
     "output_type": "execute_result"
    }
   ],
   "source": [
    "triple('triton ')"
   ]
  },
  {
   "cell_type": "code",
   "execution_count": 17,
   "metadata": {},
   "outputs": [
    {
     "data": {
      "text/plain": [
       "[1, 2, 1, 2, 1, 2]"
      ]
     },
     "execution_count": 17,
     "metadata": {},
     "output_type": "execute_result"
    }
   ],
   "source": [
    "triple([1, 2])"
   ]
  },
  {
   "cell_type": "markdown",
   "metadata": {
    "slideshow": {
     "slide_type": "slide"
    }
   },
   "source": [
    "#### Número de argumentos\n",
    "\n",
    "- As funções podem ter qualquer número de argumentos (inclusive 0!)"
   ]
  },
  {
   "cell_type": "markdown",
   "metadata": {
    "slideshow": {
     "slide_type": "fragment"
    }
   },
   "source": [
    "Por exemplo, a função `greeting` abaixo não aceita argumentos!"
   ]
  },
  {
   "cell_type": "code",
   "execution_count": 18,
   "metadata": {
    "slideshow": {
     "slide_type": "-"
    }
   },
   "outputs": [],
   "source": [
    "def greeting():\n",
    "    return 'Hi! 👋'"
   ]
  },
  {
   "cell_type": "code",
   "execution_count": 19,
   "metadata": {},
   "outputs": [
    {
     "data": {
      "text/plain": [
       "'Hi! 👋'"
      ]
     },
     "execution_count": 19,
     "metadata": {},
     "output_type": "execute_result"
    }
   ],
   "source": [
    "greeting()"
   ]
  },
  {
   "cell_type": "code",
   "execution_count": 21,
   "metadata": {},
   "outputs": [],
   "source": [
    "# Descomente e execute\n",
    "# greeting(42)"
   ]
  },
  {
   "cell_type": "markdown",
   "metadata": {
    "slideshow": {
     "slide_type": "slide"
    }
   },
   "source": [
    "### As funções não são executadas até que você as chame!\n",
    "\n",
    "- O corpo (\\<body>) de uma função não é executado até que você use/chame/invoque  a função."
   ]
  },
  {
   "cell_type": "markdown",
   "metadata": {},
   "source": [
    "Por exemplo, vamos definir abaixo uma função `where_is_the_error`:"
   ]
  },
  {
   "cell_type": "code",
   "execution_count": 23,
   "metadata": {},
   "outputs": [],
   "source": [
    "def where_is_the_error(something):\n",
    "    '''You can describe your function within triple quotes. For example, this function \n",
    "    illustrates that errors don't occur until functions are executed (called).'''\n",
    "    return (1 / 0) + something"
   ]
  },
  {
   "cell_type": "markdown",
   "metadata": {},
   "source": [
    "Até executarmos `where_is_the_error`, não veremos nenhuma mensagem de erro!"
   ]
  },
  {
   "cell_type": "code",
   "execution_count": 25,
   "metadata": {
    "tags": [
     "raises-exception"
    ]
   },
   "outputs": [],
   "source": [
    "# Descomente e execute\n",
    "# where_is_the_error(5)"
   ]
  },
  {
   "cell_type": "markdown",
   "metadata": {
    "slideshow": {
     "slide_type": "slide"
    }
   },
   "source": [
    "#### Exemplo: `first_name`\n",
    "\n",
    "- Vamos definir abaixo uma função chamada `first_name`.\n",
    "- Queremos que essa função receba o nome completo de alguém e retorne seu primeiro nome.\n",
    "\n",
    "Um exemplo desse comportamento desejado seria:\n",
    "```py\n",
    ">>> first_name('Flavio Figueiredo')\n",
    "'Flavio'\n",
    "```"
   ]
  },
  {
   "cell_type": "markdown",
   "metadata": {
    "slideshow": {
     "slide_type": "fragment"
    }
   },
   "source": [
    "#### Estratégia geral para escrever funções:\n",
    "\n",
    "1. Primeiro, tentamos fazer com que o comportamento esperado funcione em um único exemplo.\n",
    "2. Em seguida, encapsulamos esse comportamento dentro de uma função, tomando os parâmetros do exemplo como argumentos"
   ]
  },
  {
   "cell_type": "code",
   "execution_count": 26,
   "metadata": {},
   "outputs": [
    {
     "data": {
      "text/plain": [
       "'Flavio'"
      ]
     },
     "execution_count": 26,
     "metadata": {},
     "output_type": "execute_result"
    }
   ],
   "source": [
    "'Flavio Figueiredo'.split(' ')[0]"
   ]
  },
  {
   "cell_type": "code",
   "execution_count": 27,
   "metadata": {},
   "outputs": [],
   "source": [
    "def first_name(full_name):\n",
    "    '''Returns the first name given a full name.'''\n",
    "    return full_name.split(' ')[0]"
   ]
  },
  {
   "cell_type": "code",
   "execution_count": 28,
   "metadata": {},
   "outputs": [
    {
     "data": {
      "text/plain": [
       "'Flavio'"
      ]
     },
     "execution_count": 28,
     "metadata": {},
     "output_type": "execute_result"
    }
   ],
   "source": [
    "first_name('Flavio Figueiredo')"
   ]
  },
  {
   "cell_type": "code",
   "execution_count": 29,
   "metadata": {},
   "outputs": [
    {
     "data": {
      "text/plain": [
       "'Uriel'"
      ]
     },
     "execution_count": 29,
     "metadata": {},
     "output_type": "execute_result"
    }
   ],
   "source": [
    "first_name('Uriel Moreira Silva')"
   ]
  },
  {
   "cell_type": "markdown",
   "metadata": {},
   "source": [
    "Perfeito! 👍"
   ]
  },
  {
   "cell_type": "markdown",
   "metadata": {
    "slideshow": {
     "slide_type": "slide"
    }
   },
   "source": [
    "### Retorno\n",
    "\n",
    "- A palavra-chave `return` especifica qual deve ser a saída para a função definida, isto é, qual será o valor resultante de uma chamada da função.\n",
    "- A maioria das funções que escrevemos usará `return`, mas isso não é obrigatório.\n",
    "- Existe uma diferença fundamental entre `print` e `return`: utilizando `return`, podemos _atribuir_ o resultado da função a uma variável, e depois utilizar esse resultado posteriormente no nosso código."
   ]
  },
  {
   "cell_type": "markdown",
   "metadata": {},
   "source": [
    "Como exemplo, considere a seguinte função, que se utiliza do Teorema de Pitágoras para calcular o tamanho da hipotenusa de um triângulo retângulo com base `a` e altura `b`:"
   ]
  },
  {
   "cell_type": "code",
   "execution_count": 52,
   "metadata": {},
   "outputs": [],
   "source": [
    "# Teorema de Pitágoras, sem retorno\n",
    "def pythagorean(a, b):\n",
    "    '''Computes the hypotenuse length of a triangle with legs a and b.'''\n",
    "    c = (a ** 2 + b ** 2) ** 0.5\n",
    "    print(c)"
   ]
  },
  {
   "cell_type": "code",
   "execution_count": 67,
   "metadata": {},
   "outputs": [
    {
     "name": "stdout",
     "output_type": "stream",
     "text": [
      "5.0\n"
     ]
    }
   ],
   "source": [
    "pythagorean(3, 4)"
   ]
  },
  {
   "cell_type": "markdown",
   "metadata": {},
   "source": [
    "Sem especificar nenhum retorno, a função printa o resultado calculado, mas não atribui esse resultado a nenhum objeto:"
   ]
  },
  {
   "cell_type": "code",
   "execution_count": 50,
   "metadata": {},
   "outputs": [
    {
     "name": "stdout",
     "output_type": "stream",
     "text": [
      "5.0\n"
     ]
    }
   ],
   "source": [
    "x = pythagorean(3, 4)"
   ]
  },
  {
   "cell_type": "code",
   "execution_count": 53,
   "metadata": {},
   "outputs": [],
   "source": [
    "# Nenhuma saída!\n",
    "x"
   ]
  },
  {
   "cell_type": "code",
   "execution_count": 54,
   "metadata": {
    "tags": [
     "raises-exception"
    ]
   },
   "outputs": [],
   "source": [
    "# Descomente e execute.\n",
    "# x + 10"
   ]
  },
  {
   "cell_type": "markdown",
   "metadata": {},
   "source": [
    "Se reescrevermos a função especificando um `return`, ela agora atribui o resultado corretamente:"
   ]
  },
  {
   "cell_type": "code",
   "execution_count": 55,
   "metadata": {
    "slideshow": {
     "slide_type": "slide"
    }
   },
   "outputs": [],
   "source": [
    "def better_pythagorean(a, b):\n",
    "    '''Computes the hypotenuse length of a triangle with legs a and b, and actually returns the result.'''\n",
    "    c = (a ** 2 + b ** 2) ** 0.5\n",
    "    return c"
   ]
  },
  {
   "cell_type": "code",
   "execution_count": 56,
   "metadata": {},
   "outputs": [
    {
     "data": {
      "text/plain": [
       "5.0"
      ]
     },
     "execution_count": 56,
     "metadata": {},
     "output_type": "execute_result"
    }
   ],
   "source": [
    "x = better_pythagorean(3, 4)\n",
    "x"
   ]
  },
  {
   "cell_type": "code",
   "execution_count": 57,
   "metadata": {},
   "outputs": [
    {
     "data": {
      "text/plain": [
       "15.0"
      ]
     },
     "execution_count": 57,
     "metadata": {},
     "output_type": "execute_result"
    }
   ],
   "source": [
    "x + 10"
   ]
  },
  {
   "cell_type": "markdown",
   "metadata": {},
   "source": [
    "Note que como agora não executamos mais o `print` dentro da função, precisamos printar o objeto caso queiramos saber seu resultado!"
   ]
  },
  {
   "cell_type": "code",
   "execution_count": 60,
   "metadata": {},
   "outputs": [],
   "source": [
    "y = better_pythagorean(1, 1)"
   ]
  },
  {
   "cell_type": "code",
   "execution_count": 61,
   "metadata": {},
   "outputs": [],
   "source": [
    "# Descomente e execute.\n",
    "# y"
   ]
  },
  {
   "cell_type": "markdown",
   "metadata": {
    "slideshow": {
     "slide_type": "slide"
    }
   },
   "source": [
    "#### Alto lá! 🛑\n",
    "\n",
    "- Depois que uma função executa uma instrução `return`, ela assume que o código terminou, e ignora tudo o que vem depois!"
   ]
  },
  {
   "cell_type": "code",
   "execution_count": 64,
   "metadata": {},
   "outputs": [],
   "source": [
    "def motivational(quote):\n",
    "    return 0\n",
    "    print(\"Uma frase motivacional:\", quote)"
   ]
  },
  {
   "cell_type": "code",
   "execution_count": 66,
   "metadata": {},
   "outputs": [
    {
     "data": {
      "text/plain": [
       "0"
      ]
     },
     "execution_count": 66,
     "metadata": {},
     "output_type": "execute_result"
    }
   ],
   "source": [
    "motivational('Sem as lutas não há derrotas.')"
   ]
  },
  {
   "cell_type": "markdown",
   "metadata": {},
   "source": [
    "- Em alguns contextos específicos, podemos utilizar dessa propriedade do `return`, principalmente em combinação com as _estruturas condicionais_ que veremos no próximo tópico. "
   ]
  },
  {
   "cell_type": "markdown",
   "metadata": {
    "slideshow": {
     "slide_type": "slide"
    }
   },
   "source": [
    "### Escopo\n",
    "\n",
    "- Os nomes escolhidos como argumentos ou parâmetros de uma função são relevantes _apenas_ para essa função, e não afeta o resto do código.\n",
    "- Damos a isso o nome de **escopo local**."
   ]
  },
  {
   "cell_type": "markdown",
   "metadata": {},
   "source": [
    "Observe o exemplo abaixo:"
   ]
  },
  {
   "cell_type": "code",
   "execution_count": 68,
   "metadata": {},
   "outputs": [],
   "source": [
    "def what_is_awesome(s):\n",
    "    return s + ' is awesome!'"
   ]
  },
  {
   "cell_type": "code",
   "execution_count": 69,
   "metadata": {},
   "outputs": [
    {
     "data": {
      "text/plain": [
       "'data science is awesome!'"
      ]
     },
     "execution_count": 69,
     "metadata": {},
     "output_type": "execute_result"
    }
   ],
   "source": [
    "what_is_awesome('data science')"
   ]
  },
  {
   "cell_type": "code",
   "execution_count": 73,
   "metadata": {},
   "outputs": [],
   "source": [
    "# Descomente e execute\n",
    "# s"
   ]
  },
  {
   "cell_type": "code",
   "execution_count": 74,
   "metadata": {},
   "outputs": [],
   "source": [
    "s = 'FCD'"
   ]
  },
  {
   "cell_type": "code",
   "execution_count": 71,
   "metadata": {},
   "outputs": [
    {
     "data": {
      "text/plain": [
       "'data science is awesome!'"
      ]
     },
     "execution_count": 71,
     "metadata": {},
     "output_type": "execute_result"
    }
   ],
   "source": [
    "what_is_awesome('data science')"
   ]
  },
  {
   "cell_type": "code",
   "execution_count": 75,
   "metadata": {},
   "outputs": [
    {
     "data": {
      "text/plain": [
       "'FCD'"
      ]
     },
     "execution_count": 75,
     "metadata": {},
     "output_type": "execute_result"
    }
   ],
   "source": [
    "s"
   ]
  },
  {
   "cell_type": "markdown",
   "metadata": {},
   "source": [
    "Apesar de termos `s` tanto fora quanto dentro do escopo da função, o Python consegue diferenciar ambos como sendo objetos diferentes! "
   ]
  },
  {
   "cell_type": "markdown",
   "metadata": {},
   "source": [
    "Nota: existem maneiras de declarar e operar variáveis no **escopo global**, de maneira a afetar todas as partes do seu código (inclusive dentro e fora de funções), mas você verá isso em detalhes somente em outros cursos!"
   ]
  },
  {
   "cell_type": "markdown",
   "metadata": {
    "slideshow": {
     "slide_type": "slide"
    }
   },
   "source": [
    "## Aplicando funções a DataFrames"
   ]
  },
  {
   "cell_type": "markdown",
   "metadata": {
    "slideshow": {
     "slide_type": "slide"
    }
   },
   "source": [
    "### Exemplo: alunos de FCD\n",
    "\n",
    "O DataFrame `df` abaixo contém os primeiros nomes de todos os alunos do Bacharelado de Ciência de Dados de 2024/1 matriculados em Fundamentos de Ciência de Dados:"
   ]
  },
  {
   "cell_type": "code",
   "execution_count": 81,
   "metadata": {},
   "outputs": [],
   "source": [
    "nomes = 'ANNY \\\n",
    "ARTHUR \\\n",
    "ARTHUR \\\n",
    "CAIO \\\n",
    "CAROLINA \\\n",
    "CLARA \\\n",
    "DANIELLE \\\n",
    "EDUARDO \\\n",
    "EDUARDO \\\n",
    "EMANUEL \\\n",
    "ENZO \\\n",
    "FELIPE \\\n",
    "FELIPE \\\n",
    "FRANCISCO \\\n",
    "GABRIEL \\\n",
    "GABRIEL \\\n",
    "GABRIELLY \\\n",
    "GAEL \\\n",
    "GUILHERME \\\n",
    "GUILHERME \\\n",
    "GUSTAVO \\\n",
    "ISAAC \\\n",
    "JOAO \\\n",
    "JOAO \\\n",
    "KARINA \\\n",
    "LETICIA \\\n",
    "LETICIA \\\n",
    "LIVIA \\\n",
    "LORRANY \\\n",
    "LUCAS \\\n",
    "LUIS \\\n",
    "MARCO \\\n",
    "MATEUS \\\n",
    "MATEUS \\\n",
    "MATHEUS \\\n",
    "RAIZA \\\n",
    "RENATO \\\n",
    "SOPHIA \\\n",
    "THAYRELAN \\\n",
    "VICTOR'"
   ]
  },
  {
   "cell_type": "code",
   "execution_count": 82,
   "metadata": {},
   "outputs": [
    {
     "data": {
      "text/html": [
       "<div>\n",
       "<style scoped>\n",
       "    .dataframe tbody tr th:only-of-type {\n",
       "        vertical-align: middle;\n",
       "    }\n",
       "\n",
       "    .dataframe tbody tr th {\n",
       "        vertical-align: top;\n",
       "    }\n",
       "\n",
       "    .dataframe thead th {\n",
       "        text-align: right;\n",
       "    }\n",
       "</style>\n",
       "<table border=\"1\" class=\"dataframe\">\n",
       "  <thead>\n",
       "    <tr style=\"text-align: right;\">\n",
       "      <th></th>\n",
       "      <th>nome</th>\n",
       "    </tr>\n",
       "  </thead>\n",
       "  <tbody>\n",
       "    <tr>\n",
       "      <th>0</th>\n",
       "      <td>ANNY</td>\n",
       "    </tr>\n",
       "    <tr>\n",
       "      <th>1</th>\n",
       "      <td>ARTHUR</td>\n",
       "    </tr>\n",
       "    <tr>\n",
       "      <th>2</th>\n",
       "      <td>ARTHUR</td>\n",
       "    </tr>\n",
       "    <tr>\n",
       "      <th>3</th>\n",
       "      <td>CAIO</td>\n",
       "    </tr>\n",
       "    <tr>\n",
       "      <th>4</th>\n",
       "      <td>CAROLINA</td>\n",
       "    </tr>\n",
       "    <tr>\n",
       "      <th>...</th>\n",
       "      <td>...</td>\n",
       "    </tr>\n",
       "    <tr>\n",
       "      <th>35</th>\n",
       "      <td>RAIZA</td>\n",
       "    </tr>\n",
       "    <tr>\n",
       "      <th>36</th>\n",
       "      <td>RENATO</td>\n",
       "    </tr>\n",
       "    <tr>\n",
       "      <th>37</th>\n",
       "      <td>SOPHIA</td>\n",
       "    </tr>\n",
       "    <tr>\n",
       "      <th>38</th>\n",
       "      <td>THAYRELAN</td>\n",
       "    </tr>\n",
       "    <tr>\n",
       "      <th>39</th>\n",
       "      <td>VICTOR</td>\n",
       "    </tr>\n",
       "  </tbody>\n",
       "</table>\n",
       "<p>40 rows × 1 columns</p>\n",
       "</div>"
      ],
      "text/plain": [
       "         nome\n",
       "0        ANNY\n",
       "1      ARTHUR\n",
       "2      ARTHUR\n",
       "3        CAIO\n",
       "4    CAROLINA\n",
       "..        ...\n",
       "35      RAIZA\n",
       "36     RENATO\n",
       "37     SOPHIA\n",
       "38  THAYRELAN\n",
       "39     VICTOR\n",
       "\n",
       "[40 rows x 1 columns]"
      ]
     },
     "execution_count": 82,
     "metadata": {},
     "output_type": "execute_result"
    }
   ],
   "source": [
    "df = bpd.DataFrame().assign(\n",
    "    nome = nomes.split()\n",
    ")\n",
    "\n",
    "df"
   ]
  },
  {
   "cell_type": "markdown",
   "metadata": {
    "slideshow": {
     "slide_type": "slide"
    }
   },
   "source": [
    "#### Qual a primeira letra mais comum entre os nomes dos discentes de FCD?\n",
    "\n",
    "- **Problema**: Não conseguimos responder essa pergunta agora, pois não temos uma coluna com a primeira letra de cada nome!\n",
    "- **Solução**: Criar uma função para obter uma columa com a primeira letra de cada nome, e depois agrupar por essa coluna!."
   ]
  },
  {
   "cell_type": "code",
   "execution_count": 83,
   "metadata": {},
   "outputs": [],
   "source": [
    "def primeira_letra(nome):\n",
    "    return nome[0]"
   ]
  },
  {
   "cell_type": "code",
   "execution_count": 87,
   "metadata": {
    "scrolled": true
   },
   "outputs": [
    {
     "data": {
      "text/plain": [
       "'F'"
      ]
     },
     "execution_count": 87,
     "metadata": {},
     "output_type": "execute_result"
    }
   ],
   "source": [
    "primeira_letra('FLAVIO')"
   ]
  },
  {
   "cell_type": "markdown",
   "metadata": {},
   "source": [
    "Utilizando o método `.iloc`, vamos agora testar essa função em alguns alunos do DataFrame `df`:"
   ]
  },
  {
   "cell_type": "code",
   "execution_count": 88,
   "metadata": {},
   "outputs": [
    {
     "data": {
      "text/plain": [
       "'ANNY'"
      ]
     },
     "execution_count": 88,
     "metadata": {},
     "output_type": "execute_result"
    }
   ],
   "source": [
    "df.get('nome').iloc[0]"
   ]
  },
  {
   "cell_type": "code",
   "execution_count": 85,
   "metadata": {},
   "outputs": [
    {
     "data": {
      "text/plain": [
       "'A'"
      ]
     },
     "execution_count": 85,
     "metadata": {},
     "output_type": "execute_result"
    }
   ],
   "source": [
    "primeira_letra(df.get('nome').iloc[0])"
   ]
  },
  {
   "cell_type": "code",
   "execution_count": 89,
   "metadata": {},
   "outputs": [
    {
     "data": {
      "text/plain": [
       "'ARTHUR'"
      ]
     },
     "execution_count": 89,
     "metadata": {},
     "output_type": "execute_result"
    }
   ],
   "source": [
    "df.get('nome').iloc[1]"
   ]
  },
  {
   "cell_type": "code",
   "execution_count": 90,
   "metadata": {},
   "outputs": [
    {
     "data": {
      "text/plain": [
       "'A'"
      ]
     },
     "execution_count": 90,
     "metadata": {},
     "output_type": "execute_result"
    }
   ],
   "source": [
    "primeira_letra(df.get('nome').iloc[1])"
   ]
  },
  {
   "cell_type": "markdown",
   "metadata": {},
   "source": [
    "Funciona!"
   ]
  },
  {
   "cell_type": "markdown",
   "metadata": {},
   "source": [
    "Porém, como estamos interessados em fazer isso para _todos os alunos_ (e depois ainda resumir a informação resultante utilizando alguma estatística descritiva), essa abordagem de aplicar a função 1-a-1 é bem ineficiente. "
   ]
  },
  {
   "cell_type": "markdown",
   "metadata": {
    "slideshow": {
     "slide_type": "slide"
    }
   },
   "source": [
    "### O método `.apply`\n",
    "\n",
    "- Podemos **aplicar** uma função a _cada_ elemento da coluna `column_name` no DataFrame `df` utilizando\n",
    "\n",
    "```python\n",
    "    df.get(column_name).apply(function_name)\n",
    "````"
   ]
  },
  {
   "cell_type": "markdown",
   "metadata": {},
   "source": [
    "No nosso exemplo, fazemos:"
   ]
  },
  {
   "cell_type": "code",
   "execution_count": 143,
   "metadata": {
    "scrolled": true,
    "slideshow": {
     "slide_type": "fragment"
    }
   },
   "outputs": [
    {
     "data": {
      "text/plain": [
       "0     A\n",
       "1     A\n",
       "2     A\n",
       "3     C\n",
       "4     C\n",
       "     ..\n",
       "35    R\n",
       "36    R\n",
       "37    S\n",
       "38    T\n",
       "39    V\n",
       "Name: nome, Length: 40, dtype: object"
      ]
     },
     "execution_count": 143,
     "metadata": {},
     "output_type": "execute_result"
    }
   ],
   "source": [
    "df.get('nome').apply(primeira_letra)"
   ]
  },
  {
   "cell_type": "markdown",
   "metadata": {},
   "source": [
    "e, para saber qual a primeira letra do nome é mais comum, basta fazer um `.groupby`:"
   ]
  },
  {
   "cell_type": "code",
   "execution_count": 108,
   "metadata": {},
   "outputs": [
    {
     "data": {
      "text/plain": [
       "primeira_letra\n",
       "A    3\n",
       "C    3\n",
       "D    1\n",
       "E    4\n",
       "F    3\n",
       "    ..\n",
       "M    4\n",
       "R    2\n",
       "S    1\n",
       "T    1\n",
       "V    1\n",
       "Length: 15, dtype: int64"
      ]
     },
     "execution_count": 108,
     "metadata": {},
     "output_type": "execute_result"
    }
   ],
   "source": [
    "df_2 = df.assign(primeira_letra = df.get('nome').apply(primeira_letra))\n",
    "df_2.groupby('primeira_letra').size()"
   ]
  },
  {
   "cell_type": "markdown",
   "metadata": {},
   "source": [
    "e depois uma consulta apropriada!"
   ]
  },
  {
   "cell_type": "code",
   "execution_count": 125,
   "metadata": {},
   "outputs": [
    {
     "name": "stdout",
     "output_type": "stream",
     "text": [
      "7\n"
     ]
    }
   ],
   "source": [
    "k = (df_2.groupby('primeira_letra').size()).max()\n",
    "print(k)"
   ]
  },
  {
   "cell_type": "code",
   "execution_count": 127,
   "metadata": {},
   "outputs": [
    {
     "data": {
      "text/plain": [
       "primeira_letra\n",
       "G    7\n",
       "dtype: int64"
      ]
     },
     "execution_count": 127,
     "metadata": {},
     "output_type": "execute_result"
    }
   ],
   "source": [
    "df_2.groupby('primeira_letra').size()[df_2.groupby('primeira_letra').size() == 7]"
   ]
  },
  {
   "cell_type": "code",
   "execution_count": 137,
   "metadata": {},
   "outputs": [
    {
     "name": "stdout",
     "output_type": "stream",
     "text": [
      "         nome primeira\n",
      "0        ANNY        A\n",
      "1      ARTHUR        A\n",
      "2      ARTHUR        A\n",
      "3        CAIO        C\n",
      "4    CAROLINA        C\n",
      "..        ...      ...\n",
      "35      RAIZA        R\n",
      "36     RENATO        R\n",
      "37     SOPHIA        S\n",
      "38  THAYRELAN        T\n",
      "39     VICTOR        V\n",
      "\n",
      "[40 rows x 2 columns]\n"
     ]
    },
    {
     "data": {
      "text/plain": [
       "primeira\n",
       "G    7\n",
       "L    6\n",
       "E    4\n",
       "M    4\n",
       "A    3\n",
       "    ..\n",
       "I    1\n",
       "K    1\n",
       "S    1\n",
       "T    1\n",
       "V    1\n",
       "Length: 15, dtype: int64"
      ]
     },
     "execution_count": 137,
     "metadata": {},
     "output_type": "execute_result"
    }
   ],
   "source": [
    "# Uma maneira muito mais eficiente de fazer isso:\n",
    "df = df.assign(\n",
    "    primeira=df.get('nome').apply(primeira_letra)\n",
    ")\n",
    "print(df)\n",
    "\n",
    "letra_count = (df.\n",
    "               groupby('primeira').\n",
    "               size().\n",
    "               sort_values(ascending = False)\n",
    ")\n",
    "letra_count"
   ]
  },
  {
   "cell_type": "markdown",
   "metadata": {
    "slideshow": {
     "slide_type": "fragment"
    }
   },
   "source": [
    "#### Mais sobre o `.apply`\n",
    "\n",
    "- O método `.apply` é um método de `Series`s, **não** de `DataFrame`s!\n",
    "- Da mesma maneira, a saída do `.apply` também é uma `Series`."
   ]
  },
  {
   "cell_type": "markdown",
   "metadata": {
    "slideshow": {
     "slide_type": "fragment"
    }
   },
   "source": [
    "- Nota: ao utilizar o `.apply`, devemos passar _apenas o nome_ da função – não a chame!\n",
    "    - Bom ✅: `.apply(function)`.\n",
    "    - Ruim ❌: `.apply(function())`."
   ]
  },
  {
   "cell_type": "code",
   "execution_count": 138,
   "metadata": {},
   "outputs": [],
   "source": [
    "# Descomente e execute\n",
    "# df.get('nome').apply(primeira_letra())"
   ]
  },
  {
   "cell_type": "markdown",
   "metadata": {
    "slideshow": {
     "slide_type": "slide"
    }
   },
   "source": [
    "#### Utilizando o `.apply` com funções pré-existentes\n",
    "\n",
    "- Naturalmente, o método `.apply` funciona com qualquer outra função/método que já estejam definidos nativamente no Python, ou que forem importados por outros módulo."
   ]
  },
  {
   "cell_type": "markdown",
   "metadata": {},
   "source": [
    "No nosso exemplo dos nomes dos alunos, para encontrar o comprimento de cada nome podemos usar a função `len`:"
   ]
  },
  {
   "cell_type": "code",
   "execution_count": 142,
   "metadata": {},
   "outputs": [
    {
     "data": {
      "text/html": [
       "<div>\n",
       "<style scoped>\n",
       "    .dataframe tbody tr th:only-of-type {\n",
       "        vertical-align: middle;\n",
       "    }\n",
       "\n",
       "    .dataframe tbody tr th {\n",
       "        vertical-align: top;\n",
       "    }\n",
       "\n",
       "    .dataframe thead th {\n",
       "        text-align: right;\n",
       "    }\n",
       "</style>\n",
       "<table border=\"1\" class=\"dataframe\">\n",
       "  <thead>\n",
       "    <tr style=\"text-align: right;\">\n",
       "      <th></th>\n",
       "      <th>nome</th>\n",
       "      <th>primeira</th>\n",
       "      <th>comprimento</th>\n",
       "    </tr>\n",
       "  </thead>\n",
       "  <tbody>\n",
       "    <tr>\n",
       "      <th>0</th>\n",
       "      <td>ANNY</td>\n",
       "      <td>A</td>\n",
       "      <td>4</td>\n",
       "    </tr>\n",
       "    <tr>\n",
       "      <th>1</th>\n",
       "      <td>ARTHUR</td>\n",
       "      <td>A</td>\n",
       "      <td>6</td>\n",
       "    </tr>\n",
       "    <tr>\n",
       "      <th>2</th>\n",
       "      <td>ARTHUR</td>\n",
       "      <td>A</td>\n",
       "      <td>6</td>\n",
       "    </tr>\n",
       "    <tr>\n",
       "      <th>3</th>\n",
       "      <td>CAIO</td>\n",
       "      <td>C</td>\n",
       "      <td>4</td>\n",
       "    </tr>\n",
       "    <tr>\n",
       "      <th>4</th>\n",
       "      <td>CAROLINA</td>\n",
       "      <td>C</td>\n",
       "      <td>8</td>\n",
       "    </tr>\n",
       "    <tr>\n",
       "      <th>...</th>\n",
       "      <td>...</td>\n",
       "      <td>...</td>\n",
       "      <td>...</td>\n",
       "    </tr>\n",
       "    <tr>\n",
       "      <th>35</th>\n",
       "      <td>RAIZA</td>\n",
       "      <td>R</td>\n",
       "      <td>5</td>\n",
       "    </tr>\n",
       "    <tr>\n",
       "      <th>36</th>\n",
       "      <td>RENATO</td>\n",
       "      <td>R</td>\n",
       "      <td>6</td>\n",
       "    </tr>\n",
       "    <tr>\n",
       "      <th>37</th>\n",
       "      <td>SOPHIA</td>\n",
       "      <td>S</td>\n",
       "      <td>6</td>\n",
       "    </tr>\n",
       "    <tr>\n",
       "      <th>38</th>\n",
       "      <td>THAYRELAN</td>\n",
       "      <td>T</td>\n",
       "      <td>9</td>\n",
       "    </tr>\n",
       "    <tr>\n",
       "      <th>39</th>\n",
       "      <td>VICTOR</td>\n",
       "      <td>V</td>\n",
       "      <td>6</td>\n",
       "    </tr>\n",
       "  </tbody>\n",
       "</table>\n",
       "<p>40 rows × 3 columns</p>\n",
       "</div>"
      ],
      "text/plain": [
       "         nome primeira  comprimento\n",
       "0        ANNY        A            4\n",
       "1      ARTHUR        A            6\n",
       "2      ARTHUR        A            6\n",
       "3        CAIO        C            4\n",
       "4    CAROLINA        C            8\n",
       "..        ...      ...          ...\n",
       "35      RAIZA        R            5\n",
       "36     RENATO        R            6\n",
       "37     SOPHIA        S            6\n",
       "38  THAYRELAN        T            9\n",
       "39     VICTOR        V            6\n",
       "\n",
       "[40 rows x 3 columns]"
      ]
     },
     "execution_count": 142,
     "metadata": {},
     "output_type": "execute_result"
    }
   ],
   "source": [
    "df.assign(comprimento = df.get('nome').apply(len))"
   ]
  },
  {
   "cell_type": "markdown",
   "metadata": {
    "slideshow": {
     "slide_type": "slide"
    }
   },
   "source": [
    "### Exercício ✅\n",
    "\n",
    "Nas duas células abaixo, crie um gráfico de barras para a _primera_ e _última_ letra de cada nome, respectivamente.\n",
    "\n",
    "Quais são suas conclusões?"
   ]
  },
  {
   "cell_type": "code",
   "execution_count": 144,
   "metadata": {},
   "outputs": [
    {
     "data": {
      "text/plain": [
       "Ellipsis"
      ]
     },
     "execution_count": 144,
     "metadata": {},
     "output_type": "execute_result"
    }
   ],
   "source": [
    "..."
   ]
  },
  {
   "cell_type": "code",
   "execution_count": 145,
   "metadata": {},
   "outputs": [
    {
     "data": {
      "text/plain": [
       "Ellipsis"
      ]
     },
     "execution_count": 145,
     "metadata": {},
     "output_type": "execute_result"
    }
   ],
   "source": [
    "..."
   ]
  },
  {
   "cell_type": "markdown",
   "metadata": {
    "slideshow": {
     "slide_type": "slide"
    }
   },
   "source": [
    "## Resumo\n",
    "\n",
    "- As funções são uma forma de dividir nosso código em pequenas subpartes.\n",
    "- As funções evitam repetição, melhoram a legibilidade e a organização do código, e podem nos permitir _abstrair_ certos elementos.\n",
    "- O método `.apply` nos permite aplicar uma função em cada elemento de uma `Serie`."
   ]
  }
 ],
 "metadata": {
  "kernelspec": {
   "display_name": "Python 3 (ipykernel)",
   "language": "python",
   "name": "python3"
  },
  "language_info": {
   "codemirror_mode": {
    "name": "ipython",
    "version": 3
   },
   "file_extension": ".py",
   "mimetype": "text/x-python",
   "name": "python",
   "nbconvert_exporter": "python",
   "pygments_lexer": "ipython3",
   "version": "3.11.7"
  },
  "livereveal": {
   "scroll": true,
   "transition": "none"
  },
  "rise": {
   "enable_chalkboard": true
  }
 },
 "nbformat": 4,
 "nbformat_minor": 4
}
